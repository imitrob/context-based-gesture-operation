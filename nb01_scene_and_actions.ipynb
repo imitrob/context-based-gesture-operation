{
 "cells": [
  {
   "cell_type": "code",
   "execution_count": 1,
   "id": "bd1ecd56",
   "metadata": {},
   "outputs": [],
   "source": [
    "from submodules.Scenes import *\n",
    "from submodules.Objects import *\n",
    "from submodules.Actions import * "
   ]
  },
  {
   "cell_type": "markdown",
   "id": "5ecf4f2c",
   "metadata": {},
   "source": [
    "# Object features\n",
    "- Each object has functions, how we can interact with the object and change its inner logic variables.\n",
    "- Each object instance has its own feasibility logic structure\n",
    "- Object functions operates one level under `Actions` class. The users are triggering actions and do NOT use object functions\n",
    "\n",
    "## Ex. 1: Put cup1 into drawer"
   ]
  },
  {
   "cell_type": "code",
   "execution_count": 2,
   "id": "64a3eda7",
   "metadata": {},
   "outputs": [],
   "source": [
    "drawer1 = Objects.Drawer(name='drawer1', position=[0,0,0])\n",
    "drawer2 = Objects.Drawer(name='drawer2', position=[2,0,0])\n",
    "cup1 = Objects.Cup(name='cup1', position=[2,0,0])"
   ]
  },
  {
   "cell_type": "code",
   "execution_count": 3,
   "id": "27b3eeb0",
   "metadata": {},
   "outputs": [
    {
     "data": {
      "text/plain": [
       "True"
      ]
     },
     "execution_count": 3,
     "metadata": {},
     "output_type": "execute_result"
    }
   ],
   "source": [
    "drawer2.open()"
   ]
  },
  {
   "cell_type": "code",
   "execution_count": 4,
   "id": "41c2e87f",
   "metadata": {},
   "outputs": [
    {
     "data": {
      "text/plain": [
       "[]"
      ]
     },
     "execution_count": 4,
     "metadata": {},
     "output_type": "execute_result"
    }
   ],
   "source": [
    "drawer2.contains"
   ]
  },
  {
   "cell_type": "code",
   "execution_count": 5,
   "id": "342ee74d",
   "metadata": {},
   "outputs": [
    {
     "data": {
      "text/plain": [
       "True"
      ]
     },
     "execution_count": 5,
     "metadata": {},
     "output_type": "execute_result"
    }
   ],
   "source": [
    "drawer2.put_in(cup1)"
   ]
  },
  {
   "cell_type": "code",
   "execution_count": 6,
   "id": "72267ee0",
   "metadata": {},
   "outputs": [
    {
     "data": {
      "text/plain": [
       "[<submodules.Objects.Cup at 0x7fdad8c7e280>]"
      ]
     },
     "execution_count": 6,
     "metadata": {},
     "output_type": "execute_result"
    }
   ],
   "source": [
    "drawer2.contains"
   ]
  },
  {
   "cell_type": "markdown",
   "id": "ec32eb1e",
   "metadata": {},
   "source": [
    "## Ex.2: Features showcase"
   ]
  },
  {
   "cell_type": "code",
   "execution_count": 7,
   "id": "b76248bc",
   "metadata": {},
   "outputs": [
    {
     "name": "stdout",
     "output_type": "stream",
     "text": [
      "Scene info. shape: [4, 4, 4]\n",
      "drawer1, drawer, [0 0 0], closed, []\n",
      "drawer2, drawer, [2 0 0], opened, ['cup1']\n",
      "cup1, cup, [2 0 0], full\n",
      "Robot: [3 0 3], closed, rotation: 0, attached: -\n"
     ]
    }
   ],
   "source": [
    "scene = Scene(objects=[drawer1, drawer2, cup1])\n",
    "scene.info"
   ]
  },
  {
   "cell_type": "code",
   "execution_count": 8,
   "id": "2721b38e",
   "metadata": {},
   "outputs": [
    {
     "data": {
      "text/plain": [
       "True"
      ]
     },
     "execution_count": 8,
     "metadata": {},
     "output_type": "execute_result"
    }
   ],
   "source": [
    "scene.collision_free()"
   ]
  },
  {
   "cell_type": "code",
   "execution_count": 10,
   "id": "43d9b12a",
   "metadata": {},
   "outputs": [
    {
     "data": {
      "text/plain": [
       "True"
      ]
     },
     "execution_count": 10,
     "metadata": {},
     "output_type": "execute_result"
    }
   ],
   "source": [
    "scene.drawer2.pick_up(scene.cup1)"
   ]
  },
  {
   "cell_type": "code",
   "execution_count": 12,
   "id": "72a9015d",
   "metadata": {},
   "outputs": [
    {
     "name": "stdout",
     "output_type": "stream",
     "text": [
      "Scene info. shape: [4, 4, 4]\n",
      "drawer1, drawer, [0 0 0], closed, []\n",
      "drawer2, drawer, [2 0 0], opened, []\n",
      "cup1, cup, [2 0 0], full\n",
      "Robot: [3 0 3], closed, rotation: 0, attached: -\n"
     ]
    }
   ],
   "source": [
    "scene.info"
   ]
  },
  {
   "cell_type": "markdown",
   "id": "54441503",
   "metadata": {},
   "source": [
    "Fake object move, normally **Move Actions** are used to move the object."
   ]
  },
  {
   "cell_type": "code",
   "execution_count": 13,
   "id": "8f37c641",
   "metadata": {},
   "outputs": [],
   "source": [
    "scene.cup1.position = scene.drawer1.position"
   ]
  },
  {
   "cell_type": "code",
   "execution_count": 14,
   "id": "d49909d6",
   "metadata": {},
   "outputs": [
    {
     "data": {
      "text/plain": [
       "True"
      ]
     },
     "execution_count": 14,
     "metadata": {},
     "output_type": "execute_result"
    }
   ],
   "source": [
    "scene.drawer1.open()"
   ]
  },
  {
   "cell_type": "code",
   "execution_count": 15,
   "id": "3e80caef",
   "metadata": {},
   "outputs": [
    {
     "data": {
      "text/plain": [
       "True"
      ]
     },
     "execution_count": 15,
     "metadata": {},
     "output_type": "execute_result"
    }
   ],
   "source": [
    "scene.drawer1.put_in(scene.cup1)"
   ]
  },
  {
   "cell_type": "code",
   "execution_count": 16,
   "id": "76b27404",
   "metadata": {},
   "outputs": [
    {
     "name": "stdout",
     "output_type": "stream",
     "text": [
      "Scene info. shape: [4, 4, 4]\n",
      "drawer1, drawer, [0 0 0], opened, ['cup1']\n",
      "drawer2, drawer, [2 0 0], opened, []\n",
      "cup1, cup, [0 0 0], full\n",
      "Robot: [3 0 3], closed, rotation: 0, attached: -\n"
     ]
    }
   ],
   "source": [
    "scene.info"
   ]
  },
  {
   "cell_type": "markdown",
   "id": "b07d6bb1",
   "metadata": {},
   "source": [
    "## Ex.3: Generate scene from dictionary\n",
    "- Example has stacked objects -> `print_structure()` reveals the structure of an object"
   ]
  },
  {
   "cell_type": "code",
   "execution_count": 19,
   "id": "c41402c8",
   "metadata": {},
   "outputs": [],
   "source": [
    "objects = {\n",
    "    'drawer': {'position': np.array([3, 2, 0]),\n",
    "        'type': 'drawer',\n",
    "        'graspable': False,\n",
    "        'pushable': False,\n",
    "        'free': True,\n",
    "        'size': 0.2,\n",
    "        'opened': False,\n",
    "        'above_str': 'cup1'},\n",
    "    'cup1': {'position': np.array([3, 1, 0]),\n",
    "        'type': 'cup',\n",
    "        'graspable': True,\n",
    "        'pushable': True,\n",
    "        'free': True,\n",
    "        'size': 0.01,\n",
    "        'under_str': 'drawer',\n",
    "        'above_str': 'cup2'},\n",
    "    'cup2': {'position': np.array([1, 2, 0]),\n",
    "        'type': 'cup',\n",
    "        'graspable': True,\n",
    "        'pushable': True,\n",
    "        'free': True,\n",
    "        'size': 0.01,\n",
    "        'under_str': 'cup1'}\n",
    "    }\n",
    "scene = Scene(objects=objects, init='from_dict')"
   ]
  },
  {
   "cell_type": "code",
   "execution_count": 20,
   "id": "1634ffb2",
   "metadata": {},
   "outputs": [
    {
     "name": "stdout",
     "output_type": "stream",
     "text": [
      "Structure:\n",
      "cup2\n",
      "[cup1]\n",
      "drawer\n"
     ]
    }
   ],
   "source": [
    "scene.cup1.print_structure()"
   ]
  },
  {
   "cell_type": "code",
   "execution_count": 21,
   "id": "7ce9af26",
   "metadata": {},
   "outputs": [
    {
     "name": "stdout",
     "output_type": "stream",
     "text": [
      "Structure:\n",
      "[cup2]\n",
      "cup1\n",
      "drawer\n"
     ]
    }
   ],
   "source": [
    "scene.cup2.print_structure()"
   ]
  },
  {
   "cell_type": "code",
   "execution_count": 22,
   "id": "914ac6f8",
   "metadata": {},
   "outputs": [
    {
     "name": "stdout",
     "output_type": "stream",
     "text": [
      "Structure:\n",
      "cup2\n",
      "cup1\n",
      "[drawer]\n"
     ]
    }
   ],
   "source": [
    "scene.drawer.print_structure()"
   ]
  },
  {
   "cell_type": "markdown",
   "id": "8e89f0e0",
   "metadata": {},
   "source": [
    "## Ex.3.1:"
   ]
  },
  {
   "cell_type": "code",
   "execution_count": 23,
   "id": "a5c17133",
   "metadata": {},
   "outputs": [],
   "source": [
    "objects = {\n",
    "    'drawer': {'position': np.array([3, 2, 0]),\n",
    "        'type': 'drawer',\n",
    "        'graspable': False,\n",
    "        'pushable': False,\n",
    "        'free': True,\n",
    "        'size': 0.2,\n",
    "        'opened': False,\n",
    "        'contains_list': ['cup1', 'cup2'],\n",
    "        'above_str': 'cup1'},\n",
    "    'cup1': {'position': np.array([3, 1, 0]),\n",
    "        'type': 'cup',\n",
    "        'graspable': True,\n",
    "        'pushable': True,\n",
    "        'free': True,\n",
    "        'size': 0.01,\n",
    "        'under_str': 'drawer',\n",
    "        'above_str': 'cup2'},\n",
    "    'cup2': {'position': np.array([1, 2, 0]),\n",
    "        'type': 'cup',\n",
    "        'graspable': True,\n",
    "        'pushable': True,\n",
    "        'free': True,\n",
    "        'size': 0.01,\n",
    "        'under_str': 'cup1'}\n",
    "    }\n",
    "scene = Scene(objects=objects, init='from_dict')"
   ]
  },
  {
   "cell_type": "code",
   "execution_count": 24,
   "id": "8ebb9dd9",
   "metadata": {},
   "outputs": [
    {
     "name": "stdout",
     "output_type": "stream",
     "text": [
      "Structure:\n",
      "cup2\n",
      "[cup1]\n",
      "drawer\n"
     ]
    }
   ],
   "source": [
    "scene.cup1.print_structure()"
   ]
  },
  {
   "cell_type": "code",
   "execution_count": 25,
   "id": "805372c7",
   "metadata": {},
   "outputs": [
    {
     "data": {
      "text/plain": [
       "['cup1', 'cup2']"
      ]
     },
     "execution_count": 25,
     "metadata": {},
     "output_type": "execute_result"
    }
   ],
   "source": [
    "scene.drawer.contains_list"
   ]
  },
  {
   "cell_type": "code",
   "execution_count": 26,
   "id": "a5215d07",
   "metadata": {},
   "outputs": [
    {
     "data": {
      "text/plain": [
       "[<submodules.Objects.Cup at 0x7fdad8c7ea60>,\n",
       " <submodules.Objects.Cup at 0x7fdad8c7e6a0>]"
      ]
     },
     "execution_count": 26,
     "metadata": {},
     "output_type": "execute_result"
    }
   ],
   "source": [
    "scene.drawer.contains"
   ]
  },
  {
   "cell_type": "code",
   "execution_count": 27,
   "id": "b6ffbd69",
   "metadata": {},
   "outputs": [
    {
     "data": {
      "text/plain": [
       "True"
      ]
     },
     "execution_count": 27,
     "metadata": {},
     "output_type": "execute_result"
    }
   ],
   "source": [
    "scene.collision_free()"
   ]
  },
  {
   "cell_type": "markdown",
   "id": "4f4fb620",
   "metadata": {},
   "source": [
    "# Actions\n",
    "- The layer which users interact with\n",
    "- Each action has **Target Action** and **Target Object**, in future there might be **Target Measure**.\n",
    "\n",
    "## Ex.1: Put cup into drawer"
   ]
  },
  {
   "cell_type": "code",
   "execution_count": 47,
   "id": "874358b3",
   "metadata": {},
   "outputs": [
    {
     "name": "stdout",
     "output_type": "stream",
     "text": [
      "Scene info. shape: [4, 4, 4]\n",
      "drawer, drawer, [2 0 0], closed, []\n",
      "cup, cup, [2 1 0], empty\n",
      "Robot: [2 0 0], opened, rotation: 0, attached: -\n"
     ]
    }
   ],
   "source": [
    "s = Scene(init='drawer_and_cup')\n",
    "s.r.eef_position = s.drawer.position\n",
    "s.info"
   ]
  },
  {
   "cell_type": "code",
   "execution_count": 48,
   "id": "c3e4ba6d",
   "metadata": {},
   "outputs": [
    {
     "name": "stdout",
     "output_type": "stream",
     "text": [
      "('pick_up', 'cup') done!\n",
      "True\n",
      "Scene info. shape: [4, 4, 4]\n",
      "drawer, drawer, [2 0 0], closed, []\n",
      "cup, cup, [2 1 0], empty\n",
      "Robot: [2 0 0], opened, rotation: 0, attached: cup\n"
     ]
    }
   ],
   "source": [
    "print(Actions.do(s, ('pick_up', 'cup')))\n",
    "s.info"
   ]
  },
  {
   "cell_type": "code",
   "execution_count": 49,
   "id": "2f419659",
   "metadata": {},
   "outputs": [
    {
     "name": "stdout",
     "output_type": "stream",
     "text": [
      "Action cannot be performed!\n",
      "Scene info. shape: [4, 4, 4]\n",
      "drawer, drawer, [2 0 0], closed, []\n",
      "cup, cup, [2 1 0], empty\n",
      "Robot: [2 0 0], opened, rotation: 0, attached: cup\n"
     ]
    }
   ],
   "source": [
    "Actions.do(s, ('put', 'drawer'))\n",
    "s.info"
   ]
  },
  {
   "cell_type": "markdown",
   "id": "81dfa795",
   "metadata": {},
   "source": [
    "## Ex.2: Pour cup one into cup two"
   ]
  },
  {
   "cell_type": "code",
   "execution_count": 10,
   "id": "780590aa",
   "metadata": {},
   "outputs": [
    {
     "name": "stdout",
     "output_type": "stream",
     "text": [
      "cup1, cup, [2 1 0], full\n",
      "cup2, cup, [2 2 0], empty\n"
     ]
    }
   ],
   "source": [
    "s = Scene(init='drawer_and_cups', random=False)\n",
    "s.cup1.fill()\n",
    "s.cup1.info\n",
    "s.cup2.info"
   ]
  },
  {
   "cell_type": "code",
   "execution_count": 11,
   "id": "da9fad98",
   "metadata": {},
   "outputs": [
    {
     "name": "stdout",
     "output_type": "stream",
     "text": [
      "('pick_up', 'cup1') done!\n",
      "('pour', 'cup2') done!\n",
      "cup1, cup, [2 1 0], empty\n",
      "cup2, cup, [2 2 0], full\n"
     ]
    }
   ],
   "source": [
    "Actions.do(s, ('pick_up', 'cup1'))\n",
    "Actions.do(s, ('pour', 'cup2'))\n",
    "s.cup1.info\n",
    "s.cup2.info"
   ]
  },
  {
   "cell_type": "code",
   "execution_count": 12,
   "id": "2fc09380",
   "metadata": {},
   "outputs": [
    {
     "data": {
      "text/plain": [
       "array([0, 0, 1])"
      ]
     },
     "execution_count": 12,
     "metadata": {},
     "output_type": "execute_result"
    }
   ],
   "source": [
    "s.cup1.direction"
   ]
  },
  {
   "cell_type": "code",
   "execution_count": 13,
   "id": "ded9400e",
   "metadata": {},
   "outputs": [
    {
     "data": {
      "text/plain": [
       "0"
      ]
     },
     "execution_count": 13,
     "metadata": {},
     "output_type": "execute_result"
    }
   ],
   "source": [
    "s.r.eef_direction"
   ]
  },
  {
   "cell_type": "code",
   "execution_count": 14,
   "id": "07ee1168",
   "metadata": {},
   "outputs": [
    {
     "name": "stdout",
     "output_type": "stream",
     "text": [
      "cup1, cup, [2 1 0], empty\n",
      "cup2, cup, [2 2 0], full\n"
     ]
    }
   ],
   "source": [
    "s.cup1.info\n",
    "s.cup2.info"
   ]
  },
  {
   "cell_type": "code",
   "execution_count": 16,
   "id": "1797da76",
   "metadata": {},
   "outputs": [
    {
     "name": "stdout",
     "output_type": "stream",
     "text": [
      "Scene info. shape: [4, 4, 4]\n",
      "drawer, drawer, [2 0 0], closed, []\n",
      "cup1, cup, [2 1 0], empty\n",
      "cup2, cup, [2 2 0], empty\n",
      "Robot: [0 0 3], opened, rotation: 0, attached: cup1\n"
     ]
    }
   ],
   "source": [
    "s.cup2.rotate([0,1,0])\n",
    "s.info"
   ]
  },
  {
   "cell_type": "markdown",
   "id": "05c3c2fc",
   "metadata": {},
   "source": [
    "## Ex.3: Pour cup one into drawer"
   ]
  },
  {
   "cell_type": "code",
   "execution_count": 23,
   "id": "886ceb77",
   "metadata": {},
   "outputs": [
    {
     "name": "stdout",
     "output_type": "stream",
     "text": [
      "Scene info. shape: [4, 4, 4]\n",
      "drawer, drawer, [2 0 0], closed, []\n",
      "cup1, cup, [2 1 0], full\n",
      "cup2, cup, [2 2 0], empty\n",
      "Robot: [0 0 3], opened, rotation: 0, attached: -\n"
     ]
    }
   ],
   "source": [
    "s = Scene(init='drawer_and_cups', random=False)\n",
    "s.cup1.fill()\n",
    "s.info"
   ]
  },
  {
   "cell_type": "code",
   "execution_count": 24,
   "id": "9360ea15",
   "metadata": {},
   "outputs": [
    {
     "name": "stdout",
     "output_type": "stream",
     "text": [
      "('pick_up', 'cup1') done!\n",
      "('pour', 'drawer') done!\n",
      "cup1, cup, [2 1 0], empty\n"
     ]
    }
   ],
   "source": [
    "Actions.do(s, ('pick_up', 'cup1'))\n",
    "Actions.do(s, ('pour', 'drawer'))\n",
    "s.cup1.info"
   ]
  },
  {
   "cell_type": "code",
   "execution_count": 25,
   "id": "72dc9a1f",
   "metadata": {},
   "outputs": [
    {
     "name": "stdout",
     "output_type": "stream",
     "text": [
      "Scene info. shape: [4, 4, 4]\n",
      "drawer, drawer, [2 0 0], closed, []\n",
      "cup1, cup, [2 1 0], empty\n",
      "cup2, cup, [2 2 0], empty\n",
      "Robot: [0 0 3], opened, rotation: 0, attached: cup1\n"
     ]
    }
   ],
   "source": [
    "s.info"
   ]
  },
  {
   "cell_type": "markdown",
   "id": "dc625fc7",
   "metadata": {},
   "source": [
    "## Ex.4: Spill the cup"
   ]
  },
  {
   "cell_type": "code",
   "execution_count": 34,
   "id": "c4786763",
   "metadata": {},
   "outputs": [
    {
     "name": "stdout",
     "output_type": "stream",
     "text": [
      "cup2, cup, [2 2 0], empty\n"
     ]
    }
   ],
   "source": [
    "s.cup2.rotate([1,0,0])\n",
    "print(s.cup2)"
   ]
  },
  {
   "cell_type": "code",
   "execution_count": 36,
   "id": "42ba5cf0",
   "metadata": {},
   "outputs": [
    {
     "name": "stdout",
     "output_type": "stream",
     "text": [
      "Scene info. shape: [4, 4, 4]\n",
      "drawer, drawer, [2 0 0], opened, []\n",
      "cup1, cup, [2 1 0], full\n",
      "cup2, cup, [2 2 0], empty\n",
      "Robot: [2 1 0], opened, rotation: 0, attached: -\n"
     ]
    }
   ],
   "source": [
    "s = Scene(init='drawer_and_cups')\n",
    "s.r.eef_position = s.cup1.position\n",
    "s.info"
   ]
  },
  {
   "cell_type": "code",
   "execution_count": 37,
   "id": "5273a28c",
   "metadata": {},
   "outputs": [
    {
     "name": "stdout",
     "output_type": "stream",
     "text": [
      "('push', 'cup1') done!\n"
     ]
    },
    {
     "data": {
      "text/plain": [
       "array([3, 2, 0])"
      ]
     },
     "execution_count": 37,
     "metadata": {},
     "output_type": "execute_result"
    }
   ],
   "source": [
    "Actions.do(s, ('push','cup1'))\n",
    "s.cup1.position"
   ]
  }
 ],
 "metadata": {
  "kernelspec": {
   "display_name": "Python 3 (ipykernel)",
   "language": "python",
   "name": "python3"
  },
  "language_info": {
   "codemirror_mode": {
    "name": "ipython",
    "version": 3
   },
   "file_extension": ".py",
   "mimetype": "text/x-python",
   "name": "python",
   "nbconvert_exporter": "python",
   "pygments_lexer": "ipython3",
   "version": "3.8.10"
  }
 },
 "nbformat": 4,
 "nbformat_minor": 5
}
