{
 "cells": [
  {
   "cell_type": "markdown",
   "id": "b225aafd",
   "metadata": {},
   "source": [
    "# Move tests"
   ]
  },
  {
   "cell_type": "code",
   "execution_count": 25,
   "id": "2f19f87f",
   "metadata": {},
   "outputs": [],
   "source": [
    "from submodules import Objects, Robots, Tasks, Users\n",
    "from submodules.Scenes import Scene\n",
    "from submodules.Actions import Actions\n",
    "from submodules.Gestures import Gestures\n",
    "from submodules.Users import Users\n",
    "from model_noK import *\n",
    "import numpy as np\n",
    "from numpy import array as a"
   ]
  },
  {
   "cell_type": "code",
   "execution_count": 20,
   "id": "0e1292da",
   "metadata": {},
   "outputs": [
    {
     "name": "stdout",
     "output_type": "stream",
     "text": [
      "Scene info. shape: [4, 4, 4]\n",
      "cup, cup, [2 2 0], empty\n",
      "Robot: [3 2 3], opened, rotation: 1, attached: -\n"
     ]
    }
   ],
   "source": [
    "s = Scene(init='cup')\n",
    "s.info"
   ]
  },
  {
   "cell_type": "markdown",
   "id": "15705d38",
   "metadata": {},
   "source": [
    "### 1. Fake move"
   ]
  },
  {
   "cell_type": "code",
   "execution_count": 3,
   "id": "5a587c55",
   "metadata": {},
   "outputs": [],
   "source": [
    "s.r.eef_position = s.cup.position"
   ]
  },
  {
   "cell_type": "code",
   "execution_count": 4,
   "id": "1b314ed8",
   "metadata": {},
   "outputs": [
    {
     "name": "stdout",
     "output_type": "stream",
     "text": [
      "Scene info. shape: [4, 4, 4]\n",
      "cup, cup, [2 3 0], empty\n",
      "Robot: [2 3 0], closed, rotation: 1, attached: cup\n"
     ]
    }
   ],
   "source": [
    "Actions.do(s, ('pick_up','cup'))\n",
    "s.info"
   ]
  },
  {
   "cell_type": "code",
   "execution_count": 5,
   "id": "9d2f9e57",
   "metadata": {},
   "outputs": [
    {
     "data": {
      "text/plain": [
       "True"
      ]
     },
     "execution_count": 5,
     "metadata": {},
     "output_type": "execute_result"
    }
   ],
   "source": [
    "s = Scene(init='cup,cup')\n",
    "s.r.eef_position = s.cup.position\n",
    "Actions.do(s, ('pick_up', 'cup'))"
   ]
  },
  {
   "cell_type": "code",
   "execution_count": 6,
   "id": "1d4e2271",
   "metadata": {},
   "outputs": [
    {
     "name": "stdout",
     "output_type": "stream",
     "text": [
      "Scene info. shape: [4, 4, 4]\n",
      "cup, cup, [3 3 0], full\n",
      "cup1, cup, [2 3 0], full\n",
      "Robot: [3 3 0], opened, rotation: 0, attached: cup\n"
     ]
    }
   ],
   "source": [
    "s.info"
   ]
  },
  {
   "cell_type": "markdown",
   "id": "b9feeb13",
   "metadata": {},
   "source": [
    "### 2. Move via actions\n",
    "- Move actions can be executed independently `Actions.do(s, ('move_xxx', None))`, when set of actions contains the desired move actions"
   ]
  },
  {
   "cell_type": "code",
   "execution_count": 9,
   "id": "a18e48d1",
   "metadata": {},
   "outputs": [
    {
     "data": {
      "text/plain": [
       "True"
      ]
     },
     "execution_count": 9,
     "metadata": {},
     "output_type": "execute_result"
    }
   ],
   "source": [
    "Actions.do(s, ('move_up',None))"
   ]
  },
  {
   "cell_type": "code",
   "execution_count": 10,
   "id": "4cd999b4",
   "metadata": {},
   "outputs": [
    {
     "name": "stdout",
     "output_type": "stream",
     "text": [
      "Scene info. shape: [4, 4, 4]\n",
      "cup, cup, [3 3 2], full\n",
      "cup1, cup, [2 3 0], full\n",
      "Robot: [3 3 2], opened, rotation: 0, attached: cup\n"
     ]
    }
   ],
   "source": [
    "s.info"
   ]
  },
  {
   "cell_type": "markdown",
   "id": "ca25e09b",
   "metadata": {},
   "source": [
    "### 3. Non-move actions with ignore_location flag\n",
    "- do not consider eef position"
   ]
  },
  {
   "cell_type": "code",
   "execution_count": 12,
   "id": "7ae10b33",
   "metadata": {},
   "outputs": [],
   "source": [
    "from submodules import Objects, Robots, Tasks, Users\n",
    "from submodules.Scenes import Scene\n",
    "from submodules.Actions import Actions\n",
    "from submodules.Gestures import Gestures\n",
    "from submodules.Users import Users\n",
    "from model_noK import *\n",
    "import numpy as np\n",
    "from numpy import array as a"
   ]
  },
  {
   "cell_type": "code",
   "execution_count": 21,
   "id": "0a180355",
   "metadata": {},
   "outputs": [
    {
     "name": "stdout",
     "output_type": "stream",
     "text": [
      "Scene info. shape: [4, 4, 4]\n",
      "cup, cup, [2 1 0], empty\n",
      "Robot: [1 3 3], closed, rotation: 0, attached: -\n"
     ]
    }
   ],
   "source": [
    "s = Scene(init='cup')\n",
    "s.info"
   ]
  },
  {
   "cell_type": "code",
   "execution_count": 22,
   "id": "b4ef3c07",
   "metadata": {},
   "outputs": [
    {
     "data": {
      "text/plain": [
       "False"
      ]
     },
     "execution_count": 22,
     "metadata": {},
     "output_type": "execute_result"
    }
   ],
   "source": [
    "Actions.do(s, ('pick_up', 'cup'))"
   ]
  },
  {
   "cell_type": "markdown",
   "id": "e90807dc",
   "metadata": {},
   "source": [
    "Robot eef and cup are not at one position, but action `pick_up` can be performed when `ignore_location=True`."
   ]
  },
  {
   "cell_type": "code",
   "execution_count": 23,
   "id": "2a2b6e05",
   "metadata": {},
   "outputs": [
    {
     "data": {
      "text/plain": [
       "True"
      ]
     },
     "execution_count": 23,
     "metadata": {},
     "output_type": "execute_result"
    }
   ],
   "source": [
    "Actions.do(s, ('pick_up', 'cup'), ignore_location=True)"
   ]
  },
  {
   "cell_type": "markdown",
   "id": "53a4d8ce",
   "metadata": {},
   "source": [
    "### 4. Non-move action with handle_location flag\n",
    "- Program will automatically execute move action sequence and move eef to desired object position\n",
    "- Move actions are planned and executed from start (eef) to target (object)\n",
    "- When there is obstacle on the scene, the some move actions are not valid for given eef position, the planner finds the way of valid actions to reach the target"
   ]
  },
  {
   "cell_type": "code",
   "execution_count": 26,
   "id": "4ab0ebb0",
   "metadata": {},
   "outputs": [
    {
     "name": "stdout",
     "output_type": "stream",
     "text": [
      "Executed move actions: ['move_down', 'move_left', 'move_down', 'move_back', 'move_left', 'move_down']\n"
     ]
    },
    {
     "data": {
      "text/plain": [
       "True"
      ]
     },
     "execution_count": 26,
     "metadata": {},
     "output_type": "execute_result"
    }
   ],
   "source": [
    "s = Scene(init='cup')\n",
    "Actions.do(s, ('pick_up', 'cup'), handle_location=True)"
   ]
  },
  {
   "cell_type": "markdown",
   "id": "f986d011",
   "metadata": {},
   "source": [
    "handle_location flag calls function `s.plan_path_to_position(..)` and then `Actions.execute_path_to_position(..)`\n",
    "Example:"
   ]
  },
  {
   "cell_type": "code",
   "execution_count": 51,
   "id": "bd40539c",
   "metadata": {},
   "outputs": [
    {
     "data": {
      "text/plain": [
       "array([1, 3, 3])"
      ]
     },
     "execution_count": 51,
     "metadata": {},
     "output_type": "execute_result"
    }
   ],
   "source": [
    "s = Scene(init='cup')\n",
    "s.r.eef_position"
   ]
  },
  {
   "cell_type": "code",
   "execution_count": 52,
   "id": "7c8259c8",
   "metadata": {},
   "outputs": [
    {
     "data": {
      "text/plain": [
       "True"
      ]
     },
     "execution_count": 52,
     "metadata": {},
     "output_type": "execute_result"
    }
   ],
   "source": [
    "move_action_seq = s.plan_path_to_position([0,0,0], Actions)\n",
    "Actions.execute_path_to_position(s,move_action_seq)"
   ]
  },
  {
   "cell_type": "code",
   "execution_count": 53,
   "id": "e0dc4862",
   "metadata": {},
   "outputs": [
    {
     "data": {
      "text/plain": [
       "['move_left',\n",
       " 'move_down',\n",
       " 'move_left',\n",
       " 'move_down',\n",
       " 'move_front',\n",
       " 'move_left',\n",
       " 'move_down']"
      ]
     },
     "execution_count": 53,
     "metadata": {},
     "output_type": "execute_result"
    }
   ],
   "source": [
    "move_action_seq"
   ]
  },
  {
   "cell_type": "code",
   "execution_count": 54,
   "id": "92b978d7",
   "metadata": {},
   "outputs": [
    {
     "data": {
      "text/plain": [
       "array([0, 0, 0])"
      ]
     },
     "execution_count": 54,
     "metadata": {},
     "output_type": "execute_result"
    }
   ],
   "source": [
    "s.r.eef_position"
   ]
  },
  {
   "cell_type": "code",
   "execution_count": 68,
   "id": "fd003051",
   "metadata": {},
   "outputs": [
    {
     "data": {
      "text/plain": [
       "['move_back', 'move_up', 'move_front', 'move_left']"
      ]
     },
     "execution_count": 68,
     "metadata": {},
     "output_type": "execute_result"
    }
   ],
   "source": [
    "Actions.get_possible_move_actions(s)"
   ]
  },
  {
   "cell_type": "markdown",
   "id": "ae4362e7",
   "metadata": {},
   "source": [
    "### Helper functions\n",
    "- `get_possible_actions`\n",
    "- `get_possible_actions_bool_array`"
   ]
  },
  {
   "cell_type": "code",
   "execution_count": 71,
   "id": "d087a46a",
   "metadata": {},
   "outputs": [],
   "source": [
    "from submodules import Objects, Robots, Tasks, Users\n",
    "from submodules.Scenes import Scene\n",
    "from submodules.Actions import Actions\n",
    "from submodules.Gestures import Gestures\n",
    "from submodules.Users import Users\n",
    "from model_noK import *\n",
    "import numpy as np\n",
    "from numpy import array as a"
   ]
  },
  {
   "cell_type": "code",
   "execution_count": 72,
   "id": "9586c0d1",
   "metadata": {},
   "outputs": [],
   "source": [
    "s = Scene(init='cup,cup,drawer,object')"
   ]
  },
  {
   "cell_type": "code",
   "execution_count": 73,
   "id": "bcbbd6e6",
   "metadata": {},
   "outputs": [
    {
     "data": {
      "text/plain": [
       "[('close', 'drawer'),\n",
       " ('pick_up', 'cup'),\n",
       " ('pick_up', 'cup1'),\n",
       " ('pick_up', 'object')]"
      ]
     },
     "execution_count": 73,
     "metadata": {},
     "output_type": "execute_result"
    }
   ],
   "source": [
    "Actions.get_possible_actions(s, ignore_location=True)"
   ]
  },
  {
   "cell_type": "code",
   "execution_count": 74,
   "id": "aa737869",
   "metadata": {},
   "outputs": [
    {
     "data": {
      "text/plain": [
       "array([[False, False, False, False],\n",
       "       [False, False, False, False],\n",
       "       [False, False, False, False],\n",
       "       [False, False, False, False],\n",
       "       [False, False,  True, False],\n",
       "       [ True,  True, False,  True]])"
      ]
     },
     "execution_count": 74,
     "metadata": {},
     "output_type": "execute_result"
    }
   ],
   "source": [
    "Actions.get_possible_actions_bool_array(s, ignore_location=True)"
   ]
  },
  {
   "cell_type": "code",
   "execution_count": 75,
   "id": "bd6d358d",
   "metadata": {},
   "outputs": [
    {
     "data": {
      "text/plain": [
       "True"
      ]
     },
     "execution_count": 75,
     "metadata": {},
     "output_type": "execute_result"
    }
   ],
   "source": [
    "Actions.do(s,('pick_up', 'cup'), ignore_location=True)"
   ]
  },
  {
   "cell_type": "code",
   "execution_count": 76,
   "id": "2806ac6f",
   "metadata": {},
   "outputs": [
    {
     "data": {
      "text/plain": [
       "[('put', 'drawer'), ('close', 'drawer')]"
      ]
     },
     "execution_count": 76,
     "metadata": {},
     "output_type": "execute_result"
    }
   ],
   "source": [
    "Actions.get_possible_actions(s, ignore_location=True)"
   ]
  },
  {
   "cell_type": "code",
   "execution_count": 77,
   "id": "25b74b0e",
   "metadata": {},
   "outputs": [
    {
     "data": {
      "text/plain": [
       "array([[False, False, False, False],\n",
       "       [False, False, False, False],\n",
       "       [False, False,  True, False],\n",
       "       [False, False, False, False],\n",
       "       [False, False,  True, False],\n",
       "       [False, False, False, False]])"
      ]
     },
     "execution_count": 77,
     "metadata": {},
     "output_type": "execute_result"
    }
   ],
   "source": [
    "Actions.get_possible_actions_bool_array(s, ignore_location=True)"
   ]
  },
  {
   "cell_type": "code",
   "execution_count": null,
   "id": "e4509d17",
   "metadata": {},
   "outputs": [],
   "source": []
  },
  {
   "cell_type": "code",
   "execution_count": null,
   "id": "53efe166",
   "metadata": {},
   "outputs": [],
   "source": []
  }
 ],
 "metadata": {
  "kernelspec": {
   "display_name": "Python 3 (ipykernel)",
   "language": "python",
   "name": "python3"
  },
  "language_info": {
   "codemirror_mode": {
    "name": "ipython",
    "version": 3
   },
   "file_extension": ".py",
   "mimetype": "text/x-python",
   "name": "python",
   "nbconvert_exporter": "python",
   "pygments_lexer": "ipython3",
   "version": "3.8.10"
  }
 },
 "nbformat": 4,
 "nbformat_minor": 5
}
