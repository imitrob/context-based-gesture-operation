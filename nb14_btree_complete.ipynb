{
 "cells": [
  {
   "cell_type": "code",
   "execution_count": 1,
   "id": "55c4cdd9",
   "metadata": {},
   "outputs": [],
   "source": [
    "from agent_nodes import g2i\n",
    "\n",
    "import rospy\n",
    "from context_based_gesture_operation.srv import G2I, G2IResponse\n",
    "from context_based_gesture_operation.msg import Intent\n",
    "from context_based_gesture_operation.msg import Scene as SceneRos\n",
    "from context_based_gesture_operation.msg import Gestures as GesturesRos\n",
    "import numpy as np\n",
    "from srcmodules.Scenes import Scene\n",
    "from srcmodules.Gestures import Gestures\n",
    "from srcmodules.Actions import Actions\n",
    "from srcmodules.SceneFieldFeatures import SceneFieldFeatures"
   ]
  },
  {
   "cell_type": "markdown",
   "id": "7ed70a4c",
   "metadata": {},
   "source": [
    "#  Behaviour tree example\n",
    "\n",
    "- `roscore` need to be running in the backend\n",
    "- `rosrun rqt_py_trees rqt_py_trees` to visualize the tree"
   ]
  },
  {
   "cell_type": "markdown",
   "id": "7c1b00b2",
   "metadata": {},
   "source": [
    "### Init Gestures to Intent Service"
   ]
  },
  {
   "cell_type": "code",
   "execution_count": 2,
   "id": "f4517271",
   "metadata": {},
   "outputs": [],
   "source": [
    "A = ['move_up', 'move_left', 'move_down', 'move_right',\n",
    "         'put', 'put_on', 'pour', 'pick_up', 'place', 'open', 'close']\n",
    "G = ['swipe_up', 'swipe_left', 'swipe_down', 'swipe_right',\n",
    "          'five', 'grab', 'thumbsup', 'rotate', 'point', 'two', 'three']"
   ]
  },
  {
   "cell_type": "code",
   "execution_count": 3,
   "id": "a12e47e4",
   "metadata": {},
   "outputs": [
    {
     "data": {
      "text/plain": [
       "<agent_nodes.g2i.G2IService at 0x7f1545846f40>"
      ]
     },
     "execution_count": 3,
     "metadata": {},
     "output_type": "execute_result"
    }
   ],
   "source": [
    "g2i.G2IService(G, A)"
   ]
  },
  {
   "cell_type": "markdown",
   "id": "f5a7c071",
   "metadata": {},
   "source": [
    "### Init scene & gesture vector publishers"
   ]
  },
  {
   "cell_type": "code",
   "execution_count": 4,
   "id": "805084f5",
   "metadata": {},
   "outputs": [],
   "source": [
    "pub_scene = rospy.Publisher(\"/tree/scene_in\", SceneRos, queue_size=5)\n",
    "pub_gestures = rospy.Publisher(\"/tree/gestures_in\", GesturesRos, queue_size=5)"
   ]
  },
  {
   "cell_type": "markdown",
   "id": "8ea2f482",
   "metadata": {},
   "source": [
    "### Save the robotic actions"
   ]
  },
  {
   "cell_type": "code",
   "execution_count": 5,
   "id": "0579142d",
   "metadata": {},
   "outputs": [
    {
     "data": {
      "text/plain": [
       "<rospy.topics.Subscriber at 0x7f1524ebe130>"
      ]
     },
     "execution_count": 5,
     "metadata": {},
     "output_type": "execute_result"
    }
   ],
   "source": [
    "robotic_sequence = []\n",
    "def save_the_robotic_sequence(msg):\n",
    "    global robotic_sequence\n",
    "    robotic_sequence.append(msg)\n",
    "rospy.Subscriber('/execute_intent', Intent, save_the_robotic_sequence)"
   ]
  },
  {
   "cell_type": "markdown",
   "id": "7babf1cd",
   "metadata": {},
   "source": [
    "### Create B Tree"
   ]
  },
  {
   "cell_type": "code",
   "execution_count": 6,
   "id": "59cecb92",
   "metadata": {},
   "outputs": [],
   "source": [
    "from srcmodules import BTreeLib\n",
    "import py_trees_ros, functools"
   ]
  },
  {
   "cell_type": "code",
   "execution_count": 7,
   "id": "d546db0c",
   "metadata": {},
   "outputs": [],
   "source": [
    "rospy.init_node(\"tree\")\n",
    "\n",
    "root = BTreeLib.create_tree()\n",
    "behaviour_tree = py_trees_ros.trees.BehaviourTree(root)\n",
    "rospy.on_shutdown(functools.partial(BTreeLib.shutdown, behaviour_tree))\n",
    "\n",
    "if not behaviour_tree.setup(timeout=15):\n",
    "    console.logerror(\"failed to setup the tree, aborting.\")\n",
    "    sys.exit(1)"
   ]
  },
  {
   "cell_type": "code",
   "execution_count": 8,
   "id": "a8f76c7d",
   "metadata": {},
   "outputs": [
    {
     "name": "stdout",
     "output_type": "stream",
     "text": [
      "update scene: Status.RUNNING\n"
     ]
    }
   ],
   "source": [
    "behaviour_tree.tick()"
   ]
  },
  {
   "cell_type": "markdown",
   "id": "db4ff374",
   "metadata": {},
   "source": [
    "# Ex. 1 \n",
    "- put to drawer, when drawer is closed\n",
    "\n",
    "1. Generate Scene and Gesture vector\n",
    "2. Publish Scene and gesture vector info and generate the robotic action sequence "
   ]
  },
  {
   "cell_type": "code",
   "execution_count": 9,
   "id": "0514f2cd",
   "metadata": {},
   "outputs": [],
   "source": [
    "g = GesturesRos()\n",
    "g.probabilities.data = np.zeros(11)\n",
    "g.probabilities.data[5] = 1.0\n",
    "\n",
    "s = Scene(init='object,drawer,cup', random=False)\n",
    "Actions.do(s,('pick_up','cup'), ignore_location=True)\n",
    "sr = s.to_ros(SceneRos())\n",
    "sr.focus_point = s.drawer.position"
   ]
  },
  {
   "cell_type": "code",
   "execution_count": 10,
   "id": "5a917e2f",
   "metadata": {},
   "outputs": [],
   "source": [
    "pub_scene.publish(sr)\n",
    "pub_gestures.publish(g)"
   ]
  },
  {
   "cell_type": "code",
   "execution_count": 11,
   "id": "99a8a30b",
   "metadata": {},
   "outputs": [
    {
     "name": "stdout",
     "output_type": "stream",
     "text": [
      "update scene: Status.SUCCESS\n",
      "update gestures: Status.SUCCESS\n",
      "intent put_on, drawer\n",
      "generate intent: Status.SUCCESS\n",
      "Execute TA Status.SUCCESS! put_on,drawer\n"
     ]
    },
    {
     "name": "stderr",
     "output_type": "stream",
     "text": [
      "[WARN] [1665055571.135344]: Scene2BB: gripper attached!\n"
     ]
    }
   ],
   "source": [
    "behaviour_tree.tick()"
   ]
  },
  {
   "cell_type": "code",
   "execution_count": 12,
   "id": "b84ec54d",
   "metadata": {},
   "outputs": [
    {
     "data": {
      "text/plain": [
       "[target_action: \"place\"\n",
       " target_object: ''\n",
       " auxiliary_parameters: '',\n",
       " target_action: \"open\"\n",
       " target_object: \"drawer\"\n",
       " auxiliary_parameters: '',\n",
       " target_action: \"pick_up\"\n",
       " target_object: \"cup\"\n",
       " auxiliary_parameters: '',\n",
       " target_action: \"put_on\"\n",
       " target_object: \"drawer\"\n",
       " auxiliary_parameters: '']"
      ]
     },
     "execution_count": 12,
     "metadata": {},
     "output_type": "execute_result"
    }
   ],
   "source": [
    "robotic_sequence"
   ]
  },
  {
   "cell_type": "markdown",
   "id": "36171c7c",
   "metadata": {},
   "source": [
    "# Ex. 2\n",
    "- move left"
   ]
  },
  {
   "cell_type": "code",
   "execution_count": 14,
   "id": "75904c61",
   "metadata": {},
   "outputs": [
    {
     "name": "stdout",
     "output_type": "stream",
     "text": [
      "update scene: Status.SUCCESS\n",
      "update gestures: Status.SUCCESS\n",
      "intent move_left, object\n",
      "generate intent: Status.SUCCESS\n",
      "Execute TA Status.SUCCESS! move_left,object\n"
     ]
    },
    {
     "data": {
      "text/plain": [
       "[target_action: \"move_left\"\n",
       " target_object: \"object\"\n",
       " auxiliary_parameters: '']"
      ]
     },
     "execution_count": 14,
     "metadata": {},
     "output_type": "execute_result"
    }
   ],
   "source": [
    "robotic_sequence = []\n",
    "\n",
    "g = GesturesRos()\n",
    "g.probabilities.data = np.zeros(11)\n",
    "g.probabilities.data[1] = 1.0\n",
    "\n",
    "s = Scene(init='object,drawer,cup', random=False)\n",
    "Actions.do(s,('pick_up','cup'), ignore_location=True)\n",
    "sr = s.to_ros(SceneRos())\n",
    "sr.focus_point = s.object.position\n",
    "\n",
    "pub_scene.publish(sr)\n",
    "pub_gestures.publish(g)\n",
    "\n",
    "behaviour_tree.tick()\n",
    "robotic_sequence"
   ]
  },
  {
   "cell_type": "markdown",
   "id": "9aa328eb",
   "metadata": {},
   "source": [
    "# Ex. 3\n",
    "- put to drawer, drawer is opened"
   ]
  },
  {
   "cell_type": "code",
   "execution_count": 16,
   "id": "db72f9d4",
   "metadata": {},
   "outputs": [
    {
     "name": "stdout",
     "output_type": "stream",
     "text": [
      "update scene: Status.SUCCESS\n",
      "update gestures: Status.SUCCESS\n",
      "intent put_on, drawer\n",
      "generate intent: Status.SUCCESS\n",
      "Execute TA Status.SUCCESS! put_on,drawer\n"
     ]
    },
    {
     "data": {
      "text/plain": [
       "[target_action: \"put_on\"\n",
       " target_object: \"drawer\"\n",
       " auxiliary_parameters: '']"
      ]
     },
     "execution_count": 16,
     "metadata": {},
     "output_type": "execute_result"
    }
   ],
   "source": [
    "robotic_sequence = []\n",
    "\n",
    "g = GesturesRos()\n",
    "g.probabilities.data = np.zeros(11)\n",
    "g.probabilities.data[5] = 1.0\n",
    "\n",
    "s = Scene(init='object,drawer,cup', random=False)\n",
    "s.drawer.open()\n",
    "Actions.do(s,('pick_up','cup'), ignore_location=True)\n",
    "sr = s.to_ros(SceneRos())\n",
    "sr.focus_point = s.drawer.position\n",
    "\n",
    "pub_scene.publish(sr)\n",
    "pub_gestures.publish(g)\n",
    "\n",
    "behaviour_tree.tick()\n",
    "robotic_sequence"
   ]
  },
  {
   "cell_type": "markdown",
   "id": "e0840263",
   "metadata": {},
   "source": [
    "# Ex. 4\n",
    "- put to drawer, not holding anything, target drawer opened\n",
    "    \n",
    "- Unfeasible, no object held in gripper -> action discarded before when checking action validity "
   ]
  },
  {
   "cell_type": "code",
   "execution_count": null,
   "id": "88766840",
   "metadata": {},
   "outputs": [],
   "source": []
  },
  {
   "cell_type": "code",
   "execution_count": null,
   "id": "755ca3e7",
   "metadata": {},
   "outputs": [],
   "source": []
  },
  {
   "cell_type": "code",
   "execution_count": null,
   "id": "cdb2e893",
   "metadata": {},
   "outputs": [],
   "source": []
  }
 ],
 "metadata": {
  "kernelspec": {
   "display_name": "robostackenv",
   "language": "python",
   "name": "myenv"
  },
  "language_info": {
   "codemirror_mode": {
    "name": "ipython",
    "version": 3
   },
   "file_extension": ".py",
   "mimetype": "text/x-python",
   "name": "python",
   "nbconvert_exporter": "python",
   "pygments_lexer": "ipython3",
   "version": "3.8.10"
  }
 },
 "nbformat": 4,
 "nbformat_minor": 5
}
