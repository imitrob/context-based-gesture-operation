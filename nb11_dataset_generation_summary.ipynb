{
 "cells": [
  {
   "cell_type": "markdown",
   "id": "7bec0b42",
   "metadata": {},
   "source": [
    "Helper functions"
   ]
  },
  {
   "cell_type": "code",
   "execution_count": 10,
   "id": "247fc58b",
   "metadata": {},
   "outputs": [],
   "source": [
    "def show_each_action_occurance(dataset):\n",
    "    sums = np.zeros(lenA)\n",
    "    for sample in dataset:\n",
    "        a = A.index(sample[1][0])\n",
    "        sums[a]+=1\n",
    "    print(f\"Action occurances: {sums}\")\n",
    "\n",
    "def save_with_config(dataset, name):\n",
    "    if name == 'D1':\n",
    "        CM = CM1\n",
    "    elif name == 'D2':\n",
    "        CM = CM2\n",
    "    elif name == 'D3':\n",
    "        CM = CM3\n",
    "    else: raise Exception(\"not the right name of dataset\")\n",
    "    config = {\n",
    "        'A': A,\n",
    "        'G': G,\n",
    "        'Otypes': Otypes,\n",
    "        'lenA': lenA,\n",
    "        'lenG': lenG,\n",
    "        'lenOtypes': lenOtypes,\n",
    "        'CM': CM,\n",
    "    }\n",
    "    np.save(f\"{os.path.expanduser('~')}/Documents/{name}\", np.asanyarray({'dataset': dataset, 'config': config}, dtype=object))"
   ]
  },
  {
   "cell_type": "markdown",
   "id": "0e06b00a",
   "metadata": {},
   "source": [
    "# Task 10.9. Generate three datasets\n",
    "### Ds. 1: dataset2_1 generator\n",
    "\n",
    "- Direct mapping + scene + target object\n",
    "- 11 Actions + 9 Gestures\n",
    "- 10000 draws\n",
    "- CM is:\n",
    "    - `dataset2_1` 2D `[11,9]`\n",
    "    - `dataset2_2` 3D `[3,11,9]`\n",
    "    - `dataset2_3` 4D `[2,3,11,9]`\n",
    "- types, scene and other features are not used\n",
    "- scene: n objects - initialized randomly\n",
    "- target object generation type: **random**"
   ]
  },
  {
   "cell_type": "code",
   "execution_count": 11,
   "id": "78bbeb78",
   "metadata": {},
   "outputs": [],
   "source": [
    "from submodules import Robots, Tasks, Users\n",
    "from submodules.Objects import Object\n",
    "from submodules.Scenes import Scene\n",
    "from submodules.Actions import Actions\n",
    "from submodules.Gestures import Gestures\n",
    "from submodules.Users import Users\n",
    "from model_noK import *\n",
    "import numpy as np\n",
    "from numpy import array as a\n",
    "import os"
   ]
  },
  {
   "cell_type": "code",
   "execution_count": 12,
   "id": "3d85a2b5",
   "metadata": {},
   "outputs": [],
   "source": [
    "A = Actions.A = ['move_up', 'move_left', 'move_down', 'move_right', \n",
    "                 'put', 'put_on', 'pour', 'pick_up', 'place', 'open', 'close']\n",
    "\n",
    "G = Gestures.G = ['swipe_up', 'swipe_left', 'swipe_down', 'swipe_right', \n",
    "                  'five', 'grab', 'thumbsup', 'rotate', 'point']\n",
    "Otypes = Object.all_types\n",
    "lenA = len(A)\n",
    "lenG = len(G)\n",
    "lenOtypes = len(Otypes)\n",
    "object_types_order_list = ['cup', 'drawer', 'object', 'cup', 'drawer', 'object', 'cup']"
   ]
  },
  {
   "cell_type": "code",
   "execution_count": 13,
   "id": "5d1b2260",
   "metadata": {},
   "outputs": [],
   "source": [
    "CM1 = np.zeros((lenA,lenG)) # actions x gestures\n",
    "                    # up,left,dwn,rght,fiv,grab,thum,rota,poin\n",
    "CM1[:,:] = np.array([[.7,  .0, .0,  .0, .3, .0,   .0,  .0,  .0], # move_up\n",
    "                     [.0,  .7, .0,  .0, .1, .0,   .1,  .1,  .0], # move_left\n",
    "                     [.0,  .0, .7,  .0, .2, .0,   .0,  .1,  .0], # move_down\n",
    "                     [.0,  .0, .0,  .7, .3, .0,   .0,  .0,  .0], # move_right\n",
    "                     [.0,  .0, .4,  .0, .2, .0,   .0,  .0,  .4], # put\n",
    "                     [.0,  .0,  1,  .0, .0, .0,   .0,  .0,  .0], # put_on\n",
    "                     [.0,  .0, .0,  .0, .0, .0,   .1,  .9,  .0], # pour\n",
    "                     [.2,  .0, .0,  .0, .0, .7,   .1,  .0,  .0], # pick_up\n",
    "                     [.0,  .0, .0,  .0, .0, .0,   .3,  .0,  .7], # place\n",
    "                     [.5,  .0, .0,  .0, .0, .5,   .0,  .0,  .0], # open\n",
    "                     [.0,  .0, .5,  .0, .0, .5,   .0,  .0,  .0]])# close"
   ]
  },
  {
   "cell_type": "code",
   "execution_count": 14,
   "id": "278f98e7",
   "metadata": {},
   "outputs": [],
   "source": [
    "CM2 = np.zeros((3, lenA,lenG)) # object types x actions x gestures\n",
    "# objtyp 0: cup\n",
    "                        # up,left,dwn,rght,fiv,grab,thum,rota,poin\n",
    "CM2[0,:,:] = np.array([[.7,  .0, .0,  .0, .3, .0,   .0,  .0,  .0], # move_up\n",
    "                       [.0,  .8, .0,  .0, .0, .0,   .1,  .1,  .0], # move_left\n",
    "                       [.0,  .0, .7,  .0, .2, .0,   .0,  .1,  .0], # move_down\n",
    "                       [.0,  .0, .0,  .7, .3, .0,   .0,  .0,  .0], # move_right\n",
    "                       [.0,  .0, .0,  .0, .0, .0,   .0,  .0,  .0], # put\n",
    "                       [.0,  .0, .0,  .0, .0, .0,   .0,  .0,  .0], # put_on\n",
    "                       [.0,  .0, .0,  .0, .0, .0,   .1,  .9,  .0], # pour\n",
    "                       [.2,  .0, .0,  .0, .0, .7,   .1,  .0,  .0], # pick_up\n",
    "                       [.0,  .0, .0,  .0, .0, .0,    1,  .0,  .0], # place\n",
    "                       [.0,  .0, .0,  .0, .0, .0,   .0,  .0,  .0], # open\n",
    "                       [.0,  .0, .0,  .0, .0, .0,   .0,  .0,  .0]])# close\n",
    "# user 0, objtyp 1: drawer\n",
    "                      # up,left,dwn,rght,fiv,grab,thum,rota,poin\n",
    "CM2[1,:,:] = np.array([[.7,  .0, .0,  .0, .3, .0,   .0,  .0,  .0], # move_up\n",
    "                       [.0,  .7, .0,  .0, .1, .0,   .1,  .1,  .0], # move_left\n",
    "                       [.0,  .0, .7,  .0, .2, .0,   .0,  .1,  .0], # move_down\n",
    "                       [.0,  .0, .0,  .7, .3, .0,   .0,  .0,  .0], # move_right\n",
    "                       [.0,  .0, .4,  .0, .2, .0,   .0,  .0,  .4], # put\n",
    "                       [.0,  .0, .5,  .0, .0, .0,   .0,  .0,  .5], # put_on\n",
    "                       [.0,  .0, .0,  .0, .0, .0,   .0,  .0,  .0], # pour\n",
    "                       [.0,  .0, .0,  .0, .0, .0,   .0,  .0,  .0], # pick_up\n",
    "                       [.0,  .0, .0,  .0, .0, .0,   .3,  .0,  .7], # place\n",
    "                       [.4,  .0, .0,  .0, .0, .4,   .2,  .0,  .0], # open\n",
    "                       [.0,  .0, .5,  .0, .0, .5,   .0,  .0,  .0]])# close\n",
    "# objtyp 2: object = box\n",
    "                      # up,left,dwn,rght,fiv,grab,thum,rota,poin\n",
    "CM2[2,:,:] = np.array([[.7,  .0, .0,  .0, .3, .0,   .0,  .0,  .0], # move_up\n",
    "                       [.0,  .7, .0,  .0, .1, .0,   .1,  .1,  .0], # move_left\n",
    "                       [.0,  .0, .7,  .0, .2, .0,   .0,  .1,  .0], # move_down\n",
    "                       [.0,  .0, .0,  .7, .3, .0,   .0,  .0,  .0], # move_right\n",
    "                       [.0,  .0, .4,  .0, .2, .0,   .0,  .0,  .4], # put\n",
    "                       [.0,  .0, .5,  .0, .0, .0,   .0,  .0,  .5], # put_on\n",
    "                       [.0,  .0, .0,  .0, .0, .0,   .0,  .0,  .0], # pour\n",
    "                       [.2,  .0, .0,  .0, .0, .7,   .1,  .0,  .0], # pick_up\n",
    "                       [.0,  .0, .0,  .0, .0, .0,   .3,  .0,  .7], # place\n",
    "                       [.0,  .0, .0,  .0, .0, .0,   .0,  .0,  .0], # open\n",
    "                       [.0,  .0, .0,  .0, .0, .0,   .0,  .0,  .0]])# close"
   ]
  },
  {
   "cell_type": "code",
   "execution_count": 15,
   "id": "bd2fbd56",
   "metadata": {},
   "outputs": [],
   "source": [
    "CM3 = np.zeros((2,3, lenA,lenG)) # users x object types x actions x gestures\n",
    "CM3[0,0,:,:] = np.array([[ 1,  .0, .0,  .0,  0, .0,   .0,  .0,  .0], # move_up\n",
    "                         [.0,   1, .0,  .0, .0, .0,    0,   0,  .0], # move_left\n",
    "                         [.0,  .0,  1,  .0,  0, .0,   .0,   0,  .0], # move_down\n",
    "                         [.0,  .0, .0,   1,  0, .0,   .0,  .0,  .0], # move_right\n",
    "                         [.0,  .0, .0,  .0, .0, .0,   .0,  .0,  .0], # put\n",
    "                         [.0,  .0, .0,  .0, .0, .0,   .0,  .0,  .0], # put_on\n",
    "                         [.0,  .0, .0,  .0, .0, .0,    0,   1,  .0], # pour\n",
    "                         [.0,  .0, .0,  .0, .0,  1,    0,  .0,  .0], # pick_up\n",
    "                         [.0,  .0, .0,  .0, .0, .0,    0,  .0,   1], # place\n",
    "                         [.0,  .0, .0,  .0, .0, .0,   .0,  .0,  .0], # open\n",
    "                         [.0,  .0, .0,  .0, .0, .0,   .0,  .0,  .0]])# close\n",
    "# objtyp 1: drawer\n",
    "                      # up,left,dwn,rght,fiv,grab,thum,rota,poin\n",
    "CM3[0,1,:,:] = np.array([[ 1,  .0, .0,  .0,  0, .0,   .0,  .0,  .0], # move_up\n",
    "                         [.0,   1, .0,  .0,  0, .0,    0,   0,  .0], # move_left\n",
    "                         [.0,  .0,  1,  .0,  0, .0,   .0,   0,  .0], # move_down\n",
    "                         [.0,  .0, .0,   1,  0, .0,   .0,  .0,  .0], # move_right\n",
    "                         [.0,  .0,  0,  .0,  0, .0,   .0,  .0,   1], # put\n",
    "                         [.0,  .0,  0,  .0, .0, .0,    1,  .0,   0], # put_on\n",
    "                         [.0,  .0, .0,  .0, .0, .0,   .0,  .0,  .0], # pour\n",
    "                         [.0,  .0, .0,  .0, .0, .0,   .0,  .0,  .0], # pick_up\n",
    "                         [.0,  .0, .0,  .0, .0,  1,    0,  .0,   0], # place\n",
    "                         [ 0,  .0, .0,  .0, .0,  0,    0,   1,  .0], # open\n",
    "                         [.0,  .0,  0,  .0,  1,  0,   .0,  .0,  .0]])# close\n",
    "# user 0, objtyp 2: object = box\n",
    "                        # up,left,dwn,rght,fiv,grab,thum,rota,poin\n",
    "CM3[0,2,:,:] = np.array([[ 1,  .0, .0,  .0,  0, .0,   .0,  .0,  .0], # move_up\n",
    "                         [.0,   1, .0,  .0,  0, .0,    0,   0,  .0], # move_left\n",
    "                         [.0,  .0,  1,  .0,  0, .0,   .0,   0,  .0], # move_down\n",
    "                         [.0,  .0, .0,   1,  0, .0,   .0,  .0,  .0], # move_right\n",
    "                         [.0,  .0,  0,  .0,  1, .0,   .0,  .0,   0], # put\n",
    "                         [.0,  .0,  0,  .0, .0, .0,   .0,  .0,   1], # put_on\n",
    "                         [.0,  .0, .0,  .0, .0, .0,   .0,  .0,  .0], # pour\n",
    "                         [ 0,  .0, .0,  .0, .0,  1,    0,  .0,  .0], # pick_up\n",
    "                         [.0,  .0, .0,  .0, .0, .0,    1,  .0,   0], # place\n",
    "                         [.0,  .0, .0,  .0, .0, .0,   .0,  .0,  .0], # open\n",
    "                         [.0,  .0, .0,  .0, .0, .0,   .0,  .0,  .0]])# close\n",
    "# user 1, objtyp 0: cup\n",
    "                        # up,left,dwn,rght,fiv,grab,thum,rota,poin\n",
    "CM3[0,0,:,:] = np.array([[.7,  .0, .0,  .0, .3, .0,   .0,  .0,  .0], # move_up\n",
    "                         [.0,  .8, .0,  .0, .0, .0,   .1,  .1,  .0], # move_left\n",
    "                         [.0,  .0, .7,  .0, .2, .0,   .0,  .1,  .0], # move_down\n",
    "                         [.0,  .0, .0,  .7, .3, .0,   .0,  .0,  .0], # move_right\n",
    "                         [.0,  .0, .0,  .0, .0, .0,   .0,  .0,  .0], # put\n",
    "                         [.0,  .0, .0,  .0, .0, .0,   .0,  .0,  .0], # put_on\n",
    "                         [.0,  .0, .0,  .0, .0, .0,   .1,  .9,  .0], # pour\n",
    "                         [.2,  .0, .0,  .0, .0, .7,   .1,  .0,  .0], # pick_up\n",
    "                         [.0,  .0, .0,  .0, .0, .0,    1,  .0,  .0], # place\n",
    "                         [.0,  .0, .0,  .0, .0, .0,   .0,  .0,  .0], # open\n",
    "                         [.0,  .0, .0,  .0, .0, .0,   .0,  .0,  .0]])# close\n",
    "# user 1, objtyp 1: drawer\n",
    "                      # up,left,dwn,rght,fiv,grab,thum,rota,poin\n",
    "CM3[0,1,:,:] = np.array([[.7,  .0, .0,  .0, .3, .0,   .0,  .0,  .0], # move_up\n",
    "                         [.0,  .7, .0,  .0, .1, .0,   .1,  .1,  .0], # move_left\n",
    "                         [.0,  .0, .7,  .0, .2, .0,   .0,  .1,  .0], # move_down\n",
    "                         [.0,  .0, .0,  .7, .3, .0,   .0,  .0,  .0], # move_right\n",
    "                         [.0,  .0, .4,  .0, .2, .0,   .0,  .0,  .4], # put\n",
    "                         [.0,  .0, .5,  .0, .0, .0,   .0,  .0,  .5], # put_on\n",
    "                         [.0,  .0, .0,  .0, .0, .0,   .0,  .0,  .0], # pour\n",
    "                         [.0,  .0, .0,  .0, .0, .0,   .0,  .0,  .0], # pick_up\n",
    "                         [.0,  .0, .0,  .0, .0, .0,   .3,  .0,  .7], # place\n",
    "                         [.4,  .0, .0,  .0, .0, .4,   .2,  .0,  .0], # open\n",
    "                         [.0,  .0, .5,  .0, .0, .5,   .0,  .0,  .0]])# close\n",
    "# user 1, objtyp 2: object = box\n",
    "                      # up,left,dwn,rght,fiv,grab,thum,rota,poin\n",
    "CM3[0,2,:,:] = np.array([[.7,  .0, .0,  .0, .3, .0,   .0,  .0,  .0], # move_up\n",
    "                         [.0,  .7, .0,  .0, .1, .0,   .1,  .1,  .0], # move_left\n",
    "                         [.0,  .0, .7,  .0, .2, .0,   .0,  .1,  .0], # move_down\n",
    "                         [.0,  .0, .0,  .7, .3, .0,   .0,  .0,  .0], # move_right\n",
    "                         [.0,  .0, .4,  .0, .2, .0,   .0,  .0,  .4], # put\n",
    "                         [.0,  .0, .5,  .0, .0, .0,   .0,  .0,  .5], # put_on\n",
    "                         [.0,  .0, .0,  .0, .0, .0,   .0,  .0,  .0], # pour\n",
    "                         [.2,  .0, .0,  .0, .0, .7,   .1,  .0,  .0], # pick_up\n",
    "                         [.0,  .0, .0,  .0, .0, .0,   .3,  .0,  .7], # place\n",
    "                         [.0,  .0, .0,  .0, .0, .0,   .0,  .0,  .0], # open\n",
    "                         [.0,  .0, .0,  .0, .0, .0,   .0,  .0,  .0]])# close"
   ]
  },
  {
   "cell_type": "code",
   "execution_count": 16,
   "id": "ee4423c8",
   "metadata": {},
   "outputs": [],
   "source": [
    "draws = 10000\n",
    "common_sense_probability_threshold = 0.9\n",
    "feasibility_probability_threshold = 0.01"
   ]
  },
  {
   "cell_type": "markdown",
   "id": "28e51c47",
   "metadata": {},
   "source": [
    "Dataset generation:\n",
    "- D1\n",
    "- D2\n",
    "- D3"
   ]
  },
  {
   "cell_type": "code",
   "execution_count": 17,
   "id": "add98364",
   "metadata": {},
   "outputs": [],
   "source": [
    "dataset_name = 'D1'"
   ]
  },
  {
   "cell_type": "code",
   "execution_count": 18,
   "id": "02d9c4dd",
   "metadata": {},
   "outputs": [],
   "source": [
    "def create_observation(s,TaTo, dataset_name):\n",
    "    target_object_id = s.O.index(TaTo[1])\n",
    "    target_action_id = Actions.A.index(TaTo[0])\n",
    "    target_object_type_id = Object.all_types.index(getattr(s, TaTo[1]).type)\n",
    "    user_id = np.random.randint(2)\n",
    "    \n",
    "    if dataset_name == 'D1':\n",
    "        gesture_probs_intent = CM1[target_action_id,:]\n",
    "    elif dataset_name == 'D2':\n",
    "        gesture_probs_intent = CM2[target_object_type_id,target_action_id,:]\n",
    "    elif dataset_name == 'D3':\n",
    "        gesture_probs_intent = CM3[user_id,target_object_type_id,target_action_id,:]\n",
    "    if sum(gesture_probs_intent) == 0: return False, False\n",
    "    \n",
    "    performed_gesture = np.random.choice(np.arange(lenG),p = gesture_probs_intent,size=1)\n",
    "\n",
    "    gesture_vec = np.zeros(lenG)\n",
    "    gesture_vec[performed_gesture] = 1\n",
    "    gesture_vec = abs(gesture_vec + np.random.normal(loc = 0, scale = 0.2,size =(1,lenG)))[0]\n",
    "    gesture_vec = gesture_vec/np.sum(gesture_vec)\n",
    "    \n",
    "    focus_point = abs(np.random.normal(loc = s.objects[target_object_id].position, scale = 0.1,size =(1,3)))\n",
    "    \n",
    "    return gesture_vec, focus_point"
   ]
  },
  {
   "cell_type": "code",
   "execution_count": 20,
   "id": "0bd8619e",
   "metadata": {},
   "outputs": [],
   "source": [
    "dataset = []\n",
    "# Generate random action\n",
    "while len(dataset) < draws:\n",
    "\n",
    "    n_objects = round(np.random.normal(3.5,1))\n",
    "    init = \",\".join(object_types_order_list[0:n_objects])\n",
    "    \n",
    "    s = Scene(init=init, random=True)\n",
    "    # Random draw from possible actions\n",
    "    TaTo = Actions.get_random_possible_action(s, ignore_location=True, p=common_sense_probability_threshold)\n",
    "    if TaTo is False: continue\n",
    "    \n",
    "    gobs, oobs = create_observation(s, TaTo, dataset_name)\n",
    "    if gobs is False: continue\n",
    "    \n",
    "    dataset.append((s.to_dict(), TaTo, gobs, oobs))\n",
    "    #if i % 1000 == 0: print(i)"
   ]
  },
  {
   "cell_type": "code",
   "execution_count": 21,
   "id": "78253648",
   "metadata": {},
   "outputs": [],
   "source": [
    "save_with_config(dataset, dataset_name)"
   ]
  },
  {
   "cell_type": "code",
   "execution_count": 22,
   "id": "7317ba1b",
   "metadata": {},
   "outputs": [
    {
     "name": "stdout",
     "output_type": "stream",
     "text": [
      "Action occurances: [   0. 1858. 2590. 1853.  481.  285.   39. 1029. 1024.  236.  605.]\n"
     ]
    }
   ],
   "source": [
    "show_each_action_occurance(dataset)"
   ]
  },
  {
   "cell_type": "markdown",
   "id": "3e1f3f9e",
   "metadata": {},
   "source": [
    "Some actions were not feasible and were not triggered as often, this can be a problem, when evaluating dataset.\n",
    "- D1 action occurances: [   0. 1838. 2564. 1848.  473.  276.   32. 1061. 1040.  214.  644.]\n",
    "- D2 action occurances: [   0. 1854. 2504. 1913.  507.  253.   23. 1047. 1009.  221.  653.]\n",
    "- D3 action occurances: [   0. 1850. 2566. 1854.  489.  257.   31. 1029. 1010.  248.  666.]"
   ]
  },
  {
   "cell_type": "code",
   "execution_count": null,
   "id": "31bf7a9e",
   "metadata": {},
   "outputs": [],
   "source": []
  }
 ],
 "metadata": {
  "kernelspec": {
   "display_name": "robostackenv",
   "language": "python",
   "name": "myenv"
  },
  "language_info": {
   "codemirror_mode": {
    "name": "ipython",
    "version": 3
   },
   "file_extension": ".py",
   "mimetype": "text/x-python",
   "name": "python",
   "nbconvert_exporter": "python",
   "pygments_lexer": "ipython3",
   "version": "3.8.10"
  }
 },
 "nbformat": 4,
 "nbformat_minor": 5
}
