{
 "cells": [
  {
   "cell_type": "code",
   "execution_count": 1,
   "id": "5c70a368-a795-48b0-91dd-86fb1288e4ac",
   "metadata": {
    "tags": []
   },
   "outputs": [
    {
     "name": "stderr",
     "output_type": "stream",
     "text": [
      "Invalid MIT-MAGIC-COOKIE-1 key"
     ]
    },
    {
     "name": "stdout",
     "output_type": "stream",
     "text": [
      "WARNING: coppelia_sim_ros_interface package was not found!\n",
      "[Settings] Workspace folder is set to: ros2_ws\n"
     ]
    }
   ],
   "source": [
    "from agent_nodes.g2i import G2IRosNode, PyMC3_Sample\n",
    "import rclpy\n",
    "import numpy as np\n",
    "rclpy.init()\n",
    "\n",
    "from teleop_msgs.msg import Scene as SceneRos\n",
    "from srcmodules.Users import Users\n",
    "from srcmodules.Scenes import Scene\n",
    "from srcmodules.Actions import Actions\n",
    "from srcmodules.Objects import Object"
   ]
  },
  {
   "cell_type": "code",
   "execution_count": 2,
   "id": "1b366b8c-59f4-41b3-bfeb-5ee665b4d3c8",
   "metadata": {},
   "outputs": [],
   "source": [
    "load_model = 'M3v10_D5.pkl'\n",
    "scene_def_id = 10\n",
    "g2i_tester = G2IRosNode(load_model=load_model)"
   ]
  },
  {
   "cell_type": "markdown",
   "id": "f38e531a-0e4f-48a7-abd6-11842f93d994",
   "metadata": {},
   "source": [
    "Loaded NN model has defined configuration: Set of gestures and actions, Otypes\n",
    "- Update these values for"
   ]
  },
  {
   "cell_type": "code",
   "execution_count": 3,
   "id": "33d4ff33-13c2-43d9-b0e2-df60beca3914",
   "metadata": {},
   "outputs": [
    {
     "name": "stdout",
     "output_type": "stream",
     "text": [
      "Actions:  ['move_up', 'move_left', 'move_down', 'move_right', 'put', 'put_on', 'pour', 'pick_up', 'place', 'open', 'close']\n",
      "Gestures:  ['swipe_up', 'swipe_left', 'swipe_down', 'swipe_right', 'five', 'grab', 'thumbsup', 'rotate', 'point']\n",
      "Object types:  ['cup', 'drawer', 'object']\n"
     ]
    }
   ],
   "source": [
    "Object.all_types = g2i_tester.Otypes\n",
    "print(\"Actions: \", g2i_tester.A)\n",
    "print(\"Gestures: \", g2i_tester.G)\n",
    "print(\"Object types: \", Object.all_types)"
   ]
  },
  {
   "cell_type": "code",
   "execution_count": 4,
   "id": "a65b6a3d-98f3-40c6-88cd-377b665f5299",
   "metadata": {},
   "outputs": [
    {
     "name": "stdout",
     "output_type": "stream",
     "text": [
      "Scene info. shape: [4, 4, 4]\n",
      "cup,\tcup,\t[0 0 0], empty,\t|| [cup] >>\n",
      "drawer,\tdrawer,\t[0 1 0], closed, cont: [],\t|| [drawer] >>\n",
      "object,\tobject,\t[0 2 0],\t|| [object] >>\n",
      "cup1,\tcup,\t[0 3 0], empty,\t|| [cup1] >>\n",
      "drawer1,\tdrawer,\t[1 0 0], closed, cont: [],\t|| [drawer1] >>\n",
      "object1,\tobject,\t[1 1 0],\t|| [object1] >>\n",
      "Robot: [0 0 3], opened, rotation: 0, attached: -\n",
      "User: Alice, id: 0\n",
      "v3\n",
      "[0.         0.         0.         0.         0.         1.\n",
      " 0.         0.         0.         0.         0.92311635 0.98019867\n",
      " 0.92311635 0.60653066 0.98019867 1.         0.         0.\n",
      " 0.         1.         0.         0.         1.         0.\n",
      " 1.         0.         0.         0.         1.         0.\n",
      " 0.         0.         1.         1.         0.         0.\n",
      " 0.         1.         0.         0.         0.         1.\n",
      " 0.         0.         0.         0.         0.         0.\n",
      " 0.         0.         0.         0.         0.         0.\n",
      " 0.         0.         0.         0.         0.         0.\n",
      " 0.         0.         0.         0.         0.         0.\n",
      " 0.         0.         0.         0.        ]\n",
      "[G2I Result] action_id:  pick_up\n",
      "Action probs: [7.76479659e-06 4.44508164e-02 1.81552134e-04 2.55764735e-03\n",
      " 8.81156565e-04 9.81428299e-03 1.20650431e-02 8.93032937e-01\n",
      " 2.13545754e-04 7.36715030e-02 6.73780043e-03]\n",
      "possible_actions_for_target_object [('move_down', 'object1'), ('move_right', 'object1'), ('pick_up', 'object1')]\n"
     ]
    },
    {
     "data": {
      "text/plain": [
       "('pick_up', 'object1')"
      ]
     },
     "execution_count": 4,
     "metadata": {},
     "output_type": "execute_result"
    }
   ],
   "source": [
    "s = Scene(init='cup,drawer,object,cup,drawer,object', random=False)\n",
    "print(s)\n",
    "g2i_tester.predict_with_scene_gesture_and_target_object(s, gesture='grab', target_object='object1', scene_def_id=scene_def_id)"
   ]
  },
  {
   "cell_type": "code",
   "execution_count": null,
   "id": "5ba353e2-214a-4abc-8383-1286f2e8576c",
   "metadata": {},
   "outputs": [],
   "source": []
  },
  {
   "cell_type": "markdown",
   "id": "290510a1-f56b-4c9c-894e-b1052c412dc4",
   "metadata": {
    "tags": []
   },
   "source": [
    "### Test 1: I want to pickup an object\n",
    "\n",
    "- 3 objects on the scene, the second one 'object1' is in focus\n",
    "\n",
    "Notes:\n",
    "\n",
    "- `grab` is `pick up` if possible"
   ]
  },
  {
   "cell_type": "code",
   "execution_count": 5,
   "id": "3b780e13-9aa1-46bd-8148-e147b7fc38ef",
   "metadata": {},
   "outputs": [
    {
     "name": "stdout",
     "output_type": "stream",
     "text": [
      "v3\n",
      "[0.         0.         0.         0.         0.         1.\n",
      " 0.         0.         0.         0.         0.92311635 0.98019867\n",
      " 0.92311635 0.60653066 0.98019867 1.         0.         0.\n",
      " 0.         1.         0.         0.         1.         0.\n",
      " 1.         0.         0.         0.         1.         0.\n",
      " 0.         0.         1.         1.         0.         0.\n",
      " 0.         1.         0.         0.         0.         1.\n",
      " 0.         0.         0.         0.         0.         0.\n",
      " 0.         0.         0.         0.         0.         0.\n",
      " 0.         0.         0.         0.         0.         0.\n",
      " 0.         0.         0.         0.         0.         0.\n",
      " 0.         0.         0.         0.        ]\n",
      "[G2I Result] action_id:  pick_up\n",
      "Action probs: [2.99397861e-05 3.71975743e-02 1.59640606e-04 5.95215143e-04\n",
      " 2.38602302e-03 2.00920787e-02 3.66382578e-02 9.27683955e-01\n",
      " 2.51078172e-04 7.06031246e-02 7.24158711e-03]\n",
      "possible_actions_for_target_object [('move_down', 'object1'), ('move_right', 'object1'), ('pick_up', 'object1')]\n"
     ]
    },
    {
     "data": {
      "text/plain": [
       "('pick_up', 'object1')"
      ]
     },
     "execution_count": 5,
     "metadata": {},
     "output_type": "execute_result"
    }
   ],
   "source": [
    "s = Scene(init='cup,drawer,object,cup,drawer,object', random=False)\n",
    "\n",
    "g2i_tester.predict_with_scene_gesture_and_target_object(s, gesture='grab', target_object='object1', scene_def_id=scene_def_id\n",
    "                                                    )"
   ]
  },
  {
   "cell_type": "markdown",
   "id": "add1b6b2-faeb-4355-95b2-59dd043c119f",
   "metadata": {},
   "source": [
    "### Test 2: I want to open the drawer\n",
    "\n",
    "- Object and drawer in the scene; 'drawer' is in focus\n",
    "\n",
    "Notes:\n",
    "\n",
    "- `grab` gesture means `open` if possible to do "
   ]
  },
  {
   "cell_type": "code",
   "execution_count": 15,
   "id": "a414a135-f6e8-42ac-90de-a9ee3c4f729c",
   "metadata": {},
   "outputs": [
    {
     "name": "stdout",
     "output_type": "stream",
     "text": [
      "v3\n",
      "[0.         0.         0.         0.         0.         1.\n",
      " 0.         0.         0.         0.         1.         0.98019867\n",
      " 0.72614904 0.1978987  0.98019867 0.92311635 0.         0.\n",
      " 0.         1.         0.         0.         1.         0.\n",
      " 0.         1.         0.         0.         1.         0.\n",
      " 0.         0.         1.         1.         0.         0.\n",
      " 0.         1.         0.         0.         0.         1.\n",
      " 0.         0.         0.         0.         0.         0.\n",
      " 0.         0.         0.         0.         0.         0.\n",
      " 0.         0.         0.         0.         0.         0.\n",
      " 0.         0.         0.         0.         0.         0.\n",
      " 0.         0.         0.         0.        ]\n",
      "[G2I Result] action_id:  pick_up\n",
      "Action probs: [1.36982334e-05 4.32941176e-02 1.53382371e-03 3.22919489e-04\n",
      " 1.80755939e-03 2.33168204e-02 2.66212258e-02 8.91995871e-01\n",
      " 5.28772158e-04 9.32582364e-02 8.35431812e-03]\n",
      "possible_actions_for_target_object [('move_down', 'drawer'), ('move_right', 'drawer'), ('open', 'drawer')]\n",
      "Action is not feasible to do! Try to return second most probable action!\n"
     ]
    },
    {
     "data": {
      "text/plain": [
       "('open', 'drawer')"
      ]
     },
     "execution_count": 15,
     "metadata": {},
     "output_type": "execute_result"
    }
   ],
   "source": [
    "s = Scene(init='drawer,drawer,object,cup,drawer,object', random=False)\n",
    "s.drawer.close()\n",
    "g2i_tester.predict_with_scene_gesture_and_target_object(s, gesture='grab', target_object='drawer', scene_def_id=scene_def_id)"
   ]
  },
  {
   "cell_type": "code",
   "execution_count": 8,
   "id": "e52119ab-7b0d-430c-a01c-6b3bb1800536",
   "metadata": {},
   "outputs": [
    {
     "name": "stdout",
     "output_type": "stream",
     "text": [
      "Scene info. shape: [4, 4, 4]\n",
      "cup,\tcup,\t[0 0 0], empty,\t|| [cup] >>\n",
      "drawer,\tdrawer,\t[0 1 0], closed, cont: [],\t|| [drawer] >>\n",
      "object,\tobject,\t[0 2 0],\t|| [object] >>\n",
      "cup1,\tcup,\t[0 3 0], empty,\t|| [cup1] >>\n",
      "drawer1,\tdrawer,\t[1 0 0], closed, cont: [],\t|| [drawer1] >>\n",
      "object1,\tobject,\t[1 1 0],\t|| [object1] >>\n",
      "Robot: [0 0 3], opened, rotation: 0, attached: -\n",
      "User: Alice, id: 0\n",
      ": name_obj222: [ 0.2   -0.1    0.025]\n",
      ":::::DEBUG::::::\n",
      "[ 0.2   -0.3    0.025], [ 0.2   -0.1    0.025], [ 0.2   -0.1    0.025] drawer\n",
      "Scene info. shape: [4, 4, 4]\n",
      "cup,\tcup,\t[0 0 0], empty,\t|| [cup] >>\n",
      "drawer,\tdrawer,\t[0 1 0], closed, cont: [],\t|| [drawer] >>\n",
      "object,\tobject,\t[0 2 0],\t|| [object] >>\n",
      "cup1,\tcup,\t[0 3 0], empty,\t|| [cup1] >>\n",
      "drawer1,\tdrawer,\t[1 0 0], closed, cont: [],\t|| [drawer1] >>\n",
      "object1,\tobject,\t[1 1 0],\t|| [object1] >>\n",
      "Robot: [0 0 3], opened, rotation: 0, attached: -\n",
      "User: Alice, id: 0\n",
      "User added in feature vector! User ID: 0, User Name: Alice\n",
      "action_id:  pick_up\n",
      "possible_actions_for_target_object [('move_down', 'drawer'), ('move_right', 'drawer'), ('open', 'drawer')]\n",
      "Action is not feasible to do!\n"
     ]
    },
    {
     "data": {
      "text/plain": [
       "('', '')"
      ]
     },
     "execution_count": 8,
     "metadata": {},
     "output_type": "execute_result"
    }
   ],
   "source": [
    "s = Scene(init='cup,drawer,object,cup,drawer,object', random=False); print(s)\n",
    "s.drawer.close()\n",
    "g2i_tester.predict_with_scene_gesture_and_target_object(s, gesture='grab', target_object='drawer', scene_def_id=scene_def_id)"
   ]
  },
  {
   "cell_type": "markdown",
   "id": "84a6bb12-36d1-481f-9e76-b89615438dfa",
   "metadata": {},
   "source": [
    "### Test 3: I want to place the object\n",
    "\n",
    "- Object in the gripper\n",
    "\n",
    "- `thumbs_up` gesture means `place` if possible to do"
   ]
  },
  {
   "cell_type": "code",
   "execution_count": 9,
   "id": "21b49a76-e277-4691-a423-dcfb77e4e294",
   "metadata": {},
   "outputs": [
    {
     "name": "stdout",
     "output_type": "stream",
     "text": [
      "Scene info. shape: [4, 4, 4]\n",
      "cup,\tcup,\t[0 0 0], empty,\t|| [cup] >>\n",
      "drawer,\tdrawer,\t[0 1 0], closed, cont: [],\t|| [drawer] >>\n",
      "object,\tobject,\t[0 2 0],\t|| [object] >>\n",
      "cup1,\tcup,\t[0 3 0], empty,\t|| [cup1] >>\n",
      "drawer1,\tdrawer,\t[1 0 0], closed, cont: [],\t|| [drawer1] >>\n",
      "object1,\tobject,\t[1 1 0],\t|| [object1] >>\n",
      "Robot: [0 0 3], opened, rotation: 0, attached: object\n",
      "User added in feature vector! User ID: 0, User Name: Jan\n",
      "action_id:  place\n",
      "possible_actions_for_target_object [('move_down', 'object'), ('move_right', 'object'), ('place', 'object')]\n"
     ]
    },
    {
     "data": {
      "text/plain": [
       "('place', 'object')"
      ]
     },
     "execution_count": 9,
     "metadata": {},
     "output_type": "execute_result"
    }
   ],
   "source": [
    "s = Scene(init='cup,drawer,object,cup,drawer,object', random=False)\n",
    "Actions.do(s,('pick_up','object'), ignore_location=True); print(s)\n",
    "g2i_tester.predict_with_scene_gesture_and_target_object(s, gesture='thumbsup', target_object='object')"
   ]
  },
  {
   "cell_type": "code",
   "execution_count": null,
   "id": "134faa62-1246-41fc-8da8-f433231beb96",
   "metadata": {},
   "outputs": [],
   "source": []
  },
  {
   "cell_type": "code",
   "execution_count": null,
   "id": "9c8fe052-6f86-40bd-8715-7c9404e7061b",
   "metadata": {},
   "outputs": [],
   "source": []
  },
  {
   "cell_type": "code",
   "execution_count": null,
   "id": "cc0b12ad-d630-4e91-9652-9d44b260e85e",
   "metadata": {},
   "outputs": [],
   "source": []
  },
  {
   "cell_type": "code",
   "execution_count": null,
   "id": "88af1248-0ee7-4da9-8ddd-7d888705a888",
   "metadata": {},
   "outputs": [],
   "source": []
  },
  {
   "cell_type": "code",
   "execution_count": null,
   "id": "d22923a1-4e3e-43d4-8a10-2197247eaa4d",
   "metadata": {},
   "outputs": [],
   "source": []
  },
  {
   "cell_type": "code",
   "execution_count": null,
   "id": "ab2f1ae8-e753-4998-949f-2d18d261364b",
   "metadata": {},
   "outputs": [],
   "source": []
  },
  {
   "cell_type": "code",
   "execution_count": null,
   "id": "f91a3517-cad2-44e1-ada6-dd60d891b763",
   "metadata": {},
   "outputs": [],
   "source": []
  },
  {
   "cell_type": "code",
   "execution_count": null,
   "id": "21d33d9f-1466-4e39-8ce5-dce0f44b77a9",
   "metadata": {},
   "outputs": [],
   "source": []
  },
  {
   "cell_type": "code",
   "execution_count": null,
   "id": "10afc588-98b2-4367-9e97-727ab6eb4048",
   "metadata": {},
   "outputs": [],
   "source": []
  },
  {
   "cell_type": "code",
   "execution_count": null,
   "id": "a2165334-211c-4f92-bd9e-d58bc0e7a07c",
   "metadata": {},
   "outputs": [],
   "source": []
  },
  {
   "cell_type": "code",
   "execution_count": null,
   "id": "808b6945-310d-4493-adaa-cef94f38f7d4",
   "metadata": {},
   "outputs": [],
   "source": []
  },
  {
   "cell_type": "code",
   "execution_count": 10,
   "id": "d0125cf7-e8b6-4c57-99db-3a97e5557770",
   "metadata": {},
   "outputs": [],
   "source": [
    "import numpy as np"
   ]
  },
  {
   "cell_type": "code",
   "execution_count": 14,
   "id": "3d03cc2b-f93b-44f3-912c-7bff3bb7a84f",
   "metadata": {},
   "outputs": [],
   "source": [
    "T = np.zeros((2,3,9,11))\n",
    "\n",
    "T[0,0]=np.array([[ 1,  .0, .0,  .0,  0, .0,   .0,  .0,  .0], # move_up\n",
    "                   [.0,   1, .0,  .0, .0, .0,    0,   0,  .0], # move_left\n",
    "                   [.0,  .0,  1,  .0,  0, .0,   .0,   0,  .0], # move_down\n",
    "                   [.0,  .0, .0,   1,  0, .0,   .0,  .0,  .0], # move_right\n",
    "                   [.0,  .0, .0,  .0, .0, .0,   .0,  .0,  .0], # put\n",
    "                   [.0,  .0, .0,  .0, .0, .0,   .0,  .0,  .0], # put_on\n",
    "                   [.0,  .0, .0,  .0, .0, .0,    0,   1,  .0], # pour\n",
    "                   [ 0,  .0, .0,  .0, .0,  1,    0,  .0,  .0], # pick_up\n",
    "                   [.0,  .0, .0,  .0, .0, .0,    1,  .0,  .0], # place\n",
    "                   [.0,  .0, .0,  .0, .0, .0,   .0,  .0,  .0], # open\n",
    "                   [.0,  .0, .0,  .0, .0, .0,   .0,  .0,  .0]]).T# close\n",
    "\n",
    "# OBJECT == drawer -- closed\n",
    "# gestures:                     up,left,dwn,rght,fiv,grab,thum,rota,poin\n",
    "T[0,1]=np.array([[ 0,  .0, .0,  .0,  0, .0,   .0,  .0,  .0], # move_up\n",
    "                   [.0,   0, .0,  .0,  0, .0,    0,   0,  .0], # move_left\n",
    "                   [.0,  .0,  0,  .0,  0, .0,   .0,   0,  .0], # move_down\n",
    "                   [.0,  .0, .0,   0,  0, .0,   .0,  .0,  .0], # move_right\n",
    "                   [.0,  .0,  0,  .0,  0, .0,   .0,  .0,  .0], # put\n",
    "                   [.0,  .0,  1,  .0, .0, .0,   .0,  .0,   0], # put_on\n",
    "                   [.0,  .0, .0,  .0, .0, .0,   .0,  .0,  .0], # pour\n",
    "                   [.0,  .0, .0,  .0, .0, .0,   .0,  .0,  .0], # pick_up\n",
    "                   [.0,  .0, .0,  .0, .0, .0,    0,  .0,   1], # place\n",
    "                   [.0,  .0, .0,  .0, .0,  1,    0,  .0,  .0], # open\n",
    "                   [.0,  .0, .0,  .0, .0, .0,    0,  .0,  .0]]).T# close\n",
    "# OBJECT == object/box --\n",
    "# gestures:                     up,left,dwn,rght,fiv,grab,thum,rota,poin\n",
    "T[0,2]=np.array([[1,  .0, .0,  .0,  0, .0,   .0,  .0,  .0], # move_up\n",
    "                   [.0,   1, .0,  .0, .0, .0,    0,   0,  .0], # move_left\n",
    "                   [.0,  .0,  1,  .0,  0, .0,   .0,   0,  .0], # move_down\n",
    "                   [.0,  .0, .0,   1,  0, .0,   .0,  .0,  .0], # move_right\n",
    "                   [.0,  .0, .0,  .0,  0,  0,   .0,  .0,  .0], # put\n",
    "                   [.0,  .0, .0,  .0,  1,  0,   .0,  .0,  .0], # put_on\n",
    "                   [.0,  .0, .0,  .0, .0, .0,    0,   0,  .0], # pour\n",
    "                   [ 0,  .0, .0,  .0, .0,  1,    0,  .0,  .0], # pick_up\n",
    "                   [.0,  .0, .0,  .0, .0, .0,    1,  .0,  .0], # place\n",
    "                   [.0,  .0, .0,  .0, .0, .0,   .0,  .0,  .0], # open\n",
    "                   [.0,  .0, .0,  .0, .0, .0,   .0,  .0,  .0]]).T# close\n",
    "\n",
    "# OBJECT == CUP -- full\n",
    "T[1,0]=np.array([[ 1,  .0, .0,  .0,  0, .0,   .0,  .0,  .0], # move_up\n",
    "                   [.0,   1, .0,  .0, .0, .0,    0,   0,  .0], # move_left\n",
    "                   [.0,  .0,  1,  .0,  0, .0,   .0,   0,  .0], # move_down\n",
    "                   [.0,  .0, .0,   1,  0, .0,   .0,  .0,  .0], # move_right\n",
    "                   [.0,  .0, .0,  .0, .0, .0,   .0,  .0,  .0], # put\n",
    "                   [.0,  .0, .0,  .0, .0, .0,   .0,  .0,  .0], # put_on\n",
    "                   [.0,  .0, .0,  .0, .0, .0,    0,   1,  .0], # pour\n",
    "                   [ 0,  .0, .0,  .0, .0,  1,    0,  .0,  .0], # pick_up\n",
    "                   [.0,  .0, .0,  .0, .0, .0,    1,  .0,  .0], # place\n",
    "                   [.0,  .0, .0,  .0, .0, .0,   .0,  .0,  .0], # open\n",
    "                   [.0,  .0, .0,  .0, .0, .0,   .0,  .0,  .0]]).T# close\n",
    "\n",
    "# OBJECT == drawer -- opened\n",
    "# gestures:                     up,left,dwn,rght,fiv,grab,thum,rota,poin\n",
    "T[1,1]=np.array([[ 0,  .0, .0,  .0,  0, .0,   .0,  .0,  .0], # move_up\n",
    "                   [.0,   0, .0,  .0,  0, .0,    0,   0,  .0], # move_left\n",
    "                   [.0,  .0,  0,  .0,  0, .0,   .0,   0,  .0], # move_down\n",
    "                   [.0,  .0, .0,   0,  0, .0,   .0,  .0,  .0], # move_right\n",
    "                   [.0,  .0,  0,  .0,  0, .0,   .0,  .0,  .0], # put\n",
    "                   [.0,  .0,  1,  .0, .0, .0,   .0,  .0,   0], # put_on\n",
    "                   [.0,  .0, .0,  .0, .0, .0,   .0,  .0,  .0], # pour\n",
    "                   [.0,  .0, .0,  .0, .0, .0,   .0,  .0,  .0], # pick_up\n",
    "                   [.0,  .0, .0,  .0, .0, .0,    0,  .0,   1], # place\n",
    "                   [.0,  .0, .0,  .0, .0,  1,    0,  .0,  .0], # open\n",
    "                   [.0,  .0, .0,  .0, .0, .0,    0,  .0,  .0]]).T# close\n",
    "# OBJECT == object/box --\n",
    "# gestures:                     up,left,dwn,rght,fiv,grab,thum,rota,poin\n",
    "T[1,2]=np.array([[1,  .0, .0,  .0,  0, .0,   .0,  .0,  .0], # move_up\n",
    "                   [.0,   1, .0,  .0, .0, .0,    0,   0,  .0], # move_left\n",
    "                   [.0,  .0,  1,  .0,  0, .0,   .0,   0,  .0], # move_down\n",
    "                   [.0,  .0, .0,   1,  0, .0,   .0,  .0,  .0], # move_right\n",
    "                   [.0,  .0, .0,  .0,  0,  0,   .0,  .0,  .0], # put\n",
    "                   [.0,  .0, .0,  .0,  1,  0,   .0,  .0,  .0], # put_on\n",
    "                   [.0,  .0, .0,  .0, .0, .0,    0,   0,  .0], # pour\n",
    "                   [ 0,  .0, .0,  .0, .0,  1,    0,  .0,  .0], # pick_up\n",
    "                   [.0,  .0, .0,  .0, .0, .0,    1,  .0,  .0], # place\n",
    "                   [.0,  .0, .0,  .0, .0, .0,   .0,  .0,  .0], # open\n",
    "                   [.0,  .0, .0,  .0, .0, .0,   .0,  .0,  .0]]).T# close\n"
   ]
  },
  {
   "cell_type": "code",
   "execution_count": 15,
   "id": "0a942b51-7c5f-4427-9f15-9b58af706b97",
   "metadata": {},
   "outputs": [
    {
     "data": {
      "text/plain": [
       "array([[[[1., 0., 0., 0., 0., 0., 0., 0., 0., 0., 0.],\n",
       "         [0., 1., 0., 0., 0., 0., 0., 0., 0., 0., 0.],\n",
       "         [0., 0., 1., 0., 0., 0., 0., 0., 0., 0., 0.],\n",
       "         [0., 0., 0., 1., 0., 0., 0., 0., 0., 0., 0.],\n",
       "         [0., 0., 0., 0., 0., 0., 0., 0., 0., 0., 0.],\n",
       "         [0., 0., 0., 0., 0., 0., 0., 1., 0., 0., 0.],\n",
       "         [0., 0., 0., 0., 0., 0., 0., 0., 1., 0., 0.],\n",
       "         [0., 0., 0., 0., 0., 0., 1., 0., 0., 0., 0.],\n",
       "         [0., 0., 0., 0., 0., 0., 0., 0., 0., 0., 0.]],\n",
       "\n",
       "        [[0., 0., 0., 0., 0., 0., 0., 0., 0., 0., 0.],\n",
       "         [0., 0., 0., 0., 0., 0., 0., 0., 0., 0., 0.],\n",
       "         [0., 0., 0., 0., 0., 1., 0., 0., 0., 0., 0.],\n",
       "         [0., 0., 0., 0., 0., 0., 0., 0., 0., 0., 0.],\n",
       "         [0., 0., 0., 0., 0., 0., 0., 0., 0., 0., 0.],\n",
       "         [0., 0., 0., 0., 0., 0., 0., 0., 0., 1., 0.],\n",
       "         [0., 0., 0., 0., 0., 0., 0., 0., 0., 0., 0.],\n",
       "         [0., 0., 0., 0., 0., 0., 0., 0., 0., 0., 0.],\n",
       "         [0., 0., 0., 0., 0., 0., 0., 0., 1., 0., 0.]],\n",
       "\n",
       "        [[1., 0., 0., 0., 0., 0., 0., 0., 0., 0., 0.],\n",
       "         [0., 1., 0., 0., 0., 0., 0., 0., 0., 0., 0.],\n",
       "         [0., 0., 1., 0., 0., 0., 0., 0., 0., 0., 0.],\n",
       "         [0., 0., 0., 1., 0., 0., 0., 0., 0., 0., 0.],\n",
       "         [0., 0., 0., 0., 0., 1., 0., 0., 0., 0., 0.],\n",
       "         [0., 0., 0., 0., 0., 0., 0., 1., 0., 0., 0.],\n",
       "         [0., 0., 0., 0., 0., 0., 0., 0., 1., 0., 0.],\n",
       "         [0., 0., 0., 0., 0., 0., 0., 0., 0., 0., 0.],\n",
       "         [0., 0., 0., 0., 0., 0., 0., 0., 0., 0., 0.]]],\n",
       "\n",
       "\n",
       "       [[[1., 0., 0., 0., 0., 0., 0., 0., 0., 0., 0.],\n",
       "         [0., 1., 0., 0., 0., 0., 0., 0., 0., 0., 0.],\n",
       "         [0., 0., 1., 0., 0., 0., 0., 0., 0., 0., 0.],\n",
       "         [0., 0., 0., 1., 0., 0., 0., 0., 0., 0., 0.],\n",
       "         [0., 0., 0., 0., 0., 0., 0., 0., 0., 0., 0.],\n",
       "         [0., 0., 0., 0., 0., 0., 0., 1., 0., 0., 0.],\n",
       "         [0., 0., 0., 0., 0., 0., 0., 0., 1., 0., 0.],\n",
       "         [0., 0., 0., 0., 0., 0., 1., 0., 0., 0., 0.],\n",
       "         [0., 0., 0., 0., 0., 0., 0., 0., 0., 0., 0.]],\n",
       "\n",
       "        [[0., 0., 0., 0., 0., 0., 0., 0., 0., 0., 0.],\n",
       "         [0., 0., 0., 0., 0., 0., 0., 0., 0., 0., 0.],\n",
       "         [0., 0., 0., 0., 0., 1., 0., 0., 0., 0., 0.],\n",
       "         [0., 0., 0., 0., 0., 0., 0., 0., 0., 0., 0.],\n",
       "         [0., 0., 0., 0., 0., 0., 0., 0., 0., 0., 0.],\n",
       "         [0., 0., 0., 0., 0., 0., 0., 0., 0., 1., 0.],\n",
       "         [0., 0., 0., 0., 0., 0., 0., 0., 0., 0., 0.],\n",
       "         [0., 0., 0., 0., 0., 0., 0., 0., 0., 0., 0.],\n",
       "         [0., 0., 0., 0., 0., 0., 0., 0., 1., 0., 0.]],\n",
       "\n",
       "        [[1., 0., 0., 0., 0., 0., 0., 0., 0., 0., 0.],\n",
       "         [0., 1., 0., 0., 0., 0., 0., 0., 0., 0., 0.],\n",
       "         [0., 0., 1., 0., 0., 0., 0., 0., 0., 0., 0.],\n",
       "         [0., 0., 0., 1., 0., 0., 0., 0., 0., 0., 0.],\n",
       "         [0., 0., 0., 0., 0., 1., 0., 0., 0., 0., 0.],\n",
       "         [0., 0., 0., 0., 0., 0., 0., 1., 0., 0., 0.],\n",
       "         [0., 0., 0., 0., 0., 0., 0., 0., 1., 0., 0.],\n",
       "         [0., 0., 0., 0., 0., 0., 0., 0., 0., 0., 0.],\n",
       "         [0., 0., 0., 0., 0., 0., 0., 0., 0., 0., 0.]]]])"
      ]
     },
     "execution_count": 15,
     "metadata": {},
     "output_type": "execute_result"
    }
   ],
   "source": [
    "T"
   ]
  },
  {
   "cell_type": "code",
   "execution_count": null,
   "id": "e5d33fa5-5ed7-4098-9979-254ef2c6eb7e",
   "metadata": {},
   "outputs": [],
   "source": []
  },
  {
   "cell_type": "code",
   "execution_count": null,
   "id": "40982631-4d78-4cf1-8433-58f37eff6050",
   "metadata": {},
   "outputs": [],
   "source": []
  },
  {
   "cell_type": "code",
   "execution_count": null,
   "id": "4d1ebc9e-1eba-4b99-bb73-c254fb325696",
   "metadata": {},
   "outputs": [],
   "source": []
  },
  {
   "cell_type": "code",
   "execution_count": 33,
   "id": "49d61f33-70dd-4c6b-ba64-0c6b45d9d602",
   "metadata": {},
   "outputs": [],
   "source": [
    "from srcmodules.nnwrapper import NNWrapper\n",
    "load_model = 'M3v8_D4_1.pkl'\n",
    "network_path = \"/home/petr/crow-base/src/context_based_gesture_operation/context_based_gesture_operation/trained_networks/\"\n",
    "nn = NNWrapper.load_network(network_path, name=load_model)"
   ]
  },
  {
   "cell_type": "code",
   "execution_count": 35,
   "id": "99604c10-56f3-4035-bc12-350a019d703d",
   "metadata": {},
   "outputs": [
    {
     "data": {
      "text/plain": [
       "{'A': ['move_up',\n",
       "  'move_left',\n",
       "  'move_down',\n",
       "  'move_right',\n",
       "  'put',\n",
       "  'put_on',\n",
       "  'pour',\n",
       "  'pick_up',\n",
       "  'place',\n",
       "  'open',\n",
       "  'close'],\n",
       " 'G': ['swipe_up',\n",
       "  'swipe_left',\n",
       "  'swipe_down',\n",
       "  'swipe_right',\n",
       "  'five',\n",
       "  'grab',\n",
       "  'thumbsup',\n",
       "  'rotate',\n",
       "  'point'],\n",
       " 'lenG': 9,\n",
       " 'lenA': 11,\n",
       " 'Otypes': ['cup', 'drawer', 'object'],\n",
       " 'lenOtypes': 3,\n",
       " 'dataset_name': 'D4_1',\n",
       " 'scene_def_id': 8,\n",
       " 'user_dep': True}"
      ]
     },
     "execution_count": 35,
     "metadata": {},
     "output_type": "execute_result"
    }
   ],
   "source": [
    "nn.args"
   ]
  },
  {
   "cell_type": "markdown",
   "id": "f4ac8a69-b33a-47c9-8b91-7bfd915dbc41",
   "metadata": {},
   "source": [
    "scene def id 8: `[g(9), user(1), eeff(nobj), <n items, full, on top>(nobj)]`\n"
   ]
  },
  {
   "cell_type": "code",
   "execution_count": null,
   "id": "400ed689-e0b9-40ba-acae-bcf857a1b20d",
   "metadata": {},
   "outputs": [],
   "source": []
  },
  {
   "cell_type": "code",
   "execution_count": null,
   "id": "f3fb5208-767b-41ad-a220-77af5272acd3",
   "metadata": {},
   "outputs": [],
   "source": []
  }
 ],
 "metadata": {
  "kernelspec": {
   "display_name": "Python 3 (ipykernel)",
   "language": "python",
   "name": "python3"
  },
  "language_info": {
   "codemirror_mode": {
    "name": "ipython",
    "version": 3
   },
   "file_extension": ".py",
   "mimetype": "text/x-python",
   "name": "python",
   "nbconvert_exporter": "python",
   "pygments_lexer": "ipython3",
   "version": "3.8.10"
  }
 },
 "nbformat": 4,
 "nbformat_minor": 5
}
