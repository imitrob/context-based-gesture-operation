{
 "cells": [
  {
   "cell_type": "code",
   "execution_count": null,
   "id": "fda0cdb2",
   "metadata": {},
   "outputs": [],
   "source": [
    "import functools\n",
    "import py_trees\n",
    "import py_trees_ros\n",
    "import py_trees.console as console\n",
    "import rospy\n",
    "import sys, os\n",
    "import numpy as np\n",
    "sys.path.append(\"..\")\n",
    "import std_msgs.msg as std_msgs\n",
    "\n",
    "from copy import deepcopy\n",
    "from context_based_gesture_operation.msg import Scene as SceneRos\n",
    "\n",
    "from srcmodules.Scenes import Scene, SceneCoppeliaInterface\n",
    "from srcmodules.Actions import Actions\n",
    "from srcmodules.RobotActions import RobotActions,act\n",
    "\n",
    "from py_trees_ros import subscribers\n",
    "def shutdown(behaviour_tree):\n",
    "    behaviour_tree.interrupt()"
   ]
  },
  {
   "cell_type": "markdown",
   "id": "64ac298e",
   "metadata": {},
   "source": [
    "# Behavior tree tests\n",
    "\n",
    "- Scene instance can be converted to ROS message object type (`s.to_ros(SceneRos())`)\n",
    "- Behavior tree in this test is simple: I publish the scene. The class `UpdateScene` writes the scene data to the blackboard.\n"
   ]
  },
  {
   "cell_type": "code",
   "execution_count": 3,
   "id": "c91f69d6",
   "metadata": {},
   "outputs": [],
   "source": [
    "class PrinterSceneMessages(py_trees.behaviour.Behaviour):\n",
    "    def __init__(self, name, topic_name=\"/printer/message\", var1=\"red\"):\n",
    "        super(PrinterSceneMessages, self).__init__(name=name)\n",
    "        self.topic_name = topic_name\n",
    "        self.var1 = var1\n",
    "\n",
    "    def setup(self, timeout):\n",
    "        self.publisher = rospy.Publisher(self.topic_name, std_msgs.String, queue_size=10, latch=True)\n",
    "        self.feedback_message = \"setup\"\n",
    "        return True\n",
    "\n",
    "    def update(self):\n",
    "        self.logger.debug(\"%s.update()\" % self.__class__.__name__)\n",
    "        blackboard = py_trees.blackboard.Blackboard()\n",
    "        self.publisher.publish(std_msgs.String(blackboard.scene.robot_attached_str))\n",
    "        self.feedback_message = \"flashing {0}\".format(self.var1)\n",
    "        return py_trees.common.Status.RUNNING\n",
    "\n",
    "    def terminate(self, new_status):\n",
    "        self.publisher.publish(std_msgs.String(\"\"))\n",
    "        self.feedback_message = \"cleared\""
   ]
  },
  {
   "cell_type": "code",
   "execution_count": 4,
   "id": "e383712f",
   "metadata": {},
   "outputs": [],
   "source": [
    "class UpdateScene(subscribers.ToBlackboard):\n",
    "    def __init__(self, name, threshold=30.0):\n",
    "        super(UpdateScene, self).__init__(name=name, topic_name=\"/scene\", topic_type=SceneRos,\n",
    "        blackboard_variables={\"scene\": None}, clearing_policy=py_trees.common.ClearingPolicy.NEVER)\n",
    "        \n",
    "        self.blackboard = py_trees.blackboard.Blackboard()\n",
    "        self.blackboard.scene = SceneRos()\n",
    "        self.blackboard.some_var_1 = False\n",
    "        \n",
    "        self.threshold = threshold\n",
    "\n",
    "    def update(self):\n",
    "        self.logger.debug(\"%s.update()\" % self.__class__.__name__)\n",
    "        status = super(UpdateScene, self).update()\n",
    "        if status != py_trees.common.Status.RUNNING:\n",
    "            if self.blackboard.scene.robot_attached_str != \"\":\n",
    "                self.blackboard.some_var_1 = True\n",
    "                rospy.logwarn_throttle(60, \"%s: gripper attached!\" % self.name)\n",
    "            else:\n",
    "                self.blackboard.some_var_1 = False\n",
    "                \n",
    "            self.feedback_message = \"idk\"\n",
    "        return status\n",
    "class HaveIntent(subscribers.ToBlackboard):\n",
    "    def __init__(self, name, threshold=30.0):\n",
    "        super(HaveIntent)"
   ]
  },
  {
   "cell_type": "code",
   "execution_count": 5,
   "id": "9c15e7a1",
   "metadata": {},
   "outputs": [],
   "source": [
    "def create_root():\n",
    "    ''' BT\n",
    "    Saves scene to bb, when message comes.\n",
    "    If gripper attached -> prints something\n",
    "    '''\n",
    "    # behaviours\n",
    "    root = py_trees.composites.Parallel(\"Tutorial\")\n",
    "    topics2bb = py_trees.composites.Sequence(\"Topics2BB\")\n",
    "    scene2bb = UpdateScene(name=\"Scene2BB\",\n",
    "                                      topic_name=\"/scene\",\n",
    "                                      threshold=30.0\n",
    "                                      )\n",
    "    priorities = py_trees.composites.Selector(\"Priorities\")\n",
    "    gripper_check = py_trees.meta.success_is_failure(py_trees.composites.Selector)(name=\"Gripper Attached Print\")\n",
    "    is_gripper_attached = py_trees.blackboard.CheckBlackboardVariable(\n",
    "        name=\"Gripper attached?\",\n",
    "        variable_name='scene_eef_attached',\n",
    "        expected_value=\"\"\n",
    "    )\n",
    "    flash_led_strip = PrinterSceneMessages(\n",
    "        name=\"printDumyTexts\",\n",
    "        var1=\"red\")\n",
    "    idle = py_trees.behaviours.Running(name=\"Idle\")\n",
    "\n",
    "    # tree\n",
    "    root.add_children([topics2bb, priorities])\n",
    "    topics2bb.add_child(scene2bb)\n",
    "    priorities.add_children([gripper_check, idle])\n",
    "    gripper_check.add_children([flash_led_strip,is_gripper_attached])\n",
    "    return root"
   ]
  },
  {
   "cell_type": "code",
   "execution_count": 6,
   "id": "6746b1d1",
   "metadata": {},
   "outputs": [
    {
     "name": "stdout",
     "output_type": "stream",
     "text": [
      "Unable to register with master node [http://localhost:11311]: master may not be running yet. Will keep trying.\n"
     ]
    }
   ],
   "source": [
    "rospy.init_node(\"tree\")\n",
    "\n",
    "#lackboard.scene = SceneRos()\n",
    "\n",
    "root = create_root()\n",
    "behaviour_tree = py_trees_ros.trees.BehaviourTree(root)\n",
    "rospy.on_shutdown(functools.partial(shutdown, behaviour_tree))"
   ]
  },
  {
   "cell_type": "code",
   "execution_count": 7,
   "id": "d8dd1eb0",
   "metadata": {},
   "outputs": [],
   "source": [
    "if not behaviour_tree.setup(timeout=15):\n",
    "    console.logerror(\"failed to setup the tree, aborting.\")\n",
    "    sys.exit(1)"
   ]
  },
  {
   "cell_type": "code",
   "execution_count": 8,
   "id": "47c5b97c",
   "metadata": {},
   "outputs": [],
   "source": [
    "behaviour_tree.tick_tock(500)"
   ]
  },
  {
   "cell_type": "code",
   "execution_count": null,
   "id": "33544b51",
   "metadata": {},
   "outputs": [],
   "source": []
  },
  {
   "cell_type": "markdown",
   "id": "8ced35ac",
   "metadata": {},
   "source": [
    "## Try custom tree build"
   ]
  },
  {
   "cell_type": "code",
   "execution_count": 1,
   "id": "c698c19b",
   "metadata": {},
   "outputs": [],
   "source": [
    "import sys; sys.path.append(\"..\")"
   ]
  },
  {
   "cell_type": "code",
   "execution_count": 2,
   "id": "9d27a00b",
   "metadata": {},
   "outputs": [],
   "source": [
    "import rospy\n",
    "from srcmodules import BTreeLib\n",
    "import py_trees_ros, functools"
   ]
  },
  {
   "cell_type": "code",
   "execution_count": 3,
   "id": "f0ee2374",
   "metadata": {},
   "outputs": [],
   "source": [
    "rospy.init_node(\"tree\")\n",
    "\n",
    "root = BTreeLib.create_tree()\n",
    "behaviour_tree = py_trees_ros.trees.BehaviourTree(root)\n",
    "rospy.on_shutdown(functools.partial(BTreeLib.shutdown, behaviour_tree))\n",
    "\n",
    "if not behaviour_tree.setup(timeout=15):\n",
    "    console.logerror(\"failed to setup the tree, aborting.\")\n",
    "    sys.exit(1)"
   ]
  },
  {
   "cell_type": "code",
   "execution_count": null,
   "id": "41ecd07c",
   "metadata": {},
   "outputs": [
    {
     "name": "stdout",
     "output_type": "stream",
     "text": [
      "update scene: Status.SUCCESS\n",
      "update gestures: Status.SUCCESS\n",
      "generate intent: Status.SUCCESS\n",
      "Execute TA Status.SUCCESS! move_up,\n"
     ]
    }
   ],
   "source": [
    "while True:\n",
    "    behaviour_tree.tick()\n",
    "    input(\"=== Tick ===\")"
   ]
  },
  {
   "cell_type": "code",
   "execution_count": null,
   "id": "faf1a512",
   "metadata": {},
   "outputs": [],
   "source": []
  },
  {
   "cell_type": "code",
   "execution_count": null,
   "id": "44e6355a",
   "metadata": {},
   "outputs": [],
   "source": []
  },
  {
   "cell_type": "code",
   "execution_count": 2,
   "id": "aa77c214",
   "metadata": {},
   "outputs": [],
   "source": [
    "sys.path.append(os.path.abspath(\"./../../coppelia_sim_ros_interface/src\"))\n",
    "from coppelia_sim_ros_client import CoppeliaROSInterface"
   ]
  },
  {
   "cell_type": "code",
   "execution_count": 3,
   "id": "008b1740",
   "metadata": {},
   "outputs": [],
   "source": [
    "import rospy\n",
    "rospy.init_node(\"main\", anonymous=True)"
   ]
  },
  {
   "cell_type": "code",
   "execution_count": 4,
   "id": "ca5367fc",
   "metadata": {},
   "outputs": [],
   "source": [
    "cop = CoppeliaROSInterface()\n",
    "from geometry_msgs.msg import Point, Pose, Quaternion"
   ]
  },
  {
   "cell_type": "code",
   "execution_count": 5,
   "id": "bc2d23c7",
   "metadata": {},
   "outputs": [],
   "source": [
    "sci = SceneCoppeliaInterface(cop)"
   ]
  },
  {
   "cell_type": "code",
   "execution_count": 17,
   "id": "537bf47d",
   "metadata": {
    "collapsed": true
   },
   "outputs": [
    {
     "ename": "KeyboardInterrupt",
     "evalue": "",
     "output_type": "error",
     "traceback": [
      "\u001b[0;31m---------------------------------------------------------------------------\u001b[0m",
      "\u001b[0;31mKeyboardInterrupt\u001b[0m                         Traceback (most recent call last)",
      "Input \u001b[0;32mIn [17]\u001b[0m, in \u001b[0;36m<module>\u001b[0;34m\u001b[0m\n\u001b[0;32m----> 1\u001b[0m \u001b[43mRobotActions\u001b[49m\u001b[38;5;241;43m.\u001b[39;49m\u001b[43mreset__not_general\u001b[49m\u001b[43m(\u001b[49m\u001b[43msci\u001b[49m\u001b[43m,\u001b[49m\u001b[43m \u001b[49m\u001b[43mcop\u001b[49m\u001b[43m)\u001b[49m\n",
      "File \u001b[0;32m~/my_ws/src/context_based_gesture_operation/behavior_trees/../srcmodules/RobotActions.py:226\u001b[0m, in \u001b[0;36mRobotActions.reset__not_general\u001b[0;34m(sci, cop)\u001b[0m\n\u001b[1;32m    223\u001b[0m \u001b[38;5;129m@staticmethod\u001b[39m\n\u001b[1;32m    224\u001b[0m \u001b[38;5;28;01mdef\u001b[39;00m \u001b[38;5;21mreset__not_general\u001b[39m(sci, cop):\n\u001b[1;32m    225\u001b[0m     sci\u001b[38;5;241m.\u001b[39mremove_objects_from_scene()\n\u001b[0;32m--> 226\u001b[0m     \u001b[43mcop\u001b[49m\u001b[38;5;241;43m.\u001b[39;49m\u001b[43mopen_gripper\u001b[49m\u001b[43m(\u001b[49m\u001b[43m)\u001b[49m\n\u001b[1;32m    227\u001b[0m     cop\u001b[38;5;241m.\u001b[39mgo_to_pose(Pose(Point(\u001b[38;5;241m0.4\u001b[39m,\u001b[38;5;241m0.\u001b[39m,\u001b[38;5;241m0.4\u001b[39m), Quaternion(\u001b[38;5;241m0\u001b[39m,\u001b[38;5;241m1\u001b[39m,\u001b[38;5;241m0\u001b[39m,\u001b[38;5;241m0\u001b[39m)))\n\u001b[1;32m    228\u001b[0m     cop\u001b[38;5;241m.\u001b[39madd_or_edit_object(name\u001b[38;5;241m=\u001b[39m\u001b[38;5;124m'\u001b[39m\u001b[38;5;124mFocus_target\u001b[39m\u001b[38;5;124m'\u001b[39m, pose\u001b[38;5;241m=\u001b[39m[\u001b[38;5;241m0\u001b[39m,\u001b[38;5;241m0\u001b[39m,\u001b[38;5;241m0.0\u001b[39m])\n",
      "File \u001b[0;32m~/my_ws/src/coppelia_sim_ros_interface/src/coppelia_sim_ros_client.py:129\u001b[0m, in \u001b[0;36mCoppeliaROSInterface.open_gripper\u001b[0;34m()\u001b[0m\n\u001b[1;32m    127\u001b[0m \u001b[38;5;129m@staticmethod\u001b[39m\n\u001b[1;32m    128\u001b[0m \u001b[38;5;28;01mdef\u001b[39;00m \u001b[38;5;21mopen_gripper\u001b[39m():\n\u001b[0;32m--> 129\u001b[0m     \u001b[43mCoppeliaROSInterface\u001b[49m\u001b[38;5;241;43m.\u001b[39;49m\u001b[43mset_gripper\u001b[49m\u001b[43m(\u001b[49m\u001b[43mposition\u001b[49m\u001b[38;5;241;43m=\u001b[39;49m\u001b[38;5;241;43m1.0\u001b[39;49m\u001b[43m)\u001b[49m\n",
      "File \u001b[0;32m~/my_ws/src/coppelia_sim_ros_interface/src/coppelia_sim_ros_client.py:162\u001b[0m, in \u001b[0;36mCoppeliaROSInterface.set_gripper\u001b[0;34m(position, effort, eef_rot, action, object)\u001b[0m\n\u001b[1;32m    151\u001b[0m \u001b[38;5;129m@staticmethod\u001b[39m\n\u001b[1;32m    152\u001b[0m \u001b[38;5;28;01mdef\u001b[39;00m \u001b[38;5;21mset_gripper\u001b[39m(position\u001b[38;5;241m=\u001b[39m\u001b[38;5;241m-\u001b[39m\u001b[38;5;241m1\u001b[39m, effort\u001b[38;5;241m=\u001b[39m\u001b[38;5;241m0.04\u001b[39m, eef_rot\u001b[38;5;241m=\u001b[39m\u001b[38;5;241m-\u001b[39m\u001b[38;5;241m1\u001b[39m, action\u001b[38;5;241m=\u001b[39m\u001b[38;5;124m\"\u001b[39m\u001b[38;5;124m\"\u001b[39m, \u001b[38;5;28mobject\u001b[39m\u001b[38;5;241m=\u001b[39m\u001b[38;5;124m\"\u001b[39m\u001b[38;5;124m\"\u001b[39m):\n\u001b[1;32m    153\u001b[0m     \u001b[38;5;124;03m'''\u001b[39;00m\n\u001b[1;32m    154\u001b[0m \u001b[38;5;124;03m    Parameters:\u001b[39;00m\n\u001b[1;32m    155\u001b[0m \u001b[38;5;124;03m        position (Float): 0. -> gripper closed, 1. -> gripper opened\u001b[39;00m\n\u001b[0;32m   (...)\u001b[0m\n\u001b[1;32m    160\u001b[0m \u001b[38;5;124;03m        success (Bool)\u001b[39;00m\n\u001b[1;32m    161\u001b[0m \u001b[38;5;124;03m    '''\u001b[39;00m\n\u001b[0;32m--> 162\u001b[0m     \u001b[43mrospy\u001b[49m\u001b[38;5;241;43m.\u001b[39;49m\u001b[43mwait_for_service\u001b[49m\u001b[43m(\u001b[49m\u001b[38;5;124;43m'\u001b[39;49m\u001b[38;5;124;43mgripper_control\u001b[39;49m\u001b[38;5;124;43m'\u001b[39;49m\u001b[43m)\u001b[49m\n\u001b[1;32m    163\u001b[0m     \u001b[38;5;28;01mtry\u001b[39;00m:\n\u001b[1;32m    164\u001b[0m         gripper_control \u001b[38;5;241m=\u001b[39m rospy\u001b[38;5;241m.\u001b[39mServiceProxy(\u001b[38;5;124m'\u001b[39m\u001b[38;5;124mgripper_control\u001b[39m\u001b[38;5;124m'\u001b[39m, GripperControl)\n",
      "File \u001b[0;32m~/anaconda3/envs/robostackenv/lib/python3.8/site-packages/rospy/impl/tcpros_service.py:164\u001b[0m, in \u001b[0;36mwait_for_service\u001b[0;34m(service, timeout)\u001b[0m\n\u001b[1;32m    162\u001b[0m         contact_failed \u001b[38;5;241m=\u001b[39m \u001b[38;5;28;01mTrue\u001b[39;00m\n\u001b[1;32m    163\u001b[0m         rospy\u001b[38;5;241m.\u001b[39mcore\u001b[38;5;241m.\u001b[39mlogwarn_throttle(\u001b[38;5;241m10\u001b[39m, \u001b[38;5;124m\"\u001b[39m\u001b[38;5;124mwait_for_service(\u001b[39m\u001b[38;5;132;01m%s\u001b[39;00m\u001b[38;5;124m): failed to contact, will keep trying\u001b[39m\u001b[38;5;124m\"\u001b[39m\u001b[38;5;241m%\u001b[39mresolved_name)\n\u001b[0;32m--> 164\u001b[0m     \u001b[43mtime\u001b[49m\u001b[38;5;241;43m.\u001b[39;49m\u001b[43msleep\u001b[49m\u001b[43m(\u001b[49m\u001b[38;5;241;43m0.3\u001b[39;49m\u001b[43m)\u001b[49m\n\u001b[1;32m    165\u001b[0m \u001b[38;5;28;01mif\u001b[39;00m rospy\u001b[38;5;241m.\u001b[39mcore\u001b[38;5;241m.\u001b[39mis_shutdown():\n\u001b[1;32m    166\u001b[0m     \u001b[38;5;28;01mraise\u001b[39;00m ROSInterruptException(\u001b[38;5;124m\"\u001b[39m\u001b[38;5;124mrospy shutdown\u001b[39m\u001b[38;5;124m\"\u001b[39m)\n",
      "\u001b[0;31mKeyboardInterrupt\u001b[0m: "
     ]
    }
   ],
   "source": [
    "RobotActions.reset__not_general(sci, cop)"
   ]
  },
  {
   "cell_type": "code",
   "execution_count": 8,
   "id": "44c3f809",
   "metadata": {},
   "outputs": [],
   "source": [
    "pub = rospy.Publisher(\"/scene\", SceneRos, queue_size=5)\n",
    "pub.publish(SceneRos())"
   ]
  },
  {
   "cell_type": "code",
   "execution_count": 12,
   "id": "f057c7c9",
   "metadata": {},
   "outputs": [],
   "source": []
  },
  {
   "cell_type": "code",
   "execution_count": null,
   "id": "2ce9ac66",
   "metadata": {},
   "outputs": [],
   "source": []
  }
 ],
 "metadata": {
  "kernelspec": {
   "display_name": "robostackenv",
   "language": "python",
   "name": "myenv"
  },
  "language_info": {
   "codemirror_mode": {
    "name": "ipython",
    "version": 3
   },
   "file_extension": ".py",
   "mimetype": "text/x-python",
   "name": "python",
   "nbconvert_exporter": "python",
   "pygments_lexer": "ipython3",
   "version": "3.8.10"
  }
 },
 "nbformat": 4,
 "nbformat_minor": 5
}
