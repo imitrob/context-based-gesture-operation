{
 "cells": [
  {
   "cell_type": "code",
   "execution_count": 1,
   "id": "bd1ecd56",
   "metadata": {},
   "outputs": [],
   "source": [
    "from srcmodules.Scenes import *\n",
    "from srcmodules.Objects import *\n",
    "from srcmodules.Actions import * "
   ]
  },
  {
   "cell_type": "markdown",
   "id": "5ecf4f2c",
   "metadata": {},
   "source": [
    "# Object features\n",
    "- Each object has functions, how we can interact with the object and change its inner logic variables.\n",
    "- Each object instance has its own feasibility logic structure\n",
    "- Object functions operates one level under `Actions` class. The users are triggering actions and do NOT use object functions\n",
    "\n",
    "## Ex. 1: Put cup1 into drawer"
   ]
  },
  {
   "cell_type": "code",
   "execution_count": 4,
   "id": "64a3eda7",
   "metadata": {},
   "outputs": [],
   "source": [
    "drawer1 = Objects.Drawer(name='drawer1', position=[0,0,0])\n",
    "drawer2 = Objects.Drawer(name='drawer2', position=[2,0,0], opened=False)\n",
    "cup1 = Objects.Cup(name='cup1', position=[2,0,0])"
   ]
  },
  {
   "cell_type": "code",
   "execution_count": 5,
   "id": "27b3eeb0",
   "metadata": {},
   "outputs": [
    {
     "data": {
      "text/plain": [
       "(True, '')"
      ]
     },
     "execution_count": 5,
     "metadata": {},
     "output_type": "execute_result"
    }
   ],
   "source": [
    "drawer2.open()"
   ]
  },
  {
   "cell_type": "code",
   "execution_count": 6,
   "id": "41c2e87f",
   "metadata": {},
   "outputs": [
    {
     "data": {
      "text/plain": [
       "[]"
      ]
     },
     "execution_count": 6,
     "metadata": {},
     "output_type": "execute_result"
    }
   ],
   "source": [
    "drawer2.contains"
   ]
  },
  {
   "cell_type": "code",
   "execution_count": 7,
   "id": "342ee74d",
   "metadata": {},
   "outputs": [
    {
     "data": {
      "text/plain": [
       "(True, '')"
      ]
     },
     "execution_count": 7,
     "metadata": {},
     "output_type": "execute_result"
    }
   ],
   "source": [
    "drawer2.put_in(cup1)"
   ]
  },
  {
   "cell_type": "code",
   "execution_count": 8,
   "id": "72267ee0",
   "metadata": {},
   "outputs": [
    {
     "data": {
      "text/plain": [
       "[<srcmodules.Objects.Cup at 0x7f2b109bc790>]"
      ]
     },
     "execution_count": 8,
     "metadata": {},
     "output_type": "execute_result"
    }
   ],
   "source": [
    "drawer2.contains"
   ]
  },
  {
   "cell_type": "markdown",
   "id": "ec32eb1e",
   "metadata": {},
   "source": [
    "## Ex.2: Features showcase"
   ]
  },
  {
   "cell_type": "code",
   "execution_count": 9,
   "id": "b76248bc",
   "metadata": {},
   "outputs": [
    {
     "name": "stdout",
     "output_type": "stream",
     "text": [
      "Scene info. shape: [4, 4, 4]\n",
      "0. drawer1,\tdrawer,\t[ 0.2 -0.3  0. ], semi-opened, cont: [],\t|| [drawer1] >>\n",
      "1. drawer2,\tdrawer,\t[ 0.6 -0.3  0. ], opened, cont: ['cup1'],\t|| [drawer2] >>\n",
      "2. cup1,\tcup,\t[ 0.6 -0.3  0. ], empty,\t|| [cup1] >>\n",
      "Robot: [0.6 0.3 0.6], closed, rotation: 0, attached: -\n",
      "User id: 1\n"
     ]
    }
   ],
   "source": [
    "scene = Scene(objects=[drawer1, drawer2, cup1])\n",
    "scene.info"
   ]
  },
  {
   "cell_type": "code",
   "execution_count": 10,
   "id": "2721b38e",
   "metadata": {},
   "outputs": [
    {
     "data": {
      "text/plain": [
       "True"
      ]
     },
     "execution_count": 10,
     "metadata": {},
     "output_type": "execute_result"
    }
   ],
   "source": [
    "scene.collision_free()"
   ]
  },
  {
   "cell_type": "code",
   "execution_count": 11,
   "id": "43d9b12a",
   "metadata": {},
   "outputs": [
    {
     "data": {
      "text/plain": [
       "(True, '')"
      ]
     },
     "execution_count": 11,
     "metadata": {},
     "output_type": "execute_result"
    }
   ],
   "source": [
    "scene.drawer2.pick_up(scene.cup1)"
   ]
  },
  {
   "cell_type": "code",
   "execution_count": 12,
   "id": "72a9015d",
   "metadata": {},
   "outputs": [
    {
     "name": "stdout",
     "output_type": "stream",
     "text": [
      "Scene info. shape: [4, 4, 4]\n",
      "0. drawer1,\tdrawer,\t[ 0.2 -0.3  0. ], semi-opened, cont: [],\t|| [drawer1] >>\n",
      "1. drawer2,\tdrawer,\t[ 0.6 -0.3  0. ], opened, cont: [],\t|| [drawer2] >>\n",
      "2. cup1,\tcup,\t[ 0.6 -0.3  0. ], empty,\t|| [cup1] >>\n",
      "Robot: [0.6 0.3 0.6], closed, rotation: 0, attached: -\n",
      "User id: 1\n"
     ]
    }
   ],
   "source": [
    "scene.info"
   ]
  },
  {
   "cell_type": "markdown",
   "id": "54441503",
   "metadata": {},
   "source": [
    "Fake object move, normally **Move Actions** are used to move the object."
   ]
  },
  {
   "cell_type": "code",
   "execution_count": 13,
   "id": "8f37c641",
   "metadata": {},
   "outputs": [],
   "source": [
    "scene.cup1.position = scene.drawer1.position"
   ]
  },
  {
   "cell_type": "code",
   "execution_count": 14,
   "id": "89f8e36b",
   "metadata": {},
   "outputs": [
    {
     "data": {
      "text/plain": [
       "Scene info. shape: [4, 4, 4]\n",
       "0. drawer1,\tdrawer,\t[ 0.2 -0.3  0. ], semi-opened, cont: [],\t|| [drawer1] >>\n",
       "1. drawer2,\tdrawer,\t[ 0.6 -0.3  0. ], opened, cont: [],\t|| [drawer2] >>\n",
       "2. cup1,\tcup,\t[ 0.2 -0.3  0. ], empty,\t|| [cup1] >>\n",
       "Robot: [0.6 0.3 0.6], closed, rotation: 0, attached: -\n",
       "User id: 1"
      ]
     },
     "execution_count": 14,
     "metadata": {},
     "output_type": "execute_result"
    }
   ],
   "source": [
    "scene"
   ]
  },
  {
   "cell_type": "code",
   "execution_count": 15,
   "id": "d49909d6",
   "metadata": {},
   "outputs": [
    {
     "data": {
      "text/plain": [
       "(True, '')"
      ]
     },
     "execution_count": 15,
     "metadata": {},
     "output_type": "execute_result"
    }
   ],
   "source": [
    "scene.drawer1.open()"
   ]
  },
  {
   "cell_type": "code",
   "execution_count": 16,
   "id": "3e80caef",
   "metadata": {},
   "outputs": [
    {
     "data": {
      "text/plain": [
       "(True, '')"
      ]
     },
     "execution_count": 16,
     "metadata": {},
     "output_type": "execute_result"
    }
   ],
   "source": [
    "scene.drawer1.put_in(scene.cup1)"
   ]
  },
  {
   "cell_type": "code",
   "execution_count": 17,
   "id": "76b27404",
   "metadata": {},
   "outputs": [
    {
     "name": "stdout",
     "output_type": "stream",
     "text": [
      "Scene info. shape: [4, 4, 4]\n",
      "0. drawer1,\tdrawer,\t[ 0.2 -0.3  0. ], opened, cont: ['cup1'],\t|| [drawer1] >>\n",
      "1. drawer2,\tdrawer,\t[ 0.6 -0.3  0. ], opened, cont: [],\t|| [drawer2] >>\n",
      "2. cup1,\tcup,\t[ 0.2 -0.3  0. ], empty,\t|| [cup1] >>\n",
      "Robot: [0.6 0.3 0.6], closed, rotation: 0, attached: -\n",
      "User id: 1\n"
     ]
    }
   ],
   "source": [
    "scene.info"
   ]
  },
  {
   "cell_type": "markdown",
   "id": "b07d6bb1",
   "metadata": {},
   "source": [
    "## Ex.3: Generate scene from dictionary\n",
    "- Example has stacked objects -> `print_structure()` reveals the structure of an object\n",
    "\n",
    "E.g. Structure:\n",
    "\n",
    "```\n",
    "cup2 -> stacked object on cup1\n",
    "[cup1] -> stacked object on drawer, [...] - current object\n",
    "drawer -> ground level\n",
    "```"
   ]
  },
  {
   "cell_type": "code",
   "execution_count": 18,
   "id": "c41402c8",
   "metadata": {},
   "outputs": [],
   "source": [
    "scene_dict = {\n",
    "'objects': {\n",
    "    'drawer': {'position': np.array([3, 2, 0]),\n",
    "        'type': 'drawer',\n",
    "        'graspable': False,\n",
    "        'pushable': False,\n",
    "        'free': True,\n",
    "        'size': 0.2,\n",
    "        'opened': False,\n",
    "        'above_str': 'cup1'},\n",
    "    'cup1': {'position': np.array([3, 1, 0]),\n",
    "        'type': 'cup',\n",
    "        'graspable': True,\n",
    "        'pushable': True,\n",
    "        'free': True,\n",
    "        'size': 0.01,\n",
    "        'full': True,\n",
    "        'under_str': 'drawer',\n",
    "        'above_str': 'cup2'},\n",
    "    'cup2': {'position': np.array([1, 2, 0]),\n",
    "        'type': 'cup',\n",
    "        'graspable': True,\n",
    "        'pushable': True,\n",
    "        'free': True,\n",
    "        'full': True,\n",
    "        'size': 0.01,\n",
    "        'under_str': 'cup1'}\n",
    "    },\n",
    "    'robot': {\n",
    "        'eef_position': np.array([0,0,0]),\n",
    "        'gripper_opened': True,\n",
    "        'eef_rotation': 0,\n",
    "        'attached': None\n",
    "    },\n",
    "    'user': 0\n",
    "}\n",
    "scene = Scene(init='from_dict', import_data=scene_dict)"
   ]
  },
  {
   "cell_type": "code",
   "execution_count": 19,
   "id": "1634ffb2",
   "metadata": {},
   "outputs": [
    {
     "name": "stdout",
     "output_type": "stream",
     "text": [
      "Structure:\n",
      "cup2\n",
      "[cup1]\n",
      "drawer\n"
     ]
    }
   ],
   "source": [
    "scene.cup1.print_structure()"
   ]
  },
  {
   "cell_type": "code",
   "execution_count": 20,
   "id": "7ce9af26",
   "metadata": {},
   "outputs": [
    {
     "name": "stdout",
     "output_type": "stream",
     "text": [
      "Structure:\n",
      "[cup2]\n",
      "cup1\n",
      "drawer\n"
     ]
    }
   ],
   "source": [
    "scene.cup2.print_structure()"
   ]
  },
  {
   "cell_type": "code",
   "execution_count": 21,
   "id": "914ac6f8",
   "metadata": {},
   "outputs": [
    {
     "name": "stdout",
     "output_type": "stream",
     "text": [
      "Structure:\n",
      "cup2\n",
      "cup1\n",
      "[drawer]\n"
     ]
    }
   ],
   "source": [
    "scene.drawer.print_structure()"
   ]
  },
  {
   "cell_type": "markdown",
   "id": "8e89f0e0",
   "metadata": {},
   "source": [
    "## Ex.3.1:"
   ]
  },
  {
   "cell_type": "code",
   "execution_count": 22,
   "id": "a5c17133",
   "metadata": {},
   "outputs": [],
   "source": [
    "scene_dict = {\n",
    "'objects': {\n",
    "    'drawer': {'position': np.array([3, 2, 0]),\n",
    "        'type': 'drawer',\n",
    "        'graspable': False,\n",
    "        'pushable': False,\n",
    "        'free': True,\n",
    "        'size': 0.2,\n",
    "        'opened': False,\n",
    "        'contains_list': ['cup1', 'cup2'],\n",
    "        'above_str': 'cup1'},\n",
    "    'cup1': {'position': np.array([3, 1, 0]),\n",
    "        'type': 'cup',\n",
    "        'graspable': True,\n",
    "        'pushable': True,\n",
    "        'free': True,\n",
    "        'full': True,\n",
    "        'size': 0.01,\n",
    "        'under_str': 'drawer',\n",
    "        'above_str': 'cup2'},\n",
    "    'cup2': {'position': np.array([1, 2, 0]),\n",
    "        'type': 'cup',\n",
    "        'graspable': True,\n",
    "        'pushable': True,\n",
    "        'free': True,\n",
    "        'full': True,\n",
    "        'size': 0.01,\n",
    "        'under_str': 'cup1'},\n",
    "    },\n",
    "    'robot': {\n",
    "        'eef_position': np.array([0,0,0]),\n",
    "        'gripper_opened': True,\n",
    "        'eef_rotation': 0,\n",
    "        'attached': None\n",
    "    },\n",
    "    'user': 0\n",
    "}\n",
    "scene = Scene(init='from_dict', import_data=scene_dict)"
   ]
  },
  {
   "cell_type": "code",
   "execution_count": 23,
   "id": "8ebb9dd9",
   "metadata": {},
   "outputs": [
    {
     "name": "stdout",
     "output_type": "stream",
     "text": [
      "Structure:\n",
      "cup2\n",
      "[cup1]\n",
      "drawer\n"
     ]
    }
   ],
   "source": [
    "scene.cup1.print_structure()"
   ]
  },
  {
   "cell_type": "code",
   "execution_count": 24,
   "id": "805372c7",
   "metadata": {},
   "outputs": [
    {
     "data": {
      "text/plain": [
       "['cup1', 'cup2']"
      ]
     },
     "execution_count": 24,
     "metadata": {},
     "output_type": "execute_result"
    }
   ],
   "source": [
    "scene.drawer.contains_list"
   ]
  },
  {
   "cell_type": "code",
   "execution_count": 25,
   "id": "a5215d07",
   "metadata": {},
   "outputs": [
    {
     "data": {
      "text/plain": [
       "[<srcmodules.Objects.Cup at 0x7f2b109dcf40>,\n",
       " <srcmodules.Objects.Cup at 0x7f2b346dbeb0>]"
      ]
     },
     "execution_count": 25,
     "metadata": {},
     "output_type": "execute_result"
    }
   ],
   "source": [
    "scene.drawer.contains"
   ]
  },
  {
   "cell_type": "code",
   "execution_count": 26,
   "id": "b6ffbd69",
   "metadata": {},
   "outputs": [
    {
     "data": {
      "text/plain": [
       "True"
      ]
     },
     "execution_count": 26,
     "metadata": {},
     "output_type": "execute_result"
    }
   ],
   "source": [
    "scene.collision_free()"
   ]
  },
  {
   "cell_type": "markdown",
   "id": "4f4fb620",
   "metadata": {},
   "source": [
    "# Actions\n",
    "- The layer which users interact with\n",
    "- Each action has **Target Action** and **Target Object**, in future there might be **Target Measure**.\n",
    "\n",
    "## Ex.1: Put cup into drawer"
   ]
  },
  {
   "cell_type": "code",
   "execution_count": 27,
   "id": "e42444e6",
   "metadata": {},
   "outputs": [
    {
     "name": "stdout",
     "output_type": "stream",
     "text": [
      "Scene info. shape: [4, 4, 4]\n",
      "0. drawer,\tdrawer,\t[ 0.2 -0.3  0. ], closed, cont: [],\t|| [drawer] >>\n",
      "1. cup,\tcup,\t[ 0.2 -0.1  0. ], empty,\t|| [cup] >>\n",
      "Robot: [ 0.2 -0.3  0. ], opened, rotation: [1. 0. 0. 0.], attached: -\n",
      "User id: 0\n"
     ]
    }
   ],
   "source": [
    "s = Scene(init='drawer,cup', random=False)\n",
    "s.r.eef_position = s.drawer.position\n",
    "s.info"
   ]
  },
  {
   "cell_type": "code",
   "execution_count": 28,
   "id": "c3e4ba6d",
   "metadata": {},
   "outputs": [
    {
     "name": "stdout",
     "output_type": "stream",
     "text": [
      "True\n",
      "Scene info. shape: [4, 4, 4]\n",
      "0. drawer,\tdrawer,\t[ 0.2 -0.3  0. ], closed, cont: [],\t|| [drawer] >>\n",
      "1. cup,\tcup,\t[ 0.2 -0.1  0. ], empty,\t|| [cup] >>\n",
      "Robot: [ 0.2 -0.1  0. ], opened, rotation: [1. 0. 0. 0.], attached: cup\n",
      "User id: 0\n"
     ]
    }
   ],
   "source": [
    "print(Actions.do(s, ('pick_up', 'cup'), ignore_location=True))\n",
    "s.info"
   ]
  },
  {
   "cell_type": "code",
   "execution_count": 29,
   "id": "ee2f68db",
   "metadata": {},
   "outputs": [
    {
     "data": {
      "text/plain": [
       "True"
      ]
     },
     "execution_count": 29,
     "metadata": {},
     "output_type": "execute_result"
    }
   ],
   "source": [
    "Actions.do(s, ('open', 'drawer'), ignore_location=True)"
   ]
  },
  {
   "cell_type": "code",
   "execution_count": 30,
   "id": "2f419659",
   "metadata": {},
   "outputs": [
    {
     "name": "stdout",
     "output_type": "stream",
     "text": [
      "True\n",
      "Scene info. shape: [4, 4, 4]\n",
      "0. drawer,\tdrawer,\t[ 0.2 -0.3  0. ], opened, cont: ['cup'],\t|| [drawer] >>\n",
      "1. cup,\tcup,\t[ 0.2 -0.1  0. ], empty,\t|| [cup] >>\n",
      "Robot: [ 0.2 -0.1  0. ], opened, rotation: [1. 0. 0. 0.], attached: -\n",
      "User id: 0\n"
     ]
    }
   ],
   "source": [
    "print(Actions.do(s, ('put', 'drawer'), ignore_location=True))\n",
    "s.info"
   ]
  },
  {
   "cell_type": "markdown",
   "id": "81dfa795",
   "metadata": {},
   "source": [
    "## Ex.2: Pour cup one into cup two"
   ]
  },
  {
   "cell_type": "code",
   "execution_count": 31,
   "id": "780590aa",
   "metadata": {},
   "outputs": [
    {
     "name": "stdout",
     "output_type": "stream",
     "text": [
      "cup,\tcup,\t[ 0.2 -0.1  0. ], full,\t|| [cup] >>\n",
      "cup1,\tcup,\t[0.2 0.1 0. ], empty,\t|| [cup1] >>\n"
     ]
    }
   ],
   "source": [
    "s = Scene(init='drawer,cup,cup', random=False)\n",
    "s.cup.fill()\n",
    "s.cup.info\n",
    "s.cup1.info"
   ]
  },
  {
   "cell_type": "code",
   "execution_count": 32,
   "id": "da9fad98",
   "metadata": {},
   "outputs": [
    {
     "name": "stdout",
     "output_type": "stream",
     "text": [
      "('pick_up', 'cup') done!\n",
      "('pour', 'cup1') done!\n",
      "cup,\tcup,\t[ 0.2 -0.1  0. ], full,\t|| [cup] >>\n",
      "cup1,\tcup,\t[0.2 0.1 0. ], full,\t|| [cup1] >>\n"
     ]
    }
   ],
   "source": [
    "Actions.do(s, ('pick_up', 'cup'), ignore_location=True, out=True)\n",
    "Actions.do(s, ('pour', 'cup1'), ignore_location=True, out=True)\n",
    "s.cup.info\n",
    "s.cup1.info"
   ]
  },
  {
   "cell_type": "code",
   "execution_count": 33,
   "id": "2fc09380",
   "metadata": {},
   "outputs": [
    {
     "data": {
      "text/plain": [
       "array([0, 0, 1])"
      ]
     },
     "execution_count": 33,
     "metadata": {},
     "output_type": "execute_result"
    }
   ],
   "source": [
    "s.cup1.direction"
   ]
  },
  {
   "cell_type": "code",
   "execution_count": 36,
   "id": "ded9400e",
   "metadata": {},
   "outputs": [
    {
     "data": {
      "text/plain": [
       "array([0, 1, 0])"
      ]
     },
     "execution_count": 36,
     "metadata": {},
     "output_type": "execute_result"
    }
   ],
   "source": [
    "s.r.eef_position"
   ]
  },
  {
   "cell_type": "code",
   "execution_count": 37,
   "id": "07ee1168",
   "metadata": {},
   "outputs": [
    {
     "name": "stdout",
     "output_type": "stream",
     "text": [
      "cup,\tcup,\t[ 0.2 -0.1  0. ], full,\t|| [cup] >>\n",
      "cup1,\tcup,\t[0.2 0.1 0. ], full,\t|| [cup1] >>\n"
     ]
    }
   ],
   "source": [
    "s.cup.info\n",
    "s.cup1.info"
   ]
  },
  {
   "cell_type": "code",
   "execution_count": null,
   "id": "1797da76",
   "metadata": {},
   "outputs": [],
   "source": [
    "s.cup1.rotate([0,0,0,1])\n",
    "s.info"
   ]
  },
  {
   "cell_type": "markdown",
   "id": "05c3c2fc",
   "metadata": {},
   "source": [
    "## Ex.3: Pour cup one into drawer"
   ]
  },
  {
   "cell_type": "code",
   "execution_count": 39,
   "id": "886ceb77",
   "metadata": {},
   "outputs": [
    {
     "name": "stdout",
     "output_type": "stream",
     "text": [
      "Scene info. shape: [4, 4, 4]\n",
      "0. drawer,\tdrawer,\t[ 0.2 -0.3  0. ], closed, cont: [],\t|| [drawer] >>\n",
      "1. cup,\tcup,\t[ 0.2 -0.1  0. ], empty,\t|| [cup] >>\n",
      "2. cup1,\tcup,\t[0.2 0.1 0. ], full,\t|| [cup1] >>\n",
      "Robot: [ 0.2 -0.3  0.6], opened, rotation: [1. 0. 0. 0.], attached: -\n",
      "User id: 0\n"
     ]
    }
   ],
   "source": [
    "s = Scene(init='drawer,cup,cup', random=False)\n",
    "s.cup1.fill()\n",
    "s.info"
   ]
  },
  {
   "cell_type": "code",
   "execution_count": 40,
   "id": "9360ea15",
   "metadata": {},
   "outputs": [
    {
     "name": "stdout",
     "output_type": "stream",
     "text": [
      "('pick_up', 'cup') done!\n",
      "('pour', 'drawer') done!\n",
      "cup,\tcup,\t[ 0.2 -0.1  0. ], empty,\t|| [cup] >>\n"
     ]
    }
   ],
   "source": [
    "Actions.do(s, ('pick_up', 'cup'), ignore_location=True, out=True)\n",
    "Actions.do(s, ('pour', 'drawer'), ignore_location=True, out=True)\n",
    "s.cup.info"
   ]
  },
  {
   "cell_type": "code",
   "execution_count": 41,
   "id": "72dc9a1f",
   "metadata": {},
   "outputs": [
    {
     "name": "stdout",
     "output_type": "stream",
     "text": [
      "Scene info. shape: [4, 4, 4]\n",
      "0. drawer,\tdrawer,\t[ 0.2 -0.3  0. ], closed, cont: [],\t|| [drawer] >>\n",
      "1. cup,\tcup,\t[ 0.2 -0.1  0. ], empty,\t|| [cup] >>\n",
      "2. cup1,\tcup,\t[0.2 0.1 0. ], full,\t|| [cup1] >>\n",
      "Robot: [ 0.2 -0.1  0. ], opened, rotation: [1. 0. 0. 0.], attached: cup\n",
      "User id: 0\n"
     ]
    }
   ],
   "source": [
    "s.info"
   ]
  },
  {
   "cell_type": "markdown",
   "id": "dc625fc7",
   "metadata": {},
   "source": [
    "## Ex.4: Spill the cup"
   ]
  },
  {
   "cell_type": "code",
   "execution_count": 42,
   "id": "c4786763",
   "metadata": {},
   "outputs": [
    {
     "name": "stdout",
     "output_type": "stream",
     "text": [
      "cup,\tcup,\t[ 0.2 -0.1  0. ], empty,\t|| [cup] >>\n"
     ]
    }
   ],
   "source": [
    "s.cup1.rotate([1,0,0,0])\n",
    "s.cup.info"
   ]
  },
  {
   "cell_type": "code",
   "execution_count": 43,
   "id": "42ba5cf0",
   "metadata": {},
   "outputs": [
    {
     "name": "stdout",
     "output_type": "stream",
     "text": [
      "Scene info. shape: [4, 4, 4]\n",
      "0. drawer,\tdrawer,\t[0.8 0.1 0. ], closed, cont: [],\t|| [drawer] >>\n",
      "1. cup,\tcup,\t[0.6 0.3 0. ], full,\t|| [cup] >>\n",
      "2. cup1,\tcup,\t[0.6 0.1 0. ], empty,\t|| [cup1] >>\n",
      "Robot: [0.6 0.1 0. ], closed, rotation: 1, attached: -\n",
      "User id: 0\n"
     ]
    }
   ],
   "source": [
    "s = Scene(init='drawer,cup,cup')\n",
    "s.r.eef_position = s.cup1.position\n",
    "s.info"
   ]
  },
  {
   "cell_type": "code",
   "execution_count": 44,
   "id": "5273a28c",
   "metadata": {},
   "outputs": [
    {
     "name": "stdout",
     "output_type": "stream",
     "text": [
      "('push', 'cup') done!\n"
     ]
    },
    {
     "data": {
      "text/plain": [
       "array([2, 2, 0])"
      ]
     },
     "execution_count": 44,
     "metadata": {},
     "output_type": "execute_result"
    }
   ],
   "source": [
    "Actions.do(s, ('push','cup'), ignore_location=True, out=True)\n",
    "s.cup1.position"
   ]
  },
  {
   "cell_type": "code",
   "execution_count": null,
   "id": "1523927f",
   "metadata": {},
   "outputs": [],
   "source": []
  },
  {
   "cell_type": "code",
   "execution_count": null,
   "id": "53dc4e9d",
   "metadata": {},
   "outputs": [],
   "source": []
  },
  {
   "cell_type": "code",
   "execution_count": null,
   "id": "a0ecc027",
   "metadata": {},
   "outputs": [],
   "source": []
  },
  {
   "cell_type": "code",
   "execution_count": null,
   "id": "89fb40cd",
   "metadata": {},
   "outputs": [],
   "source": []
  },
  {
   "cell_type": "code",
   "execution_count": null,
   "id": "9493ea12",
   "metadata": {},
   "outputs": [],
   "source": []
  }
 ],
 "metadata": {
  "kernelspec": {
   "display_name": "Python 3 (ipykernel)",
   "language": "python",
   "name": "python3"
  },
  "language_info": {
   "codemirror_mode": {
    "name": "ipython",
    "version": 3
   },
   "file_extension": ".py",
   "mimetype": "text/x-python",
   "name": "python",
   "nbconvert_exporter": "python",
   "pygments_lexer": "ipython3",
   "version": "3.8.10"
  }
 },
 "nbformat": 4,
 "nbformat_minor": 5
}
