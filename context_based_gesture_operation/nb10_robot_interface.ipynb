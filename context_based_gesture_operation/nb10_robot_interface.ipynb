{
 "cells": [
  {
   "cell_type": "markdown",
   "id": "49e3b78a",
   "metadata": {},
   "source": [
    "Intent estimation import"
   ]
  },
  {
   "cell_type": "code",
   "execution_count": 1,
   "id": "af86ef8c",
   "metadata": {},
   "outputs": [],
   "source": [
    "import sys\n",
    "from srcmodules.Scenes import Scene, SceneCoppeliaInterface\n",
    "from srcmodules.Actions import Actions\n",
    "from srcmodules.RobotActions import RobotActions, act\n",
    "from copy import deepcopy\n",
    "import numpy as np\n",
    "import os"
   ]
  },
  {
   "cell_type": "markdown",
   "id": "accc8750",
   "metadata": {},
   "source": [
    "Teleop gesture toolbox import (gestures and simulator)"
   ]
  },
  {
   "cell_type": "code",
   "execution_count": 2,
   "id": "c66a1aac",
   "metadata": {},
   "outputs": [],
   "source": [
    "sys.path.append(os.path.abspath(\"./../../coppelia_sim_ros_interface/coppelia_sim_ros_interface\"))\n",
    "from coppelia_sim_ros_client import CoppeliaROSInterface, CoppeliaROSInterfaceNode"
   ]
  },
  {
   "cell_type": "code",
   "execution_count": 3,
   "id": "8f38fe47",
   "metadata": {},
   "outputs": [
    {
     "name": "stdout",
     "output_type": "stream",
     "text": [
      "[CoppeliaROSInterface] Creating new ROS node\n",
      "[Coppelia Client] Waiting for Coppelia to be initialized\n",
      "[Coppelia Client] Coppelia initialized!\n"
     ]
    }
   ],
   "source": [
    "import rclpy\n",
    "rclpy.init()\n",
    "cop = CoppeliaROSInterfaceNode().r\n",
    "from geometry_msgs.msg import Point, Pose, Quaternion"
   ]
  },
  {
   "cell_type": "code",
   "execution_count": 4,
   "id": "fd555c02",
   "metadata": {},
   "outputs": [],
   "source": [
    "sci = SceneCoppeliaInterface(cop)"
   ]
  },
  {
   "cell_type": "code",
   "execution_count": 10,
   "id": "1c4db584",
   "metadata": {},
   "outputs": [
    {
     "name": "stdout",
     "output_type": "stream",
     "text": [
      "Object removed on the scene? Press enter\n"
     ]
    },
    {
     "data": {
      "text/plain": [
       "True"
      ]
     },
     "execution_count": 10,
     "metadata": {},
     "output_type": "execute_result"
    }
   ],
   "source": [
    "RobotActions.reset__not_general(sci, cop)"
   ]
  },
  {
   "cell_type": "markdown",
   "id": "b89b90e1",
   "metadata": {},
   "source": [
    "# Tests:"
   ]
  },
  {
   "cell_type": "markdown",
   "id": "6285a8b0",
   "metadata": {},
   "source": [
    "### Open drawer:"
   ]
  },
  {
   "cell_type": "code",
   "execution_count": 6,
   "id": "de3db64d",
   "metadata": {},
   "outputs": [],
   "source": [
    "s = Scene(init='drawer')\n",
    "s.drawer.opened = False\n",
    "sci.new_scene(s)"
   ]
  },
  {
   "cell_type": "code",
   "execution_count": 7,
   "id": "54610a7c",
   "metadata": {},
   "outputs": [],
   "source": [
    "sci.new_observation(s,'drawer')"
   ]
  },
  {
   "cell_type": "code",
   "execution_count": 8,
   "id": "ac93c9be",
   "metadata": {},
   "outputs": [
    {
     "data": {
      "text/plain": [
       "True"
      ]
     },
     "execution_count": 8,
     "metadata": {},
     "output_type": "execute_result"
    }
   ],
   "source": [
    "Actions.do(s, ('open', 'drawer'), ignore_location=True)"
   ]
  },
  {
   "cell_type": "code",
   "execution_count": 9,
   "id": "412cbae6",
   "metadata": {
    "scrolled": true
   },
   "outputs": [
    {
     "name": "stdout",
     "output_type": "stream",
     "text": [
      "1/5, enter to continue, anystr else to abort!\n",
      "2/5, enter to continue, anystr else to abort!\n",
      "3/5, enter to continue, anystr else to abort!\n",
      "4/5, enter to continue, anystr else to abort!\n",
      "5/5, enter to continue, anystr else to abort!\n"
     ]
    }
   ],
   "source": [
    "RobotActions.open(s, cop, 'drawer')"
   ]
  },
  {
   "cell_type": "code",
   "execution_count": 10,
   "id": "c1dffb20",
   "metadata": {},
   "outputs": [],
   "source": [
    "cop.go_to_pose(s.position_real([2,3,1]))"
   ]
  },
  {
   "cell_type": "markdown",
   "id": "387cb8e5",
   "metadata": {},
   "source": [
    "### Close drawer"
   ]
  },
  {
   "cell_type": "code",
   "execution_count": 8,
   "id": "72c851e1",
   "metadata": {},
   "outputs": [],
   "source": [
    "s = Scene(init='drawer')\n",
    "s.drawer.opened = True\n",
    "sci.new_scene(s)"
   ]
  },
  {
   "cell_type": "code",
   "execution_count": 9,
   "id": "c47b675f",
   "metadata": {},
   "outputs": [],
   "source": [
    "sci.new_observation(s,'drawer')"
   ]
  },
  {
   "cell_type": "code",
   "execution_count": 10,
   "id": "cdc167e1",
   "metadata": {},
   "outputs": [
    {
     "data": {
      "text/plain": [
       "True"
      ]
     },
     "execution_count": 10,
     "metadata": {},
     "output_type": "execute_result"
    }
   ],
   "source": [
    "Actions.do(s, ('close', 'drawer'), ignore_location=True)"
   ]
  },
  {
   "cell_type": "code",
   "execution_count": 11,
   "id": "d141b56f",
   "metadata": {},
   "outputs": [
    {
     "name": "stdout",
     "output_type": "stream",
     "text": [
      "1/5, enter to continue, anystr else to abort!\n",
      "2/5, enter to continue, anystr else to abort!\n",
      "3/5, enter to continue, anystr else to abort!\n",
      "4/5, enter to continue, anystr else to abort!\n",
      "5/5, enter to continue, anystr else to abort!\n"
     ]
    },
    {
     "data": {
      "text/plain": [
       "True"
      ]
     },
     "execution_count": 11,
     "metadata": {},
     "output_type": "execute_result"
    }
   ],
   "source": [
    "RobotActions.close(s, cop, 'drawer')"
   ]
  },
  {
   "cell_type": "markdown",
   "id": "5bf101b2",
   "metadata": {},
   "source": [
    "### Pour"
   ]
  },
  {
   "cell_type": "code",
   "execution_count": 11,
   "id": "a80ccc45",
   "metadata": {},
   "outputs": [
    {
     "name": "stdout",
     "output_type": "stream",
     "text": [
      "Object removed on the scene? Press enter\n"
     ]
    }
   ],
   "source": [
    "s = Scene(init='cup,cup')\n",
    "sci.new_scene(s)"
   ]
  },
  {
   "cell_type": "code",
   "execution_count": 12,
   "id": "e996e560",
   "metadata": {},
   "outputs": [],
   "source": [
    "sci.new_observation(s,'cup')"
   ]
  },
  {
   "cell_type": "code",
   "execution_count": 13,
   "id": "69ff3bc7",
   "metadata": {},
   "outputs": [
    {
     "data": {
      "text/plain": [
       "True"
      ]
     },
     "execution_count": 13,
     "metadata": {},
     "output_type": "execute_result"
    }
   ],
   "source": [
    "Actions.do(s, ('pick_up', 'cup'), ignore_location=True)"
   ]
  },
  {
   "cell_type": "code",
   "execution_count": 14,
   "id": "ac9503ab",
   "metadata": {},
   "outputs": [
    {
     "name": "stdout",
     "output_type": "stream",
     "text": [
      "1/4, enter to continue, anystr else to abort!\n",
      "2/4, enter to continue, anystr else to abort!\n",
      "3/4, enter to continue, anystr else to abort!\n",
      "4/4, enter to continue, anystr else to abort!\n"
     ]
    },
    {
     "data": {
      "text/plain": [
       "True"
      ]
     },
     "execution_count": 14,
     "metadata": {},
     "output_type": "execute_result"
    }
   ],
   "source": [
    "RobotActions.pick_up(s,cop,'cup')"
   ]
  },
  {
   "cell_type": "code",
   "execution_count": 16,
   "id": "319d1549",
   "metadata": {},
   "outputs": [],
   "source": [
    "sci.new_observation(s,'cup1')"
   ]
  },
  {
   "cell_type": "code",
   "execution_count": 17,
   "id": "2dc18c22",
   "metadata": {},
   "outputs": [
    {
     "data": {
      "text/plain": [
       "False"
      ]
     },
     "execution_count": 17,
     "metadata": {},
     "output_type": "execute_result"
    }
   ],
   "source": [
    "Actions.do(s, ('pour', 'cup1'), ignore_location=True)"
   ]
  },
  {
   "cell_type": "code",
   "execution_count": 18,
   "id": "d8c4f126",
   "metadata": {},
   "outputs": [
    {
     "name": "stdout",
     "output_type": "stream",
     "text": [
      "1/3, enter to continue, anystr else to abort!\n",
      "2/3, enter to continue, anystr else to abort!\n",
      "3/3, enter to continue, anystr else to abort!\n"
     ]
    },
    {
     "data": {
      "text/plain": [
       "True"
      ]
     },
     "execution_count": 18,
     "metadata": {},
     "output_type": "execute_result"
    }
   ],
   "source": [
    "RobotActions.pour(s,cop,'cup1')"
   ]
  },
  {
   "cell_type": "markdown",
   "id": "36618dcc",
   "metadata": {},
   "source": [
    "### Move tests"
   ]
  },
  {
   "cell_type": "code",
   "execution_count": null,
   "id": "97e72ca1",
   "metadata": {},
   "outputs": [
    {
     "name": "stdout",
     "output_type": "stream",
     "text": [
      "Object removed on the scene? Press enter\n",
      "Scene finished -> press Enter\n"
     ]
    }
   ],
   "source": [
    "s = Scene(init='drawer,object,cup')\n",
    "sci.new_scene(s)"
   ]
  },
  {
   "cell_type": "code",
   "execution_count": null,
   "id": "4278905d",
   "metadata": {},
   "outputs": [],
   "source": [
    "act(s,cop,('move_down','cup'))"
   ]
  },
  {
   "cell_type": "code",
   "execution_count": 13,
   "id": "4a596f33",
   "metadata": {},
   "outputs": [
    {
     "name": "stdout",
     "output_type": "stream",
     "text": [
      "1/1, enter to continue, anystr else to abort!\n"
     ]
    },
    {
     "data": {
      "text/plain": [
       "True"
      ]
     },
     "execution_count": 13,
     "metadata": {},
     "output_type": "execute_result"
    }
   ],
   "source": [
    "RobotActions.move_front(s,cop,'')"
   ]
  },
  {
   "cell_type": "code",
   "execution_count": 14,
   "id": "0d89f938",
   "metadata": {},
   "outputs": [],
   "source": [
    "sci.new_observation([0.4,0.0,0.4])"
   ]
  },
  {
   "cell_type": "code",
   "execution_count": 6,
   "id": "823ecc52",
   "metadata": {
    "scrolled": false
   },
   "outputs": [
    {
     "name": "stderr",
     "output_type": "stream",
     "text": [
      "[WARN] [1662907645.916926]: Inbound TCP/IP connection failed: connection from sender terminated before handshake header received. 0 bytes were received. Please check sender for additional details.\n"
     ]
    }
   ],
   "source": [
    "s = Scene(init='cup,object')\n",
    "sci.new_scene(s)"
   ]
  },
  {
   "cell_type": "markdown",
   "id": "1a6dc7ac",
   "metadata": {},
   "source": [
    "Possibility to list all possible actions:"
   ]
  },
  {
   "cell_type": "code",
   "execution_count": 60,
   "id": "6915e6b5",
   "metadata": {},
   "outputs": [
    {
     "data": {
      "text/plain": [
       "[('put', 'object')]"
      ]
     },
     "execution_count": 60,
     "metadata": {},
     "output_type": "execute_result"
    }
   ],
   "source": [
    "Actions.get_possible_actions(s, ignore_location=True)"
   ]
  },
  {
   "cell_type": "markdown",
   "id": "4e7c5fc7",
   "metadata": {},
   "source": [
    "Few of the examples:"
   ]
  },
  {
   "cell_type": "code",
   "execution_count": null,
   "id": "e725c2e4",
   "metadata": {},
   "outputs": [],
   "source": [
    "if not RobotActions.pick_object(s, 'cup'): raise Exception(\"Not successfull\")\n",
    "if not Actions.do(s, ('pick_up', 'cup'), ignore_location=True): raise Exception(\"Not successfull\")\n",
    "\n",
    "if not RobotActions.put(s, 'object'): raise Exception(\"Not successfull\")\n",
    "if not Actions.do(s, ('put', 'object'), ignore_location=True): raise Exception(\"Not successfull\")\n",
    "    \n",
    "if not RobotActions.pick_object(s, 'object'): raise Exception(\"Not successfull\")\n",
    "if not Actions.do(s, ('pick_up', 'cup'), ignore_location=True): raise Exception(\"Not successfull\")"
   ]
  },
  {
   "cell_type": "code",
   "execution_count": null,
   "id": "86787dc9",
   "metadata": {},
   "outputs": [],
   "source": []
  },
  {
   "cell_type": "markdown",
   "id": "cadd6727",
   "metadata": {},
   "source": [
    "### Pick up"
   ]
  },
  {
   "cell_type": "code",
   "execution_count": 7,
   "id": "cf2cfa0c",
   "metadata": {},
   "outputs": [],
   "source": [
    "# Create scene with opened drawer\n",
    "s = Scene(init='cup', random=False)\n",
    "s.cup.position = np.array([2,1,0])\n",
    "s.cup.size = 0.05\n",
    "s.r.eef_position = np.array([2,1,2])\n",
    "\n",
    "sci.new_scene(s)"
   ]
  },
  {
   "cell_type": "code",
   "execution_count": 8,
   "id": "799a9a52",
   "metadata": {
    "scrolled": true
   },
   "outputs": [
    {
     "name": "stdout",
     "output_type": "stream",
     "text": [
      "1/4, enter to continue, anystr else to abort!\n",
      "2/4, enter to continue, anystr else to abort!\n",
      "3/4, enter to continue, anystr else to abort!\n",
      "4/4, enter to continue, anystr else to abort!\n"
     ]
    },
    {
     "data": {
      "text/plain": [
       "True"
      ]
     },
     "execution_count": 8,
     "metadata": {},
     "output_type": "execute_result"
    }
   ],
   "source": [
    "act(s, cop, ('pick_up', 'cup'))"
   ]
  },
  {
   "cell_type": "code",
   "execution_count": 9,
   "id": "453cee19",
   "metadata": {},
   "outputs": [
    {
     "name": "stdout",
     "output_type": "stream",
     "text": [
      "1/1, enter to continue, anystr else to abort!\n"
     ]
    },
    {
     "data": {
      "text/plain": [
       "True"
      ]
     },
     "execution_count": 9,
     "metadata": {},
     "output_type": "execute_result"
    }
   ],
   "source": [
    "act(s, cop, ('move_up', 'cup'))"
   ]
  },
  {
   "cell_type": "code",
   "execution_count": 12,
   "id": "8509ef6b",
   "metadata": {},
   "outputs": [
    {
     "name": "stdout",
     "output_type": "stream",
     "text": [
      "1/1, enter to continue, anystr else to abort!\n"
     ]
    },
    {
     "data": {
      "text/plain": [
       "True"
      ]
     },
     "execution_count": 12,
     "metadata": {},
     "output_type": "execute_result"
    }
   ],
   "source": [
    "act(s, cop, ('move_down', 'cup'))"
   ]
  },
  {
   "cell_type": "markdown",
   "id": "c00c0647",
   "metadata": {},
   "source": [
    "### Placing"
   ]
  },
  {
   "cell_type": "code",
   "execution_count": null,
   "id": "198ed355",
   "metadata": {},
   "outputs": [],
   "source": []
  },
  {
   "cell_type": "code",
   "execution_count": 17,
   "id": "96cdb17f",
   "metadata": {},
   "outputs": [
    {
     "name": "stdout",
     "output_type": "stream",
     "text": [
      "Object removed on the scene? Press enter\n"
     ]
    },
    {
     "data": {
      "text/plain": [
       "True"
      ]
     },
     "execution_count": 17,
     "metadata": {},
     "output_type": "execute_result"
    }
   ],
   "source": [
    "RobotActions.reset__not_general(sci, cop)"
   ]
  },
  {
   "cell_type": "code",
   "execution_count": null,
   "id": "ef0976db",
   "metadata": {},
   "outputs": [],
   "source": []
  },
  {
   "cell_type": "markdown",
   "id": "a7926495",
   "metadata": {},
   "source": [
    "# Subscriber!"
   ]
  },
  {
   "cell_type": "code",
   "execution_count": 1,
   "id": "93be239b",
   "metadata": {},
   "outputs": [],
   "source": [
    "import sys\n",
    "from srcmodules.Scenes import Scene, SceneCoppeliaInterface\n",
    "from srcmodules.Actions import Actions\n",
    "from srcmodules.RobotActions import RobotActions, act\n",
    "from copy import deepcopy\n",
    "import numpy as np\n",
    "import os\n",
    "\n",
    "\n",
    "from context_based_gesture_operation.msg import Act"
   ]
  },
  {
   "cell_type": "markdown",
   "id": "63107bf9",
   "metadata": {},
   "source": [
    "Teleop gesture toolbox import (gestures and simulator)"
   ]
  },
  {
   "cell_type": "code",
   "execution_count": 2,
   "id": "a34ace7c",
   "metadata": {},
   "outputs": [],
   "source": [
    "sys.path.append(os.path.abspath(\"./../coppelia_sim_ros_interface/src\"))\n",
    "from coppelia_sim_ros_client import CoppeliaROSInterface"
   ]
  },
  {
   "cell_type": "code",
   "execution_count": 3,
   "id": "25a5cd0d",
   "metadata": {},
   "outputs": [],
   "source": [
    "import rospy\n",
    "rospy.init_node(\"main\", anonymous=True)"
   ]
  },
  {
   "cell_type": "code",
   "execution_count": 4,
   "id": "712cc029",
   "metadata": {},
   "outputs": [],
   "source": [
    "cop = CoppeliaROSInterface()\n",
    "from geometry_msgs.msg import Point, Pose, Quaternion"
   ]
  },
  {
   "cell_type": "code",
   "execution_count": 5,
   "id": "501460c1",
   "metadata": {},
   "outputs": [],
   "source": [
    "sci = SceneCoppeliaInterface(cop)"
   ]
  },
  {
   "cell_type": "code",
   "execution_count": 6,
   "id": "89396e1b",
   "metadata": {},
   "outputs": [
    {
     "data": {
      "text/plain": [
       "True"
      ]
     },
     "execution_count": 6,
     "metadata": {},
     "output_type": "execute_result"
    }
   ],
   "source": [
    "RobotActions.reset__not_general(sci, cop)"
   ]
  },
  {
   "cell_type": "code",
   "execution_count": 7,
   "id": "6a23c6e1",
   "metadata": {},
   "outputs": [],
   "source": [
    "RobotActions.execution_feedback = 'time'"
   ]
  },
  {
   "cell_type": "code",
   "execution_count": 9,
   "id": "cb92f461",
   "metadata": {},
   "outputs": [],
   "source": [
    "s = Scene(init='object')"
   ]
  },
  {
   "cell_type": "code",
   "execution_count": 10,
   "id": "5dbf1eb7",
   "metadata": {},
   "outputs": [
    {
     "data": {
      "text/plain": [
       "<rospy.topics.Subscriber at 0x7ff8386ffc10>"
      ]
     },
     "execution_count": 10,
     "metadata": {},
     "output_type": "execute_result"
    },
    {
     "name": "stderr",
     "output_type": "stream",
     "text": [
      "[ERROR] [1664895752.859985]: bad callback: <function act__ROS_callback at 0x7ff8600bbd30>\n",
      "Traceback (most recent call last):\n",
      "  File \"/home/petr/anaconda3/envs/robostackenv/lib/python3.8/site-packages/rospy/topics.py\", line 750, in _invoke_callback\n",
      "    cb(msg)\n",
      "  File \"/tmp/ipykernel_24544/844978657.py\", line 6, in act__ROS_callback\n",
      "    act(s, cop, (target_action, target_object))\n",
      "  File \"/home/petr/my_ws/src/context_based_gesture_operation/srcmodules/RobotActions.py\", line 15, in act\n",
      "    if not Actions.do(s, TaTo, ignore_location=True): raise Exception(\"Action not valid!\")\n",
      "  File \"/home/petr/my_ws/src/context_based_gesture_operation/srcmodules/Actions.py\", line 109, in do\n",
      "    ret = getattr(Actions, action[0])(s, o, p, ignore_location=ignore_location)\n",
      "AttributeError: type object 'Actions' has no attribute ''\n",
      "\n",
      "[ERROR] [1664895752.864776]: bad callback: <function act__ROS_callback at 0x7ff838723940>\n",
      "Traceback (most recent call last):\n",
      "  File \"/home/petr/anaconda3/envs/robostackenv/lib/python3.8/site-packages/rospy/topics.py\", line 750, in _invoke_callback\n",
      "    cb(msg)\n",
      "  File \"/tmp/ipykernel_24544/844978657.py\", line 6, in act__ROS_callback\n",
      "    act(s, cop, (target_action, target_object))\n",
      "  File \"/home/petr/my_ws/src/context_based_gesture_operation/srcmodules/RobotActions.py\", line 15, in act\n",
      "    if not Actions.do(s, TaTo, ignore_location=True): raise Exception(\"Action not valid!\")\n",
      "  File \"/home/petr/my_ws/src/context_based_gesture_operation/srcmodules/Actions.py\", line 109, in do\n",
      "    ret = getattr(Actions, action[0])(s, o, p, ignore_location=ignore_location)\n",
      "AttributeError: type object 'Actions' has no attribute ''\n",
      "\n",
      "[ERROR] [1664895753.309073]: bad callback: <function act__ROS_callback at 0x7ff8600bbd30>\n",
      "Traceback (most recent call last):\n",
      "  File \"/home/petr/anaconda3/envs/robostackenv/lib/python3.8/site-packages/rospy/topics.py\", line 750, in _invoke_callback\n",
      "    cb(msg)\n",
      "  File \"/tmp/ipykernel_24544/844978657.py\", line 6, in act__ROS_callback\n",
      "    act(s, cop, (target_action, target_object))\n",
      "  File \"/home/petr/my_ws/src/context_based_gesture_operation/srcmodules/RobotActions.py\", line 15, in act\n",
      "    if not Actions.do(s, TaTo, ignore_location=True): raise Exception(\"Action not valid!\")\n",
      "  File \"/home/petr/my_ws/src/context_based_gesture_operation/srcmodules/Actions.py\", line 109, in do\n",
      "    ret = getattr(Actions, action[0])(s, o, p, ignore_location=ignore_location)\n",
      "AttributeError: type object 'Actions' has no attribute ''\n",
      "\n",
      "[ERROR] [1664895753.313264]: bad callback: <function act__ROS_callback at 0x7ff838723940>\n",
      "Traceback (most recent call last):\n",
      "  File \"/home/petr/anaconda3/envs/robostackenv/lib/python3.8/site-packages/rospy/topics.py\", line 750, in _invoke_callback\n",
      "    cb(msg)\n",
      "  File \"/tmp/ipykernel_24544/844978657.py\", line 6, in act__ROS_callback\n",
      "    act(s, cop, (target_action, target_object))\n",
      "  File \"/home/petr/my_ws/src/context_based_gesture_operation/srcmodules/RobotActions.py\", line 15, in act\n",
      "    if not Actions.do(s, TaTo, ignore_location=True): raise Exception(\"Action not valid!\")\n",
      "  File \"/home/petr/my_ws/src/context_based_gesture_operation/srcmodules/Actions.py\", line 109, in do\n",
      "    ret = getattr(Actions, action[0])(s, o, p, ignore_location=ignore_location)\n",
      "AttributeError: type object 'Actions' has no attribute ''\n",
      "\n",
      "[ERROR] [1664895753.810958]: bad callback: <function act__ROS_callback at 0x7ff8600bbd30>\n",
      "Traceback (most recent call last):\n",
      "  File \"/home/petr/anaconda3/envs/robostackenv/lib/python3.8/site-packages/rospy/topics.py\", line 750, in _invoke_callback\n",
      "    cb(msg)\n",
      "  File \"/tmp/ipykernel_24544/844978657.py\", line 6, in act__ROS_callback\n",
      "    act(s, cop, (target_action, target_object))\n",
      "  File \"/home/petr/my_ws/src/context_based_gesture_operation/srcmodules/RobotActions.py\", line 15, in act\n",
      "    if not Actions.do(s, TaTo, ignore_location=True): raise Exception(\"Action not valid!\")\n",
      "  File \"/home/petr/my_ws/src/context_based_gesture_operation/srcmodules/Actions.py\", line 109, in do\n",
      "    ret = getattr(Actions, action[0])(s, o, p, ignore_location=ignore_location)\n",
      "AttributeError: type object 'Actions' has no attribute ''\n",
      "\n",
      "[ERROR] [1664895753.815383]: bad callback: <function act__ROS_callback at 0x7ff838723940>\n",
      "Traceback (most recent call last):\n",
      "  File \"/home/petr/anaconda3/envs/robostackenv/lib/python3.8/site-packages/rospy/topics.py\", line 750, in _invoke_callback\n",
      "    cb(msg)\n",
      "  File \"/tmp/ipykernel_24544/844978657.py\", line 6, in act__ROS_callback\n",
      "    act(s, cop, (target_action, target_object))\n",
      "  File \"/home/petr/my_ws/src/context_based_gesture_operation/srcmodules/RobotActions.py\", line 15, in act\n",
      "    if not Actions.do(s, TaTo, ignore_location=True): raise Exception(\"Action not valid!\")\n",
      "  File \"/home/petr/my_ws/src/context_based_gesture_operation/srcmodules/Actions.py\", line 109, in do\n",
      "    ret = getattr(Actions, action[0])(s, o, p, ignore_location=ignore_location)\n",
      "AttributeError: type object 'Actions' has no attribute ''\n",
      "\n",
      "[ERROR] [1664895754.312933]: bad callback: <function act__ROS_callback at 0x7ff8600bbd30>\n",
      "Traceback (most recent call last):\n",
      "  File \"/home/petr/anaconda3/envs/robostackenv/lib/python3.8/site-packages/rospy/topics.py\", line 750, in _invoke_callback\n",
      "    cb(msg)\n",
      "  File \"/tmp/ipykernel_24544/844978657.py\", line 6, in act__ROS_callback\n",
      "    act(s, cop, (target_action, target_object))\n",
      "  File \"/home/petr/my_ws/src/context_based_gesture_operation/srcmodules/RobotActions.py\", line 15, in act\n",
      "    if not Actions.do(s, TaTo, ignore_location=True): raise Exception(\"Action not valid!\")\n",
      "  File \"/home/petr/my_ws/src/context_based_gesture_operation/srcmodules/Actions.py\", line 109, in do\n",
      "    ret = getattr(Actions, action[0])(s, o, p, ignore_location=ignore_location)\n",
      "AttributeError: type object 'Actions' has no attribute ''\n",
      "\n",
      "[ERROR] [1664895754.317055]: bad callback: <function act__ROS_callback at 0x7ff838723940>\n",
      "Traceback (most recent call last):\n",
      "  File \"/home/petr/anaconda3/envs/robostackenv/lib/python3.8/site-packages/rospy/topics.py\", line 750, in _invoke_callback\n",
      "    cb(msg)\n",
      "  File \"/tmp/ipykernel_24544/844978657.py\", line 6, in act__ROS_callback\n",
      "    act(s, cop, (target_action, target_object))\n",
      "  File \"/home/petr/my_ws/src/context_based_gesture_operation/srcmodules/RobotActions.py\", line 15, in act\n",
      "    if not Actions.do(s, TaTo, ignore_location=True): raise Exception(\"Action not valid!\")\n",
      "  File \"/home/petr/my_ws/src/context_based_gesture_operation/srcmodules/Actions.py\", line 109, in do\n",
      "    ret = getattr(Actions, action[0])(s, o, p, ignore_location=ignore_location)\n",
      "AttributeError: type object 'Actions' has no attribute ''\n",
      "\n",
      "[ERROR] [1664895754.815024]: bad callback: <function act__ROS_callback at 0x7ff8600bbd30>\n",
      "Traceback (most recent call last):\n",
      "  File \"/home/petr/anaconda3/envs/robostackenv/lib/python3.8/site-packages/rospy/topics.py\", line 750, in _invoke_callback\n",
      "    cb(msg)\n",
      "  File \"/tmp/ipykernel_24544/844978657.py\", line 6, in act__ROS_callback\n",
      "    act(s, cop, (target_action, target_object))\n",
      "  File \"/home/petr/my_ws/src/context_based_gesture_operation/srcmodules/RobotActions.py\", line 15, in act\n",
      "    if not Actions.do(s, TaTo, ignore_location=True): raise Exception(\"Action not valid!\")\n",
      "  File \"/home/petr/my_ws/src/context_based_gesture_operation/srcmodules/Actions.py\", line 109, in do\n",
      "    ret = getattr(Actions, action[0])(s, o, p, ignore_location=ignore_location)\n",
      "AttributeError: type object 'Actions' has no attribute ''\n",
      "\n",
      "[ERROR] [1664895754.819993]: bad callback: <function act__ROS_callback at 0x7ff838723940>\n",
      "Traceback (most recent call last):\n",
      "  File \"/home/petr/anaconda3/envs/robostackenv/lib/python3.8/site-packages/rospy/topics.py\", line 750, in _invoke_callback\n",
      "    cb(msg)\n",
      "  File \"/tmp/ipykernel_24544/844978657.py\", line 6, in act__ROS_callback\n",
      "    act(s, cop, (target_action, target_object))\n",
      "  File \"/home/petr/my_ws/src/context_based_gesture_operation/srcmodules/RobotActions.py\", line 15, in act\n",
      "    if not Actions.do(s, TaTo, ignore_location=True): raise Exception(\"Action not valid!\")\n",
      "  File \"/home/petr/my_ws/src/context_based_gesture_operation/srcmodules/Actions.py\", line 109, in do\n",
      "    ret = getattr(Actions, action[0])(s, o, p, ignore_location=ignore_location)\n",
      "AttributeError: type object 'Actions' has no attribute ''\n",
      "\n",
      "[ERROR] [1664895755.317639]: bad callback: <function act__ROS_callback at 0x7ff8600bbd30>\n",
      "Traceback (most recent call last):\n",
      "  File \"/home/petr/anaconda3/envs/robostackenv/lib/python3.8/site-packages/rospy/topics.py\", line 750, in _invoke_callback\n",
      "    cb(msg)\n",
      "  File \"/tmp/ipykernel_24544/844978657.py\", line 6, in act__ROS_callback\n",
      "    act(s, cop, (target_action, target_object))\n",
      "  File \"/home/petr/my_ws/src/context_based_gesture_operation/srcmodules/RobotActions.py\", line 15, in act\n",
      "    if not Actions.do(s, TaTo, ignore_location=True): raise Exception(\"Action not valid!\")\n",
      "  File \"/home/petr/my_ws/src/context_based_gesture_operation/srcmodules/Actions.py\", line 109, in do\n",
      "    ret = getattr(Actions, action[0])(s, o, p, ignore_location=ignore_location)\n",
      "AttributeError: type object 'Actions' has no attribute ''\n",
      "\n",
      "[ERROR] [1664895755.321847]: bad callback: <function act__ROS_callback at 0x7ff838723940>\n",
      "Traceback (most recent call last):\n",
      "  File \"/home/petr/anaconda3/envs/robostackenv/lib/python3.8/site-packages/rospy/topics.py\", line 750, in _invoke_callback\n",
      "    cb(msg)\n",
      "  File \"/tmp/ipykernel_24544/844978657.py\", line 6, in act__ROS_callback\n",
      "    act(s, cop, (target_action, target_object))\n",
      "  File \"/home/petr/my_ws/src/context_based_gesture_operation/srcmodules/RobotActions.py\", line 15, in act\n",
      "    if not Actions.do(s, TaTo, ignore_location=True): raise Exception(\"Action not valid!\")\n",
      "  File \"/home/petr/my_ws/src/context_based_gesture_operation/srcmodules/Actions.py\", line 109, in do\n",
      "    ret = getattr(Actions, action[0])(s, o, p, ignore_location=ignore_location)\n",
      "AttributeError: type object 'Actions' has no attribute ''\n",
      "\n"
     ]
    },
    {
     "name": "stderr",
     "output_type": "stream",
     "text": [
      "[ERROR] [1664895755.819003]: bad callback: <function act__ROS_callback at 0x7ff8600bbd30>\n",
      "Traceback (most recent call last):\n",
      "  File \"/home/petr/anaconda3/envs/robostackenv/lib/python3.8/site-packages/rospy/topics.py\", line 750, in _invoke_callback\n",
      "    cb(msg)\n",
      "  File \"/tmp/ipykernel_24544/844978657.py\", line 6, in act__ROS_callback\n",
      "    act(s, cop, (target_action, target_object))\n",
      "  File \"/home/petr/my_ws/src/context_based_gesture_operation/srcmodules/RobotActions.py\", line 15, in act\n",
      "    if not Actions.do(s, TaTo, ignore_location=True): raise Exception(\"Action not valid!\")\n",
      "  File \"/home/petr/my_ws/src/context_based_gesture_operation/srcmodules/Actions.py\", line 109, in do\n",
      "    ret = getattr(Actions, action[0])(s, o, p, ignore_location=ignore_location)\n",
      "AttributeError: type object 'Actions' has no attribute ''\n",
      "\n",
      "[ERROR] [1664895755.824122]: bad callback: <function act__ROS_callback at 0x7ff838723940>\n",
      "Traceback (most recent call last):\n",
      "  File \"/home/petr/anaconda3/envs/robostackenv/lib/python3.8/site-packages/rospy/topics.py\", line 750, in _invoke_callback\n",
      "    cb(msg)\n",
      "  File \"/tmp/ipykernel_24544/844978657.py\", line 6, in act__ROS_callback\n",
      "    act(s, cop, (target_action, target_object))\n",
      "  File \"/home/petr/my_ws/src/context_based_gesture_operation/srcmodules/RobotActions.py\", line 15, in act\n",
      "    if not Actions.do(s, TaTo, ignore_location=True): raise Exception(\"Action not valid!\")\n",
      "  File \"/home/petr/my_ws/src/context_based_gesture_operation/srcmodules/Actions.py\", line 109, in do\n",
      "    ret = getattr(Actions, action[0])(s, o, p, ignore_location=ignore_location)\n",
      "AttributeError: type object 'Actions' has no attribute ''\n",
      "\n",
      "[ERROR] [1664895756.321116]: bad callback: <function act__ROS_callback at 0x7ff8600bbd30>\n",
      "Traceback (most recent call last):\n",
      "  File \"/home/petr/anaconda3/envs/robostackenv/lib/python3.8/site-packages/rospy/topics.py\", line 750, in _invoke_callback\n",
      "    cb(msg)\n",
      "  File \"/tmp/ipykernel_24544/844978657.py\", line 6, in act__ROS_callback\n",
      "    act(s, cop, (target_action, target_object))\n",
      "  File \"/home/petr/my_ws/src/context_based_gesture_operation/srcmodules/RobotActions.py\", line 15, in act\n",
      "    if not Actions.do(s, TaTo, ignore_location=True): raise Exception(\"Action not valid!\")\n",
      "  File \"/home/petr/my_ws/src/context_based_gesture_operation/srcmodules/Actions.py\", line 109, in do\n",
      "    ret = getattr(Actions, action[0])(s, o, p, ignore_location=ignore_location)\n",
      "AttributeError: type object 'Actions' has no attribute ''\n",
      "\n",
      "[ERROR] [1664895756.325136]: bad callback: <function act__ROS_callback at 0x7ff838723940>\n",
      "Traceback (most recent call last):\n",
      "  File \"/home/petr/anaconda3/envs/robostackenv/lib/python3.8/site-packages/rospy/topics.py\", line 750, in _invoke_callback\n",
      "    cb(msg)\n",
      "  File \"/tmp/ipykernel_24544/844978657.py\", line 6, in act__ROS_callback\n",
      "    act(s, cop, (target_action, target_object))\n",
      "  File \"/home/petr/my_ws/src/context_based_gesture_operation/srcmodules/RobotActions.py\", line 15, in act\n",
      "    if not Actions.do(s, TaTo, ignore_location=True): raise Exception(\"Action not valid!\")\n",
      "  File \"/home/petr/my_ws/src/context_based_gesture_operation/srcmodules/Actions.py\", line 109, in do\n",
      "    ret = getattr(Actions, action[0])(s, o, p, ignore_location=ignore_location)\n",
      "AttributeError: type object 'Actions' has no attribute ''\n",
      "\n",
      "[ERROR] [1664895756.823058]: bad callback: <function act__ROS_callback at 0x7ff8600bbd30>\n",
      "Traceback (most recent call last):\n",
      "  File \"/home/petr/anaconda3/envs/robostackenv/lib/python3.8/site-packages/rospy/topics.py\", line 750, in _invoke_callback\n",
      "    cb(msg)\n",
      "  File \"/tmp/ipykernel_24544/844978657.py\", line 6, in act__ROS_callback\n",
      "    act(s, cop, (target_action, target_object))\n",
      "  File \"/home/petr/my_ws/src/context_based_gesture_operation/srcmodules/RobotActions.py\", line 15, in act\n",
      "    if not Actions.do(s, TaTo, ignore_location=True): raise Exception(\"Action not valid!\")\n",
      "  File \"/home/petr/my_ws/src/context_based_gesture_operation/srcmodules/Actions.py\", line 109, in do\n",
      "    ret = getattr(Actions, action[0])(s, o, p, ignore_location=ignore_location)\n",
      "AttributeError: type object 'Actions' has no attribute ''\n",
      "\n",
      "[ERROR] [1664895756.827392]: bad callback: <function act__ROS_callback at 0x7ff838723940>\n",
      "Traceback (most recent call last):\n",
      "  File \"/home/petr/anaconda3/envs/robostackenv/lib/python3.8/site-packages/rospy/topics.py\", line 750, in _invoke_callback\n",
      "    cb(msg)\n",
      "  File \"/tmp/ipykernel_24544/844978657.py\", line 6, in act__ROS_callback\n",
      "    act(s, cop, (target_action, target_object))\n",
      "  File \"/home/petr/my_ws/src/context_based_gesture_operation/srcmodules/RobotActions.py\", line 15, in act\n",
      "    if not Actions.do(s, TaTo, ignore_location=True): raise Exception(\"Action not valid!\")\n",
      "  File \"/home/petr/my_ws/src/context_based_gesture_operation/srcmodules/Actions.py\", line 109, in do\n",
      "    ret = getattr(Actions, action[0])(s, o, p, ignore_location=ignore_location)\n",
      "AttributeError: type object 'Actions' has no attribute ''\n",
      "\n",
      "[ERROR] [1664895757.325034]: bad callback: <function act__ROS_callback at 0x7ff8600bbd30>\n",
      "Traceback (most recent call last):\n",
      "  File \"/home/petr/anaconda3/envs/robostackenv/lib/python3.8/site-packages/rospy/topics.py\", line 750, in _invoke_callback\n",
      "    cb(msg)\n",
      "  File \"/tmp/ipykernel_24544/844978657.py\", line 6, in act__ROS_callback\n",
      "    act(s, cop, (target_action, target_object))\n",
      "  File \"/home/petr/my_ws/src/context_based_gesture_operation/srcmodules/RobotActions.py\", line 15, in act\n",
      "    if not Actions.do(s, TaTo, ignore_location=True): raise Exception(\"Action not valid!\")\n",
      "  File \"/home/petr/my_ws/src/context_based_gesture_operation/srcmodules/Actions.py\", line 109, in do\n",
      "    ret = getattr(Actions, action[0])(s, o, p, ignore_location=ignore_location)\n",
      "AttributeError: type object 'Actions' has no attribute ''\n",
      "\n",
      "[ERROR] [1664895757.333603]: bad callback: <function act__ROS_callback at 0x7ff838723940>\n",
      "Traceback (most recent call last):\n",
      "  File \"/home/petr/anaconda3/envs/robostackenv/lib/python3.8/site-packages/rospy/topics.py\", line 750, in _invoke_callback\n",
      "    cb(msg)\n",
      "  File \"/tmp/ipykernel_24544/844978657.py\", line 6, in act__ROS_callback\n",
      "    act(s, cop, (target_action, target_object))\n",
      "  File \"/home/petr/my_ws/src/context_based_gesture_operation/srcmodules/RobotActions.py\", line 15, in act\n",
      "    if not Actions.do(s, TaTo, ignore_location=True): raise Exception(\"Action not valid!\")\n",
      "  File \"/home/petr/my_ws/src/context_based_gesture_operation/srcmodules/Actions.py\", line 109, in do\n",
      "    ret = getattr(Actions, action[0])(s, o, p, ignore_location=ignore_location)\n",
      "AttributeError: type object 'Actions' has no attribute ''\n",
      "\n",
      "[ERROR] [1664895757.825904]: bad callback: <function act__ROS_callback at 0x7ff8600bbd30>\n",
      "Traceback (most recent call last):\n",
      "  File \"/home/petr/anaconda3/envs/robostackenv/lib/python3.8/site-packages/rospy/topics.py\", line 750, in _invoke_callback\n",
      "    cb(msg)\n",
      "  File \"/tmp/ipykernel_24544/844978657.py\", line 6, in act__ROS_callback\n",
      "    act(s, cop, (target_action, target_object))\n",
      "  File \"/home/petr/my_ws/src/context_based_gesture_operation/srcmodules/RobotActions.py\", line 15, in act\n",
      "    if not Actions.do(s, TaTo, ignore_location=True): raise Exception(\"Action not valid!\")\n",
      "  File \"/home/petr/my_ws/src/context_based_gesture_operation/srcmodules/Actions.py\", line 109, in do\n",
      "    ret = getattr(Actions, action[0])(s, o, p, ignore_location=ignore_location)\n",
      "AttributeError: type object 'Actions' has no attribute ''\n",
      "\n",
      "[ERROR] [1664895757.829947]: bad callback: <function act__ROS_callback at 0x7ff838723940>\n",
      "Traceback (most recent call last):\n",
      "  File \"/home/petr/anaconda3/envs/robostackenv/lib/python3.8/site-packages/rospy/topics.py\", line 750, in _invoke_callback\n",
      "    cb(msg)\n",
      "  File \"/tmp/ipykernel_24544/844978657.py\", line 6, in act__ROS_callback\n",
      "    act(s, cop, (target_action, target_object))\n",
      "  File \"/home/petr/my_ws/src/context_based_gesture_operation/srcmodules/RobotActions.py\", line 15, in act\n",
      "    if not Actions.do(s, TaTo, ignore_location=True): raise Exception(\"Action not valid!\")\n",
      "  File \"/home/petr/my_ws/src/context_based_gesture_operation/srcmodules/Actions.py\", line 109, in do\n",
      "    ret = getattr(Actions, action[0])(s, o, p, ignore_location=ignore_location)\n",
      "AttributeError: type object 'Actions' has no attribute ''\n",
      "\n",
      "[ERROR] [1664895758.328889]: bad callback: <function act__ROS_callback at 0x7ff8600bbd30>\n",
      "Traceback (most recent call last):\n",
      "  File \"/home/petr/anaconda3/envs/robostackenv/lib/python3.8/site-packages/rospy/topics.py\", line 750, in _invoke_callback\n",
      "    cb(msg)\n",
      "  File \"/tmp/ipykernel_24544/844978657.py\", line 6, in act__ROS_callback\n",
      "    act(s, cop, (target_action, target_object))\n",
      "  File \"/home/petr/my_ws/src/context_based_gesture_operation/srcmodules/RobotActions.py\", line 15, in act\n",
      "    if not Actions.do(s, TaTo, ignore_location=True): raise Exception(\"Action not valid!\")\n",
      "  File \"/home/petr/my_ws/src/context_based_gesture_operation/srcmodules/Actions.py\", line 109, in do\n",
      "    ret = getattr(Actions, action[0])(s, o, p, ignore_location=ignore_location)\n",
      "AttributeError: type object 'Actions' has no attribute ''\n",
      "\n",
      "[ERROR] [1664895758.333049]: bad callback: <function act__ROS_callback at 0x7ff838723940>\n",
      "Traceback (most recent call last):\n",
      "  File \"/home/petr/anaconda3/envs/robostackenv/lib/python3.8/site-packages/rospy/topics.py\", line 750, in _invoke_callback\n",
      "    cb(msg)\n",
      "  File \"/tmp/ipykernel_24544/844978657.py\", line 6, in act__ROS_callback\n",
      "    act(s, cop, (target_action, target_object))\n",
      "  File \"/home/petr/my_ws/src/context_based_gesture_operation/srcmodules/RobotActions.py\", line 15, in act\n",
      "    if not Actions.do(s, TaTo, ignore_location=True): raise Exception(\"Action not valid!\")\n",
      "  File \"/home/petr/my_ws/src/context_based_gesture_operation/srcmodules/Actions.py\", line 109, in do\n",
      "    ret = getattr(Actions, action[0])(s, o, p, ignore_location=ignore_location)\n",
      "AttributeError: type object 'Actions' has no attribute ''\n",
      "\n"
     ]
    },
    {
     "name": "stderr",
     "output_type": "stream",
     "text": [
      "[ERROR] [1664895758.830796]: bad callback: <function act__ROS_callback at 0x7ff8600bbd30>\n",
      "Traceback (most recent call last):\n",
      "  File \"/home/petr/anaconda3/envs/robostackenv/lib/python3.8/site-packages/rospy/topics.py\", line 750, in _invoke_callback\n",
      "    cb(msg)\n",
      "  File \"/tmp/ipykernel_24544/844978657.py\", line 6, in act__ROS_callback\n",
      "    act(s, cop, (target_action, target_object))\n",
      "  File \"/home/petr/my_ws/src/context_based_gesture_operation/srcmodules/RobotActions.py\", line 15, in act\n",
      "    if not Actions.do(s, TaTo, ignore_location=True): raise Exception(\"Action not valid!\")\n",
      "  File \"/home/petr/my_ws/src/context_based_gesture_operation/srcmodules/Actions.py\", line 109, in do\n",
      "    ret = getattr(Actions, action[0])(s, o, p, ignore_location=ignore_location)\n",
      "AttributeError: type object 'Actions' has no attribute ''\n",
      "\n",
      "[ERROR] [1664895758.834867]: bad callback: <function act__ROS_callback at 0x7ff838723940>\n",
      "Traceback (most recent call last):\n",
      "  File \"/home/petr/anaconda3/envs/robostackenv/lib/python3.8/site-packages/rospy/topics.py\", line 750, in _invoke_callback\n",
      "    cb(msg)\n",
      "  File \"/tmp/ipykernel_24544/844978657.py\", line 6, in act__ROS_callback\n",
      "    act(s, cop, (target_action, target_object))\n",
      "  File \"/home/petr/my_ws/src/context_based_gesture_operation/srcmodules/RobotActions.py\", line 15, in act\n",
      "    if not Actions.do(s, TaTo, ignore_location=True): raise Exception(\"Action not valid!\")\n",
      "  File \"/home/petr/my_ws/src/context_based_gesture_operation/srcmodules/Actions.py\", line 109, in do\n",
      "    ret = getattr(Actions, action[0])(s, o, p, ignore_location=ignore_location)\n",
      "AttributeError: type object 'Actions' has no attribute ''\n",
      "\n",
      "[ERROR] [1664895759.332774]: bad callback: <function act__ROS_callback at 0x7ff8600bbd30>\n",
      "Traceback (most recent call last):\n",
      "  File \"/home/petr/anaconda3/envs/robostackenv/lib/python3.8/site-packages/rospy/topics.py\", line 750, in _invoke_callback\n",
      "    cb(msg)\n",
      "  File \"/tmp/ipykernel_24544/844978657.py\", line 6, in act__ROS_callback\n",
      "    act(s, cop, (target_action, target_object))\n",
      "  File \"/home/petr/my_ws/src/context_based_gesture_operation/srcmodules/RobotActions.py\", line 15, in act\n",
      "    if not Actions.do(s, TaTo, ignore_location=True): raise Exception(\"Action not valid!\")\n",
      "  File \"/home/petr/my_ws/src/context_based_gesture_operation/srcmodules/Actions.py\", line 109, in do\n",
      "    ret = getattr(Actions, action[0])(s, o, p, ignore_location=ignore_location)\n",
      "AttributeError: type object 'Actions' has no attribute ''\n",
      "\n",
      "[ERROR] [1664895759.336925]: bad callback: <function act__ROS_callback at 0x7ff838723940>\n",
      "Traceback (most recent call last):\n",
      "  File \"/home/petr/anaconda3/envs/robostackenv/lib/python3.8/site-packages/rospy/topics.py\", line 750, in _invoke_callback\n",
      "    cb(msg)\n",
      "  File \"/tmp/ipykernel_24544/844978657.py\", line 6, in act__ROS_callback\n",
      "    act(s, cop, (target_action, target_object))\n",
      "  File \"/home/petr/my_ws/src/context_based_gesture_operation/srcmodules/RobotActions.py\", line 15, in act\n",
      "    if not Actions.do(s, TaTo, ignore_location=True): raise Exception(\"Action not valid!\")\n",
      "  File \"/home/petr/my_ws/src/context_based_gesture_operation/srcmodules/Actions.py\", line 109, in do\n",
      "    ret = getattr(Actions, action[0])(s, o, p, ignore_location=ignore_location)\n",
      "AttributeError: type object 'Actions' has no attribute ''\n",
      "\n",
      "[ERROR] [1664895759.834629]: bad callback: <function act__ROS_callback at 0x7ff8600bbd30>\n",
      "Traceback (most recent call last):\n",
      "  File \"/home/petr/anaconda3/envs/robostackenv/lib/python3.8/site-packages/rospy/topics.py\", line 750, in _invoke_callback\n",
      "    cb(msg)\n",
      "  File \"/tmp/ipykernel_24544/844978657.py\", line 6, in act__ROS_callback\n",
      "    act(s, cop, (target_action, target_object))\n",
      "  File \"/home/petr/my_ws/src/context_based_gesture_operation/srcmodules/RobotActions.py\", line 15, in act\n",
      "    if not Actions.do(s, TaTo, ignore_location=True): raise Exception(\"Action not valid!\")\n",
      "  File \"/home/petr/my_ws/src/context_based_gesture_operation/srcmodules/Actions.py\", line 109, in do\n",
      "    ret = getattr(Actions, action[0])(s, o, p, ignore_location=ignore_location)\n",
      "AttributeError: type object 'Actions' has no attribute ''\n",
      "\n",
      "[ERROR] [1664895759.838802]: bad callback: <function act__ROS_callback at 0x7ff838723940>\n",
      "Traceback (most recent call last):\n",
      "  File \"/home/petr/anaconda3/envs/robostackenv/lib/python3.8/site-packages/rospy/topics.py\", line 750, in _invoke_callback\n",
      "    cb(msg)\n",
      "  File \"/tmp/ipykernel_24544/844978657.py\", line 6, in act__ROS_callback\n",
      "    act(s, cop, (target_action, target_object))\n",
      "  File \"/home/petr/my_ws/src/context_based_gesture_operation/srcmodules/RobotActions.py\", line 15, in act\n",
      "    if not Actions.do(s, TaTo, ignore_location=True): raise Exception(\"Action not valid!\")\n",
      "  File \"/home/petr/my_ws/src/context_based_gesture_operation/srcmodules/Actions.py\", line 109, in do\n",
      "    ret = getattr(Actions, action[0])(s, o, p, ignore_location=ignore_location)\n",
      "AttributeError: type object 'Actions' has no attribute ''\n",
      "\n",
      "[ERROR] [1664895760.336581]: bad callback: <function act__ROS_callback at 0x7ff8600bbd30>\n",
      "Traceback (most recent call last):\n",
      "  File \"/home/petr/anaconda3/envs/robostackenv/lib/python3.8/site-packages/rospy/topics.py\", line 750, in _invoke_callback\n",
      "    cb(msg)\n",
      "  File \"/tmp/ipykernel_24544/844978657.py\", line 6, in act__ROS_callback\n",
      "    act(s, cop, (target_action, target_object))\n",
      "  File \"/home/petr/my_ws/src/context_based_gesture_operation/srcmodules/RobotActions.py\", line 15, in act\n",
      "    if not Actions.do(s, TaTo, ignore_location=True): raise Exception(\"Action not valid!\")\n",
      "  File \"/home/petr/my_ws/src/context_based_gesture_operation/srcmodules/Actions.py\", line 109, in do\n",
      "    ret = getattr(Actions, action[0])(s, o, p, ignore_location=ignore_location)\n",
      "AttributeError: type object 'Actions' has no attribute ''\n",
      "\n",
      "[ERROR] [1664895760.340856]: bad callback: <function act__ROS_callback at 0x7ff838723940>\n",
      "Traceback (most recent call last):\n",
      "  File \"/home/petr/anaconda3/envs/robostackenv/lib/python3.8/site-packages/rospy/topics.py\", line 750, in _invoke_callback\n",
      "    cb(msg)\n",
      "  File \"/tmp/ipykernel_24544/844978657.py\", line 6, in act__ROS_callback\n",
      "    act(s, cop, (target_action, target_object))\n",
      "  File \"/home/petr/my_ws/src/context_based_gesture_operation/srcmodules/RobotActions.py\", line 15, in act\n",
      "    if not Actions.do(s, TaTo, ignore_location=True): raise Exception(\"Action not valid!\")\n",
      "  File \"/home/petr/my_ws/src/context_based_gesture_operation/srcmodules/Actions.py\", line 109, in do\n",
      "    ret = getattr(Actions, action[0])(s, o, p, ignore_location=ignore_location)\n",
      "AttributeError: type object 'Actions' has no attribute ''\n",
      "\n",
      "[ERROR] [1664895760.838469]: bad callback: <function act__ROS_callback at 0x7ff8600bbd30>\n",
      "Traceback (most recent call last):\n",
      "  File \"/home/petr/anaconda3/envs/robostackenv/lib/python3.8/site-packages/rospy/topics.py\", line 750, in _invoke_callback\n",
      "    cb(msg)\n",
      "  File \"/tmp/ipykernel_24544/844978657.py\", line 6, in act__ROS_callback\n",
      "    act(s, cop, (target_action, target_object))\n",
      "  File \"/home/petr/my_ws/src/context_based_gesture_operation/srcmodules/RobotActions.py\", line 15, in act\n",
      "    if not Actions.do(s, TaTo, ignore_location=True): raise Exception(\"Action not valid!\")\n",
      "  File \"/home/petr/my_ws/src/context_based_gesture_operation/srcmodules/Actions.py\", line 109, in do\n",
      "    ret = getattr(Actions, action[0])(s, o, p, ignore_location=ignore_location)\n",
      "AttributeError: type object 'Actions' has no attribute ''\n",
      "\n",
      "[ERROR] [1664895760.843115]: bad callback: <function act__ROS_callback at 0x7ff838723940>\n",
      "Traceback (most recent call last):\n",
      "  File \"/home/petr/anaconda3/envs/robostackenv/lib/python3.8/site-packages/rospy/topics.py\", line 750, in _invoke_callback\n",
      "    cb(msg)\n",
      "  File \"/tmp/ipykernel_24544/844978657.py\", line 6, in act__ROS_callback\n",
      "    act(s, cop, (target_action, target_object))\n",
      "  File \"/home/petr/my_ws/src/context_based_gesture_operation/srcmodules/RobotActions.py\", line 15, in act\n",
      "    if not Actions.do(s, TaTo, ignore_location=True): raise Exception(\"Action not valid!\")\n",
      "  File \"/home/petr/my_ws/src/context_based_gesture_operation/srcmodules/Actions.py\", line 109, in do\n",
      "    ret = getattr(Actions, action[0])(s, o, p, ignore_location=ignore_location)\n",
      "AttributeError: type object 'Actions' has no attribute ''\n",
      "\n",
      "[ERROR] [1664895761.340437]: bad callback: <function act__ROS_callback at 0x7ff8600bbd30>\n",
      "Traceback (most recent call last):\n",
      "  File \"/home/petr/anaconda3/envs/robostackenv/lib/python3.8/site-packages/rospy/topics.py\", line 750, in _invoke_callback\n",
      "    cb(msg)\n",
      "  File \"/tmp/ipykernel_24544/844978657.py\", line 6, in act__ROS_callback\n",
      "    act(s, cop, (target_action, target_object))\n",
      "  File \"/home/petr/my_ws/src/context_based_gesture_operation/srcmodules/RobotActions.py\", line 15, in act\n",
      "    if not Actions.do(s, TaTo, ignore_location=True): raise Exception(\"Action not valid!\")\n",
      "  File \"/home/petr/my_ws/src/context_based_gesture_operation/srcmodules/Actions.py\", line 109, in do\n",
      "    ret = getattr(Actions, action[0])(s, o, p, ignore_location=ignore_location)\n",
      "AttributeError: type object 'Actions' has no attribute ''\n",
      "\n",
      "[ERROR] [1664895761.344616]: bad callback: <function act__ROS_callback at 0x7ff838723940>\n",
      "Traceback (most recent call last):\n",
      "  File \"/home/petr/anaconda3/envs/robostackenv/lib/python3.8/site-packages/rospy/topics.py\", line 750, in _invoke_callback\n",
      "    cb(msg)\n",
      "  File \"/tmp/ipykernel_24544/844978657.py\", line 6, in act__ROS_callback\n",
      "    act(s, cop, (target_action, target_object))\n",
      "  File \"/home/petr/my_ws/src/context_based_gesture_operation/srcmodules/RobotActions.py\", line 15, in act\n",
      "    if not Actions.do(s, TaTo, ignore_location=True): raise Exception(\"Action not valid!\")\n",
      "  File \"/home/petr/my_ws/src/context_based_gesture_operation/srcmodules/Actions.py\", line 109, in do\n",
      "    ret = getattr(Actions, action[0])(s, o, p, ignore_location=ignore_location)\n",
      "AttributeError: type object 'Actions' has no attribute ''\n",
      "\n"
     ]
    },
    {
     "name": "stderr",
     "output_type": "stream",
     "text": [
      "[ERROR] [1664895761.842498]: bad callback: <function act__ROS_callback at 0x7ff8600bbd30>\n",
      "Traceback (most recent call last):\n",
      "  File \"/home/petr/anaconda3/envs/robostackenv/lib/python3.8/site-packages/rospy/topics.py\", line 750, in _invoke_callback\n",
      "    cb(msg)\n",
      "  File \"/tmp/ipykernel_24544/844978657.py\", line 6, in act__ROS_callback\n",
      "    act(s, cop, (target_action, target_object))\n",
      "  File \"/home/petr/my_ws/src/context_based_gesture_operation/srcmodules/RobotActions.py\", line 15, in act\n",
      "    if not Actions.do(s, TaTo, ignore_location=True): raise Exception(\"Action not valid!\")\n",
      "  File \"/home/petr/my_ws/src/context_based_gesture_operation/srcmodules/Actions.py\", line 109, in do\n",
      "    ret = getattr(Actions, action[0])(s, o, p, ignore_location=ignore_location)\n",
      "AttributeError: type object 'Actions' has no attribute ''\n",
      "\n",
      "[ERROR] [1664895761.847035]: bad callback: <function act__ROS_callback at 0x7ff838723940>\n",
      "Traceback (most recent call last):\n",
      "  File \"/home/petr/anaconda3/envs/robostackenv/lib/python3.8/site-packages/rospy/topics.py\", line 750, in _invoke_callback\n",
      "    cb(msg)\n",
      "  File \"/tmp/ipykernel_24544/844978657.py\", line 6, in act__ROS_callback\n",
      "    act(s, cop, (target_action, target_object))\n",
      "  File \"/home/petr/my_ws/src/context_based_gesture_operation/srcmodules/RobotActions.py\", line 15, in act\n",
      "    if not Actions.do(s, TaTo, ignore_location=True): raise Exception(\"Action not valid!\")\n",
      "  File \"/home/petr/my_ws/src/context_based_gesture_operation/srcmodules/Actions.py\", line 109, in do\n",
      "    ret = getattr(Actions, action[0])(s, o, p, ignore_location=ignore_location)\n",
      "AttributeError: type object 'Actions' has no attribute ''\n",
      "\n",
      "[ERROR] [1664895762.344810]: bad callback: <function act__ROS_callback at 0x7ff8600bbd30>\n",
      "Traceback (most recent call last):\n",
      "  File \"/home/petr/anaconda3/envs/robostackenv/lib/python3.8/site-packages/rospy/topics.py\", line 750, in _invoke_callback\n",
      "    cb(msg)\n",
      "  File \"/tmp/ipykernel_24544/844978657.py\", line 6, in act__ROS_callback\n",
      "    act(s, cop, (target_action, target_object))\n",
      "  File \"/home/petr/my_ws/src/context_based_gesture_operation/srcmodules/RobotActions.py\", line 15, in act\n",
      "    if not Actions.do(s, TaTo, ignore_location=True): raise Exception(\"Action not valid!\")\n",
      "  File \"/home/petr/my_ws/src/context_based_gesture_operation/srcmodules/Actions.py\", line 109, in do\n",
      "    ret = getattr(Actions, action[0])(s, o, p, ignore_location=ignore_location)\n",
      "AttributeError: type object 'Actions' has no attribute ''\n",
      "\n",
      "[ERROR] [1664895762.349758]: bad callback: <function act__ROS_callback at 0x7ff838723940>\n",
      "Traceback (most recent call last):\n",
      "  File \"/home/petr/anaconda3/envs/robostackenv/lib/python3.8/site-packages/rospy/topics.py\", line 750, in _invoke_callback\n",
      "    cb(msg)\n",
      "  File \"/tmp/ipykernel_24544/844978657.py\", line 6, in act__ROS_callback\n",
      "    act(s, cop, (target_action, target_object))\n",
      "  File \"/home/petr/my_ws/src/context_based_gesture_operation/srcmodules/RobotActions.py\", line 15, in act\n",
      "    if not Actions.do(s, TaTo, ignore_location=True): raise Exception(\"Action not valid!\")\n",
      "  File \"/home/petr/my_ws/src/context_based_gesture_operation/srcmodules/Actions.py\", line 109, in do\n",
      "    ret = getattr(Actions, action[0])(s, o, p, ignore_location=ignore_location)\n",
      "AttributeError: type object 'Actions' has no attribute ''\n",
      "\n",
      "[ERROR] [1664895762.846998]: bad callback: <function act__ROS_callback at 0x7ff8600bbd30>\n",
      "Traceback (most recent call last):\n",
      "  File \"/home/petr/anaconda3/envs/robostackenv/lib/python3.8/site-packages/rospy/topics.py\", line 750, in _invoke_callback\n",
      "    cb(msg)\n",
      "  File \"/tmp/ipykernel_24544/844978657.py\", line 6, in act__ROS_callback\n",
      "    act(s, cop, (target_action, target_object))\n",
      "  File \"/home/petr/my_ws/src/context_based_gesture_operation/srcmodules/RobotActions.py\", line 15, in act\n",
      "    if not Actions.do(s, TaTo, ignore_location=True): raise Exception(\"Action not valid!\")\n",
      "  File \"/home/petr/my_ws/src/context_based_gesture_operation/srcmodules/Actions.py\", line 109, in do\n",
      "    ret = getattr(Actions, action[0])(s, o, p, ignore_location=ignore_location)\n",
      "AttributeError: type object 'Actions' has no attribute ''\n",
      "\n",
      "[ERROR] [1664895762.851294]: bad callback: <function act__ROS_callback at 0x7ff838723940>\n",
      "Traceback (most recent call last):\n",
      "  File \"/home/petr/anaconda3/envs/robostackenv/lib/python3.8/site-packages/rospy/topics.py\", line 750, in _invoke_callback\n",
      "    cb(msg)\n",
      "  File \"/tmp/ipykernel_24544/844978657.py\", line 6, in act__ROS_callback\n",
      "    act(s, cop, (target_action, target_object))\n",
      "  File \"/home/petr/my_ws/src/context_based_gesture_operation/srcmodules/RobotActions.py\", line 15, in act\n",
      "    if not Actions.do(s, TaTo, ignore_location=True): raise Exception(\"Action not valid!\")\n",
      "  File \"/home/petr/my_ws/src/context_based_gesture_operation/srcmodules/Actions.py\", line 109, in do\n",
      "    ret = getattr(Actions, action[0])(s, o, p, ignore_location=ignore_location)\n",
      "AttributeError: type object 'Actions' has no attribute ''\n",
      "\n",
      "[ERROR] [1664895763.348952]: bad callback: <function act__ROS_callback at 0x7ff8600bbd30>\n",
      "Traceback (most recent call last):\n",
      "  File \"/home/petr/anaconda3/envs/robostackenv/lib/python3.8/site-packages/rospy/topics.py\", line 750, in _invoke_callback\n",
      "    cb(msg)\n",
      "  File \"/tmp/ipykernel_24544/844978657.py\", line 6, in act__ROS_callback\n",
      "    act(s, cop, (target_action, target_object))\n",
      "  File \"/home/petr/my_ws/src/context_based_gesture_operation/srcmodules/RobotActions.py\", line 15, in act\n",
      "    if not Actions.do(s, TaTo, ignore_location=True): raise Exception(\"Action not valid!\")\n",
      "  File \"/home/petr/my_ws/src/context_based_gesture_operation/srcmodules/Actions.py\", line 109, in do\n",
      "    ret = getattr(Actions, action[0])(s, o, p, ignore_location=ignore_location)\n",
      "AttributeError: type object 'Actions' has no attribute ''\n",
      "\n",
      "[ERROR] [1664895763.353277]: bad callback: <function act__ROS_callback at 0x7ff838723940>\n",
      "Traceback (most recent call last):\n",
      "  File \"/home/petr/anaconda3/envs/robostackenv/lib/python3.8/site-packages/rospy/topics.py\", line 750, in _invoke_callback\n",
      "    cb(msg)\n",
      "  File \"/tmp/ipykernel_24544/844978657.py\", line 6, in act__ROS_callback\n",
      "    act(s, cop, (target_action, target_object))\n",
      "  File \"/home/petr/my_ws/src/context_based_gesture_operation/srcmodules/RobotActions.py\", line 15, in act\n",
      "    if not Actions.do(s, TaTo, ignore_location=True): raise Exception(\"Action not valid!\")\n",
      "  File \"/home/petr/my_ws/src/context_based_gesture_operation/srcmodules/Actions.py\", line 109, in do\n",
      "    ret = getattr(Actions, action[0])(s, o, p, ignore_location=ignore_location)\n",
      "AttributeError: type object 'Actions' has no attribute ''\n",
      "\n",
      "[ERROR] [1664895763.851057]: bad callback: <function act__ROS_callback at 0x7ff8600bbd30>\n",
      "Traceback (most recent call last):\n",
      "  File \"/home/petr/anaconda3/envs/robostackenv/lib/python3.8/site-packages/rospy/topics.py\", line 750, in _invoke_callback\n",
      "    cb(msg)\n",
      "  File \"/tmp/ipykernel_24544/844978657.py\", line 6, in act__ROS_callback\n",
      "    act(s, cop, (target_action, target_object))\n",
      "  File \"/home/petr/my_ws/src/context_based_gesture_operation/srcmodules/RobotActions.py\", line 15, in act\n",
      "    if not Actions.do(s, TaTo, ignore_location=True): raise Exception(\"Action not valid!\")\n",
      "  File \"/home/petr/my_ws/src/context_based_gesture_operation/srcmodules/Actions.py\", line 109, in do\n",
      "    ret = getattr(Actions, action[0])(s, o, p, ignore_location=ignore_location)\n",
      "AttributeError: type object 'Actions' has no attribute ''\n",
      "\n",
      "[ERROR] [1664895763.855584]: bad callback: <function act__ROS_callback at 0x7ff838723940>\n",
      "Traceback (most recent call last):\n",
      "  File \"/home/petr/anaconda3/envs/robostackenv/lib/python3.8/site-packages/rospy/topics.py\", line 750, in _invoke_callback\n",
      "    cb(msg)\n",
      "  File \"/tmp/ipykernel_24544/844978657.py\", line 6, in act__ROS_callback\n",
      "    act(s, cop, (target_action, target_object))\n",
      "  File \"/home/petr/my_ws/src/context_based_gesture_operation/srcmodules/RobotActions.py\", line 15, in act\n",
      "    if not Actions.do(s, TaTo, ignore_location=True): raise Exception(\"Action not valid!\")\n",
      "  File \"/home/petr/my_ws/src/context_based_gesture_operation/srcmodules/Actions.py\", line 109, in do\n",
      "    ret = getattr(Actions, action[0])(s, o, p, ignore_location=ignore_location)\n",
      "AttributeError: type object 'Actions' has no attribute ''\n",
      "\n",
      "[ERROR] [1664895764.353808]: bad callback: <function act__ROS_callback at 0x7ff8600bbd30>\n",
      "Traceback (most recent call last):\n",
      "  File \"/home/petr/anaconda3/envs/robostackenv/lib/python3.8/site-packages/rospy/topics.py\", line 750, in _invoke_callback\n",
      "    cb(msg)\n",
      "  File \"/tmp/ipykernel_24544/844978657.py\", line 6, in act__ROS_callback\n",
      "    act(s, cop, (target_action, target_object))\n",
      "  File \"/home/petr/my_ws/src/context_based_gesture_operation/srcmodules/RobotActions.py\", line 15, in act\n",
      "    if not Actions.do(s, TaTo, ignore_location=True): raise Exception(\"Action not valid!\")\n",
      "  File \"/home/petr/my_ws/src/context_based_gesture_operation/srcmodules/Actions.py\", line 109, in do\n",
      "    ret = getattr(Actions, action[0])(s, o, p, ignore_location=ignore_location)\n",
      "AttributeError: type object 'Actions' has no attribute ''\n",
      "\n",
      "[ERROR] [1664895764.359406]: bad callback: <function act__ROS_callback at 0x7ff838723940>\n",
      "Traceback (most recent call last):\n",
      "  File \"/home/petr/anaconda3/envs/robostackenv/lib/python3.8/site-packages/rospy/topics.py\", line 750, in _invoke_callback\n",
      "    cb(msg)\n",
      "  File \"/tmp/ipykernel_24544/844978657.py\", line 6, in act__ROS_callback\n",
      "    act(s, cop, (target_action, target_object))\n",
      "  File \"/home/petr/my_ws/src/context_based_gesture_operation/srcmodules/RobotActions.py\", line 15, in act\n",
      "    if not Actions.do(s, TaTo, ignore_location=True): raise Exception(\"Action not valid!\")\n",
      "  File \"/home/petr/my_ws/src/context_based_gesture_operation/srcmodules/Actions.py\", line 109, in do\n",
      "    ret = getattr(Actions, action[0])(s, o, p, ignore_location=ignore_location)\n",
      "AttributeError: type object 'Actions' has no attribute ''\n",
      "\n"
     ]
    },
    {
     "name": "stderr",
     "output_type": "stream",
     "text": [
      "[ERROR] [1664895764.854992]: bad callback: <function act__ROS_callback at 0x7ff8600bbd30>\n",
      "Traceback (most recent call last):\n",
      "  File \"/home/petr/anaconda3/envs/robostackenv/lib/python3.8/site-packages/rospy/topics.py\", line 750, in _invoke_callback\n",
      "    cb(msg)\n",
      "  File \"/tmp/ipykernel_24544/844978657.py\", line 6, in act__ROS_callback\n",
      "    act(s, cop, (target_action, target_object))\n",
      "  File \"/home/petr/my_ws/src/context_based_gesture_operation/srcmodules/RobotActions.py\", line 15, in act\n",
      "    if not Actions.do(s, TaTo, ignore_location=True): raise Exception(\"Action not valid!\")\n",
      "  File \"/home/petr/my_ws/src/context_based_gesture_operation/srcmodules/Actions.py\", line 109, in do\n",
      "    ret = getattr(Actions, action[0])(s, o, p, ignore_location=ignore_location)\n",
      "AttributeError: type object 'Actions' has no attribute ''\n",
      "\n",
      "[ERROR] [1664895764.859359]: bad callback: <function act__ROS_callback at 0x7ff838723940>\n",
      "Traceback (most recent call last):\n",
      "  File \"/home/petr/anaconda3/envs/robostackenv/lib/python3.8/site-packages/rospy/topics.py\", line 750, in _invoke_callback\n",
      "    cb(msg)\n",
      "  File \"/tmp/ipykernel_24544/844978657.py\", line 6, in act__ROS_callback\n",
      "    act(s, cop, (target_action, target_object))\n",
      "  File \"/home/petr/my_ws/src/context_based_gesture_operation/srcmodules/RobotActions.py\", line 15, in act\n",
      "    if not Actions.do(s, TaTo, ignore_location=True): raise Exception(\"Action not valid!\")\n",
      "  File \"/home/petr/my_ws/src/context_based_gesture_operation/srcmodules/Actions.py\", line 109, in do\n",
      "    ret = getattr(Actions, action[0])(s, o, p, ignore_location=ignore_location)\n",
      "AttributeError: type object 'Actions' has no attribute ''\n",
      "\n",
      "[ERROR] [1664895765.356937]: bad callback: <function act__ROS_callback at 0x7ff8600bbd30>\n",
      "Traceback (most recent call last):\n",
      "  File \"/home/petr/anaconda3/envs/robostackenv/lib/python3.8/site-packages/rospy/topics.py\", line 750, in _invoke_callback\n",
      "    cb(msg)\n",
      "  File \"/tmp/ipykernel_24544/844978657.py\", line 6, in act__ROS_callback\n",
      "    act(s, cop, (target_action, target_object))\n",
      "  File \"/home/petr/my_ws/src/context_based_gesture_operation/srcmodules/RobotActions.py\", line 15, in act\n",
      "    if not Actions.do(s, TaTo, ignore_location=True): raise Exception(\"Action not valid!\")\n",
      "  File \"/home/petr/my_ws/src/context_based_gesture_operation/srcmodules/Actions.py\", line 109, in do\n",
      "    ret = getattr(Actions, action[0])(s, o, p, ignore_location=ignore_location)\n",
      "AttributeError: type object 'Actions' has no attribute ''\n",
      "\n",
      "[ERROR] [1664895765.361194]: bad callback: <function act__ROS_callback at 0x7ff838723940>\n",
      "Traceback (most recent call last):\n",
      "  File \"/home/petr/anaconda3/envs/robostackenv/lib/python3.8/site-packages/rospy/topics.py\", line 750, in _invoke_callback\n",
      "    cb(msg)\n",
      "  File \"/tmp/ipykernel_24544/844978657.py\", line 6, in act__ROS_callback\n",
      "    act(s, cop, (target_action, target_object))\n",
      "  File \"/home/petr/my_ws/src/context_based_gesture_operation/srcmodules/RobotActions.py\", line 15, in act\n",
      "    if not Actions.do(s, TaTo, ignore_location=True): raise Exception(\"Action not valid!\")\n",
      "  File \"/home/petr/my_ws/src/context_based_gesture_operation/srcmodules/Actions.py\", line 109, in do\n",
      "    ret = getattr(Actions, action[0])(s, o, p, ignore_location=ignore_location)\n",
      "AttributeError: type object 'Actions' has no attribute ''\n",
      "\n",
      "[ERROR] [1664895765.858842]: bad callback: <function act__ROS_callback at 0x7ff8600bbd30>\n",
      "Traceback (most recent call last):\n",
      "  File \"/home/petr/anaconda3/envs/robostackenv/lib/python3.8/site-packages/rospy/topics.py\", line 750, in _invoke_callback\n",
      "    cb(msg)\n",
      "  File \"/tmp/ipykernel_24544/844978657.py\", line 6, in act__ROS_callback\n",
      "    act(s, cop, (target_action, target_object))\n",
      "  File \"/home/petr/my_ws/src/context_based_gesture_operation/srcmodules/RobotActions.py\", line 15, in act\n",
      "    if not Actions.do(s, TaTo, ignore_location=True): raise Exception(\"Action not valid!\")\n",
      "  File \"/home/petr/my_ws/src/context_based_gesture_operation/srcmodules/Actions.py\", line 109, in do\n",
      "    ret = getattr(Actions, action[0])(s, o, p, ignore_location=ignore_location)\n",
      "AttributeError: type object 'Actions' has no attribute ''\n",
      "\n",
      "[ERROR] [1664895765.863945]: bad callback: <function act__ROS_callback at 0x7ff838723940>\n",
      "Traceback (most recent call last):\n",
      "  File \"/home/petr/anaconda3/envs/robostackenv/lib/python3.8/site-packages/rospy/topics.py\", line 750, in _invoke_callback\n",
      "    cb(msg)\n",
      "  File \"/tmp/ipykernel_24544/844978657.py\", line 6, in act__ROS_callback\n",
      "    act(s, cop, (target_action, target_object))\n",
      "  File \"/home/petr/my_ws/src/context_based_gesture_operation/srcmodules/RobotActions.py\", line 15, in act\n",
      "    if not Actions.do(s, TaTo, ignore_location=True): raise Exception(\"Action not valid!\")\n",
      "  File \"/home/petr/my_ws/src/context_based_gesture_operation/srcmodules/Actions.py\", line 109, in do\n",
      "    ret = getattr(Actions, action[0])(s, o, p, ignore_location=ignore_location)\n",
      "AttributeError: type object 'Actions' has no attribute ''\n",
      "\n",
      "[ERROR] [1664895766.360893]: bad callback: <function act__ROS_callback at 0x7ff8600bbd30>\n",
      "Traceback (most recent call last):\n",
      "  File \"/home/petr/anaconda3/envs/robostackenv/lib/python3.8/site-packages/rospy/topics.py\", line 750, in _invoke_callback\n",
      "    cb(msg)\n",
      "  File \"/tmp/ipykernel_24544/844978657.py\", line 6, in act__ROS_callback\n",
      "    act(s, cop, (target_action, target_object))\n",
      "  File \"/home/petr/my_ws/src/context_based_gesture_operation/srcmodules/RobotActions.py\", line 15, in act\n",
      "    if not Actions.do(s, TaTo, ignore_location=True): raise Exception(\"Action not valid!\")\n",
      "  File \"/home/petr/my_ws/src/context_based_gesture_operation/srcmodules/Actions.py\", line 109, in do\n",
      "    ret = getattr(Actions, action[0])(s, o, p, ignore_location=ignore_location)\n",
      "AttributeError: type object 'Actions' has no attribute ''\n",
      "\n",
      "[ERROR] [1664895766.365110]: bad callback: <function act__ROS_callback at 0x7ff838723940>\n",
      "Traceback (most recent call last):\n",
      "  File \"/home/petr/anaconda3/envs/robostackenv/lib/python3.8/site-packages/rospy/topics.py\", line 750, in _invoke_callback\n",
      "    cb(msg)\n",
      "  File \"/tmp/ipykernel_24544/844978657.py\", line 6, in act__ROS_callback\n",
      "    act(s, cop, (target_action, target_object))\n",
      "  File \"/home/petr/my_ws/src/context_based_gesture_operation/srcmodules/RobotActions.py\", line 15, in act\n",
      "    if not Actions.do(s, TaTo, ignore_location=True): raise Exception(\"Action not valid!\")\n",
      "  File \"/home/petr/my_ws/src/context_based_gesture_operation/srcmodules/Actions.py\", line 109, in do\n",
      "    ret = getattr(Actions, action[0])(s, o, p, ignore_location=ignore_location)\n",
      "AttributeError: type object 'Actions' has no attribute ''\n",
      "\n",
      "[ERROR] [1664895766.862970]: bad callback: <function act__ROS_callback at 0x7ff8600bbd30>\n",
      "Traceback (most recent call last):\n",
      "  File \"/home/petr/anaconda3/envs/robostackenv/lib/python3.8/site-packages/rospy/topics.py\", line 750, in _invoke_callback\n",
      "    cb(msg)\n",
      "  File \"/tmp/ipykernel_24544/844978657.py\", line 6, in act__ROS_callback\n",
      "    act(s, cop, (target_action, target_object))\n",
      "  File \"/home/petr/my_ws/src/context_based_gesture_operation/srcmodules/RobotActions.py\", line 15, in act\n",
      "    if not Actions.do(s, TaTo, ignore_location=True): raise Exception(\"Action not valid!\")\n",
      "  File \"/home/petr/my_ws/src/context_based_gesture_operation/srcmodules/Actions.py\", line 109, in do\n",
      "    ret = getattr(Actions, action[0])(s, o, p, ignore_location=ignore_location)\n",
      "AttributeError: type object 'Actions' has no attribute ''\n",
      "\n",
      "[ERROR] [1664895766.868607]: bad callback: <function act__ROS_callback at 0x7ff838723940>\n",
      "Traceback (most recent call last):\n",
      "  File \"/home/petr/anaconda3/envs/robostackenv/lib/python3.8/site-packages/rospy/topics.py\", line 750, in _invoke_callback\n",
      "    cb(msg)\n",
      "  File \"/tmp/ipykernel_24544/844978657.py\", line 6, in act__ROS_callback\n",
      "    act(s, cop, (target_action, target_object))\n",
      "  File \"/home/petr/my_ws/src/context_based_gesture_operation/srcmodules/RobotActions.py\", line 15, in act\n",
      "    if not Actions.do(s, TaTo, ignore_location=True): raise Exception(\"Action not valid!\")\n",
      "  File \"/home/petr/my_ws/src/context_based_gesture_operation/srcmodules/Actions.py\", line 109, in do\n",
      "    ret = getattr(Actions, action[0])(s, o, p, ignore_location=ignore_location)\n",
      "AttributeError: type object 'Actions' has no attribute ''\n",
      "\n",
      "[ERROR] [1664895767.363931]: bad callback: <function act__ROS_callback at 0x7ff8600bbd30>\n",
      "Traceback (most recent call last):\n",
      "  File \"/home/petr/anaconda3/envs/robostackenv/lib/python3.8/site-packages/rospy/topics.py\", line 750, in _invoke_callback\n",
      "    cb(msg)\n",
      "  File \"/tmp/ipykernel_24544/844978657.py\", line 6, in act__ROS_callback\n",
      "    act(s, cop, (target_action, target_object))\n",
      "  File \"/home/petr/my_ws/src/context_based_gesture_operation/srcmodules/RobotActions.py\", line 15, in act\n",
      "    if not Actions.do(s, TaTo, ignore_location=True): raise Exception(\"Action not valid!\")\n",
      "  File \"/home/petr/my_ws/src/context_based_gesture_operation/srcmodules/Actions.py\", line 109, in do\n",
      "    ret = getattr(Actions, action[0])(s, o, p, ignore_location=ignore_location)\n",
      "AttributeError: type object 'Actions' has no attribute ''\n",
      "\n",
      "[ERROR] [1664895767.368913]: bad callback: <function act__ROS_callback at 0x7ff838723940>\n",
      "Traceback (most recent call last):\n",
      "  File \"/home/petr/anaconda3/envs/robostackenv/lib/python3.8/site-packages/rospy/topics.py\", line 750, in _invoke_callback\n",
      "    cb(msg)\n",
      "  File \"/tmp/ipykernel_24544/844978657.py\", line 6, in act__ROS_callback\n",
      "    act(s, cop, (target_action, target_object))\n",
      "  File \"/home/petr/my_ws/src/context_based_gesture_operation/srcmodules/RobotActions.py\", line 15, in act\n",
      "    if not Actions.do(s, TaTo, ignore_location=True): raise Exception(\"Action not valid!\")\n",
      "  File \"/home/petr/my_ws/src/context_based_gesture_operation/srcmodules/Actions.py\", line 109, in do\n",
      "    ret = getattr(Actions, action[0])(s, o, p, ignore_location=ignore_location)\n",
      "AttributeError: type object 'Actions' has no attribute ''\n",
      "\n"
     ]
    },
    {
     "name": "stderr",
     "output_type": "stream",
     "text": [
      "[ERROR] [1664895767.866984]: bad callback: <function act__ROS_callback at 0x7ff8600bbd30>\n",
      "Traceback (most recent call last):\n",
      "  File \"/home/petr/anaconda3/envs/robostackenv/lib/python3.8/site-packages/rospy/topics.py\", line 750, in _invoke_callback\n",
      "    cb(msg)\n",
      "  File \"/tmp/ipykernel_24544/844978657.py\", line 6, in act__ROS_callback\n",
      "    act(s, cop, (target_action, target_object))\n",
      "  File \"/home/petr/my_ws/src/context_based_gesture_operation/srcmodules/RobotActions.py\", line 15, in act\n",
      "    if not Actions.do(s, TaTo, ignore_location=True): raise Exception(\"Action not valid!\")\n",
      "  File \"/home/petr/my_ws/src/context_based_gesture_operation/srcmodules/Actions.py\", line 109, in do\n",
      "    ret = getattr(Actions, action[0])(s, o, p, ignore_location=ignore_location)\n",
      "AttributeError: type object 'Actions' has no attribute ''\n",
      "\n",
      "[ERROR] [1664895767.872116]: bad callback: <function act__ROS_callback at 0x7ff838723940>\n",
      "Traceback (most recent call last):\n",
      "  File \"/home/petr/anaconda3/envs/robostackenv/lib/python3.8/site-packages/rospy/topics.py\", line 750, in _invoke_callback\n",
      "    cb(msg)\n",
      "  File \"/tmp/ipykernel_24544/844978657.py\", line 6, in act__ROS_callback\n",
      "    act(s, cop, (target_action, target_object))\n",
      "  File \"/home/petr/my_ws/src/context_based_gesture_operation/srcmodules/RobotActions.py\", line 15, in act\n",
      "    if not Actions.do(s, TaTo, ignore_location=True): raise Exception(\"Action not valid!\")\n",
      "  File \"/home/petr/my_ws/src/context_based_gesture_operation/srcmodules/Actions.py\", line 109, in do\n",
      "    ret = getattr(Actions, action[0])(s, o, p, ignore_location=ignore_location)\n",
      "AttributeError: type object 'Actions' has no attribute ''\n",
      "\n",
      "[ERROR] [1664895768.368847]: bad callback: <function act__ROS_callback at 0x7ff8600bbd30>\n",
      "Traceback (most recent call last):\n",
      "  File \"/home/petr/anaconda3/envs/robostackenv/lib/python3.8/site-packages/rospy/topics.py\", line 750, in _invoke_callback\n",
      "    cb(msg)\n",
      "  File \"/tmp/ipykernel_24544/844978657.py\", line 6, in act__ROS_callback\n",
      "    act(s, cop, (target_action, target_object))\n",
      "  File \"/home/petr/my_ws/src/context_based_gesture_operation/srcmodules/RobotActions.py\", line 15, in act\n",
      "    if not Actions.do(s, TaTo, ignore_location=True): raise Exception(\"Action not valid!\")\n",
      "  File \"/home/petr/my_ws/src/context_based_gesture_operation/srcmodules/Actions.py\", line 109, in do\n",
      "    ret = getattr(Actions, action[0])(s, o, p, ignore_location=ignore_location)\n",
      "AttributeError: type object 'Actions' has no attribute ''\n",
      "\n",
      "[ERROR] [1664895768.372932]: bad callback: <function act__ROS_callback at 0x7ff838723940>\n",
      "Traceback (most recent call last):\n",
      "  File \"/home/petr/anaconda3/envs/robostackenv/lib/python3.8/site-packages/rospy/topics.py\", line 750, in _invoke_callback\n",
      "    cb(msg)\n",
      "  File \"/tmp/ipykernel_24544/844978657.py\", line 6, in act__ROS_callback\n",
      "    act(s, cop, (target_action, target_object))\n",
      "  File \"/home/petr/my_ws/src/context_based_gesture_operation/srcmodules/RobotActions.py\", line 15, in act\n",
      "    if not Actions.do(s, TaTo, ignore_location=True): raise Exception(\"Action not valid!\")\n",
      "  File \"/home/petr/my_ws/src/context_based_gesture_operation/srcmodules/Actions.py\", line 109, in do\n",
      "    ret = getattr(Actions, action[0])(s, o, p, ignore_location=ignore_location)\n",
      "AttributeError: type object 'Actions' has no attribute ''\n",
      "\n"
     ]
    }
   ],
   "source": [
    "def act__ROS_callback(data):\n",
    "    target_action = data.target_action\n",
    "    target_object = data.target_object\n",
    "    auxiliary_parameters = data.auxiliary_parameters\n",
    "    \n",
    "    act(s, cop, (target_action, target_object))\n",
    "\n",
    "rospy.Subscriber(\"/act\", Act, act__ROS_callback)\n",
    "    "
   ]
  },
  {
   "cell_type": "code",
   "execution_count": 12,
   "id": "3851aee9",
   "metadata": {},
   "outputs": [
    {
     "data": {
      "text/plain": [
       "<coppelia_sim_ros_client.CoppeliaROSInterface at 0x7fc6345c1160>"
      ]
     },
     "execution_count": 12,
     "metadata": {},
     "output_type": "execute_result"
    }
   ],
   "source": [
    "cop"
   ]
  },
  {
   "cell_type": "code",
   "execution_count": null,
   "id": "8592c485",
   "metadata": {},
   "outputs": [],
   "source": []
  },
  {
   "cell_type": "code",
   "execution_count": null,
   "id": "8276684b",
   "metadata": {},
   "outputs": [],
   "source": []
  },
  {
   "cell_type": "code",
   "execution_count": null,
   "id": "8a4bb2eb",
   "metadata": {},
   "outputs": [],
   "source": []
  },
  {
   "cell_type": "code",
   "execution_count": null,
   "id": "a02f8777",
   "metadata": {},
   "outputs": [],
   "source": []
  },
  {
   "cell_type": "code",
   "execution_count": null,
   "id": "ddd4b489",
   "metadata": {},
   "outputs": [],
   "source": []
  },
  {
   "cell_type": "code",
   "execution_count": null,
   "id": "ffd6b620",
   "metadata": {},
   "outputs": [],
   "source": []
  }
 ],
 "metadata": {
  "kernelspec": {
   "display_name": "ros_galactic",
   "language": "python",
   "name": "ros_galactic"
  },
  "language_info": {
   "codemirror_mode": {
    "name": "ipython",
    "version": 3
   },
   "file_extension": ".py",
   "mimetype": "text/x-python",
   "name": "python",
   "nbconvert_exporter": "python",
   "pygments_lexer": "ipython3",
   "version": "3.9.13"
  }
 },
 "nbformat": 4,
 "nbformat_minor": 5
}
