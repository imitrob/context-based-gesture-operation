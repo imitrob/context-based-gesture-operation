{
 "cells": [
  {
   "cell_type": "code",
   "execution_count": 1,
   "id": "0238c7d7",
   "metadata": {},
   "outputs": [],
   "source": [
    "from srcmodules.Scenes import Scene\n",
    "from srcmodules.Actions import Actions\n",
    "from srcmodules.RobotActions import act\n",
    "\n",
    "import rospy\n",
    "from std_msgs.msg import String"
   ]
  },
  {
   "cell_type": "markdown",
   "id": "1cdae46c",
   "metadata": {},
   "source": [
    "# System pipeline\n",
    "\n",
    "Run:\n",
    "- `sudo leapd` (Leap Motion backend)\n",
    "- `roslaunch teleop_gesture_toolbox gestures_backend.launch` (gesture classifier&publisher) \n",
    "- `roslaunch coppelia_sim_ros_interface coppelia_sim.launch` (simulation backend)\n",
    "- `roslaunch teleop_gesture_toolbox main_coppelia.launch` (gui&logic)\n",
    "    - switch mode to `Gesture_based` - dropdown list in GUI (left center)\n"
   ]
  },
  {
   "cell_type": "code",
   "execution_count": 2,
   "id": "18a44397",
   "metadata": {},
   "outputs": [],
   "source": [
    "rospy.init_node(\"system_pipeline\", anonymous=True)"
   ]
  },
  {
   "cell_type": "code",
   "execution_count": 3,
   "id": "63e96354",
   "metadata": {},
   "outputs": [
    {
     "data": {
      "text/plain": [
       "<rospy.topics.Subscriber at 0x7f2906eb46a0>"
      ]
     },
     "execution_count": 3,
     "metadata": {},
     "output_type": "execute_result"
    }
   ],
   "source": [
    "aggr_solutions = []\n",
    "def save_solution(msg):\n",
    "    global aggr_solutions\n",
    "    aggr_solutions.append(msg.data)\n",
    "\n",
    "rospy.Subscriber(\"/teleop_gesture_toolbox/filtered_gestures\", String, save_solution)"
   ]
  },
  {
   "cell_type": "code",
   "execution_count": 7,
   "id": "ba4dc6e9",
   "metadata": {},
   "outputs": [
    {
     "data": {
      "text/plain": [
       "['five']"
      ]
     },
     "execution_count": 7,
     "metadata": {},
     "output_type": "execute_result"
    }
   ],
   "source": [
    "aggr_solutions"
   ]
  },
  {
   "cell_type": "code",
   "execution_count": null,
   "id": "9342d759",
   "metadata": {},
   "outputs": [],
   "source": []
  },
  {
   "cell_type": "code",
   "execution_count": null,
   "id": "be938b8e",
   "metadata": {},
   "outputs": [],
   "source": [
    "# Create scene with opened drawer\n",
    "s = Scene(init='drawer,cup,object,object', random=False)\n",
    "s.drawer.position = np.array([2,0,0])\n",
    "s.drawer.opened = False\n",
    "\n",
    "s.cup.position = np.array([1,2,0])\n",
    "s.cup.color = 'r'\n",
    "s.cup.size = 0.05\n",
    "\n",
    "s.object1.position = np.array([1,3,0])\n",
    "s.object.color = 'g'\n",
    "\n",
    "s.object1.color = 'b'\n",
    "\n",
    "Actions.do(s, ('pick_up', 'object'), fake_handle_location=True)\n",
    "Actions.do(s, ('put', 'object1'), fake_handle_location=True)\n",
    "s.r.eef_position = np.array([2,2,2])"
   ]
  },
  {
   "cell_type": "code",
   "execution_count": null,
   "id": "2d37c1f7",
   "metadata": {},
   "outputs": [],
   "source": [
    "sci.new_scene(s)"
   ]
  },
  {
   "cell_type": "code",
   "execution_count": null,
   "id": "a9c915a7",
   "metadata": {},
   "outputs": [],
   "source": [
    "cop.go_to_pose(s.position_real(s.r.eef_position))"
   ]
  },
  {
   "cell_type": "code",
   "execution_count": null,
   "id": "599e6d5a",
   "metadata": {},
   "outputs": [],
   "source": [
    "act(s, cop, ('move_down', ('cup')))"
   ]
  },
  {
   "cell_type": "code",
   "execution_count": null,
   "id": "4e4856ff",
   "metadata": {},
   "outputs": [],
   "source": [
    "act(s, cop, ('move_up', ('cup')))"
   ]
  },
  {
   "cell_type": "code",
   "execution_count": null,
   "id": "e009bf97",
   "metadata": {},
   "outputs": [],
   "source": [
    "sci.new_observation(s,'cup')"
   ]
  },
  {
   "cell_type": "code",
   "execution_count": null,
   "id": "e6e513df",
   "metadata": {},
   "outputs": [],
   "source": [
    "act(s, cop, ('pick_up', 'cup'))"
   ]
  },
  {
   "cell_type": "code",
   "execution_count": null,
   "id": "a4fb909d",
   "metadata": {},
   "outputs": [],
   "source": [
    "cop.release_object()\n",
    "s.r.eef_position = np.array([2,2,2])\n",
    "cop.go_to_pose(s.position_real(s.r.eef_position))"
   ]
  },
  {
   "cell_type": "code",
   "execution_count": null,
   "id": "f839bd48",
   "metadata": {},
   "outputs": [],
   "source": [
    "cop.add_or_edit_object(name='drawer', pose=s.drawer.position_real(), object_state='slightly-opened')"
   ]
  },
  {
   "cell_type": "code",
   "execution_count": null,
   "id": "f7f797b9",
   "metadata": {},
   "outputs": [],
   "source": [
    "sci.new_observation(s,'drawer')"
   ]
  },
  {
   "cell_type": "code",
   "execution_count": null,
   "id": "9ab0a1c5",
   "metadata": {},
   "outputs": [],
   "source": [
    "act(s, cop, ('open', 'drawer'))"
   ]
  },
  {
   "cell_type": "code",
   "execution_count": null,
   "id": "6a70cd8a",
   "metadata": {},
   "outputs": [],
   "source": [
    "s.r.eef_position = np.array([2,2,2])\n",
    "cop.go_to_pose(s.position_real(s.r.eef_position))"
   ]
  },
  {
   "cell_type": "code",
   "execution_count": null,
   "id": "00d9cd65",
   "metadata": {},
   "outputs": [],
   "source": [
    "cop.add_or_edit_object(name='drawer', pose=s.drawer.position_real(), object_state='slightly-opened')"
   ]
  },
  {
   "cell_type": "code",
   "execution_count": null,
   "id": "e6a792de",
   "metadata": {},
   "outputs": [],
   "source": [
    "sci.new_observation(s,'cup')"
   ]
  },
  {
   "cell_type": "code",
   "execution_count": null,
   "id": "b24e8bcf",
   "metadata": {},
   "outputs": [],
   "source": [
    "act(s, cop, ('pick_up', 'object'))"
   ]
  },
  {
   "cell_type": "code",
   "execution_count": null,
   "id": "ec991518",
   "metadata": {},
   "outputs": [],
   "source": [
    "Actions.do(s, ('place', 'cup'), ignore_location=True)"
   ]
  },
  {
   "cell_type": "code",
   "execution_count": null,
   "id": "aad36f70",
   "metadata": {},
   "outputs": [],
   "source": [
    "RobotActions.close(s, cop, 'drawer')"
   ]
  },
  {
   "cell_type": "code",
   "execution_count": null,
   "id": "19c0ef36",
   "metadata": {},
   "outputs": [],
   "source": [
    "Actions.do(s, ('open', 'drawer'), ignore_location=True)"
   ]
  },
  {
   "cell_type": "code",
   "execution_count": null,
   "id": "43bf70a2",
   "metadata": {},
   "outputs": [],
   "source": [
    "RobotActions.open(s, cop, 'drawer')"
   ]
  },
  {
   "cell_type": "code",
   "execution_count": null,
   "id": "9063a157",
   "metadata": {},
   "outputs": [],
   "source": []
  },
  {
   "cell_type": "code",
   "execution_count": null,
   "id": "4b6c101d",
   "metadata": {},
   "outputs": [],
   "source": []
  }
 ],
 "metadata": {
  "kernelspec": {
   "display_name": "robostackenv",
   "language": "python",
   "name": "myenv"
  },
  "language_info": {
   "codemirror_mode": {
    "name": "ipython",
    "version": 3
   },
   "file_extension": ".py",
   "mimetype": "text/x-python",
   "name": "python",
   "nbconvert_exporter": "python",
   "pygments_lexer": "ipython3",
   "version": "3.8.10"
  }
 },
 "nbformat": 4,
 "nbformat_minor": 5
}
