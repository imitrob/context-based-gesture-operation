{
 "cells": [
  {
   "cell_type": "markdown",
   "id": "bb49968c",
   "metadata": {},
   "source": [
    "# Testing Scene to_ros and import from ros"
   ]
  },
  {
   "cell_type": "code",
   "execution_count": 3,
   "id": "0b34c36f",
   "metadata": {},
   "outputs": [],
   "source": [
    "import sys; sys.path.append(\"..\")"
   ]
  },
  {
   "cell_type": "code",
   "execution_count": 4,
   "id": "83b94912",
   "metadata": {},
   "outputs": [],
   "source": [
    "from copy import deepcopy\n",
    "from context_based_gesture_operation.msg import Scene as SceneRos\n",
    "from srcmodules.Scenes import Scene as Scene"
   ]
  },
  {
   "cell_type": "code",
   "execution_count": null,
   "id": "dee79fa7",
   "metadata": {},
   "outputs": [],
   "source": [
    "for i in range(10000):\n",
    "    s = Scene(init='drawer,cup,cup,object,object')\n",
    "    sr = SceneRos()\n",
    "    sro = s.to_ros(sr)\n",
    "    sro2 = deepcopy(sro)\n",
    "    s2 = Scene(init='from_ros', import_data=sro2)\n",
    "    \n",
    "    if s != s2:\n",
    "        print(\"!!!\", i)\n",
    "        s.info\n",
    "        s2.info\n",
    "        break"
   ]
  },
  {
   "cell_type": "code",
   "execution_count": null,
   "id": "55a62097",
   "metadata": {},
   "outputs": [],
   "source": [
    "for i in range(10000):\n",
    "    s = Scene(init='drawer,cup,cup,object,object')\n",
    "    sr = SceneRos()\n",
    "    sro = s.to_ros(sr)\n",
    "    sro2 = deepcopy(sro)\n",
    "    s2 = Scene(init='from_ros', import_data=sro2)\n",
    "    s2_dict = s2.to_dict()\n",
    "    d3_dict = deepcopy(s2_dict)\n",
    "    s3 = Scene(init='from_dict', import_data=d3_dict)\n",
    "    \n",
    "    if s != s3:\n",
    "        print(\"!!!\", i)\n",
    "        s.info\n",
    "        s2.info\n",
    "        break"
   ]
  },
  {
   "cell_type": "code",
   "execution_count": null,
   "id": "2e53e243",
   "metadata": {},
   "outputs": [],
   "source": []
  }
 ],
 "metadata": {
  "kernelspec": {
   "display_name": "robostackenv",
   "language": "python",
   "name": "myenv"
  },
  "language_info": {
   "codemirror_mode": {
    "name": "ipython",
    "version": 3
   },
   "file_extension": ".py",
   "mimetype": "text/x-python",
   "name": "python",
   "nbconvert_exporter": "python",
   "pygments_lexer": "ipython3",
   "version": "3.8.10"
  }
 },
 "nbformat": 4,
 "nbformat_minor": 5
}
