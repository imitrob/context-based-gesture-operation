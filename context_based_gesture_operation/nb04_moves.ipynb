{
 "cells": [
  {
   "cell_type": "markdown",
   "id": "b225aafd",
   "metadata": {},
   "source": [
    "# Move tests\n",
    "\n",
    "- Testing backend\n",
    "- Grid scene "
   ]
  },
  {
   "cell_type": "code",
   "execution_count": 1,
   "id": "2f19f87f",
   "metadata": {},
   "outputs": [
    {
     "name": "stderr",
     "output_type": "stream",
     "text": [
      "Invalid MIT-MAGIC-COOKIE-1 key"
     ]
    }
   ],
   "source": [
    "from srcmodules import Objects, Robots, Tasks, Users\n",
    "from srcmodules.Scenes import Scene\n",
    "from srcmodules.Actions import Actions\n",
    "from srcmodules.Gestures import Gestures\n",
    "from srcmodules.Users import Users\n",
    "from model_noK import *\n",
    "import numpy as np\n",
    "from numpy import array as a"
   ]
  },
  {
   "cell_type": "code",
   "execution_count": 2,
   "id": "0e1292da",
   "metadata": {},
   "outputs": [
    {
     "name": "stdout",
     "output_type": "stream",
     "text": [
      "Scene info. shape: [4, 4, 4]\n",
      "0. cup,\tcup,\t[0.6 0.1 0.2], full,\t|| [cup] >>\n",
      "Robot: [0.6 0.1 0.2], opened, rotation: 1, attached: cup\n",
      "User id: 0\n"
     ]
    }
   ],
   "source": [
    "s = Scene(init='cup')\n",
    "s.info"
   ]
  },
  {
   "cell_type": "markdown",
   "id": "15705d38",
   "metadata": {},
   "source": [
    "### 1. Fake move\n",
    "\n",
    "- `fake_handle_location` succeeds"
   ]
  },
  {
   "cell_type": "code",
   "execution_count": 3,
   "id": "1b314ed8",
   "metadata": {},
   "outputs": [
    {
     "name": "stdout",
     "output_type": "stream",
     "text": [
      "Scene info. shape: [4, 4, 4]\n",
      "0. cup,\tcup,\t[0.6 0.1 0.2], full,\t|| [cup] >>\n",
      "Robot: [0.6 0.1 0.2], opened, rotation: 1, attached: cup\n",
      "User id: 0\n"
     ]
    }
   ],
   "source": [
    "Actions.do(s, ('pick_up','cup'), fake_handle_location=True)\n",
    "s.info"
   ]
  },
  {
   "cell_type": "markdown",
   "id": "feb52276",
   "metadata": {},
   "source": [
    "- fails"
   ]
  },
  {
   "cell_type": "code",
   "execution_count": 4,
   "id": "9d2f9e57",
   "metadata": {},
   "outputs": [
    {
     "data": {
      "text/plain": [
       "False"
      ]
     },
     "execution_count": 4,
     "metadata": {},
     "output_type": "execute_result"
    }
   ],
   "source": [
    "s = Scene(init='cup,cup')\n",
    "s.r.eef_position = s.cup.position\n",
    "Actions.do(s, ('pick_up', 'cup'))"
   ]
  },
  {
   "cell_type": "code",
   "execution_count": 7,
   "id": "1d4e2271",
   "metadata": {},
   "outputs": [
    {
     "name": "stdout",
     "output_type": "stream",
     "text": [
      "Scene info. shape: [4, 4, 4]\n",
      "cup,\tcup,\t[1 2 0], full,\t|| [cup] >>\n",
      "cup1,\tcup,\t[2 0 1], full,\t|| [cup1] >>\n",
      "Robot: [1 2 0], opened, rotation: 1, attached: cup1\n"
     ]
    }
   ],
   "source": [
    "s.info"
   ]
  },
  {
   "cell_type": "markdown",
   "id": "b9feeb13",
   "metadata": {},
   "source": [
    "### 2. Move via actions\n",
    "- Move actions can be executed independently `Actions.do(s, ('move_xxx', None))`, when set of actions contains the desired move actions"
   ]
  },
  {
   "cell_type": "code",
   "execution_count": 8,
   "id": "a18e48d1",
   "metadata": {},
   "outputs": [
    {
     "data": {
      "text/plain": [
       "True"
      ]
     },
     "execution_count": 8,
     "metadata": {},
     "output_type": "execute_result"
    }
   ],
   "source": [
    "Actions.do(s, ('move_up',None))"
   ]
  },
  {
   "cell_type": "code",
   "execution_count": 9,
   "id": "4cd999b4",
   "metadata": {},
   "outputs": [
    {
     "name": "stdout",
     "output_type": "stream",
     "text": [
      "Scene info. shape: [4, 4, 4]\n",
      "cup,\tcup,\t[1 2 0], full,\t|| [cup] >>\n",
      "cup1,\tcup,\t[1 2 1], full,\t|| [cup1] >>\n",
      "Robot: [1 2 1], opened, rotation: 1, attached: cup1\n"
     ]
    }
   ],
   "source": [
    "s.info"
   ]
  },
  {
   "cell_type": "markdown",
   "id": "ca25e09b",
   "metadata": {},
   "source": [
    "### 3. Non-move actions by ignoring the location values\n",
    "\n",
    "- `ignore_location` flag\n",
    "- do not consider eef position"
   ]
  },
  {
   "cell_type": "code",
   "execution_count": 11,
   "id": "7ae10b33",
   "metadata": {},
   "outputs": [],
   "source": [
    "from srcmodules import Objects, Robots, Tasks, Users\n",
    "from srcmodules.Scenes import Scene\n",
    "from srcmodules.Actions import Actions\n",
    "from srcmodules.Gestures import Gestures\n",
    "from srcmodules.Users import Users\n",
    "from model_noK import *\n",
    "import numpy as np\n",
    "from numpy import array as a"
   ]
  },
  {
   "cell_type": "code",
   "execution_count": 15,
   "id": "0a180355",
   "metadata": {},
   "outputs": [
    {
     "name": "stdout",
     "output_type": "stream",
     "text": [
      "Scene info. shape: [4, 4, 4]\n",
      "cup,\tcup,\t[0 0 0], empty,\t|| [cup] >>\n",
      "Robot: [0 0 3], opened, rotation: 0, attached: -\n"
     ]
    }
   ],
   "source": [
    "s = Scene(init='cup', random=False)\n",
    "s.info"
   ]
  },
  {
   "cell_type": "code",
   "execution_count": 16,
   "id": "b4ef3c07",
   "metadata": {},
   "outputs": [
    {
     "data": {
      "text/plain": [
       "False"
      ]
     },
     "execution_count": 16,
     "metadata": {},
     "output_type": "execute_result"
    }
   ],
   "source": [
    "Actions.do(s, ('pick_up', 'cup'))"
   ]
  },
  {
   "cell_type": "markdown",
   "id": "e90807dc",
   "metadata": {},
   "source": [
    "Robot eef and cup are not at one position, but action `pick_up` can be performed when `ignore_location=True`."
   ]
  },
  {
   "cell_type": "code",
   "execution_count": 17,
   "id": "2a2b6e05",
   "metadata": {},
   "outputs": [
    {
     "data": {
      "text/plain": [
       "True"
      ]
     },
     "execution_count": 17,
     "metadata": {},
     "output_type": "execute_result"
    }
   ],
   "source": [
    "Actions.do(s, ('pick_up', 'cup'), ignore_location=True)"
   ]
  },
  {
   "cell_type": "markdown",
   "id": "53a4d8ce",
   "metadata": {},
   "source": [
    "### 4. Non-move action by handeling the location\n",
    "\n",
    "- `handle_location` flag\n",
    "- Program will automatically execute move action sequence and move eef to desired object position\n",
    "- Move actions are planned and executed from start (eef) to target (object)\n",
    "- When there is obstacle on the scene, the some move actions are not valid for given eef position, the planner finds the way of valid actions to reach the target"
   ]
  },
  {
   "cell_type": "code",
   "execution_count": 19,
   "id": "4ab0ebb0",
   "metadata": {},
   "outputs": [
    {
     "data": {
      "text/plain": [
       "True"
      ]
     },
     "execution_count": 19,
     "metadata": {},
     "output_type": "execute_result"
    }
   ],
   "source": [
    "s = Scene(init='cup', random=False)\n",
    "Actions.do(s, ('pick_up', 'cup'), handle_location=True)"
   ]
  },
  {
   "cell_type": "markdown",
   "id": "f986d011",
   "metadata": {},
   "source": [
    "handle_location flag calls function `s.plan_path_to_position(..)` and then `Actions.execute_path_to_position(..)`\n",
    "Example:"
   ]
  },
  {
   "cell_type": "code",
   "execution_count": 20,
   "id": "bd40539c",
   "metadata": {},
   "outputs": [
    {
     "data": {
      "text/plain": [
       "array([1, 3, 3])"
      ]
     },
     "execution_count": 20,
     "metadata": {},
     "output_type": "execute_result"
    }
   ],
   "source": [
    "s = Scene(init='cup')\n",
    "s.r.eef_position"
   ]
  },
  {
   "cell_type": "code",
   "execution_count": 21,
   "id": "7c8259c8",
   "metadata": {},
   "outputs": [
    {
     "data": {
      "text/plain": [
       "True"
      ]
     },
     "execution_count": 21,
     "metadata": {},
     "output_type": "execute_result"
    }
   ],
   "source": [
    "move_action_seq = s.plan_path_to_position([0,0,0], Actions)\n",
    "Actions.execute_path_to_position(s,move_action_seq)"
   ]
  },
  {
   "cell_type": "code",
   "execution_count": 22,
   "id": "e0dc4862",
   "metadata": {},
   "outputs": [
    {
     "data": {
      "text/plain": [
       "['move_left',\n",
       " 'move_down',\n",
       " 'move_left',\n",
       " 'move_down',\n",
       " 'move_front',\n",
       " 'move_left',\n",
       " 'move_down']"
      ]
     },
     "execution_count": 22,
     "metadata": {},
     "output_type": "execute_result"
    }
   ],
   "source": [
    "move_action_seq"
   ]
  },
  {
   "cell_type": "code",
   "execution_count": 23,
   "id": "92b978d7",
   "metadata": {},
   "outputs": [
    {
     "data": {
      "text/plain": [
       "array([0, 0, 0])"
      ]
     },
     "execution_count": 23,
     "metadata": {},
     "output_type": "execute_result"
    }
   ],
   "source": [
    "s.r.eef_position"
   ]
  },
  {
   "cell_type": "code",
   "execution_count": 24,
   "id": "fd003051",
   "metadata": {},
   "outputs": [
    {
     "data": {
      "text/plain": [
       "['move_back', 'move_right', 'move_up']"
      ]
     },
     "execution_count": 24,
     "metadata": {},
     "output_type": "execute_result"
    }
   ],
   "source": [
    "Actions.get_possible_move_actions(s)"
   ]
  },
  {
   "cell_type": "markdown",
   "id": "ae4362e7",
   "metadata": {},
   "source": [
    "### Helper functions\n",
    "- `get_possible_actions`\n",
    "- `get_possible_actions_bool_array`"
   ]
  },
  {
   "cell_type": "code",
   "execution_count": 25,
   "id": "d087a46a",
   "metadata": {},
   "outputs": [],
   "source": [
    "from srcmodules import Objects, Robots, Tasks, Users\n",
    "from srcmodules.Scenes import Scene\n",
    "from srcmodules.Actions import Actions\n",
    "from srcmodules.Gestures import Gestures\n",
    "from srcmodules.Users import Users\n",
    "from model_noK import *\n",
    "import numpy as np\n",
    "from numpy import array as a"
   ]
  },
  {
   "cell_type": "code",
   "execution_count": 26,
   "id": "9586c0d1",
   "metadata": {},
   "outputs": [],
   "source": [
    "s = Scene(init='cup,cup,drawer,object', random=False)"
   ]
  },
  {
   "cell_type": "code",
   "execution_count": 27,
   "id": "bcbbd6e6",
   "metadata": {},
   "outputs": [
    {
     "data": {
      "text/plain": [
       "[('move_down', 'cup'),\n",
       " ('move_down', 'cup1'),\n",
       " ('move_down', 'drawer'),\n",
       " ('move_down', 'object'),\n",
       " ('move_right', 'cup'),\n",
       " ('move_right', 'cup1'),\n",
       " ('move_right', 'drawer'),\n",
       " ('move_right', 'object'),\n",
       " ('pick_up', 'cup'),\n",
       " ('pick_up', 'cup1'),\n",
       " ('pick_up', 'object'),\n",
       " ('open', 'drawer')]"
      ]
     },
     "execution_count": 27,
     "metadata": {},
     "output_type": "execute_result"
    }
   ],
   "source": [
    "Actions.get_possible_actions(s, ignore_location=True)"
   ]
  },
  {
   "cell_type": "code",
   "execution_count": 28,
   "id": "aa737869",
   "metadata": {},
   "outputs": [
    {
     "data": {
      "text/plain": [
       "array([[False, False, False, False],\n",
       "       [False, False, False, False],\n",
       "       [ True,  True,  True,  True],\n",
       "       [ True,  True,  True,  True],\n",
       "       [False, False, False, False],\n",
       "       [False, False, False, False],\n",
       "       [False, False, False, False],\n",
       "       [ True,  True, False,  True],\n",
       "       [False, False, False, False],\n",
       "       [False, False,  True, False],\n",
       "       [False, False, False, False]])"
      ]
     },
     "execution_count": 28,
     "metadata": {},
     "output_type": "execute_result"
    }
   ],
   "source": [
    "Actions.get_possible_actions_bool_array(s, ignore_location=True)"
   ]
  },
  {
   "cell_type": "code",
   "execution_count": 29,
   "id": "bd6d358d",
   "metadata": {},
   "outputs": [
    {
     "data": {
      "text/plain": [
       "True"
      ]
     },
     "execution_count": 29,
     "metadata": {},
     "output_type": "execute_result"
    }
   ],
   "source": [
    "Actions.do(s,('pick_up', 'cup'), ignore_location=True)"
   ]
  },
  {
   "cell_type": "code",
   "execution_count": 30,
   "id": "2806ac6f",
   "metadata": {},
   "outputs": [
    {
     "data": {
      "text/plain": [
       "[('move_down', 'cup'),\n",
       " ('move_down', 'cup1'),\n",
       " ('move_down', 'drawer'),\n",
       " ('move_down', 'object'),\n",
       " ('move_right', 'cup'),\n",
       " ('move_right', 'cup1'),\n",
       " ('move_right', 'drawer'),\n",
       " ('move_right', 'object'),\n",
       " ('put', 'object'),\n",
       " ('put_on', 'object'),\n",
       " ('place', 'cup'),\n",
       " ('place', 'cup1'),\n",
       " ('place', 'drawer'),\n",
       " ('place', 'object'),\n",
       " ('open', 'drawer')]"
      ]
     },
     "execution_count": 30,
     "metadata": {},
     "output_type": "execute_result"
    }
   ],
   "source": [
    "Actions.get_possible_actions(s, ignore_location=True)"
   ]
  },
  {
   "cell_type": "code",
   "execution_count": 31,
   "id": "25b74b0e",
   "metadata": {},
   "outputs": [
    {
     "data": {
      "text/plain": [
       "array([[False, False, False, False],\n",
       "       [False, False, False, False],\n",
       "       [ True,  True,  True,  True],\n",
       "       [ True,  True,  True,  True],\n",
       "       [False, False, False,  True],\n",
       "       [False, False, False,  True],\n",
       "       [False, False, False, False],\n",
       "       [False, False, False, False],\n",
       "       [ True,  True,  True,  True],\n",
       "       [False, False,  True, False],\n",
       "       [False, False, False, False]])"
      ]
     },
     "execution_count": 31,
     "metadata": {},
     "output_type": "execute_result"
    }
   ],
   "source": [
    "Actions.get_possible_actions_bool_array(s, ignore_location=True)"
   ]
  },
  {
   "cell_type": "code",
   "execution_count": null,
   "id": "e4509d17",
   "metadata": {},
   "outputs": [],
   "source": []
  },
  {
   "cell_type": "code",
   "execution_count": null,
   "id": "53efe166",
   "metadata": {},
   "outputs": [],
   "source": []
  }
 ],
 "metadata": {
  "kernelspec": {
   "display_name": "Python 3 (ipykernel)",
   "language": "python",
   "name": "python3"
  },
  "language_info": {
   "codemirror_mode": {
    "name": "ipython",
    "version": 3
   },
   "file_extension": ".py",
   "mimetype": "text/x-python",
   "name": "python",
   "nbconvert_exporter": "python",
   "pygments_lexer": "ipython3",
   "version": "3.8.10"
  }
 },
 "nbformat": 4,
 "nbformat_minor": 5
}
