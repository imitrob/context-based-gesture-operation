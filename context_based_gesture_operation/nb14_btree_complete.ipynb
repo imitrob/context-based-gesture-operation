{
 "cells": [
  {
   "cell_type": "code",
   "execution_count": 1,
   "id": "55c4cdd9",
   "metadata": {
    "tags": []
   },
   "outputs": [
    {
     "name": "stderr",
     "output_type": "stream",
     "text": [
      "Invalid MIT-MAGIC-COOKIE-1 key"
     ]
    }
   ],
   "source": [
    "from agent_nodes import g2i\n",
    "\n",
    "import rclpy\n",
    "from rclpy.node import Node\n",
    "from teleop_msgs.srv import G2I\n",
    "from teleop_msgs.msg import Intent\n",
    "from teleop_msgs.msg import Scene as SceneRos\n",
    "from teleop_msgs.msg import Gestures as GesturesRos\n",
    "import numpy as np\n",
    "from srcmodules.Scenes import Scene\n",
    "from srcmodules.Gestures import Gestures\n",
    "from srcmodules.Actions import Actions\n",
    "from srcmodules.Objects import Object\n",
    "from srcmodules.SceneFieldFeatures import SceneFieldFeatures\n",
    "#import time"
   ]
  },
  {
   "cell_type": "markdown",
   "id": "7ed70a4c",
   "metadata": {
    "tags": []
   },
   "source": [
    "#  Behaviour tree example\n",
    "\n",
    "## Setup\n",
    "\n",
    "- Scene is published on `/tree/scene_in`\n",
    "- Gesture vector is published on `/tree/gestures_in`\n",
    "- G2I Service setup on `/g2i`\n",
    "    - Needs to have correct object types, ...\n",
    "\n",
    "BTree\n",
    "\n",
    "- Create BTree with `bt = BTreeLib.BTreeHandler()`\n",
    "- Create BTree predictions with `bt.predict()` -> Action sequence is generated"
   ]
  },
  {
   "cell_type": "markdown",
   "id": "7c1b00b2",
   "metadata": {},
   "source": [
    "### Init Gestures to Intent Service"
   ]
  },
  {
   "cell_type": "code",
   "execution_count": 2,
   "id": "f08836b3-f5b9-4e07-aa41-ea236d5a4bd2",
   "metadata": {},
   "outputs": [],
   "source": [
    "rclpy.init()"
   ]
  },
  {
   "cell_type": "code",
   "execution_count": 3,
   "id": "21db4d81-6e4e-4b57-9ec4-3b5a6d5168c6",
   "metadata": {},
   "outputs": [],
   "source": [
    "global g2i\n",
    "g2i.init()\n",
    "g2i.rosnode = g2i.G2IRosNode(inference_type='1to1', ignore_unfeasible=True)\n",
    "Object.all_types = Otypes = ['cup', 'drawer', 'object']"
   ]
  },
  {
   "cell_type": "markdown",
   "id": "f5a7c071",
   "metadata": {},
   "source": [
    "### Init scene & gesture vector publishers"
   ]
  },
  {
   "cell_type": "code",
   "execution_count": 4,
   "id": "805084f5",
   "metadata": {},
   "outputs": [],
   "source": [
    "pub_scene = g2i.rosnode.create_publisher(SceneRos, \"/tree/scene_in\", 5)\n",
    "pub_gestures = g2i.rosnode.create_publisher(GesturesRos, \"/tree/gestures_in\", 5)"
   ]
  },
  {
   "cell_type": "markdown",
   "id": "7babf1cd",
   "metadata": {},
   "source": [
    "### Create B Tree"
   ]
  },
  {
   "cell_type": "code",
   "execution_count": 5,
   "id": "59cecb92",
   "metadata": {},
   "outputs": [],
   "source": [
    "from srcmodules import BTreeLib"
   ]
  },
  {
   "cell_type": "code",
   "execution_count": 6,
   "id": "0a5ac007-2aa1-4c0b-954e-10b5be3b2635",
   "metadata": {},
   "outputs": [],
   "source": [
    "btree = BTreeLib.BTreeHandler()"
   ]
  },
  {
   "cell_type": "code",
   "execution_count": 7,
   "id": "ca18c573-361d-46a6-81bb-cab934bf1238",
   "metadata": {},
   "outputs": [],
   "source": [
    "import threading\n",
    "executor = rclpy.executors.MultiThreadedExecutor()\n",
    "executor.add_node(btree.behaviour_tree.node)\n",
    "executor.add_node(g2i.rosnode)\n",
    "# Spin in a separate thread\n",
    "executor_thread = threading.Thread(target=executor.spin, daemon=True)\n",
    "executor_thread.start()"
   ]
  },
  {
   "cell_type": "markdown",
   "id": "db4ff374",
   "metadata": {},
   "source": [
    "# Ex. 1 \n",
    "- put to drawer, when drawer is closed\n",
    "\n",
    "1. Generate Scene and Gesture vector\n",
    "2. Publish Scene and gesture vector info and generate the robotic action sequence "
   ]
  },
  {
   "cell_type": "code",
   "execution_count": 8,
   "id": "0514f2cd",
   "metadata": {},
   "outputs": [],
   "source": [
    "g = GesturesRos()\n",
    "g.probabilities.data = list(np.array(np.zeros(11), dtype=float))\n",
    "g.probabilities.data[4] = 1.0\n",
    "\n",
    "s = Scene(init='cup,drawer,object', random=False)\n",
    "Actions.do(s,('pick_up','cup'), ignore_location=True)\n",
    "sr = s.to_ros(SceneRos())\n",
    "sr.focus_point = np.array(s.drawer.position, dtype=float)"
   ]
  },
  {
   "cell_type": "code",
   "execution_count": 9,
   "id": "5a917e2f",
   "metadata": {},
   "outputs": [],
   "source": [
    "pub_scene.publish(sr)\n",
    "pub_gestures.publish(g)"
   ]
  },
  {
   "cell_type": "code",
   "execution_count": 10,
   "id": "906d804d-5e10-4387-8e52-043aa0bd1c9b",
   "metadata": {},
   "outputs": [
    {
     "name": "stdout",
     "output_type": "stream",
     "text": [
      "[ WARN] Scene2BB: gripper attached!\n",
      "=s============= Scene info. shape: [4, 4, 4]\n",
      "cup,\tcup,\t[0. 0. 0.], empty,\t|| [cup] >>\n",
      "drawer,\tdrawer,\t[0. 1. 0.], closed, cont: [],\t|| [drawer] >>\n",
      "object,\tobject,\t[0. 2. 0.],\t|| [object] >>\n",
      "Robot: [0. 0. 3.], opened, rotation: 0.0, attached: cup\n",
      "User added in feature vector! User ID: 0, User Name: Jan\n",
      "action_id:  put\n",
      "intent put, drawer\n",
      "\n",
      "{-} root [✓]\n",
      "    --> Scene2BB [✓] -- updated: Status.SUCCESS\n",
      "    --> Gestures2BB [✓] -- updated: Status.SUCCESS\n",
      "    --> GenIntent [✓] -- intent put, drawer,  generated\n",
      "    {-} seq_lvl1 [✓]\n",
      "        [o] to is drawer? [✓]\n",
      "            --> to_not_eq_drawer [✕]\n",
      "            [o] drawer precond.? [✓]\n",
      "                --> drawer_state_not_in_preconditions [✕] -- drawer opened?: False, target_action is open?: False, fixing conditions\n",
      "                {-} fix_drawer_precond [✓]\n",
      "                    [o] place first? [✓]\n",
      "                        --> hand_empty [✕]\n",
      "                        --> place_object [✓] -- [4 PlaceObject] ta=place, target_object=none\n",
      "                    --> toggle_drawer [✓] -- [3 Toggle Drawer] ta=opening, to=drawer\n",
      "        [o] holding precond.? [✓]\n",
      "            --> holding_precondition [✕]\n",
      "            --> pick_to [✓] -- [2 PickTO] ta=pick_up, to=cup\n",
      "        --> execute_ta [✓] -- [1 Execute TA] Status.SUCCESS! put,drawer\n",
      "        --> delete_intent [✓]\n",
      "\n"
     ]
    }
   ],
   "source": [
    "p = btree.predict()"
   ]
  },
  {
   "cell_type": "code",
   "execution_count": 11,
   "id": "3bbaaf72-6061-4a61-bb84-cbe02e3be02a",
   "metadata": {},
   "outputs": [
    {
     "data": {
      "text/plain": [
       "[context_based_gesture_operation.msg.Intent(target_action='place', target_object='', auxiliary_parameters=''),\n",
       " context_based_gesture_operation.msg.Intent(target_action='open', target_object='drawer', auxiliary_parameters=''),\n",
       " context_based_gesture_operation.msg.Intent(target_action='pick_up', target_object='cup', auxiliary_parameters=''),\n",
       " context_based_gesture_operation.msg.Intent(target_action='put', target_object='drawer', auxiliary_parameters='')]"
      ]
     },
     "execution_count": 11,
     "metadata": {},
     "output_type": "execute_result"
    }
   ],
   "source": [
    "p"
   ]
  },
  {
   "cell_type": "markdown",
   "id": "36171c7c",
   "metadata": {},
   "source": [
    "# Ex. 2\n",
    "- move left"
   ]
  },
  {
   "cell_type": "code",
   "execution_count": 14,
   "id": "d1c11a4e-3179-4772-be89-522f9a0dea6f",
   "metadata": {},
   "outputs": [],
   "source": [
    "g = GesturesRos()\n",
    "g.probabilities.data = list(np.array(np.zeros(9), dtype=float))\n",
    "g.probabilities.data[1] = 1.0\n",
    "\n",
    "s = Scene(init='cup,drawer,object', random=False)\n",
    "Actions.do(s,('pick_up','cup'), ignore_location=True)\n",
    "sr = s.to_ros(SceneRos())\n",
    "sr.focus_point = np.array(s.object.position, dtype=float)\n",
    "\n",
    "pub_scene.publish(sr)\n",
    "pub_gestures.publish(g)\n",
    "#time.sleep(0.5)"
   ]
  },
  {
   "cell_type": "code",
   "execution_count": 15,
   "id": "eaabef85-cc95-4c11-bde2-666621ca04d7",
   "metadata": {},
   "outputs": [
    {
     "name": "stdout",
     "output_type": "stream",
     "text": [
      "[ WARN] Scene2BB: gripper attached!\n",
      "User added in feature vector! User ID: 0, User Name: Jan\n",
      "action_id:  move_left\n",
      "intent move_left, object\n",
      "\n",
      "{-} root [✓]\n",
      "    --> Scene2BB [✓] -- updated: Status.SUCCESS\n",
      "    --> Gestures2BB [✓] -- updated: Status.SUCCESS\n",
      "    --> GenIntent [✓] -- intent move_left, object,  generated\n",
      "    {-} seq_lvl1 [✓]\n",
      "        [o] to is drawer? [✓]\n",
      "            --> to_not_eq_drawer [✓]\n",
      "            [o] drawer precond.?\n",
      "                --> drawer_state_not_in_preconditions\n",
      "                {-} fix_drawer_precond\n",
      "                    [o] place first?\n",
      "                        --> hand_empty\n",
      "                        --> place_object\n",
      "                    --> toggle_drawer\n",
      "        [o] holding precond.? [✓]\n",
      "            --> holding_precondition [✓]\n",
      "            --> pick_to\n",
      "        --> execute_ta [✓] -- [1 Execute TA] Status.SUCCESS! move_left,object\n",
      "        --> delete_intent [✓]\n",
      "\n"
     ]
    },
    {
     "data": {
      "text/plain": [
       "[context_based_gesture_operation.msg.Intent(target_action='move_left', target_object='object', auxiliary_parameters='')]"
      ]
     },
     "execution_count": 15,
     "metadata": {},
     "output_type": "execute_result"
    }
   ],
   "source": [
    "p = btree.predict()\n",
    "p"
   ]
  },
  {
   "cell_type": "markdown",
   "id": "9aa328eb",
   "metadata": {},
   "source": [
    "# Ex. 3\n",
    "- put to drawer, drawer is opened"
   ]
  },
  {
   "cell_type": "code",
   "execution_count": 16,
   "id": "62b3f249-c8d0-45e3-a0ff-f6b9fddff6bd",
   "metadata": {},
   "outputs": [],
   "source": [
    "g = GesturesRos()\n",
    "g.probabilities.data = list(np.array(np.zeros(9), dtype=float))\n",
    "g.probabilities.data[4] = 1.0\n",
    "\n",
    "s = Scene(init='cup,drawer,object', random=False)\n",
    "s.drawer.open()\n",
    "Actions.do(s,('pick_up','cup'), ignore_location=True)\n",
    "sr = s.to_ros(SceneRos())\n",
    "sr.focus_point = np.array(s.drawer.position, dtype=float)\n",
    "\n",
    "pub_scene.publish(sr)\n",
    "pub_gestures.publish(g)"
   ]
  },
  {
   "cell_type": "code",
   "execution_count": 17,
   "id": "1d19f288-8a9c-4964-b351-386dd08005f1",
   "metadata": {},
   "outputs": [
    {
     "name": "stdout",
     "output_type": "stream",
     "text": [
      "[ WARN] Scene2BB: gripper attached!\n",
      "User added in feature vector! User ID: 0, User Name: Jan\n",
      "action_id:  put\n",
      "intent put, drawer\n",
      "\n",
      "{-} root [✓]\n",
      "    --> Scene2BB [✓] -- updated: Status.SUCCESS\n",
      "    --> Gestures2BB [✓] -- updated: Status.SUCCESS\n",
      "    --> GenIntent [✓] -- intent put, drawer,  generated\n",
      "    {-} seq_lvl1 [✓]\n",
      "        [o] to is drawer? [✓]\n",
      "            --> to_not_eq_drawer [✕]\n",
      "            [o] drawer precond.? [✓]\n",
      "                --> drawer_state_not_in_preconditions [✓] -- drawer opened?: True, target_action is open?: False, not fixing conditions\n",
      "                {-} fix_drawer_precond\n",
      "                    [o] place first?\n",
      "                        --> hand_empty\n",
      "                        --> place_object\n",
      "                    --> toggle_drawer\n",
      "        [o] holding precond.? [✓]\n",
      "            --> holding_precondition [✓]\n",
      "            --> pick_to\n",
      "        --> execute_ta [✓] -- [1 Execute TA] Status.SUCCESS! put,drawer\n",
      "        --> delete_intent [✓]\n",
      "\n"
     ]
    },
    {
     "data": {
      "text/plain": [
       "[context_based_gesture_operation.msg.Intent(target_action='put', target_object='drawer', auxiliary_parameters='')]"
      ]
     },
     "execution_count": 17,
     "metadata": {},
     "output_type": "execute_result"
    }
   ],
   "source": [
    "p = btree.predict()\n",
    "p"
   ]
  },
  {
   "cell_type": "markdown",
   "id": "e0840263",
   "metadata": {},
   "source": [
    "# Ex. 4\n",
    "- put to drawer, not holding anything, target drawer opened\n",
    "    \n",
    "- Unfeasible, no object held in gripper -> action discarded before when checking action validity "
   ]
  },
  {
   "cell_type": "code",
   "execution_count": null,
   "id": "88766840",
   "metadata": {},
   "outputs": [],
   "source": []
  },
  {
   "cell_type": "code",
   "execution_count": null,
   "id": "f2e27b48-635e-4a2b-9986-a85a32ae33aa",
   "metadata": {},
   "outputs": [],
   "source": []
  }
 ],
 "metadata": {
  "kernelspec": {
   "display_name": "Python 3 (ipykernel)",
   "language": "python",
   "name": "python3"
  },
  "language_info": {
   "codemirror_mode": {
    "name": "ipython",
    "version": 3
   },
   "file_extension": ".py",
   "mimetype": "text/x-python",
   "name": "python",
   "nbconvert_exporter": "python",
   "pygments_lexer": "ipython3",
   "version": "3.8.10"
  }
 },
 "nbformat": 4,
 "nbformat_minor": 5
}
