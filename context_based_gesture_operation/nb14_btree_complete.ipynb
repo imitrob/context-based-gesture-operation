{
 "cells": [
  {
   "cell_type": "code",
   "execution_count": 1,
   "id": "55c4cdd9",
   "metadata": {},
   "outputs": [],
   "source": [
    "from agent_nodes import g2i\n",
    "\n",
    "import rclpy\n",
    "from rclpy.node import Node\n",
    "from context_based_gesture_operation.srv import G2I\n",
    "from context_based_gesture_operation.msg import Intent\n",
    "from context_based_gesture_operation.msg import Scene as SceneRos\n",
    "from context_based_gesture_operation.msg import Gestures as GesturesRos\n",
    "import numpy as np\n",
    "from srcmodules.Scenes import Scene\n",
    "from srcmodules.Gestures import Gestures\n",
    "from srcmodules.Actions import Actions\n",
    "from srcmodules.SceneFieldFeatures import SceneFieldFeatures"
   ]
  },
  {
   "cell_type": "markdown",
   "id": "7ed70a4c",
   "metadata": {
    "tags": []
   },
   "source": [
    "#  Behaviour tree example\n",
    "\n",
    "- `roscore` need to be running in the backend\n",
    "- `rosrun rqt_py_trees rqt_py_trees` to visualize the tree"
   ]
  },
  {
   "cell_type": "markdown",
   "id": "7c1b00b2",
   "metadata": {},
   "source": [
    "### Init Gestures to Intent Service"
   ]
  },
  {
   "cell_type": "code",
   "execution_count": 2,
   "id": "f4517271",
   "metadata": {},
   "outputs": [],
   "source": [
    "A = ['move_up', 'move_left', 'move_down', 'move_right',\n",
    "         'put', 'put_on', 'pour', 'pick_up', 'place', 'open', 'close']\n",
    "G = ['swipe_up', 'swipe_left', 'swipe_down', 'swipe_right',\n",
    "          'five', 'grab', 'thumbsup', 'rotate', 'point', 'two', 'three']"
   ]
  },
  {
   "cell_type": "code",
   "execution_count": 3,
   "id": "a12e47e4",
   "metadata": {},
   "outputs": [],
   "source": [
    "rclpy.init()\n",
    "\n",
    "g2i.init()\n",
    "g2i.rosnode = g2i.G2IRosNode(G, A)"
   ]
  },
  {
   "cell_type": "markdown",
   "id": "f5a7c071",
   "metadata": {},
   "source": [
    "### Init scene & gesture vector publishers"
   ]
  },
  {
   "cell_type": "code",
   "execution_count": 4,
   "id": "805084f5",
   "metadata": {},
   "outputs": [],
   "source": [
    "pub_scene = g2i.rosnode.create_publisher(SceneRos, \"/tree/scene_in\", 5)\n",
    "pub_gestures = g2i.rosnode.create_publisher(GesturesRos, \"/tree/gestures_in\", 5)"
   ]
  },
  {
   "cell_type": "markdown",
   "id": "8ea2f482",
   "metadata": {},
   "source": [
    "### Save the robotic actions"
   ]
  },
  {
   "cell_type": "code",
   "execution_count": 5,
   "id": "0579142d",
   "metadata": {},
   "outputs": [
    {
     "data": {
      "text/plain": [
       "<rclpy.subscription.Subscription at 0x7f4c4e7117c0>"
      ]
     },
     "execution_count": 5,
     "metadata": {},
     "output_type": "execute_result"
    }
   ],
   "source": [
    "robotic_sequence = []\n",
    "def save_the_robotic_sequence(msg):\n",
    "    global robotic_sequence\n",
    "    robotic_sequence.append(msg)\n",
    "g2i.rosnode.create_subscription(Intent, '/execute_intent', save_the_robotic_sequence, 5)"
   ]
  },
  {
   "cell_type": "markdown",
   "id": "7babf1cd",
   "metadata": {},
   "source": [
    "### Create B Tree"
   ]
  },
  {
   "cell_type": "code",
   "execution_count": 6,
   "id": "59cecb92",
   "metadata": {},
   "outputs": [],
   "source": [
    "from srcmodules import BTreeLib\n",
    "import py_trees_ros, functools"
   ]
  },
  {
   "cell_type": "code",
   "execution_count": 7,
   "id": "d546db0c",
   "metadata": {},
   "outputs": [],
   "source": [
    "root = BTreeLib.create_tree()\n",
    "behaviour_tree = py_trees_ros.trees.BehaviourTree(root)\n",
    "#rclpy.on_shutdown(functools.partial(BTreeLib.shutdown, behaviour_tree))\n",
    "\n",
    "#if not behaviour_tree.setup(timeout=15):\n",
    "#    console.logerror(\"failed to setup the tree, aborting.\")\n",
    "#    sys.exit(1)"
   ]
  },
  {
   "cell_type": "code",
   "execution_count": 8,
   "id": "a8f76c7d",
   "metadata": {},
   "outputs": [
    {
     "name": "stdout",
     "output_type": "stream",
     "text": [
      "update scene: Status.RUNNING\n"
     ]
    }
   ],
   "source": [
    "behaviour_tree.tick()"
   ]
  },
  {
   "cell_type": "markdown",
   "id": "db4ff374",
   "metadata": {},
   "source": [
    "# Ex. 1 \n",
    "- put to drawer, when drawer is closed\n",
    "\n",
    "1. Generate Scene and Gesture vector\n",
    "2. Publish Scene and gesture vector info and generate the robotic action sequence "
   ]
  },
  {
   "cell_type": "code",
   "execution_count": 12,
   "id": "0514f2cd",
   "metadata": {},
   "outputs": [],
   "source": [
    "g = GesturesRos()\n",
    "g.probabilities.data = list(np.array(np.zeros(11), dtype=float))\n",
    "g.probabilities.data[5] = 1.0\n",
    "\n",
    "s = Scene(init='object,drawer,cup', random=False)\n",
    "Actions.do(s,('pick_up','cup'), ignore_location=True)\n",
    "sr = s.to_ros(SceneRos())\n",
    "sr.focus_point = np.array(s.drawer.position, dtype=float)"
   ]
  },
  {
   "cell_type": "code",
   "execution_count": 13,
   "id": "5a917e2f",
   "metadata": {},
   "outputs": [],
   "source": [
    "pub_scene.publish(sr)\n",
    "pub_gestures.publish(g)"
   ]
  },
  {
   "cell_type": "code",
   "execution_count": 14,
   "id": "99a8a30b",
   "metadata": {},
   "outputs": [
    {
     "name": "stdout",
     "output_type": "stream",
     "text": [
      "update scene: Status.RUNNING\n"
     ]
    }
   ],
   "source": [
    "behaviour_tree.tick()"
   ]
  },
  {
   "cell_type": "code",
   "execution_count": 15,
   "id": "b84ec54d",
   "metadata": {},
   "outputs": [
    {
     "data": {
      "text/plain": [
       "[]"
      ]
     },
     "execution_count": 15,
     "metadata": {},
     "output_type": "execute_result"
    }
   ],
   "source": [
    "robotic_sequence"
   ]
  },
  {
   "cell_type": "markdown",
   "id": "36171c7c",
   "metadata": {},
   "source": [
    "# Ex. 2\n",
    "- move left"
   ]
  },
  {
   "cell_type": "code",
   "execution_count": 18,
   "id": "75904c61",
   "metadata": {},
   "outputs": [
    {
     "name": "stdout",
     "output_type": "stream",
     "text": [
      "update scene: Status.RUNNING\n"
     ]
    },
    {
     "data": {
      "text/plain": [
       "[]"
      ]
     },
     "execution_count": 18,
     "metadata": {},
     "output_type": "execute_result"
    }
   ],
   "source": [
    "robotic_sequence = []\n",
    "\n",
    "g = GesturesRos()\n",
    "g.probabilities.data = list(np.array(np.zeros(11), dtype=float))\n",
    "g.probabilities.data[1] = 1.0\n",
    "\n",
    "s = Scene(init='object,drawer,cup', random=False)\n",
    "Actions.do(s,('pick_up','cup'), ignore_location=True)\n",
    "sr = s.to_ros(SceneRos())\n",
    "sr.focus_point = np.array(s.object.position, dtype=float)\n",
    "\n",
    "pub_scene.publish(sr)\n",
    "pub_gestures.publish(g)\n",
    "\n",
    "behaviour_tree.tick()\n",
    "robotic_sequence"
   ]
  },
  {
   "cell_type": "markdown",
   "id": "9aa328eb",
   "metadata": {},
   "source": [
    "# Ex. 3\n",
    "- put to drawer, drawer is opened"
   ]
  },
  {
   "cell_type": "code",
   "execution_count": 20,
   "id": "db72f9d4",
   "metadata": {},
   "outputs": [
    {
     "name": "stdout",
     "output_type": "stream",
     "text": [
      "update scene: Status.RUNNING\n"
     ]
    },
    {
     "data": {
      "text/plain": [
       "[]"
      ]
     },
     "execution_count": 20,
     "metadata": {},
     "output_type": "execute_result"
    },
    {
     "name": "stderr",
     "output_type": "stream",
     "text": [
      "1667902431.976800 [0]        tev: ddsi_udp_conn_write to udp/10.37.1.84:55295 failed with retcode -1\n",
      "1667902432.075885 [0]        tev: ddsi_udp_conn_write to udp/239.255.0.1:7400 failed with retcode -1\n",
      "1667902432.075899 [0]        tev: ddsi_udp_conn_write to udp/10.37.1.84:55295 failed with retcode -1\n",
      "1667902432.076854 [0]        tev: ddsi_udp_conn_write to udp/10.37.1.84:55295 failed with retcode -1\n",
      "1667902432.176939 [0]        tev: ddsi_udp_conn_write to udp/10.37.1.84:55295 failed with retcode -1\n",
      "1667902432.277007 [0]        tev: ddsi_udp_conn_write to udp/10.37.1.84:55295 failed with retcode -1\n",
      "1667902432.382129 [0]        tev: ddsi_udp_conn_write to udp/10.37.1.84:55295 failed with retcode -1\n",
      "1667902432.482232 [0]        tev: ddsi_udp_conn_write to udp/10.37.1.84:55295 failed with retcode -1\n",
      "1667902432.582354 [0]        tev: ddsi_udp_conn_write to udp/10.37.1.84:55295 failed with retcode -1\n",
      "1667902432.782504 [0]        tev: ddsi_udp_conn_write to udp/10.37.1.84:55295 failed with retcode -1\n",
      "1667902432.982609 [0]        tev: ddsi_udp_conn_write to udp/10.37.1.84:55295 failed with retcode -1\n",
      "1667902433.382707 [0]        tev: ddsi_udp_conn_write to udp/10.37.1.84:55295 failed with retcode -1\n",
      "1667902433.782968 [0]        tev: ddsi_udp_conn_write to udp/10.37.1.84:55295 failed with retcode -1\n",
      "1667902434.583083 [0]        tev: ddsi_udp_conn_write to udp/10.37.1.84:55295 failed with retcode -1\n",
      "1667902435.383165 [0]        tev: ddsi_udp_conn_write to udp/10.37.1.84:55295 failed with retcode -1\n",
      "1667902440.076153 [0]        tev: ddsi_udp_conn_write to udp/239.255.0.1:7400 failed with retcode -1\n",
      "1667902448.076317 [0]        tev: ddsi_udp_conn_write to udp/239.255.0.1:7400 failed with retcode -1\n",
      "1667902456.076519 [0]        tev: ddsi_udp_conn_write to udp/239.255.0.1:7400 failed with retcode -1\n",
      "1667902464.076668 [0]        tev: ddsi_udp_conn_write to udp/239.255.0.1:7400 failed with retcode -1\n",
      "1667902472.076930 [0]        tev: ddsi_udp_conn_write to udp/239.255.0.1:7400 failed with retcode -1\n",
      "1667902480.077170 [0]        tev: ddsi_udp_conn_write to udp/239.255.0.1:7400 failed with retcode -1\n",
      "1667902488.077426 [0]        tev: ddsi_udp_conn_write to udp/239.255.0.1:7400 failed with retcode -1\n",
      "1667902496.077592 [0]        tev: ddsi_udp_conn_write to udp/239.255.0.1:7400 failed with retcode -1\n",
      "1667902504.077700 [0]        tev: ddsi_udp_conn_write to udp/239.255.0.1:7400 failed with retcode -1\n",
      "1667902512.077821 [0]        tev: ddsi_udp_conn_write to udp/239.255.0.1:7400 failed with retcode -1\n",
      "1667902520.077940 [0]        tev: ddsi_udp_conn_write to udp/239.255.0.1:7400 failed with retcode -1\n",
      "1667902528.078062 [0]        tev: ddsi_udp_conn_write to udp/239.255.0.1:7400 failed with retcode -1\n",
      "1667902536.078165 [0]        tev: ddsi_udp_conn_write to udp/239.255.0.1:7400 failed with retcode -1\n",
      "1667902544.078233 [0]        tev: ddsi_udp_conn_write to udp/239.255.0.1:7400 failed with retcode -1\n",
      "1667902552.078398 [0]        tev: ddsi_udp_conn_write to udp/239.255.0.1:7400 failed with retcode -1\n",
      "1667902560.078505 [0]        tev: ddsi_udp_conn_write to udp/239.255.0.1:7400 failed with retcode -1\n",
      "1667902568.078745 [0]        tev: ddsi_udp_conn_write to udp/239.255.0.1:7400 failed with retcode -1\n",
      "1667902576.078821 [0]        tev: ddsi_udp_conn_write to udp/239.255.0.1:7400 failed with retcode -1\n",
      "1667902584.079114 [0]        tev: ddsi_udp_conn_write to udp/239.255.0.1:7400 failed with retcode -1\n",
      "1667902592.079216 [0]        tev: ddsi_udp_conn_write to udp/239.255.0.1:7400 failed with retcode -1\n",
      "1667902600.079316 [0]        tev: ddsi_udp_conn_write to udp/239.255.0.1:7400 failed with retcode -1\n",
      "1667902608.079393 [0]        tev: ddsi_udp_conn_write to udp/239.255.0.1:7400 failed with retcode -1\n",
      "1667902616.079521 [0]        tev: ddsi_udp_conn_write to udp/239.255.0.1:7400 failed with retcode -1\n",
      "1667902624.079667 [0]        tev: ddsi_udp_conn_write to udp/239.255.0.1:7400 failed with retcode -1\n",
      "1667902632.079784 [0]        tev: ddsi_udp_conn_write to udp/239.255.0.1:7400 failed with retcode -1\n",
      "1667902640.079934 [0]        tev: ddsi_udp_conn_write to udp/239.255.0.1:7400 failed with retcode -1\n",
      "1667902648.080061 [0]        tev: ddsi_udp_conn_write to udp/239.255.0.1:7400 failed with retcode -1\n",
      "1667902656.080125 [0]        tev: ddsi_udp_conn_write to udp/239.255.0.1:7400 failed with retcode -1\n",
      "1667902664.080283 [0]        tev: ddsi_udp_conn_write to udp/239.255.0.1:7400 failed with retcode -1\n",
      "1667902672.080359 [0]        tev: ddsi_udp_conn_write to udp/239.255.0.1:7400 failed with retcode -1\n",
      "1667902680.080476 [0]        tev: ddsi_udp_conn_write to udp/239.255.0.1:7400 failed with retcode -1\n",
      "1667902688.080530 [0]        tev: ddsi_udp_conn_write to udp/239.255.0.1:7400 failed with retcode -1\n",
      "1667902696.080629 [0]        tev: ddsi_udp_conn_write to udp/239.255.0.1:7400 failed with retcode -1\n",
      "1667902704.080819 [0]        tev: ddsi_udp_conn_write to udp/239.255.0.1:7400 failed with retcode -1\n",
      "1667902712.080847 [0]        tev: ddsi_udp_conn_write to udp/239.255.0.1:7400 failed with retcode -1\n",
      "1667902720.080941 [0]        tev: ddsi_udp_conn_write to udp/239.255.0.1:7400 failed with retcode -1\n",
      "1667902728.081257 [0]        tev: ddsi_udp_conn_write to udp/239.255.0.1:7400 failed with retcode -1\n",
      "1667902736.081371 [0]        tev: ddsi_udp_conn_write to udp/239.255.0.1:7400 failed with retcode -1\n",
      "1667902744.081604 [0]        tev: ddsi_udp_conn_write to udp/239.255.0.1:7400 failed with retcode -1\n"
     ]
    }
   ],
   "source": [
    "robotic_sequence = []\n",
    "\n",
    "g = GesturesRos()\n",
    "g.probabilities.data = list(np.array(np.zeros(11), dtype=float))\n",
    "g.probabilities.data[5] = 1.0\n",
    "\n",
    "s = Scene(init='object,drawer,cup', random=False)\n",
    "s.drawer.open()\n",
    "Actions.do(s,('pick_up','cup'), ignore_location=True)\n",
    "sr = s.to_ros(SceneRos())\n",
    "sr.focus_point = np.array(s.drawer.position, dtype=float)\n",
    "\n",
    "pub_scene.publish(sr)\n",
    "pub_gestures.publish(g)\n",
    "\n",
    "behaviour_tree.tick()\n",
    "robotic_sequence"
   ]
  },
  {
   "cell_type": "markdown",
   "id": "e0840263",
   "metadata": {},
   "source": [
    "# Ex. 4\n",
    "- put to drawer, not holding anything, target drawer opened\n",
    "    \n",
    "- Unfeasible, no object held in gripper -> action discarded before when checking action validity "
   ]
  },
  {
   "cell_type": "code",
   "execution_count": null,
   "id": "88766840",
   "metadata": {},
   "outputs": [],
   "source": []
  },
  {
   "cell_type": "code",
   "execution_count": null,
   "id": "755ca3e7",
   "metadata": {},
   "outputs": [],
   "source": []
  },
  {
   "cell_type": "code",
   "execution_count": null,
   "id": "cdb2e893",
   "metadata": {},
   "outputs": [],
   "source": []
  }
 ],
 "metadata": {
  "kernelspec": {
   "display_name": "ros_galactic",
   "language": "python",
   "name": "ros_galactic"
  },
  "language_info": {
   "codemirror_mode": {
    "name": "ipython",
    "version": 3
   },
   "file_extension": ".py",
   "mimetype": "text/x-python",
   "name": "python",
   "nbconvert_exporter": "python",
   "pygments_lexer": "ipython3",
   "version": "3.9.13"
  }
 },
 "nbformat": 4,
 "nbformat_minor": 5
}
