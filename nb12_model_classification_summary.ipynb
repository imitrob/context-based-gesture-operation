{
 "cells": [
  {
   "cell_type": "markdown",
   "id": "0cbf60e8",
   "metadata": {},
   "source": [
    "Helper functions:"
   ]
  },
  {
   "cell_type": "code",
   "execution_count": 21,
   "id": "db654903",
   "metadata": {},
   "outputs": [],
   "source": [
    "def my_callback(meanfield, elbo, n):\n",
    "    if n%2000 == 0:# and n>200:\n",
    "        acc = print_acc_from_trace(meanfield, n)\n",
    "        accs.append(acc)\n",
    "        ns.append(n)\n",
    "def ppc_to_pred(ppc):\n",
    "    pred = []\n",
    "    for i in range(ppc['out'].shape[1]): # for X_test samples\n",
    "        one_sample = []\n",
    "        for j in range(ppc['out'].shape[0]):\n",
    "            one_sample.append(ppc['out'][j][i])\n",
    "        sums = np.zeros(lenA)\n",
    "        for s in one_sample:\n",
    "            sums[s] += 1\n",
    "\n",
    "        pred.append(np.argmax(sums))\n",
    "    return np.array(pred)"
   ]
  },
  {
   "cell_type": "markdown",
   "id": "4113b4df",
   "metadata": {},
   "source": [
    "Used in callback. Computes, prints and saves the accuracy at this point of learning"
   ]
  },
  {
   "cell_type": "code",
   "execution_count": 24,
   "id": "a9e0d767",
   "metadata": {},
   "outputs": [],
   "source": [
    "def print_acc_from_trace(meanfield, n, draws=20):\n",
    "    neural_network_test = deepcopy(neural_network)\n",
    "    with neural_network_test:\n",
    "        trace = meanfield.sample(draws=draws)\n",
    "    \n",
    "        pm.set_data(new_data={\"ann_input\": X_test})\n",
    "        ppc = pm.sample_posterior_predictive(trace, progressbar=False)\n",
    "    \n",
    "    pred = ppc_to_pred(ppc)\n",
    "    acc = (pred == Y_test).mean() * 100\n",
    "    print(f\"n: {n}, Accuracy = {round(acc,2)}%\")\n",
    "    return acc"
   ]
  },
  {
   "cell_type": "markdown",
   "id": "f88dd1c2",
   "metadata": {},
   "source": [
    "# Task 10.9. Three models"
   ]
  },
  {
   "cell_type": "markdown",
   "id": "bc23383e",
   "metadata": {},
   "source": [
    "## M. 1: Target object + scene + target object"
   ]
  },
  {
   "cell_type": "code",
   "execution_count": 10,
   "id": "d79dedb0",
   "metadata": {},
   "outputs": [],
   "source": [
    "import aesara\n",
    "import aesara.tensor as at\n",
    "import arviz as az\n",
    "import matplotlib.pyplot as plt\n",
    "import numpy as np\n",
    "import pymc3 as pm\n",
    "import seaborn as sns\n",
    "import os\n",
    "from copy import deepcopy\n",
    "from deepdiff import DeepDiff\n",
    "\n",
    "from sklearn.model_selection import train_test_split\n",
    "\n",
    "from submodules.Scenes import Scene\n",
    "from submodules.features import Features\n",
    "\n",
    "%config InlineBackend.figure_format = 'retina'\n",
    "floatX = aesara.config.floatX\n",
    "rng = np.random.default_rng(5165)\n",
    "az.style.use(\"arviz-darkgrid\")"
   ]
  },
  {
   "cell_type": "markdown",
   "id": "09592baf",
   "metadata": {},
   "source": [
    "Hyperparameters:"
   ]
  },
  {
   "cell_type": "code",
   "execution_count": 11,
   "id": "f3daf05c",
   "metadata": {},
   "outputs": [],
   "source": [
    "dataset_name = 'D1'\n",
    "train_samples = 6000 "
   ]
  },
  {
   "cell_type": "code",
   "execution_count": 12,
   "id": "3badba90",
   "metadata": {},
   "outputs": [],
   "source": [
    "# dataset \n",
    "data = np.load(f\"{os.path.expanduser('~')}/Documents/{dataset_name}.npy\", allow_pickle=True)\n",
    "config = data.item()['config']\n",
    "A = config['A']\n",
    "G = config['G']\n",
    "lenG = config['lenG']\n",
    "lenA = config['lenA']\n",
    "Otypes = config['Otypes']\n",
    "lenOtypes = config['lenOtypes']\n",
    "CM = config['CM']\n",
    "dataset = data.item()['dataset']"
   ]
  },
  {
   "cell_type": "code",
   "execution_count": 13,
   "id": "917f870f",
   "metadata": {},
   "outputs": [],
   "source": [
    "def get_X_Y(dataset):\n",
    "    X = np.zeros([len(dataset),len(dataset[0][2])])\n",
    "    Y = np.zeros((len(dataset)), dtype=tuple)\n",
    "    for n,sample in enumerate(dataset):\n",
    "        s = Scene(init='from_dict', import_data=sample[0])\n",
    "\n",
    "        X[n] = sample[2]\n",
    "        Y[n] = A.index(sample[1][0])\n",
    "    return X, Y\n",
    "\n",
    "X,Y = get_X_Y(dataset)"
   ]
  },
  {
   "cell_type": "code",
   "execution_count": 14,
   "id": "57d23f27",
   "metadata": {},
   "outputs": [],
   "source": [
    "X = X.astype(floatX)\n",
    "Y = Y.astype(floatX)\n",
    "X_train, X_test, Y_train, Y_test = train_test_split(X, Y, test_size=1-(train_samples/10000))"
   ]
  },
  {
   "cell_type": "code",
   "execution_count": 15,
   "id": "67e18c74",
   "metadata": {},
   "outputs": [],
   "source": [
    "n_obs_in = lenG"
   ]
  },
  {
   "cell_type": "code",
   "execution_count": 16,
   "id": "181b8b6d",
   "metadata": {},
   "outputs": [],
   "source": [
    "def construct_nn(ann_input, ann_output):\n",
    "    n_hidden = lenA\n",
    "    \n",
    "    # Initialize the weights/policy values\n",
    "    init_1 = rng.standard_normal(size=(X_train.shape[1], n_hidden)).astype(floatX)\n",
    "    coords = {\n",
    "        \"hidden_layer_1\": np.arange(n_hidden),\n",
    "        \"train_cols\": np.arange(X_train.shape[1]),\n",
    "    }\n",
    "    with pm.Model(coords=coords) as neural_network:\n",
    "        ann_input = pm.Data(\"ann_input\", X_train)\n",
    "        ann_output = pm.Data(\"ann_output\", Y_train)\n",
    "\n",
    "        # Weights/policy symbolic variable\n",
    "        weights_in_1 = pm.Normal(\n",
    "            \"policy\", 0, sigma=1, initval=init_1, dims=(\"train_cols\", \"hidden_layer_1\")\n",
    "        )\n",
    "        act_out = pm.math.sigmoid(pm.math.dot(ann_input, weights_in_1))\n",
    "        out = pm.Categorical(\n",
    "            \"out\",\n",
    "            act_out,\n",
    "            observed=ann_output,\n",
    "            total_size=Y_train.shape[0],\n",
    "        )\n",
    "    return neural_network\n",
    "\n",
    "neural_network = construct_nn(X_train, Y_train)"
   ]
  },
  {
   "cell_type": "code",
   "execution_count": 17,
   "id": "21197605",
   "metadata": {},
   "outputs": [
    {
     "data": {
      "image/svg+xml": [
       "<?xml version=\"1.0\" encoding=\"UTF-8\" standalone=\"no\"?>\n",
       "<!DOCTYPE svg PUBLIC \"-//W3C//DTD SVG 1.1//EN\"\n",
       " \"http://www.w3.org/Graphics/SVG/1.1/DTD/svg11.dtd\">\n",
       "<!-- Generated by graphviz version 2.49.1 (20211004.0028)\n",
       " -->\n",
       "<!-- Pages: 1 -->\n",
       "<svg width=\"250pt\" height=\"349pt\"\n",
       " viewBox=\"0.00 0.00 250.00 348.91\" xmlns=\"http://www.w3.org/2000/svg\" xmlns:xlink=\"http://www.w3.org/1999/xlink\">\n",
       "<g id=\"graph0\" class=\"graph\" transform=\"scale(1 1) rotate(0) translate(4 344.91)\">\n",
       "<polygon fill=\"white\" stroke=\"transparent\" points=\"-4,4 -4,-344.91 246,-344.91 246,4 -4,4\"/>\n",
       "<g id=\"clust1\" class=\"cluster\">\n",
       "<title>cluster6,000 x 9</title>\n",
       "<path fill=\"none\" stroke=\"black\" d=\"M20,-229.93C20,-229.93 100,-229.93 100,-229.93 106,-229.93 112,-235.93 112,-241.93 112,-241.93 112,-309.93 112,-309.93 112,-315.93 106,-321.93 100,-321.93 100,-321.93 20,-321.93 20,-321.93 14,-321.93 8,-315.93 8,-309.93 8,-309.93 8,-241.93 8,-241.93 8,-235.93 14,-229.93 20,-229.93\"/>\n",
       "<text text-anchor=\"middle\" x=\"70.5\" y=\"-237.73\" font-family=\"Times,serif\" font-size=\"14.00\">6,000 x 9</text>\n",
       "</g>\n",
       "<g id=\"clust2\" class=\"cluster\">\n",
       "<title>cluster6,000</title>\n",
       "<path fill=\"none\" stroke=\"black\" d=\"M50,-8C50,-8 180,-8 180,-8 186,-8 192,-14 192,-20 192,-20 192,-198.95 192,-198.95 192,-204.95 186,-210.95 180,-210.95 180,-210.95 50,-210.95 50,-210.95 44,-210.95 38,-204.95 38,-198.95 38,-198.95 38,-20 38,-20 38,-14 44,-8 50,-8\"/>\n",
       "<text text-anchor=\"middle\" x=\"163.5\" y=\"-15.8\" font-family=\"Times,serif\" font-size=\"14.00\">6,000</text>\n",
       "</g>\n",
       "<g id=\"clust3\" class=\"cluster\">\n",
       "<title>cluster9 x 11</title>\n",
       "<path fill=\"none\" stroke=\"black\" d=\"M132,-218.95C132,-218.95 222,-218.95 222,-218.95 228,-218.95 234,-224.95 234,-230.95 234,-230.95 234,-320.91 234,-320.91 234,-326.91 228,-332.91 222,-332.91 222,-332.91 132,-332.91 132,-332.91 126,-332.91 120,-326.91 120,-320.91 120,-320.91 120,-230.95 120,-230.95 120,-224.95 126,-218.95 132,-218.95\"/>\n",
       "<text text-anchor=\"middle\" x=\"203.5\" y=\"-226.75\" font-family=\"Times,serif\" font-size=\"14.00\">9 x 11</text>\n",
       "</g>\n",
       "<!-- ann_input -->\n",
       "<g id=\"node1\" class=\"node\">\n",
       "<title>ann_input</title>\n",
       "<path fill=\"lightgrey\" stroke=\"black\" d=\"M91.5,-313.93C91.5,-313.93 28.5,-313.93 28.5,-313.93 22.5,-313.93 16.5,-307.93 16.5,-301.93 16.5,-301.93 16.5,-272.93 16.5,-272.93 16.5,-266.93 22.5,-260.93 28.5,-260.93 28.5,-260.93 91.5,-260.93 91.5,-260.93 97.5,-260.93 103.5,-266.93 103.5,-272.93 103.5,-272.93 103.5,-301.93 103.5,-301.93 103.5,-307.93 97.5,-313.93 91.5,-313.93\"/>\n",
       "<text text-anchor=\"middle\" x=\"60\" y=\"-298.73\" font-family=\"Times,serif\" font-size=\"14.00\">ann_input</text>\n",
       "<text text-anchor=\"middle\" x=\"60\" y=\"-283.73\" font-family=\"Times,serif\" font-size=\"14.00\">~</text>\n",
       "<text text-anchor=\"middle\" x=\"60\" y=\"-268.73\" font-family=\"Times,serif\" font-size=\"14.00\">Data</text>\n",
       "</g>\n",
       "<!-- out -->\n",
       "<g id=\"node2\" class=\"node\">\n",
       "<title>out</title>\n",
       "<ellipse fill=\"lightgrey\" stroke=\"black\" cx=\"115\" cy=\"-165.48\" rx=\"69.09\" ry=\"37.45\"/>\n",
       "<text text-anchor=\"middle\" x=\"115\" y=\"-176.78\" font-family=\"Times,serif\" font-size=\"14.00\">out</text>\n",
       "<text text-anchor=\"middle\" x=\"115\" y=\"-161.78\" font-family=\"Times,serif\" font-size=\"14.00\">~</text>\n",
       "<text text-anchor=\"middle\" x=\"115\" y=\"-146.78\" font-family=\"Times,serif\" font-size=\"14.00\">Categorical</text>\n",
       "</g>\n",
       "<!-- ann_input&#45;&gt;out -->\n",
       "<g id=\"edge2\" class=\"edge\">\n",
       "<title>ann_input&#45;&gt;out</title>\n",
       "<path fill=\"none\" stroke=\"black\" d=\"M71.8,-260.7C78.34,-246.43 86.67,-228.26 94.26,-211.7\"/>\n",
       "<polygon fill=\"black\" stroke=\"black\" points=\"97.64,-212.73 98.63,-202.18 91.28,-209.81 97.64,-212.73\"/>\n",
       "</g>\n",
       "<!-- ann_output -->\n",
       "<g id=\"node3\" class=\"node\">\n",
       "<title>ann_output</title>\n",
       "<path fill=\"lightgrey\" stroke=\"black\" d=\"M151.5,-92C151.5,-92 78.5,-92 78.5,-92 72.5,-92 66.5,-86 66.5,-80 66.5,-80 66.5,-51 66.5,-51 66.5,-45 72.5,-39 78.5,-39 78.5,-39 151.5,-39 151.5,-39 157.5,-39 163.5,-45 163.5,-51 163.5,-51 163.5,-80 163.5,-80 163.5,-86 157.5,-92 151.5,-92\"/>\n",
       "<text text-anchor=\"middle\" x=\"115\" y=\"-76.8\" font-family=\"Times,serif\" font-size=\"14.00\">ann_output</text>\n",
       "<text text-anchor=\"middle\" x=\"115\" y=\"-61.8\" font-family=\"Times,serif\" font-size=\"14.00\">~</text>\n",
       "<text text-anchor=\"middle\" x=\"115\" y=\"-46.8\" font-family=\"Times,serif\" font-size=\"14.00\">Data</text>\n",
       "</g>\n",
       "<!-- out&#45;&gt;ann_output -->\n",
       "<g id=\"edge1\" class=\"edge\">\n",
       "<title>out&#45;&gt;ann_output</title>\n",
       "<path fill=\"none\" stroke=\"black\" d=\"M115,-127.99C115,-119.58 115,-110.63 115,-102.25\"/>\n",
       "<polygon fill=\"black\" stroke=\"black\" points=\"118.5,-102.01 115,-92.01 111.5,-102.01 118.5,-102.01\"/>\n",
       "</g>\n",
       "<!-- policy -->\n",
       "<g id=\"node4\" class=\"node\">\n",
       "<title>policy</title>\n",
       "<ellipse fill=\"none\" stroke=\"black\" cx=\"177\" cy=\"-287.43\" rx=\"49.49\" ry=\"37.45\"/>\n",
       "<text text-anchor=\"middle\" x=\"177\" y=\"-298.73\" font-family=\"Times,serif\" font-size=\"14.00\">policy</text>\n",
       "<text text-anchor=\"middle\" x=\"177\" y=\"-283.73\" font-family=\"Times,serif\" font-size=\"14.00\">~</text>\n",
       "<text text-anchor=\"middle\" x=\"177\" y=\"-268.73\" font-family=\"Times,serif\" font-size=\"14.00\">Normal</text>\n",
       "</g>\n",
       "<!-- policy&#45;&gt;out -->\n",
       "<g id=\"edge3\" class=\"edge\">\n",
       "<title>policy&#45;&gt;out</title>\n",
       "<path fill=\"none\" stroke=\"black\" d=\"M159.4,-252.38C152.77,-239.55 145.12,-224.75 138.06,-211.1\"/>\n",
       "<polygon fill=\"black\" stroke=\"black\" points=\"140.99,-209.14 133.29,-201.87 134.78,-212.36 140.99,-209.14\"/>\n",
       "</g>\n",
       "</g>\n",
       "</svg>\n"
      ],
      "text/plain": [
       "<graphviz.graphs.Digraph at 0x7fd06fb797f0>"
      ]
     },
     "execution_count": 17,
     "metadata": {},
     "output_type": "execute_result"
    }
   ],
   "source": [
    "pm.model_to_graphviz(neural_network)"
   ]
  },
  {
   "cell_type": "code",
   "execution_count": 18,
   "id": "65ebc228",
   "metadata": {},
   "outputs": [],
   "source": [
    "def print_acc_from_trace(meanfield, n, draws=20):\n",
    "    neural_network_test = deepcopy(neural_network)\n",
    "    with neural_network_test:\n",
    "        trace = meanfield.sample(draws=draws)\n",
    "    \n",
    "        pm.set_data(new_data={\"ann_input\": X_test})\n",
    "        ppc = pm.sample_posterior_predictive(trace, progressbar=False)\n",
    "    \n",
    "    pred = ppc_to_pred(ppc)\n",
    "    acc = (pred == Y_test).mean() * 100\n",
    "    print(f\"n: {n}, Accuracy = {round(acc,2)}%\")\n",
    "    return acc"
   ]
  },
  {
   "cell_type": "code",
   "execution_count": 25,
   "id": "bbb749dd",
   "metadata": {},
   "outputs": [
    {
     "data": {
      "text/html": [
       "\n",
       "    <div>\n",
       "        <style>\n",
       "            /* Turns off some styling */\n",
       "            progress {\n",
       "                /* gets rid of default border in Firefox and Opera. */\n",
       "                border: none;\n",
       "                /* Needs to be in here for Safari polyfill so background images work as expected. */\n",
       "                background-size: auto;\n",
       "            }\n",
       "            .progress-bar-interrupted, .progress-bar-interrupted::-webkit-progress-bar {\n",
       "                background: #F44336;\n",
       "            }\n",
       "        </style>\n",
       "      <progress value='2226' class='' max='25000' style='width:300px; height:20px; vertical-align: middle;'></progress>\n",
       "      8.90% [2226/25000 00:54<09:21 Average Loss = 13,278]\n",
       "    </div>\n",
       "    "
      ],
      "text/plain": [
       "<IPython.core.display.HTML object>"
      ]
     },
     "metadata": {},
     "output_type": "display_data"
    },
    {
     "name": "stdout",
     "output_type": "stream",
     "text": [
      "n: 2000, Accuracy = 17.5%\n"
     ]
    },
    {
     "name": "stderr",
     "output_type": "stream",
     "text": [
      "Interrupted at 2,226 [8%]: Average Loss = 13,663\n"
     ]
    }
   ],
   "source": [
    "ns = []\n",
    "accs = []\n",
    "#method = pm.ADVI()\n",
    "neural_network = construct_nn(X_train, Y_train)\n",
    "with neural_network:\n",
    "    approx = pm.fit(n=25_000, callbacks=[my_callback])#, method=method)"
   ]
  },
  {
   "cell_type": "markdown",
   "id": "d1be148c",
   "metadata": {},
   "source": [
    "Results of Model 1 (1L, 11 Hidden layer size fixed):\n",
    "- Dataset 1:\n",
    "    - M(100 s) = 18\n",
    "    - M(200 s) = 25\n",
    "    - M(400 s) = 40\n",
    "    - M(1000 s) = 62\n",
    "    - M(2500 s) = 67\n",
    "    - M(5000 samples) = 70\n",
    "    - M(9000 samples) = 67    \n",
    "- Dataset 2:\n",
    "    - M(5000 samples) = 68\n",
    "- Dataset 3:\n",
    "    - M(5000 samples) = 68\n",
    "    - M(1000 s ) = 63\n",
    "    - M(100 s) = ~18"
   ]
  },
  {
   "cell_type": "code",
   "execution_count": 26,
   "id": "3899e960",
   "metadata": {},
   "outputs": [
    {
     "data": {
      "text/plain": [
       "Text(0, 0.5, 'accuracy [%]')"
      ]
     },
     "execution_count": 26,
     "metadata": {},
     "output_type": "execute_result"
    },
    {
     "data": {
      "image/png": "[encoded data removed]",
      "text/plain": [
       "<Figure size 720x480 with 1 Axes>"
      ]
     },
     "metadata": {
      "image/png": {
       "height": 491,
       "width": 731
      }
     },
     "output_type": "display_data"
    }
   ],
   "source": [
    "plt.plot([100,200,400,1000,2500,5000,9000], [18,25,40,62,67,70,67])\n",
    "plt.xlabel(\"samples [-]\")\n",
    "plt.ylabel(\"accuracy [%]\")"
   ]
  },
  {
   "cell_type": "markdown",
   "id": "98f9262f",
   "metadata": {},
   "source": [
    "## M. 2: Model 2: Target object + scene + target object\n",
    "\n",
    "- D1,8000samples,3LW,nhid=25,scene features <52 -> not learning\n",
    "- D2,8000samples,3LW,nhid=25,scene features <52 -> ?\n"
   ]
  },
  {
   "cell_type": "code",
   "execution_count": 27,
   "id": "5771ca00",
   "metadata": {},
   "outputs": [],
   "source": [
    "import aesara\n",
    "import aesara.tensor as at\n",
    "import arviz as az\n",
    "import matplotlib.pyplot as plt\n",
    "import numpy as np\n",
    "import pymc3 as pm\n",
    "import seaborn as sns\n",
    "import os\n",
    "from copy import deepcopy\n",
    "from deepdiff import DeepDiff\n",
    "\n",
    "from sklearn.model_selection import train_test_split\n",
    "\n",
    "from submodules.Scenes import Scene\n",
    "from submodules.features import Features\n",
    "\n",
    "%config InlineBackend.figure_format = 'retina'\n",
    "floatX = aesara.config.floatX\n",
    "rng = np.random.default_rng(5165)\n",
    "az.style.use(\"arviz-darkgrid\")"
   ]
  },
  {
   "cell_type": "code",
   "execution_count": 28,
   "id": "d1748461",
   "metadata": {},
   "outputs": [],
   "source": [
    "dataset_name = 'D2'\n",
    "n_scene_features = 52\n",
    "train_samples = 6000 "
   ]
  },
  {
   "cell_type": "code",
   "execution_count": 29,
   "id": "2093a8e9",
   "metadata": {},
   "outputs": [],
   "source": [
    "# dataset \n",
    "data = np.load(f\"{os.path.expanduser('~')}/Documents/{dataset_name}.npy\", allow_pickle=True)\n",
    "config = data.item()['config']\n",
    "A = config['A']\n",
    "G = config['G']\n",
    "lenG = config['lenG']\n",
    "lenA = config['lenA']\n",
    "Otypes = config['Otypes']\n",
    "lenOtypes = config['lenOtypes']\n",
    "CM = config['CM']\n",
    "dataset = data.item()['dataset']"
   ]
  },
  {
   "cell_type": "code",
   "execution_count": 30,
   "id": "6d175854",
   "metadata": {},
   "outputs": [],
   "source": [
    "def get_X_Y(dataset):\n",
    "    X = np.zeros([len(dataset),len(dataset[0][2])+n_scene_features])\n",
    "    Y = np.zeros((len(dataset)), dtype=tuple)\n",
    "    for n,sample in enumerate(dataset):\n",
    "        s = Scene(init='from_dict', import_data=sample[0])\n",
    "        obs = s.scene_to_observation(type=1)\n",
    "        \n",
    "        ll = len(sample[2]) + len(obs)\n",
    "        X[n,0:ll] = [*sample[2], *obs]\n",
    "        Y[n] = A.index(sample[1][0])\n",
    "    return X, Y\n",
    "\n",
    "X,Y = get_X_Y(dataset)"
   ]
  },
  {
   "cell_type": "code",
   "execution_count": 31,
   "id": "d9c11cc6",
   "metadata": {},
   "outputs": [],
   "source": [
    "X = X.astype(floatX)\n",
    "Y = Y.astype(floatX)\n",
    "X_train, X_test, Y_train, Y_test = train_test_split(X, Y, test_size=1-(train_samples/10000))"
   ]
  },
  {
   "cell_type": "code",
   "execution_count": 32,
   "id": "239501cb",
   "metadata": {},
   "outputs": [],
   "source": [
    "# TODO:\n",
    "n_obs_in = lenG + n_scene_features"
   ]
  },
  {
   "cell_type": "code",
   "execution_count": 33,
   "id": "d2bf148e",
   "metadata": {},
   "outputs": [],
   "source": [
    "def construct_nn(ann_input, ann_output):\n",
    "    n_hidden = 25\n",
    "\n",
    "    # Initialize random weights between each layer\n",
    "    init_weights_1 = rng.standard_normal(size=(n_obs_in, n_hidden)).astype(floatX)\n",
    "    init_weights_2 = rng.standard_normal(size=(n_hidden, n_hidden)).astype(floatX)\n",
    "    init_weights_3 = rng.standard_normal(size=(n_hidden, lenA)).astype(floatX)\n",
    "    coords = {\n",
    "        \"hidden_layer_1\": np.arange(n_hidden),\n",
    "        \"hidden_layer_2\": np.arange(n_hidden),\n",
    "        \"hidden_layer_3\": np.arange(n_hidden),\n",
    "        \"train_cols\": np.arange(n_obs_in),\n",
    "        \"out_dim\": np.arange(lenA),\n",
    "        # \"obs_id\": np.arange(X_train.shape[0]),\n",
    "    }\n",
    "    with pm.Model(coords=coords) as neural_network:\n",
    "        ann_input = pm.Data(\"ann_input\", ann_input)\n",
    "        ann_output = pm.Data(\"ann_output\", Y_train)\n",
    "\n",
    "        # Weights from input to hidden layer\n",
    "        weights_1 = pm.Normal(\n",
    "            \"weights_1\", 0, sigma=1, initval=init_weights_1, dims=(\"train_cols\", \"hidden_layer_1\")\n",
    "        )\n",
    "        weights_2 = pm.Normal(\n",
    "            \"weights_2\", 0, sigma=1, initval=init_weights_2, dims=(\"hidden_layer_1\", \"hidden_layer_2\")\n",
    "        )\n",
    "        weights_3 = pm.Normal(\n",
    "            \"weights_3\", 0, sigma=1, initval=init_weights_3, dims=(\"hidden_layer_2\", \"out_dim\")\n",
    "        )\n",
    "        \n",
    "        act_1   = pm.math.tanh(pm.math.dot(ann_input, weights_1))\n",
    "        act_2   = pm.math.tanh(pm.math.dot(weights_1, weights_2))\n",
    "        act_out = pm.math.sigmoid(pm.math.dot(act_1, weights_3))\n",
    "        \n",
    "        # Binary classification -> Bernoulli likelihood\n",
    "        out = pm.Categorical(\n",
    "            \"out\",\n",
    "            act_out,\n",
    "            observed=ann_output,\n",
    "            total_size=Y_train.shape[0],  # IMPORTANT for minibatches\n",
    "        )\n",
    "    return neural_network\n",
    "\n",
    "\n",
    "neural_network = construct_nn(X_train, Y_train)"
   ]
  },
  {
   "cell_type": "code",
   "execution_count": 34,
   "id": "8bab3b41",
   "metadata": {},
   "outputs": [
    {
     "data": {
      "image/svg+xml": [
       "<?xml version=\"1.0\" encoding=\"UTF-8\" standalone=\"no\"?>\n",
       "<!DOCTYPE svg PUBLIC \"-//W3C//DTD SVG 1.1//EN\"\n",
       " \"http://www.w3.org/Graphics/SVG/1.1/DTD/svg11.dtd\">\n",
       "<!-- Generated by graphviz version 2.49.1 (20211004.0028)\n",
       " -->\n",
       "<!-- Pages: 1 -->\n",
       "<svg width=\"578pt\" height=\"349pt\"\n",
       " viewBox=\"0.00 0.00 578.00 348.91\" xmlns=\"http://www.w3.org/2000/svg\" xmlns:xlink=\"http://www.w3.org/1999/xlink\">\n",
       "<g id=\"graph0\" class=\"graph\" transform=\"scale(1 1) rotate(0) translate(4 344.91)\">\n",
       "<polygon fill=\"white\" stroke=\"transparent\" points=\"-4,4 -4,-344.91 574,-344.91 574,4 -4,4\"/>\n",
       "<g id=\"clust1\" class=\"cluster\">\n",
       "<title>cluster5,990 x 61</title>\n",
       "<path fill=\"none\" stroke=\"black\" d=\"M20,-229.93C20,-229.93 100,-229.93 100,-229.93 106,-229.93 112,-235.93 112,-241.93 112,-241.93 112,-309.93 112,-309.93 112,-315.93 106,-321.93 100,-321.93 100,-321.93 20,-321.93 20,-321.93 14,-321.93 8,-315.93 8,-309.93 8,-309.93 8,-241.93 8,-241.93 8,-235.93 14,-229.93 20,-229.93\"/>\n",
       "<text text-anchor=\"middle\" x=\"66\" y=\"-237.73\" font-family=\"Times,serif\" font-size=\"14.00\">5,990 x 61</text>\n",
       "</g>\n",
       "<g id=\"clust2\" class=\"cluster\">\n",
       "<title>cluster5,990</title>\n",
       "<path fill=\"none\" stroke=\"black\" d=\"M126,-8C126,-8 256,-8 256,-8 262,-8 268,-14 268,-20 268,-20 268,-198.95 268,-198.95 268,-204.95 262,-210.95 256,-210.95 256,-210.95 126,-210.95 126,-210.95 120,-210.95 114,-204.95 114,-198.95 114,-198.95 114,-20 114,-20 114,-14 120,-8 126,-8\"/>\n",
       "<text text-anchor=\"middle\" x=\"239.5\" y=\"-15.8\" font-family=\"Times,serif\" font-size=\"14.00\">5,990</text>\n",
       "</g>\n",
       "<g id=\"clust3\" class=\"cluster\">\n",
       "<title>cluster61 x 25</title>\n",
       "<path fill=\"none\" stroke=\"black\" d=\"M132,-218.95C132,-218.95 250,-218.95 250,-218.95 256,-218.95 262,-224.95 262,-230.95 262,-230.95 262,-320.91 262,-320.91 262,-326.91 256,-332.91 250,-332.91 250,-332.91 132,-332.91 132,-332.91 126,-332.91 120,-326.91 120,-320.91 120,-320.91 120,-230.95 120,-230.95 120,-224.95 126,-218.95 132,-218.95\"/>\n",
       "<text text-anchor=\"middle\" x=\"227\" y=\"-226.75\" font-family=\"Times,serif\" font-size=\"14.00\">61 x 25</text>\n",
       "</g>\n",
       "<g id=\"clust4\" class=\"cluster\">\n",
       "<title>cluster25 x 25</title>\n",
       "<path fill=\"none\" stroke=\"black\" d=\"M432,-218.95C432,-218.95 550,-218.95 550,-218.95 556,-218.95 562,-224.95 562,-230.95 562,-230.95 562,-320.91 562,-320.91 562,-326.91 556,-332.91 550,-332.91 550,-332.91 432,-332.91 432,-332.91 426,-332.91 420,-326.91 420,-320.91 420,-320.91 420,-230.95 420,-230.95 420,-224.95 426,-218.95 432,-218.95\"/>\n",
       "<text text-anchor=\"middle\" x=\"527\" y=\"-226.75\" font-family=\"Times,serif\" font-size=\"14.00\">25 x 25</text>\n",
       "</g>\n",
       "<g id=\"clust5\" class=\"cluster\">\n",
       "<title>cluster25 x 11</title>\n",
       "<path fill=\"none\" stroke=\"black\" d=\"M282,-218.95C282,-218.95 400,-218.95 400,-218.95 406,-218.95 412,-224.95 412,-230.95 412,-230.95 412,-320.91 412,-320.91 412,-326.91 406,-332.91 400,-332.91 400,-332.91 282,-332.91 282,-332.91 276,-332.91 270,-326.91 270,-320.91 270,-320.91 270,-230.95 270,-230.95 270,-224.95 276,-218.95 282,-218.95\"/>\n",
       "<text text-anchor=\"middle\" x=\"377\" y=\"-226.75\" font-family=\"Times,serif\" font-size=\"14.00\">25 x 11</text>\n",
       "</g>\n",
       "<!-- ann_input -->\n",
       "<g id=\"node1\" class=\"node\">\n",
       "<title>ann_input</title>\n",
       "<path fill=\"lightgrey\" stroke=\"black\" d=\"M91.5,-313.93C91.5,-313.93 28.5,-313.93 28.5,-313.93 22.5,-313.93 16.5,-307.93 16.5,-301.93 16.5,-301.93 16.5,-272.93 16.5,-272.93 16.5,-266.93 22.5,-260.93 28.5,-260.93 28.5,-260.93 91.5,-260.93 91.5,-260.93 97.5,-260.93 103.5,-266.93 103.5,-272.93 103.5,-272.93 103.5,-301.93 103.5,-301.93 103.5,-307.93 97.5,-313.93 91.5,-313.93\"/>\n",
       "<text text-anchor=\"middle\" x=\"60\" y=\"-298.73\" font-family=\"Times,serif\" font-size=\"14.00\">ann_input</text>\n",
       "<text text-anchor=\"middle\" x=\"60\" y=\"-283.73\" font-family=\"Times,serif\" font-size=\"14.00\">~</text>\n",
       "<text text-anchor=\"middle\" x=\"60\" y=\"-268.73\" font-family=\"Times,serif\" font-size=\"14.00\">Data</text>\n",
       "</g>\n",
       "<!-- out -->\n",
       "<g id=\"node2\" class=\"node\">\n",
       "<title>out</title>\n",
       "<ellipse fill=\"lightgrey\" stroke=\"black\" cx=\"191\" cy=\"-165.48\" rx=\"69.09\" ry=\"37.45\"/>\n",
       "<text text-anchor=\"middle\" x=\"191\" y=\"-176.78\" font-family=\"Times,serif\" font-size=\"14.00\">out</text>\n",
       "<text text-anchor=\"middle\" x=\"191\" y=\"-161.78\" font-family=\"Times,serif\" font-size=\"14.00\">~</text>\n",
       "<text text-anchor=\"middle\" x=\"191\" y=\"-146.78\" font-family=\"Times,serif\" font-size=\"14.00\">Categorical</text>\n",
       "</g>\n",
       "<!-- ann_input&#45;&gt;out -->\n",
       "<g id=\"edge4\" class=\"edge\">\n",
       "<title>ann_input&#45;&gt;out</title>\n",
       "<path fill=\"none\" stroke=\"black\" d=\"M78.74,-260.66C88.98,-247.45 102.34,-231.54 116,-218.95 122.87,-212.63 130.53,-206.44 138.27,-200.67\"/>\n",
       "<polygon fill=\"black\" stroke=\"black\" points=\"140.62,-203.28 146.66,-194.57 136.51,-197.62 140.62,-203.28\"/>\n",
       "</g>\n",
       "<!-- ann_output -->\n",
       "<g id=\"node3\" class=\"node\">\n",
       "<title>ann_output</title>\n",
       "<path fill=\"lightgrey\" stroke=\"black\" d=\"M227.5,-92C227.5,-92 154.5,-92 154.5,-92 148.5,-92 142.5,-86 142.5,-80 142.5,-80 142.5,-51 142.5,-51 142.5,-45 148.5,-39 154.5,-39 154.5,-39 227.5,-39 227.5,-39 233.5,-39 239.5,-45 239.5,-51 239.5,-51 239.5,-80 239.5,-80 239.5,-86 233.5,-92 227.5,-92\"/>\n",
       "<text text-anchor=\"middle\" x=\"191\" y=\"-76.8\" font-family=\"Times,serif\" font-size=\"14.00\">ann_output</text>\n",
       "<text text-anchor=\"middle\" x=\"191\" y=\"-61.8\" font-family=\"Times,serif\" font-size=\"14.00\">~</text>\n",
       "<text text-anchor=\"middle\" x=\"191\" y=\"-46.8\" font-family=\"Times,serif\" font-size=\"14.00\">Data</text>\n",
       "</g>\n",
       "<!-- out&#45;&gt;ann_output -->\n",
       "<g id=\"edge1\" class=\"edge\">\n",
       "<title>out&#45;&gt;ann_output</title>\n",
       "<path fill=\"none\" stroke=\"black\" d=\"M191,-127.99C191,-119.58 191,-110.63 191,-102.25\"/>\n",
       "<polygon fill=\"black\" stroke=\"black\" points=\"194.5,-102.01 191,-92.01 187.5,-102.01 194.5,-102.01\"/>\n",
       "</g>\n",
       "<!-- weights_1 -->\n",
       "<g id=\"node4\" class=\"node\">\n",
       "<title>weights_1</title>\n",
       "<ellipse fill=\"none\" stroke=\"black\" cx=\"191\" cy=\"-287.43\" rx=\"62.87\" ry=\"37.45\"/>\n",
       "<text text-anchor=\"middle\" x=\"191\" y=\"-298.73\" font-family=\"Times,serif\" font-size=\"14.00\">weights_1</text>\n",
       "<text text-anchor=\"middle\" x=\"191\" y=\"-283.73\" font-family=\"Times,serif\" font-size=\"14.00\">~</text>\n",
       "<text text-anchor=\"middle\" x=\"191\" y=\"-268.73\" font-family=\"Times,serif\" font-size=\"14.00\">Normal</text>\n",
       "</g>\n",
       "<!-- weights_1&#45;&gt;out -->\n",
       "<g id=\"edge3\" class=\"edge\">\n",
       "<title>weights_1&#45;&gt;out</title>\n",
       "<path fill=\"none\" stroke=\"black\" d=\"M191,-249.79C191,-238.38 191,-225.65 191,-213.63\"/>\n",
       "<polygon fill=\"black\" stroke=\"black\" points=\"194.5,-213.31 191,-203.31 187.5,-213.31 194.5,-213.31\"/>\n",
       "</g>\n",
       "<!-- weights_2 -->\n",
       "<g id=\"node5\" class=\"node\">\n",
       "<title>weights_2</title>\n",
       "<ellipse fill=\"none\" stroke=\"black\" cx=\"491\" cy=\"-287.43\" rx=\"62.87\" ry=\"37.45\"/>\n",
       "<text text-anchor=\"middle\" x=\"491\" y=\"-298.73\" font-family=\"Times,serif\" font-size=\"14.00\">weights_2</text>\n",
       "<text text-anchor=\"middle\" x=\"491\" y=\"-283.73\" font-family=\"Times,serif\" font-size=\"14.00\">~</text>\n",
       "<text text-anchor=\"middle\" x=\"491\" y=\"-268.73\" font-family=\"Times,serif\" font-size=\"14.00\">Normal</text>\n",
       "</g>\n",
       "<!-- weights_3 -->\n",
       "<g id=\"node6\" class=\"node\">\n",
       "<title>weights_3</title>\n",
       "<ellipse fill=\"none\" stroke=\"black\" cx=\"341\" cy=\"-287.43\" rx=\"62.87\" ry=\"37.45\"/>\n",
       "<text text-anchor=\"middle\" x=\"341\" y=\"-298.73\" font-family=\"Times,serif\" font-size=\"14.00\">weights_3</text>\n",
       "<text text-anchor=\"middle\" x=\"341\" y=\"-283.73\" font-family=\"Times,serif\" font-size=\"14.00\">~</text>\n",
       "<text text-anchor=\"middle\" x=\"341\" y=\"-268.73\" font-family=\"Times,serif\" font-size=\"14.00\">Normal</text>\n",
       "</g>\n",
       "<!-- weights_3&#45;&gt;out -->\n",
       "<g id=\"edge2\" class=\"edge\">\n",
       "<title>weights_3&#45;&gt;out</title>\n",
       "<path fill=\"none\" stroke=\"black\" d=\"M308.16,-255.3C295.31,-243.55 280.26,-230.29 266,-218.95 258.43,-212.94 250.22,-206.81 242.1,-200.98\"/>\n",
       "<polygon fill=\"black\" stroke=\"black\" points=\"243.89,-197.95 233.71,-195.01 239.83,-203.66 243.89,-197.95\"/>\n",
       "</g>\n",
       "</g>\n",
       "</svg>\n"
      ],
      "text/plain": [
       "<graphviz.graphs.Digraph at 0x7fd05656a4f0>"
      ]
     },
     "execution_count": 34,
     "metadata": {},
     "output_type": "execute_result"
    }
   ],
   "source": [
    "pm.model_to_graphviz(neural_network)"
   ]
  },
  {
   "cell_type": "code",
   "execution_count": 35,
   "id": "d4be644d",
   "metadata": {},
   "outputs": [],
   "source": [
    "def print_acc_from_trace(meanfield, n, draws=20):\n",
    "    neural_network_test = deepcopy(neural_network)\n",
    "    with neural_network_test:\n",
    "        trace = meanfield.sample(draws=draws)\n",
    "    \n",
    "        pm.set_data(new_data={\"ann_input\": X_test})\n",
    "        ppc = pm.sample_posterior_predictive(trace, progressbar=False)\n",
    "    \n",
    "    pred = ppc_to_pred(ppc)\n",
    "    acc = (pred == Y_test).mean() * 100\n",
    "    print(f\"n: {n}, Accuracy = {round(acc,2)}%\")\n",
    "    return acc"
   ]
  },
  {
   "cell_type": "code",
   "execution_count": 36,
   "id": "ef88c5b1",
   "metadata": {},
   "outputs": [
    {
     "data": {
      "text/html": [
       "\n",
       "    <div>\n",
       "        <style>\n",
       "            /* Turns off some styling */\n",
       "            progress {\n",
       "                /* gets rid of default border in Firefox and Opera. */\n",
       "                border: none;\n",
       "                /* Needs to be in here for Safari polyfill so background images work as expected. */\n",
       "                background-size: auto;\n",
       "            }\n",
       "            .progress-bar-interrupted, .progress-bar-interrupted::-webkit-progress-bar {\n",
       "                background: #F44336;\n",
       "            }\n",
       "        </style>\n",
       "      <progress value='244' class='' max='25000' style='width:300px; height:20px; vertical-align: middle;'></progress>\n",
       "      0.98% [244/25000 00:14<24:36 Average Loss = 27,010]\n",
       "    </div>\n",
       "    "
      ],
      "text/plain": [
       "<IPython.core.display.HTML object>"
      ]
     },
     "metadata": {},
     "output_type": "display_data"
    },
    {
     "name": "stderr",
     "output_type": "stream",
     "text": [
      "Interrupted at 245 [0%]: Average Loss = 26,981\n"
     ]
    }
   ],
   "source": [
    "ns = []\n",
    "accs = []\n",
    "#method = pm.ADVI()\n",
    "neural_network = construct_nn(X_train, Y_train)\n",
    "with neural_network:\n",
    "    approx = pm.fit(n=25_000, callbacks=[my_callback])#, method=method)"
   ]
  },
  {
   "cell_type": "code",
   "execution_count": null,
   "id": "7acf25a0",
   "metadata": {},
   "outputs": [],
   "source": []
  },
  {
   "cell_type": "markdown",
   "id": "00929ff5",
   "metadata": {},
   "source": [
    "# Compare three models as a histogram of accuracies"
   ]
  },
  {
   "cell_type": "code",
   "execution_count": 37,
   "id": "c0379f92",
   "metadata": {},
   "outputs": [],
   "source": [
    "model1_accs = [70,68,68]\n",
    "model2_accs = [18,17,18]\n",
    "model3_accs = [0,0,0]"
   ]
  },
  {
   "cell_type": "code",
   "execution_count": 38,
   "id": "3f8f0569",
   "metadata": {},
   "outputs": [
    {
     "name": "stderr",
     "output_type": "stream",
     "text": [
      "/tmp/ipykernel_25900/1647915420.py:20: UserWarning: This figure was using constrained_layout, but that is incompatible with subplots_adjust and/or tight_layout; disabling constrained_layout.\n",
      "  fig.tight_layout()\n"
     ]
    },
    {
     "data": {
      "image/png": "[encoded data removed]",
      "text/plain": [
       "<Figure size 720x480 with 1 Axes>"
      ]
     },
     "metadata": {
      "image/png": {
       "height": 469,
       "width": 710
      }
     },
     "output_type": "display_data"
    }
   ],
   "source": [
    "labels = ['Dataset 1', 'Dataset 2', 'Dataset 3']\n",
    "\n",
    "x = np.arange(len(labels))  # the label locations\n",
    "width = 0.20  # the width of the bars\n",
    "\n",
    "fig, ax = plt.subplots()\n",
    "rects1 = ax.bar(x - width, model1_accs, width, label='Model 1')\n",
    "rects2 = ax.bar(x        , model2_accs, width, label='Model 2')\n",
    "rects3 = ax.bar(x + width, model3_accs, width, label='Model 3')\n",
    "\n",
    "# Add some text for labels, title and custom x-axis tick labels, etc.\n",
    "ax.set_ylabel('Accuracies [%]')\n",
    "ax.set_xticks(x, labels)\n",
    "ax.legend()\n",
    "\n",
    "ax.bar_label(rects1, padding=3)\n",
    "ax.bar_label(rects2, padding=3)\n",
    "ax.bar_label(rects3, padding=3)\n",
    "\n",
    "fig.tight_layout()\n",
    "\n",
    "plt.show()"
   ]
  },
  {
   "cell_type": "code",
   "execution_count": null,
   "id": "0eb8c7cc",
   "metadata": {},
   "outputs": [],
   "source": []
  },
  {
   "cell_type": "code",
   "execution_count": null,
   "id": "41882795",
   "metadata": {},
   "outputs": [],
   "source": []
  },
  {
   "cell_type": "code",
   "execution_count": null,
   "id": "5e7bb840",
   "metadata": {},
   "outputs": [],
   "source": []
  },
  {
   "cell_type": "code",
   "execution_count": null,
   "id": "1f230e84",
   "metadata": {},
   "outputs": [],
   "source": []
  }
 ],
 "metadata": {
  "kernelspec": {
   "display_name": "robostackenv",
   "language": "python",
   "name": "myenv"
  },
  "language_info": {
   "codemirror_mode": {
    "name": "ipython",
    "version": 3
   },
   "file_extension": ".py",
   "mimetype": "text/x-python",
   "name": "python",
   "nbconvert_exporter": "python",
   "pygments_lexer": "ipython3",
   "version": "3.8.10"
  }
 },
 "nbformat": 4,
 "nbformat_minor": 5
}
