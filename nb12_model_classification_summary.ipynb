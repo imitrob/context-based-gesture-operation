{
 "cells": [
  {
   "cell_type": "markdown",
   "id": "5eceddab",
   "metadata": {},
   "source": [
    "Helper functions:"
   ]
  },
  {
   "cell_type": "code",
   "execution_count": 1,
   "id": "275ba92e",
   "metadata": {},
   "outputs": [],
   "source": [
    "def my_callback(meanfield, elbo, n):\n",
    "    if n%2000 == 0 and n>10000 or n == 5000:\n",
    "        acc = print_acc_from_trace(meanfield, n)\n",
    "        accs.append(acc)\n",
    "        ns.append(n)\n",
    "def ppc_to_pred(ppc):\n",
    "    pred = []\n",
    "    for i in range(ppc['out'].shape[1]): # for X_test samples\n",
    "        one_sample = []\n",
    "        for j in range(ppc['out'].shape[0]):\n",
    "            one_sample.append(ppc['out'][j][i])\n",
    "        sums = np.zeros(lenA)\n",
    "        for s in one_sample:\n",
    "            sums[s] += 1\n",
    "\n",
    "        pred.append(np.argmax(sums))\n",
    "    return np.array(pred)"
   ]
  },
  {
   "cell_type": "markdown",
   "id": "bc2c5ba0",
   "metadata": {},
   "source": [
    "Used in callback. Computes, prints and saves the accuracy at this point of learning"
   ]
  },
  {
   "cell_type": "code",
   "execution_count": 2,
   "id": "5179217b",
   "metadata": {},
   "outputs": [],
   "source": [
    "def print_acc_from_trace(meanfield, n, draws=20):\n",
    "    neural_network_test = deepcopy(neural_network)\n",
    "    with neural_network_test:\n",
    "        trace = meanfield.sample(draws=draws)\n",
    "    \n",
    "        pm.set_data(new_data={\"ann_input\": X_test})\n",
    "        ppc = pm.sample_posterior_predictive(trace, progressbar=False)\n",
    "    \n",
    "    pred = ppc_to_pred(ppc)\n",
    "    acc = (pred == Y_test).mean() * 100\n",
    "    print(f\"n: {n}, Accuracy = {round(acc,2)}%\")\n",
    "    return acc"
   ]
  },
  {
   "cell_type": "markdown",
   "id": "a3bf870e",
   "metadata": {},
   "source": [
    "# M. 1"
   ]
  },
  {
   "cell_type": "code",
   "execution_count": 3,
   "id": "c8292346",
   "metadata": {},
   "outputs": [],
   "source": [
    "import aesara\n",
    "import aesara.tensor as at\n",
    "import arviz as az\n",
    "import matplotlib.pyplot as plt\n",
    "import numpy as np\n",
    "import pymc3 as pm\n",
    "import seaborn as sns\n",
    "import os\n",
    "from copy import deepcopy\n",
    "from deepdiff import DeepDiff\n",
    "\n",
    "from sklearn.model_selection import train_test_split\n",
    "\n",
    "from submodules.Scenes import Scene\n",
    "from submodules.features import Features\n",
    "\n",
    "%config InlineBackend.figure_format = 'retina'\n",
    "floatX = aesara.config.floatX\n",
    "rng = np.random.default_rng(5165)\n",
    "az.style.use(\"arviz-darkgrid\")"
   ]
  },
  {
   "cell_type": "markdown",
   "id": "c98053b5",
   "metadata": {},
   "source": [
    "Hyperparameters:"
   ]
  },
  {
   "cell_type": "code",
   "execution_count": 15,
   "id": "a70ec35e",
   "metadata": {},
   "outputs": [],
   "source": [
    "dataset_name = 'D3_1'\n",
    "train_samples = 2500 "
   ]
  },
  {
   "cell_type": "code",
   "execution_count": 16,
   "id": "f70c6166",
   "metadata": {},
   "outputs": [],
   "source": [
    "# dataset \n",
    "data = np.load(f\"{os.path.expanduser('~')}/Documents/{dataset_name}.npy\", allow_pickle=True)\n",
    "config = data.item()['config']\n",
    "A = config['A']\n",
    "G = config['G']\n",
    "lenG = config['lenG']\n",
    "lenA = config['lenA']\n",
    "Otypes = config['Otypes']\n",
    "lenOtypes = config['lenOtypes']\n",
    "CM = config['CM']\n",
    "dataset = data.item()['dataset']"
   ]
  },
  {
   "cell_type": "code",
   "execution_count": 17,
   "id": "b53b34ef",
   "metadata": {},
   "outputs": [],
   "source": [
    "def get_X_Y(dataset):\n",
    "    X = np.zeros([len(dataset),len(dataset[0][2])])\n",
    "    Y = np.zeros((len(dataset)), dtype=tuple)\n",
    "    for n,sample in enumerate(dataset):\n",
    "        s = Scene(init='from_dict', import_data=sample[0])\n",
    "\n",
    "        X[n] = sample[2]\n",
    "        Y[n] = A.index(sample[1][0])\n",
    "    return X, Y\n",
    "\n",
    "X,Y = get_X_Y(dataset)"
   ]
  },
  {
   "cell_type": "code",
   "execution_count": 18,
   "id": "953932d2",
   "metadata": {},
   "outputs": [],
   "source": [
    "X = X.astype(floatX)\n",
    "Y = Y.astype(floatX)\n",
    "X_train, X_test, Y_train, Y_test = train_test_split(X, Y, test_size=1-(train_samples/10000))"
   ]
  },
  {
   "cell_type": "code",
   "execution_count": 19,
   "id": "6ef12ec0",
   "metadata": {},
   "outputs": [],
   "source": [
    "n_obs_in = lenG"
   ]
  },
  {
   "cell_type": "code",
   "execution_count": 20,
   "id": "7e683497",
   "metadata": {},
   "outputs": [],
   "source": [
    "def construct_nn(ann_input, ann_output):\n",
    "    n_hidden = lenA\n",
    "    \n",
    "    # Initialize the weights/policy values\n",
    "    init_1 = rng.standard_normal(size=(X_train.shape[1], n_hidden)).astype(floatX)\n",
    "    coords = {\n",
    "        \"hidden_layer_1\": np.arange(n_hidden),\n",
    "        \"train_cols\": np.arange(X_train.shape[1]),\n",
    "    }\n",
    "    with pm.Model(coords=coords) as neural_network:\n",
    "        ann_input = pm.Data(\"ann_input\", X_train)\n",
    "        ann_output = pm.Data(\"ann_output\", Y_train)\n",
    "\n",
    "        # Weights/policy symbolic variable\n",
    "        weights_in_1 = pm.Normal(\n",
    "            \"policy\", 0, sigma=1, initval=init_1, dims=(\"train_cols\", \"hidden_layer_1\")\n",
    "        )\n",
    "        act_out = pm.math.sigmoid(pm.math.dot(ann_input, weights_in_1))\n",
    "        out = pm.Categorical(\n",
    "            \"out\",\n",
    "            act_out,\n",
    "            observed=ann_output,\n",
    "            total_size=Y_train.shape[0],\n",
    "        )\n",
    "    return neural_network\n",
    "\n",
    "neural_network = construct_nn(X_train, Y_train)"
   ]
  },
  {
   "cell_type": "code",
   "execution_count": 21,
   "id": "0e55ff7c",
   "metadata": {},
   "outputs": [
    {
     "data": {
      "image/svg+xml": [
       "<?xml version=\"1.0\" encoding=\"UTF-8\" standalone=\"no\"?>\n",
       "<!DOCTYPE svg PUBLIC \"-//W3C//DTD SVG 1.1//EN\"\n",
       " \"http://www.w3.org/Graphics/SVG/1.1/DTD/svg11.dtd\">\n",
       "<!-- Generated by graphviz version 2.49.1 (20211004.0028)\n",
       " -->\n",
       "<!-- Pages: 1 -->\n",
       "<svg width=\"250pt\" height=\"349pt\"\n",
       " viewBox=\"0.00 0.00 250.00 348.91\" xmlns=\"http://www.w3.org/2000/svg\" xmlns:xlink=\"http://www.w3.org/1999/xlink\">\n",
       "<g id=\"graph0\" class=\"graph\" transform=\"scale(1 1) rotate(0) translate(4 344.91)\">\n",
       "<polygon fill=\"white\" stroke=\"transparent\" points=\"-4,4 -4,-344.91 246,-344.91 246,4 -4,4\"/>\n",
       "<g id=\"clust1\" class=\"cluster\">\n",
       "<title>cluster2,500 x 9</title>\n",
       "<path fill=\"none\" stroke=\"black\" d=\"M20,-229.93C20,-229.93 100,-229.93 100,-229.93 106,-229.93 112,-235.93 112,-241.93 112,-241.93 112,-309.93 112,-309.93 112,-315.93 106,-321.93 100,-321.93 100,-321.93 20,-321.93 20,-321.93 14,-321.93 8,-315.93 8,-309.93 8,-309.93 8,-241.93 8,-241.93 8,-235.93 14,-229.93 20,-229.93\"/>\n",
       "<text text-anchor=\"middle\" x=\"70.5\" y=\"-237.73\" font-family=\"Times,serif\" font-size=\"14.00\">2,500 x 9</text>\n",
       "</g>\n",
       "<g id=\"clust2\" class=\"cluster\">\n",
       "<title>cluster2,500</title>\n",
       "<path fill=\"none\" stroke=\"black\" d=\"M50,-8C50,-8 180,-8 180,-8 186,-8 192,-14 192,-20 192,-20 192,-198.95 192,-198.95 192,-204.95 186,-210.95 180,-210.95 180,-210.95 50,-210.95 50,-210.95 44,-210.95 38,-204.95 38,-198.95 38,-198.95 38,-20 38,-20 38,-14 44,-8 50,-8\"/>\n",
       "<text text-anchor=\"middle\" x=\"163.5\" y=\"-15.8\" font-family=\"Times,serif\" font-size=\"14.00\">2,500</text>\n",
       "</g>\n",
       "<g id=\"clust3\" class=\"cluster\">\n",
       "<title>cluster9 x 11</title>\n",
       "<path fill=\"none\" stroke=\"black\" d=\"M132,-218.95C132,-218.95 222,-218.95 222,-218.95 228,-218.95 234,-224.95 234,-230.95 234,-230.95 234,-320.91 234,-320.91 234,-326.91 228,-332.91 222,-332.91 222,-332.91 132,-332.91 132,-332.91 126,-332.91 120,-326.91 120,-320.91 120,-320.91 120,-230.95 120,-230.95 120,-224.95 126,-218.95 132,-218.95\"/>\n",
       "<text text-anchor=\"middle\" x=\"203.5\" y=\"-226.75\" font-family=\"Times,serif\" font-size=\"14.00\">9 x 11</text>\n",
       "</g>\n",
       "<!-- ann_input -->\n",
       "<g id=\"node1\" class=\"node\">\n",
       "<title>ann_input</title>\n",
       "<path fill=\"lightgrey\" stroke=\"black\" d=\"M91.5,-313.93C91.5,-313.93 28.5,-313.93 28.5,-313.93 22.5,-313.93 16.5,-307.93 16.5,-301.93 16.5,-301.93 16.5,-272.93 16.5,-272.93 16.5,-266.93 22.5,-260.93 28.5,-260.93 28.5,-260.93 91.5,-260.93 91.5,-260.93 97.5,-260.93 103.5,-266.93 103.5,-272.93 103.5,-272.93 103.5,-301.93 103.5,-301.93 103.5,-307.93 97.5,-313.93 91.5,-313.93\"/>\n",
       "<text text-anchor=\"middle\" x=\"60\" y=\"-298.73\" font-family=\"Times,serif\" font-size=\"14.00\">ann_input</text>\n",
       "<text text-anchor=\"middle\" x=\"60\" y=\"-283.73\" font-family=\"Times,serif\" font-size=\"14.00\">~</text>\n",
       "<text text-anchor=\"middle\" x=\"60\" y=\"-268.73\" font-family=\"Times,serif\" font-size=\"14.00\">Data</text>\n",
       "</g>\n",
       "<!-- out -->\n",
       "<g id=\"node3\" class=\"node\">\n",
       "<title>out</title>\n",
       "<ellipse fill=\"lightgrey\" stroke=\"black\" cx=\"115\" cy=\"-165.48\" rx=\"69.09\" ry=\"37.45\"/>\n",
       "<text text-anchor=\"middle\" x=\"115\" y=\"-176.78\" font-family=\"Times,serif\" font-size=\"14.00\">out</text>\n",
       "<text text-anchor=\"middle\" x=\"115\" y=\"-161.78\" font-family=\"Times,serif\" font-size=\"14.00\">~</text>\n",
       "<text text-anchor=\"middle\" x=\"115\" y=\"-146.78\" font-family=\"Times,serif\" font-size=\"14.00\">Categorical</text>\n",
       "</g>\n",
       "<!-- ann_input&#45;&gt;out -->\n",
       "<g id=\"edge3\" class=\"edge\">\n",
       "<title>ann_input&#45;&gt;out</title>\n",
       "<path fill=\"none\" stroke=\"black\" d=\"M71.8,-260.7C78.34,-246.43 86.67,-228.26 94.26,-211.7\"/>\n",
       "<polygon fill=\"black\" stroke=\"black\" points=\"97.64,-212.73 98.63,-202.18 91.28,-209.81 97.64,-212.73\"/>\n",
       "</g>\n",
       "<!-- ann_output -->\n",
       "<g id=\"node2\" class=\"node\">\n",
       "<title>ann_output</title>\n",
       "<path fill=\"lightgrey\" stroke=\"black\" d=\"M151.5,-92C151.5,-92 78.5,-92 78.5,-92 72.5,-92 66.5,-86 66.5,-80 66.5,-80 66.5,-51 66.5,-51 66.5,-45 72.5,-39 78.5,-39 78.5,-39 151.5,-39 151.5,-39 157.5,-39 163.5,-45 163.5,-51 163.5,-51 163.5,-80 163.5,-80 163.5,-86 157.5,-92 151.5,-92\"/>\n",
       "<text text-anchor=\"middle\" x=\"115\" y=\"-76.8\" font-family=\"Times,serif\" font-size=\"14.00\">ann_output</text>\n",
       "<text text-anchor=\"middle\" x=\"115\" y=\"-61.8\" font-family=\"Times,serif\" font-size=\"14.00\">~</text>\n",
       "<text text-anchor=\"middle\" x=\"115\" y=\"-46.8\" font-family=\"Times,serif\" font-size=\"14.00\">Data</text>\n",
       "</g>\n",
       "<!-- out&#45;&gt;ann_output -->\n",
       "<g id=\"edge1\" class=\"edge\">\n",
       "<title>out&#45;&gt;ann_output</title>\n",
       "<path fill=\"none\" stroke=\"black\" d=\"M115,-127.99C115,-119.58 115,-110.63 115,-102.25\"/>\n",
       "<polygon fill=\"black\" stroke=\"black\" points=\"118.5,-102.01 115,-92.01 111.5,-102.01 118.5,-102.01\"/>\n",
       "</g>\n",
       "<!-- policy -->\n",
       "<g id=\"node4\" class=\"node\">\n",
       "<title>policy</title>\n",
       "<ellipse fill=\"none\" stroke=\"black\" cx=\"177\" cy=\"-287.43\" rx=\"49.49\" ry=\"37.45\"/>\n",
       "<text text-anchor=\"middle\" x=\"177\" y=\"-298.73\" font-family=\"Times,serif\" font-size=\"14.00\">policy</text>\n",
       "<text text-anchor=\"middle\" x=\"177\" y=\"-283.73\" font-family=\"Times,serif\" font-size=\"14.00\">~</text>\n",
       "<text text-anchor=\"middle\" x=\"177\" y=\"-268.73\" font-family=\"Times,serif\" font-size=\"14.00\">Normal</text>\n",
       "</g>\n",
       "<!-- policy&#45;&gt;out -->\n",
       "<g id=\"edge2\" class=\"edge\">\n",
       "<title>policy&#45;&gt;out</title>\n",
       "<path fill=\"none\" stroke=\"black\" d=\"M159.4,-252.38C152.77,-239.55 145.12,-224.75 138.06,-211.1\"/>\n",
       "<polygon fill=\"black\" stroke=\"black\" points=\"140.99,-209.14 133.29,-201.87 134.78,-212.36 140.99,-209.14\"/>\n",
       "</g>\n",
       "</g>\n",
       "</svg>\n"
      ],
      "text/plain": [
       "<graphviz.graphs.Digraph at 0x7f67cb3a44f0>"
      ]
     },
     "execution_count": 21,
     "metadata": {},
     "output_type": "execute_result"
    }
   ],
   "source": [
    "pm.model_to_graphviz(neural_network)"
   ]
  },
  {
   "cell_type": "code",
   "execution_count": 22,
   "id": "eff179fd",
   "metadata": {},
   "outputs": [],
   "source": [
    "def print_acc_from_trace(meanfield, n, draws=20):\n",
    "    neural_network_test = deepcopy(neural_network)\n",
    "    with neural_network_test:\n",
    "        trace = meanfield.sample(draws=draws)\n",
    "    \n",
    "        pm.set_data(new_data={\"ann_input\": X_test})\n",
    "        ppc = pm.sample_posterior_predictive(trace, progressbar=False)\n",
    "    \n",
    "    pred = ppc_to_pred(ppc)\n",
    "    acc = (pred == Y_test).mean() * 100\n",
    "    print(f\"n: {n}, Accuracy = {round(acc,2)}%\")\n",
    "    return acc"
   ]
  },
  {
   "cell_type": "code",
   "execution_count": 23,
   "id": "42b85729",
   "metadata": {
    "scrolled": true
   },
   "outputs": [
    {
     "data": {
      "text/html": [
       "\n",
       "    <div>\n",
       "        <style>\n",
       "            /* Turns off some styling */\n",
       "            progress {\n",
       "                /* gets rid of default border in Firefox and Opera. */\n",
       "                border: none;\n",
       "                /* Needs to be in here for Safari polyfill so background images work as expected. */\n",
       "                background-size: auto;\n",
       "            }\n",
       "            .progress-bar-interrupted, .progress-bar-interrupted::-webkit-progress-bar {\n",
       "                background: #F44336;\n",
       "            }\n",
       "        </style>\n",
       "      <progress value='25000' class='' max='25000' style='width:300px; height:20px; vertical-align: middle;'></progress>\n",
       "      100.00% [25000/25000 07:53<00:00 Average Loss = 2,998]\n",
       "    </div>\n",
       "    "
      ],
      "text/plain": [
       "<IPython.core.display.HTML object>"
      ]
     },
     "metadata": {},
     "output_type": "display_data"
    },
    {
     "name": "stdout",
     "output_type": "stream",
     "text": [
      "n: 5000, Accuracy = 25.11%\n",
      "n: 12000, Accuracy = 57.0%\n",
      "n: 14000, Accuracy = 63.96%\n",
      "n: 16000, Accuracy = 67.44%\n",
      "n: 18000, Accuracy = 69.37%\n",
      "n: 20000, Accuracy = 70.35%\n",
      "n: 22000, Accuracy = 71.31%\n",
      "n: 24000, Accuracy = 70.61%\n"
     ]
    },
    {
     "name": "stderr",
     "output_type": "stream",
     "text": [
      "Finished [100%]: Average Loss = 2,998\n"
     ]
    }
   ],
   "source": [
    "ns = []\n",
    "accs = []\n",
    "#method = pm.ADVI()\n",
    "neural_network = construct_nn(X_train, Y_train)\n",
    "with neural_network:\n",
    "    approx = pm.fit(n=25_000, callbacks=[my_callback])#, method=method)"
   ]
  },
  {
   "cell_type": "code",
   "execution_count": 25,
   "id": "7be3bccd",
   "metadata": {},
   "outputs": [
    {
     "data": {
      "text/html": [
       "\n",
       "    <div>\n",
       "        <style>\n",
       "            /* Turns off some styling */\n",
       "            progress {\n",
       "                /* gets rid of default border in Firefox and Opera. */\n",
       "                border: none;\n",
       "                /* Needs to be in here for Safari polyfill so background images work as expected. */\n",
       "                background-size: auto;\n",
       "            }\n",
       "            .progress-bar-interrupted, .progress-bar-interrupted::-webkit-progress-bar {\n",
       "                background: #F44336;\n",
       "            }\n",
       "        </style>\n",
       "      <progress value='100' class='' max='100' style='width:300px; height:20px; vertical-align: middle;'></progress>\n",
       "      100.00% [100/100 02:13<00:00]\n",
       "    </div>\n",
       "    "
      ],
      "text/plain": [
       "<IPython.core.display.HTML object>"
      ]
     },
     "metadata": {},
     "output_type": "display_data"
    },
    {
     "data": {
      "text/plain": [
       "'Accuracy = 72.57333333333334%'"
      ]
     },
     "execution_count": 25,
     "metadata": {},
     "output_type": "execute_result"
    }
   ],
   "source": [
    "trace = approx.sample(draws=100)\n",
    "with neural_network:\n",
    "    pm.set_data(new_data={\"ann_input\": X_test})\n",
    "    ppc = pm.sample_posterior_predictive(trace)\n",
    "pred = ppc_to_pred(ppc)\n",
    "f\"Accuracy = {(pred == Y_test).mean() * 100}%\""
   ]
  },
  {
   "cell_type": "code",
   "execution_count": 26,
   "id": "aff43642",
   "metadata": {},
   "outputs": [
    {
     "data": {
      "image/png": "[encoded data removed]",
      "text/plain": [
       "<Figure size 720x480 with 2 Axes>"
      ]
     },
     "metadata": {
      "image/png": {
       "height": 491,
       "width": 731
      }
     },
     "output_type": "display_data"
    }
   ],
   "source": [
    "x = ns\n",
    "y1 = approx.hist\n",
    "y2 = accs\n",
    "\n",
    "fig, ax1 = plt.subplots()\n",
    "\n",
    "ax2 = ax1.twinx()\n",
    "ax1.plot(y1, 'blue', alpha=0.3)\n",
    "ax2.plot(x, y2, 'red', alpha=0.7)\n",
    "\n",
    "ax1.set_xlabel('iteration')\n",
    "ax1.set_ylabel('ELBO', color='blue')\n",
    "ax2.set_ylabel('accuracy (test data) %', color='red')\n",
    "\n",
    "plt.show()"
   ]
  },
  {
   "cell_type": "markdown",
   "id": "45a286df",
   "metadata": {},
   "source": [
    "Results of Model 1 (1L, 11 Hidden layer size fixed):\n",
    "- Dataset 0:\n",
    "    - M(100 sm) = 20.5% (L=226 ,reached max when n~14000)\n",
    "    - M(200 sm) = 30.6% (L=430, reached max when n~20000)\n",
    "    - M(400 sm) = 57.1% (L=763, not reached local max)\n",
    "    - M(1000sm) = 89.6% (L=1436, not reached local max)\n",
    "    - M(2500sm) = 96.6% (L=2272, reached max when n~22000)\n",
    "    - M(6000sm) = 98.5% (L=3400, not reached local max)\n",
    "    - M(9000sm) = \n",
    "- Dataset 1:\n",
    "    - M(100 sm) = 18\n",
    "    - M(200 sm) = 25\n",
    "    - M(400 sm) = 40\n",
    "    - M(1000sm) = 62\n",
    "    - M(2500sm) = 67\n",
    "    - M(5000sm) = 70\n",
    "    - M(9000sm) = 67    \n",
    "- Dataset 2:\n",
    "    - M(5000sm) = 68\n",
    "- Dataset 3:\n",
    "    - M(5000sm) = 68\n",
    "    - M(1000sm) = 63\n",
    "    - M(100 sm) =~18"
   ]
  },
  {
   "cell_type": "markdown",
   "id": "a6718d10",
   "metadata": {},
   "source": [
    "## The old dataset"
   ]
  },
  {
   "cell_type": "code",
   "execution_count": 67,
   "id": "2920856a",
   "metadata": {},
   "outputs": [
    {
     "data": {
      "image/png": "[encoded data removed]",
      "text/plain": [
       "<Figure size 720x480 with 1 Axes>"
      ]
     },
     "metadata": {
      "image/png": {
       "height": 491,
       "width": 731
      }
     },
     "output_type": "display_data"
    }
   ],
   "source": [
    "plt.plot([100,200,400,1000,2500,6000], [20.5,30.6,57.1,89.6,96.6,98.5], linewidth=3)\n",
    "plt.plot([100,200,400,1000,2500,5000,9000], [18,25,40,62,67,70,67], linewidth=3)\n",
    "plt.xlabel(\"samples [-]\")\n",
    "plt.ylabel(\"accuracy [%]\")\n",
    "plt.legend(['Dataset D0','Dataset D1'])\n",
    "plt.savefig('/home/petr/Pictures/cbgo_accuracy_on_samples.svg')"
   ]
  },
  {
   "cell_type": "markdown",
   "id": "ff112151",
   "metadata": {},
   "source": [
    "## The new dataset"
   ]
  },
  {
   "cell_type": "code",
   "execution_count": null,
   "id": "d41dc762",
   "metadata": {},
   "outputs": [],
   "source": [
    "# 4_1\n",
    "#100 samples - 14.3%\n",
    "#200 samples - 14.7% +0.7\n",
    "#400 samples - 16.18 +0.9\n",
    "\n",
    "plt.plot([100,200,400,1000,2500,6000], [20.5,30.6,57.1,89.6,96.6,98.5], linewidth=3)\n",
    "plt.plot([100,200,400,1000,2500,5000,9000], [18,25,40,62,67,70,67], linewidth=3)\n",
    "plt.xlabel(\"samples [-]\")\n",
    "plt.ylabel(\"accuracy [%]\")\n",
    "plt.legend(['Dataset D0','Dataset D1'])\n",
    "plt.savefig('/home/petr/Pictures/cbgo_accuracy_on_samples.svg')"
   ]
  },
  {
   "cell_type": "markdown",
   "id": "8beea6c3",
   "metadata": {},
   "source": [
    "Helper functions:"
   ]
  },
  {
   "cell_type": "code",
   "execution_count": 7,
   "id": "e14c79be",
   "metadata": {},
   "outputs": [],
   "source": [
    "def my_callback(meanfield, elbo, n):\n",
    "    if n%2000 == 0:# and n>200:\n",
    "        acc = print_acc_from_trace(meanfield, n)\n",
    "        accs.append(acc)\n",
    "        ns.append(n)\n",
    "def ppc_to_pred(ppc):\n",
    "    pred = []\n",
    "    for i in range(ppc['out'].shape[1]): # for X_test samples\n",
    "        one_sample = []\n",
    "        for j in range(ppc['out'].shape[0]):\n",
    "            one_sample.append(ppc['out'][j][i])\n",
    "        sums = np.zeros(lenA)\n",
    "        for s in one_sample:\n",
    "            sums[s] += 1\n",
    "\n",
    "        pred.append(np.argmax(sums))\n",
    "    return np.array(pred)"
   ]
  },
  {
   "cell_type": "markdown",
   "id": "b4d32abf",
   "metadata": {},
   "source": [
    "Used in callback. Computes, prints and saves the accuracy at this point of learning"
   ]
  },
  {
   "cell_type": "code",
   "execution_count": 8,
   "id": "8f209906",
   "metadata": {},
   "outputs": [],
   "source": [
    "def print_acc_from_trace(meanfield, n, draws=20):\n",
    "    neural_network_test = deepcopy(neural_network)\n",
    "    with neural_network_test:\n",
    "        trace = meanfield.sample(draws=draws)\n",
    "    \n",
    "        pm.set_data(new_data={\"ann_input\": X_test})\n",
    "        ppc = pm.sample_posterior_predictive(trace, progressbar=False)\n",
    "    \n",
    "    pred = ppc_to_pred(ppc)\n",
    "    acc = (pred == Y_test).mean() * 100\n",
    "    print(f\"n: {n}, Accuracy = {round(acc,2)}%\")\n",
    "    return acc"
   ]
  },
  {
   "cell_type": "markdown",
   "id": "89982537",
   "metadata": {},
   "source": [
    "# M2: Gesture + Target object + Scene\n",
    "\n",
    "- 2 Layers NN \n",
    "- Mixing different contexts\n",
    "- \n"
   ]
  },
  {
   "cell_type": "markdown",
   "id": "8ecfe01d",
   "metadata": {},
   "source": [
    "id   |features                                             | D0   | D1   | D2   | D3   | D1 2G | D2 2G | D3 2G\n",
    "---  | -------------------------------------------------   | ---- | ---- | ---- | ---- | ----- | ----- | -----\n",
    "M2v0 | no                                                  | 99.4 | 67.5 | 67.2 | 67.3 | 93.8  | 92.5  |\n",
    "M2v2 | focus field                                         | 97+  | 72   | 72.2 | 71.5 | 96.8  | 95.0\n",
    "M2v3 | focus field + attached                              | 95+  | 73   | 73   | -    | 96.9  |\n",
    "M2v4 | focus field + attached + objects                    | -    | 68   | 72.7 | -    | 94.1  |\n",
    "M2v5 | focus field + eef field + attached + objects        | -    | 73+  | 73   | 73.6+| -     | 95.1\n",
    "M2v6 | focus diffs + eef diffs + attached + objects        | -    | no   | no   | -    | -\n",
    "M2v7 | object type holding                                 | -    | -    | 68.5 |\n",
    "M2v1 | all in                                              | -    | no   | no\n",
    "M3v0 | user                                                | 99.4 |-67.5-|-67.2-| 67.3 | 93.8  |-92.5- | 92.2\n",
    "M3v5 | user + focus field + eef field + attached + objects |\n",
    "M3v2 | user + focus field\n",
    "M3v8 | user + focus field + object state"
   ]
  },
  {
   "cell_type": "markdown",
   "id": "a3993e48",
   "metadata": {},
   "source": [
    "new name | id   | additional features                              | D1_1  | D2_1   | D3_1 | D4_1 | \n",
    "-------- | ---  | ----------------------------------------------   | ----- | ------ | ---- | ---- | \n",
    "         | M1   | -                                                | -     | -      | -    | 72   | \n",
    "         | M2v0 | -                                                | 99.4  | 84.2   | 70.4 | 71.5 |\n",
    "         | M2v2 | focus field                                      | 99.6  | 99.2   | 79.1 | 79.2 |\n",
    "         | M3v0 | user                                             | 99.6  | 84.1   | 87.7 | 78.8\n",
    "         | M3v2 | user + focus field                               | 99.6  | 99.5   | 86+  |92.6+4.6?\n",
    "         | M3v8 | user + focus field + object state                |99.3+.3|99.4+.04|84+   |84+.9\n",
    "         | M3v9 | user + focus field + object types                |       |        |      | 83\n",
    "         | M3v10| user + focus field + object state + object_types |       |99.1+0.3|79.9+.4|79.6+1\n",
    "         "
   ]
  },
  {
   "cell_type": "markdown",
   "id": "d002bcbc",
   "metadata": {},
   "source": [
    "3 layers \n",
    "id          | features  | train samples | D4_1\n",
    "----------- | --------- | ------------- | ----\n",
    "M3v2        | user + ff | 3000          | 28\n",
    "M3v2        |         "
   ]
  },
  {
   "cell_type": "code",
   "execution_count": 9,
   "id": "532acfc6",
   "metadata": {},
   "outputs": [],
   "source": [
    "import aesara\n",
    "import aesara.tensor as at\n",
    "import arviz as az\n",
    "import matplotlib.pyplot as plt\n",
    "import numpy as np\n",
    "import pymc3 as pm\n",
    "import seaborn as sns\n",
    "import os\n",
    "from copy import deepcopy\n",
    "from deepdiff import DeepDiff\n",
    "\n",
    "from sklearn.model_selection import train_test_split\n",
    "\n",
    "from submodules.Scenes import Scene\n",
    "from submodules.features import Features\n",
    "from submodules.Users import Users\n",
    "\n",
    "%config InlineBackend.figure_format = 'retina'\n",
    "floatX = aesara.config.floatX\n",
    "rng = np.random.default_rng(5165)\n",
    "az.style.use(\"arviz-darkgrid\")"
   ]
  },
  {
   "cell_type": "code",
   "execution_count": 19,
   "id": "25290659",
   "metadata": {},
   "outputs": [],
   "source": [
    "dataset_name = 'D3_1'\n",
    "n_scene_features = 60\n",
    "train_samples = 3000 \n",
    "scene_def_id = 8\n",
    "M=3"
   ]
  },
  {
   "cell_type": "code",
   "execution_count": 20,
   "id": "d8716ec5",
   "metadata": {},
   "outputs": [],
   "source": [
    "# dataset \n",
    "data = np.load(f\"{os.path.expanduser('~')}/Documents/{dataset_name}.npy\", allow_pickle=True)\n",
    "config = data.item()['config']\n",
    "A = config['A']\n",
    "G = config['G']\n",
    "lenG = config['lenG']\n",
    "lenA = config['lenA']\n",
    "Otypes = config['Otypes']\n",
    "lenOtypes = config['lenOtypes']\n",
    "CM = config['CM']\n",
    "dataset = data.item()['dataset']"
   ]
  },
  {
   "cell_type": "code",
   "execution_count": 21,
   "id": "3b78ec71",
   "metadata": {},
   "outputs": [],
   "source": [
    "def get_X_Y(dataset, M=2):\n",
    "    X = np.zeros([len(dataset),len(dataset[0][2])+n_scene_features])\n",
    "    Y = np.zeros((len(dataset)), dtype=tuple)\n",
    "    for n,sample in enumerate(dataset):\n",
    "        s = Scene(init='from_dict', import_data=sample[0])\n",
    "        obs = s.scene_to_observation(type=scene_def_id, focus_point=sample[3])\n",
    "        \n",
    "        if M==2:\n",
    "            ll = len(sample[2]) + len(obs)\n",
    "            X[n,0:ll] = [*sample[2], *obs]\n",
    "        elif M==3:\n",
    "            ll = len(sample[2]) + 1 + len(obs)\n",
    "            X[n,0:ll] = [*sample[2], Users.U.index(sample[0]['user']), *obs]\n",
    "        #X[n] = sample[2]\n",
    "        Y[n] = A.index(sample[1][0])\n",
    "    return X, Y\n",
    "\n",
    "X,Y = get_X_Y(dataset, M=M)"
   ]
  },
  {
   "cell_type": "code",
   "execution_count": 22,
   "id": "88490992",
   "metadata": {},
   "outputs": [],
   "source": [
    "X = X.astype(floatX)\n",
    "Y = Y.astype(floatX)\n",
    "X_train, X_test, Y_train, Y_test = train_test_split(X, Y, test_size=1-(train_samples/10000))"
   ]
  },
  {
   "cell_type": "code",
   "execution_count": 23,
   "id": "b185255f",
   "metadata": {},
   "outputs": [],
   "source": [
    "# TODO:\n",
    "n_obs_in = lenG + n_scene_features"
   ]
  },
  {
   "cell_type": "code",
   "execution_count": 24,
   "id": "ccbe62a0",
   "metadata": {},
   "outputs": [],
   "source": [
    "def construct_nn(ann_input, ann_output):\n",
    "    n_hidden = 25\n",
    "\n",
    "    # Initialize random weights between each layer\n",
    "    init_weights_1 = rng.standard_normal(size=(n_obs_in, n_hidden)).astype(floatX)\n",
    "    init_weights_2 = rng.standard_normal(size=(n_hidden, n_hidden)).astype(floatX)\n",
    "    init_weights_3 = rng.standard_normal(size=(n_hidden, lenA)).astype(floatX)\n",
    "    coords = {\n",
    "        \"hidden_layer_1\": np.arange(n_hidden),\n",
    "        \"hidden_layer_2\": np.arange(n_hidden),\n",
    "        \"hidden_layer_3\": np.arange(n_hidden),\n",
    "        \"train_cols\": np.arange(n_obs_in),\n",
    "        \"out_dim\": np.arange(lenA),\n",
    "        # \"obs_id\": np.arange(X_train.shape[0]),\n",
    "    }\n",
    "    with pm.Model(coords=coords) as neural_network:\n",
    "        ann_input = pm.Data(\"ann_input\", ann_input)\n",
    "        ann_output = pm.Data(\"ann_output\", Y_train)\n",
    "\n",
    "        # Weights from input to hidden layer\n",
    "        weights_1 = pm.Normal(\n",
    "            \"weights_1\", 0, sigma=1, initval=init_weights_1, dims=(\"train_cols\", \"hidden_layer_1\")\n",
    "        )\n",
    "        weights_2 = pm.Normal(\n",
    "            \"weights_2\", 0, sigma=1, initval=init_weights_2, dims=(\"hidden_layer_1\", \"hidden_layer_2\")\n",
    "        )\n",
    "        weights_3 = pm.Normal(\n",
    "            \"weights_3\", 0, sigma=1, initval=init_weights_3, dims=(\"hidden_layer_2\", \"out_dim\")\n",
    "        )\n",
    "        \n",
    "        act_1   = pm.math.tanh(pm.math.dot(ann_input, weights_1))\n",
    "        act_2   = pm.math.tanh(pm.math.dot(weights_1, weights_2))\n",
    "        act_out = pm.math.sigmoid(pm.math.dot(act_1, weights_3))\n",
    "        \n",
    "        # Binary classification -> Bernoulli likelihood\n",
    "        out = pm.Categorical(\n",
    "            \"out\",\n",
    "            act_out,\n",
    "            observed=ann_output,\n",
    "            total_size=Y_train.shape[0],  # IMPORTANT for minibatches\n",
    "        )\n",
    "    return neural_network\n",
    "\n",
    "\n",
    "neural_network = construct_nn(X_train, Y_train)"
   ]
  },
  {
   "cell_type": "code",
   "execution_count": 25,
   "id": "36286ced",
   "metadata": {},
   "outputs": [
    {
     "data": {
      "image/svg+xml": [
       "<?xml version=\"1.0\" encoding=\"UTF-8\" standalone=\"no\"?>\n",
       "<!DOCTYPE svg PUBLIC \"-//W3C//DTD SVG 1.1//EN\"\n",
       " \"http://www.w3.org/Graphics/SVG/1.1/DTD/svg11.dtd\">\n",
       "<!-- Generated by graphviz version 2.49.1 (20211004.0028)\n",
       " -->\n",
       "<!-- Pages: 1 -->\n",
       "<svg width=\"578pt\" height=\"349pt\"\n",
       " viewBox=\"0.00 0.00 578.00 348.91\" xmlns=\"http://www.w3.org/2000/svg\" xmlns:xlink=\"http://www.w3.org/1999/xlink\">\n",
       "<g id=\"graph0\" class=\"graph\" transform=\"scale(1 1) rotate(0) translate(4 344.91)\">\n",
       "<polygon fill=\"white\" stroke=\"transparent\" points=\"-4,4 -4,-344.91 574,-344.91 574,4 -4,4\"/>\n",
       "<g id=\"clust1\" class=\"cluster\">\n",
       "<title>cluster3,000 x 69</title>\n",
       "<path fill=\"none\" stroke=\"black\" d=\"M20,-229.93C20,-229.93 100,-229.93 100,-229.93 106,-229.93 112,-235.93 112,-241.93 112,-241.93 112,-309.93 112,-309.93 112,-315.93 106,-321.93 100,-321.93 100,-321.93 20,-321.93 20,-321.93 14,-321.93 8,-315.93 8,-309.93 8,-309.93 8,-241.93 8,-241.93 8,-235.93 14,-229.93 20,-229.93\"/>\n",
       "<text text-anchor=\"middle\" x=\"66\" y=\"-237.73\" font-family=\"Times,serif\" font-size=\"14.00\">3,000 x 69</text>\n",
       "</g>\n",
       "<g id=\"clust2\" class=\"cluster\">\n",
       "<title>cluster3,000</title>\n",
       "<path fill=\"none\" stroke=\"black\" d=\"M126,-8C126,-8 256,-8 256,-8 262,-8 268,-14 268,-20 268,-20 268,-198.95 268,-198.95 268,-204.95 262,-210.95 256,-210.95 256,-210.95 126,-210.95 126,-210.95 120,-210.95 114,-204.95 114,-198.95 114,-198.95 114,-20 114,-20 114,-14 120,-8 126,-8\"/>\n",
       "<text text-anchor=\"middle\" x=\"239.5\" y=\"-15.8\" font-family=\"Times,serif\" font-size=\"14.00\">3,000</text>\n",
       "</g>\n",
       "<g id=\"clust3\" class=\"cluster\">\n",
       "<title>cluster69 x 25</title>\n",
       "<path fill=\"none\" stroke=\"black\" d=\"M132,-218.95C132,-218.95 250,-218.95 250,-218.95 256,-218.95 262,-224.95 262,-230.95 262,-230.95 262,-320.91 262,-320.91 262,-326.91 256,-332.91 250,-332.91 250,-332.91 132,-332.91 132,-332.91 126,-332.91 120,-326.91 120,-320.91 120,-320.91 120,-230.95 120,-230.95 120,-224.95 126,-218.95 132,-218.95\"/>\n",
       "<text text-anchor=\"middle\" x=\"227\" y=\"-226.75\" font-family=\"Times,serif\" font-size=\"14.00\">69 x 25</text>\n",
       "</g>\n",
       "<g id=\"clust4\" class=\"cluster\">\n",
       "<title>cluster25 x 25</title>\n",
       "<path fill=\"none\" stroke=\"black\" d=\"M432,-218.95C432,-218.95 550,-218.95 550,-218.95 556,-218.95 562,-224.95 562,-230.95 562,-230.95 562,-320.91 562,-320.91 562,-326.91 556,-332.91 550,-332.91 550,-332.91 432,-332.91 432,-332.91 426,-332.91 420,-326.91 420,-320.91 420,-320.91 420,-230.95 420,-230.95 420,-224.95 426,-218.95 432,-218.95\"/>\n",
       "<text text-anchor=\"middle\" x=\"527\" y=\"-226.75\" font-family=\"Times,serif\" font-size=\"14.00\">25 x 25</text>\n",
       "</g>\n",
       "<g id=\"clust5\" class=\"cluster\">\n",
       "<title>cluster25 x 11</title>\n",
       "<path fill=\"none\" stroke=\"black\" d=\"M282,-218.95C282,-218.95 400,-218.95 400,-218.95 406,-218.95 412,-224.95 412,-230.95 412,-230.95 412,-320.91 412,-320.91 412,-326.91 406,-332.91 400,-332.91 400,-332.91 282,-332.91 282,-332.91 276,-332.91 270,-326.91 270,-320.91 270,-320.91 270,-230.95 270,-230.95 270,-224.95 276,-218.95 282,-218.95\"/>\n",
       "<text text-anchor=\"middle\" x=\"377\" y=\"-226.75\" font-family=\"Times,serif\" font-size=\"14.00\">25 x 11</text>\n",
       "</g>\n",
       "<!-- ann_input -->\n",
       "<g id=\"node1\" class=\"node\">\n",
       "<title>ann_input</title>\n",
       "<path fill=\"lightgrey\" stroke=\"black\" d=\"M91.5,-313.93C91.5,-313.93 28.5,-313.93 28.5,-313.93 22.5,-313.93 16.5,-307.93 16.5,-301.93 16.5,-301.93 16.5,-272.93 16.5,-272.93 16.5,-266.93 22.5,-260.93 28.5,-260.93 28.5,-260.93 91.5,-260.93 91.5,-260.93 97.5,-260.93 103.5,-266.93 103.5,-272.93 103.5,-272.93 103.5,-301.93 103.5,-301.93 103.5,-307.93 97.5,-313.93 91.5,-313.93\"/>\n",
       "<text text-anchor=\"middle\" x=\"60\" y=\"-298.73\" font-family=\"Times,serif\" font-size=\"14.00\">ann_input</text>\n",
       "<text text-anchor=\"middle\" x=\"60\" y=\"-283.73\" font-family=\"Times,serif\" font-size=\"14.00\">~</text>\n",
       "<text text-anchor=\"middle\" x=\"60\" y=\"-268.73\" font-family=\"Times,serif\" font-size=\"14.00\">Data</text>\n",
       "</g>\n",
       "<!-- out -->\n",
       "<g id=\"node2\" class=\"node\">\n",
       "<title>out</title>\n",
       "<ellipse fill=\"lightgrey\" stroke=\"black\" cx=\"191\" cy=\"-165.48\" rx=\"69.09\" ry=\"37.45\"/>\n",
       "<text text-anchor=\"middle\" x=\"191\" y=\"-176.78\" font-family=\"Times,serif\" font-size=\"14.00\">out</text>\n",
       "<text text-anchor=\"middle\" x=\"191\" y=\"-161.78\" font-family=\"Times,serif\" font-size=\"14.00\">~</text>\n",
       "<text text-anchor=\"middle\" x=\"191\" y=\"-146.78\" font-family=\"Times,serif\" font-size=\"14.00\">Categorical</text>\n",
       "</g>\n",
       "<!-- ann_input&#45;&gt;out -->\n",
       "<g id=\"edge4\" class=\"edge\">\n",
       "<title>ann_input&#45;&gt;out</title>\n",
       "<path fill=\"none\" stroke=\"black\" d=\"M78.74,-260.66C88.98,-247.45 102.34,-231.54 116,-218.95 122.87,-212.63 130.53,-206.44 138.27,-200.67\"/>\n",
       "<polygon fill=\"black\" stroke=\"black\" points=\"140.62,-203.28 146.66,-194.57 136.51,-197.62 140.62,-203.28\"/>\n",
       "</g>\n",
       "<!-- ann_output -->\n",
       "<g id=\"node3\" class=\"node\">\n",
       "<title>ann_output</title>\n",
       "<path fill=\"lightgrey\" stroke=\"black\" d=\"M227.5,-92C227.5,-92 154.5,-92 154.5,-92 148.5,-92 142.5,-86 142.5,-80 142.5,-80 142.5,-51 142.5,-51 142.5,-45 148.5,-39 154.5,-39 154.5,-39 227.5,-39 227.5,-39 233.5,-39 239.5,-45 239.5,-51 239.5,-51 239.5,-80 239.5,-80 239.5,-86 233.5,-92 227.5,-92\"/>\n",
       "<text text-anchor=\"middle\" x=\"191\" y=\"-76.8\" font-family=\"Times,serif\" font-size=\"14.00\">ann_output</text>\n",
       "<text text-anchor=\"middle\" x=\"191\" y=\"-61.8\" font-family=\"Times,serif\" font-size=\"14.00\">~</text>\n",
       "<text text-anchor=\"middle\" x=\"191\" y=\"-46.8\" font-family=\"Times,serif\" font-size=\"14.00\">Data</text>\n",
       "</g>\n",
       "<!-- out&#45;&gt;ann_output -->\n",
       "<g id=\"edge1\" class=\"edge\">\n",
       "<title>out&#45;&gt;ann_output</title>\n",
       "<path fill=\"none\" stroke=\"black\" d=\"M191,-127.99C191,-119.58 191,-110.63 191,-102.25\"/>\n",
       "<polygon fill=\"black\" stroke=\"black\" points=\"194.5,-102.01 191,-92.01 187.5,-102.01 194.5,-102.01\"/>\n",
       "</g>\n",
       "<!-- weights_1 -->\n",
       "<g id=\"node4\" class=\"node\">\n",
       "<title>weights_1</title>\n",
       "<ellipse fill=\"none\" stroke=\"black\" cx=\"191\" cy=\"-287.43\" rx=\"62.87\" ry=\"37.45\"/>\n",
       "<text text-anchor=\"middle\" x=\"191\" y=\"-298.73\" font-family=\"Times,serif\" font-size=\"14.00\">weights_1</text>\n",
       "<text text-anchor=\"middle\" x=\"191\" y=\"-283.73\" font-family=\"Times,serif\" font-size=\"14.00\">~</text>\n",
       "<text text-anchor=\"middle\" x=\"191\" y=\"-268.73\" font-family=\"Times,serif\" font-size=\"14.00\">Normal</text>\n",
       "</g>\n",
       "<!-- weights_1&#45;&gt;out -->\n",
       "<g id=\"edge3\" class=\"edge\">\n",
       "<title>weights_1&#45;&gt;out</title>\n",
       "<path fill=\"none\" stroke=\"black\" d=\"M191,-249.79C191,-238.38 191,-225.65 191,-213.63\"/>\n",
       "<polygon fill=\"black\" stroke=\"black\" points=\"194.5,-213.31 191,-203.31 187.5,-213.31 194.5,-213.31\"/>\n",
       "</g>\n",
       "<!-- weights_2 -->\n",
       "<g id=\"node5\" class=\"node\">\n",
       "<title>weights_2</title>\n",
       "<ellipse fill=\"none\" stroke=\"black\" cx=\"491\" cy=\"-287.43\" rx=\"62.87\" ry=\"37.45\"/>\n",
       "<text text-anchor=\"middle\" x=\"491\" y=\"-298.73\" font-family=\"Times,serif\" font-size=\"14.00\">weights_2</text>\n",
       "<text text-anchor=\"middle\" x=\"491\" y=\"-283.73\" font-family=\"Times,serif\" font-size=\"14.00\">~</text>\n",
       "<text text-anchor=\"middle\" x=\"491\" y=\"-268.73\" font-family=\"Times,serif\" font-size=\"14.00\">Normal</text>\n",
       "</g>\n",
       "<!-- weights_3 -->\n",
       "<g id=\"node6\" class=\"node\">\n",
       "<title>weights_3</title>\n",
       "<ellipse fill=\"none\" stroke=\"black\" cx=\"341\" cy=\"-287.43\" rx=\"62.87\" ry=\"37.45\"/>\n",
       "<text text-anchor=\"middle\" x=\"341\" y=\"-298.73\" font-family=\"Times,serif\" font-size=\"14.00\">weights_3</text>\n",
       "<text text-anchor=\"middle\" x=\"341\" y=\"-283.73\" font-family=\"Times,serif\" font-size=\"14.00\">~</text>\n",
       "<text text-anchor=\"middle\" x=\"341\" y=\"-268.73\" font-family=\"Times,serif\" font-size=\"14.00\">Normal</text>\n",
       "</g>\n",
       "<!-- weights_3&#45;&gt;out -->\n",
       "<g id=\"edge2\" class=\"edge\">\n",
       "<title>weights_3&#45;&gt;out</title>\n",
       "<path fill=\"none\" stroke=\"black\" d=\"M308.16,-255.3C295.31,-243.55 280.26,-230.29 266,-218.95 258.43,-212.94 250.22,-206.81 242.1,-200.98\"/>\n",
       "<polygon fill=\"black\" stroke=\"black\" points=\"243.89,-197.95 233.71,-195.01 239.83,-203.66 243.89,-197.95\"/>\n",
       "</g>\n",
       "</g>\n",
       "</svg>\n"
      ],
      "text/plain": [
       "<graphviz.graphs.Digraph at 0x7fc97695da00>"
      ]
     },
     "execution_count": 25,
     "metadata": {},
     "output_type": "execute_result"
    }
   ],
   "source": [
    "pm.model_to_graphviz(neural_network)"
   ]
  },
  {
   "cell_type": "code",
   "execution_count": 26,
   "id": "3a0b379b",
   "metadata": {},
   "outputs": [],
   "source": [
    "def print_acc_from_trace(meanfield, n, draws=20):\n",
    "    neural_network_test = deepcopy(neural_network)\n",
    "    with neural_network_test:\n",
    "        trace = meanfield.sample(draws=draws)\n",
    "    \n",
    "        pm.set_data(new_data={\"ann_input\": X_test})\n",
    "        ppc = pm.sample_posterior_predictive(trace, progressbar=False)\n",
    "    \n",
    "    pred = ppc_to_pred(ppc)\n",
    "    acc = (pred == Y_test).mean() * 100\n",
    "    print(f\"n: {n}, Accuracy = {round(acc,2)}%\")\n",
    "    return acc"
   ]
  },
  {
   "cell_type": "code",
   "execution_count": null,
   "id": "d8fbc796",
   "metadata": {
    "scrolled": true
   },
   "outputs": [
    {
     "data": {
      "text/html": [
       "\n",
       "    <div>\n",
       "        <style>\n",
       "            /* Turns off some styling */\n",
       "            progress {\n",
       "                /* gets rid of default border in Firefox and Opera. */\n",
       "                border: none;\n",
       "                /* Needs to be in here for Safari polyfill so background images work as expected. */\n",
       "                background-size: auto;\n",
       "            }\n",
       "            .progress-bar-interrupted, .progress-bar-interrupted::-webkit-progress-bar {\n",
       "                background: #F44336;\n",
       "            }\n",
       "        </style>\n",
       "      <progress value='47448' class='' max='70000' style='width:300px; height:20px; vertical-align: middle;'></progress>\n",
       "      67.78% [47448/70000 46:33<22:07 Average Loss = 1,859.2]\n",
       "    </div>\n",
       "    "
      ],
      "text/plain": [
       "<IPython.core.display.HTML object>"
      ]
     },
     "metadata": {},
     "output_type": "display_data"
    },
    {
     "name": "stdout",
     "output_type": "stream",
     "text": [
      "n: 2000, Accuracy = 17.36%\n",
      "n: 4000, Accuracy = 18.89%\n",
      "n: 6000, Accuracy = 24.63%\n",
      "n: 8000, Accuracy = 31.47%\n",
      "n: 10000, Accuracy = 43.41%\n",
      "n: 12000, Accuracy = 54.77%\n",
      "n: 14000, Accuracy = 66.73%\n",
      "n: 16000, Accuracy = 69.93%\n",
      "n: 18000, Accuracy = 71.66%\n",
      "n: 20000, Accuracy = 73.5%\n",
      "n: 22000, Accuracy = 76.11%\n",
      "n: 24000, Accuracy = 78.1%\n",
      "n: 26000, Accuracy = 78.04%\n",
      "n: 28000, Accuracy = 80.19%\n",
      "n: 30000, Accuracy = 81.09%\n",
      "n: 32000, Accuracy = 83.14%\n",
      "n: 34000, Accuracy = 83.44%\n",
      "n: 36000, Accuracy = 84.7%\n",
      "n: 38000, Accuracy = 85.3%\n",
      "n: 40000, Accuracy = 86.39%\n",
      "n: 42000, Accuracy = 87.36%\n",
      "n: 44000, Accuracy = 88.11%\n",
      "n: 46000, Accuracy = 88.59%\n"
     ]
    }
   ],
   "source": [
    "ns = []\n",
    "accs = []\n",
    "#method = pm.ADVI()\n",
    "neural_network = construct_nn(X_train, Y_train)\n",
    "with neural_network:\n",
    "    approx = pm.fit(n=70_000, callbacks=[my_callback])#, method=method)"
   ]
  },
  {
   "cell_type": "code",
   "execution_count": 51,
   "id": "179bc958",
   "metadata": {},
   "outputs": [
    {
     "data": {
      "text/plain": [
       "array([1.37662797e-001, 2.70201204e-001, 8.65956385e-002, 2.82582581e-002,\n",
       "       1.53899246e-002, 8.85540324e-002, 4.70842431e-002, 1.22958062e-001,\n",
       "       2.03295840e-001, 1.62692730e-154, 1.06751314e-064, 9.94107882e-001,\n",
       "       1.34493740e-003, 0.00000000e+000, 0.00000000e+000, 0.00000000e+000,\n",
       "       0.00000000e+000, 0.00000000e+000, 0.00000000e+000, 0.00000000e+000,\n",
       "       0.00000000e+000, 0.00000000e+000, 0.00000000e+000, 0.00000000e+000,\n",
       "       0.00000000e+000, 0.00000000e+000, 0.00000000e+000, 0.00000000e+000,\n",
       "       0.00000000e+000, 0.00000000e+000, 0.00000000e+000, 0.00000000e+000,\n",
       "       0.00000000e+000, 0.00000000e+000, 0.00000000e+000, 0.00000000e+000,\n",
       "       0.00000000e+000, 0.00000000e+000, 0.00000000e+000, 0.00000000e+000,\n",
       "       0.00000000e+000, 0.00000000e+000, 0.00000000e+000, 0.00000000e+000,\n",
       "       0.00000000e+000, 0.00000000e+000, 0.00000000e+000, 0.00000000e+000,\n",
       "       0.00000000e+000])"
      ]
     },
     "execution_count": 51,
     "metadata": {},
     "output_type": "execute_result"
    }
   ],
   "source": [
    "X[1]"
   ]
  },
  {
   "cell_type": "markdown",
   "id": "578825a8",
   "metadata": {},
   "source": []
  },
  {
   "cell_type": "markdown",
   "id": "1df3b0b3",
   "metadata": {},
   "source": [
    "# Model using 3 layers"
   ]
  },
  {
   "cell_type": "code",
   "execution_count": 41,
   "id": "4d7364bc",
   "metadata": {},
   "outputs": [],
   "source": [
    "import aesara\n",
    "import aesara.tensor as at\n",
    "import arviz as az\n",
    "import matplotlib.pyplot as plt\n",
    "import numpy as np\n",
    "import pymc3 as pm\n",
    "import seaborn as sns\n",
    "import os\n",
    "from copy import deepcopy\n",
    "from deepdiff import DeepDiff\n",
    "\n",
    "from sklearn.model_selection import train_test_split\n",
    "\n",
    "from submodules.Scenes import Scene\n",
    "from submodules.features import Features\n",
    "from submodules.Users import Users\n",
    "\n",
    "%config InlineBackend.figure_format = 'retina'\n",
    "floatX = aesara.config.floatX\n",
    "rng = np.random.default_rng(5165)\n",
    "az.style.use(\"arviz-darkgrid\")"
   ]
  },
  {
   "cell_type": "code",
   "execution_count": 51,
   "id": "be6b6773",
   "metadata": {},
   "outputs": [],
   "source": [
    "dataset_name = 'D4_1'\n",
    "n_scene_features = 60\n",
    "train_samples = 3000 \n",
    "scene_def_id = 10\n",
    "M=3"
   ]
  },
  {
   "cell_type": "code",
   "execution_count": 52,
   "id": "e0a18c9d",
   "metadata": {},
   "outputs": [],
   "source": [
    "# dataset \n",
    "data = np.load(f\"{os.path.expanduser('~')}/Documents/{dataset_name}.npy\", allow_pickle=True)\n",
    "config = data.item()['config']\n",
    "A = config['A']\n",
    "G = config['G']\n",
    "lenG = config['lenG']\n",
    "lenA = config['lenA']\n",
    "Otypes = config['Otypes']\n",
    "lenOtypes = config['lenOtypes']\n",
    "CM = config['CM']\n",
    "dataset = data.item()['dataset']"
   ]
  },
  {
   "cell_type": "code",
   "execution_count": 53,
   "id": "2ab5266b",
   "metadata": {},
   "outputs": [],
   "source": [
    "def get_X_Y(dataset, M=2):\n",
    "    X = np.zeros([len(dataset),len(dataset[0][2])+n_scene_features])\n",
    "    Y = np.zeros((len(dataset)), dtype=tuple)\n",
    "    for n,sample in enumerate(dataset):\n",
    "        s = Scene(init='from_dict', import_data=sample[0])\n",
    "        obs = s.scene_to_observation(type=scene_def_id, focus_point=sample[3])\n",
    "        \n",
    "        if M==2:\n",
    "            ll = len(sample[2]) + len(obs)\n",
    "            X[n,0:ll] = [*sample[2], *obs]\n",
    "        elif M==3:\n",
    "            ll = len(sample[2]) + 1 + len(obs)\n",
    "            X[n,0:ll] = [*sample[2], Users.U.index(sample[0]['user']), *obs]\n",
    "        #X[n] = sample[2]\n",
    "        Y[n] = A.index(sample[1][0])\n",
    "    return X, Y\n",
    "\n",
    "X,Y = get_X_Y(dataset, M=M)"
   ]
  },
  {
   "cell_type": "code",
   "execution_count": 54,
   "id": "6e6c838f",
   "metadata": {},
   "outputs": [],
   "source": [
    "X = X.astype(floatX)\n",
    "Y = Y.astype(floatX)\n",
    "X_train, X_test, Y_train, Y_test = train_test_split(X, Y, test_size=1-(train_samples/10000))"
   ]
  },
  {
   "cell_type": "code",
   "execution_count": 55,
   "id": "5ae9a23f",
   "metadata": {},
   "outputs": [],
   "source": [
    "# TODO:\n",
    "n_obs_in = lenG + n_scene_features"
   ]
  },
  {
   "cell_type": "code",
   "execution_count": 56,
   "id": "68399696",
   "metadata": {},
   "outputs": [],
   "source": [
    "def construct_nn(ann_input, ann_output):\n",
    "    n_hidden = 25\n",
    "\n",
    "    # Initialize random weights between each layer\n",
    "    init_weights_1 = rng.standard_normal(size=(n_obs_in, n_hidden)).astype(floatX)\n",
    "    init_weights_2 = rng.standard_normal(size=(n_hidden, n_hidden)).astype(floatX)\n",
    "    init_weights_3 = rng.standard_normal(size=(n_hidden, lenA)).astype(floatX)\n",
    "    coords = {\n",
    "        \"hidden_layer_1\": np.arange(n_hidden),\n",
    "        \"hidden_layer_2\": np.arange(n_hidden),\n",
    "        \"hidden_layer_3\": np.arange(n_hidden),\n",
    "        \"train_cols\": np.arange(n_obs_in),\n",
    "        \"out_dim\": np.arange(lenA),\n",
    "        # \"obs_id\": np.arange(X_train.shape[0]),\n",
    "    }\n",
    "    with pm.Model(coords=coords) as neural_network:\n",
    "        ann_input = pm.Data(\"ann_input\", ann_input)\n",
    "        ann_output = pm.Data(\"ann_output\", Y_train)\n",
    "\n",
    "        # Weights from input to hidden layer\n",
    "        weights_1 = pm.Normal(\n",
    "            \"weights_1\", 0, sigma=1, initval=init_weights_1, dims=(\"train_cols\", \"hidden_layer_1\")\n",
    "        )\n",
    "        weights_2 = pm.Normal(\n",
    "            \"weights_2\", 0, sigma=1, initval=init_weights_2, dims=(\"hidden_layer_1\", \"hidden_layer_2\")\n",
    "        )\n",
    "        weights_3 = pm.Normal(\n",
    "            \"weights_3\", 0, sigma=1, initval=init_weights_3, dims=(\"hidden_layer_2\", \"out_dim\")\n",
    "        )\n",
    "        \n",
    "        act_1   = pm.math.tanh(pm.math.dot(ann_input, weights_1))\n",
    "        act_2   = pm.math.tanh(pm.math.dot(act_1, weights_2))\n",
    "        act_out = pm.math.sigmoid(pm.math.dot(act_2, weights_3))\n",
    "        \n",
    "        # Binary classification -> Bernoulli likelihood\n",
    "        out = pm.Categorical(\n",
    "            \"out\",\n",
    "            act_out,\n",
    "            observed=ann_output,\n",
    "            total_size=Y_train.shape[0],  # IMPORTANT for minibatches\n",
    "        )\n",
    "    return neural_network\n",
    "\n",
    "\n",
    "neural_network = construct_nn(X_train, Y_train)"
   ]
  },
  {
   "cell_type": "code",
   "execution_count": 57,
   "id": "bd3783c0",
   "metadata": {},
   "outputs": [
    {
     "data": {
      "image/svg+xml": [
       "<?xml version=\"1.0\" encoding=\"UTF-8\" standalone=\"no\"?>\n",
       "<!DOCTYPE svg PUBLIC \"-//W3C//DTD SVG 1.1//EN\"\n",
       " \"http://www.w3.org/Graphics/SVG/1.1/DTD/svg11.dtd\">\n",
       "<!-- Generated by graphviz version 2.49.1 (20211004.0028)\n",
       " -->\n",
       "<!-- Pages: 1 -->\n",
       "<svg width=\"578pt\" height=\"349pt\"\n",
       " viewBox=\"0.00 0.00 578.00 348.91\" xmlns=\"http://www.w3.org/2000/svg\" xmlns:xlink=\"http://www.w3.org/1999/xlink\">\n",
       "<g id=\"graph0\" class=\"graph\" transform=\"scale(1 1) rotate(0) translate(4 344.91)\">\n",
       "<polygon fill=\"white\" stroke=\"transparent\" points=\"-4,4 -4,-344.91 574,-344.91 574,4 -4,4\"/>\n",
       "<g id=\"clust1\" class=\"cluster\">\n",
       "<title>cluster3,000 x 69</title>\n",
       "<path fill=\"none\" stroke=\"black\" d=\"M20,-229.93C20,-229.93 100,-229.93 100,-229.93 106,-229.93 112,-235.93 112,-241.93 112,-241.93 112,-309.93 112,-309.93 112,-315.93 106,-321.93 100,-321.93 100,-321.93 20,-321.93 20,-321.93 14,-321.93 8,-315.93 8,-309.93 8,-309.93 8,-241.93 8,-241.93 8,-235.93 14,-229.93 20,-229.93\"/>\n",
       "<text text-anchor=\"middle\" x=\"66\" y=\"-237.73\" font-family=\"Times,serif\" font-size=\"14.00\">3,000 x 69</text>\n",
       "</g>\n",
       "<g id=\"clust2\" class=\"cluster\">\n",
       "<title>cluster3,000</title>\n",
       "<path fill=\"none\" stroke=\"black\" d=\"M201,-8C201,-8 331,-8 331,-8 337,-8 343,-14 343,-20 343,-20 343,-198.95 343,-198.95 343,-204.95 337,-210.95 331,-210.95 331,-210.95 201,-210.95 201,-210.95 195,-210.95 189,-204.95 189,-198.95 189,-198.95 189,-20 189,-20 189,-14 195,-8 201,-8\"/>\n",
       "<text text-anchor=\"middle\" x=\"314.5\" y=\"-15.8\" font-family=\"Times,serif\" font-size=\"14.00\">3,000</text>\n",
       "</g>\n",
       "<g id=\"clust3\" class=\"cluster\">\n",
       "<title>cluster69 x 25</title>\n",
       "<path fill=\"none\" stroke=\"black\" d=\"M132,-218.95C132,-218.95 250,-218.95 250,-218.95 256,-218.95 262,-224.95 262,-230.95 262,-230.95 262,-320.91 262,-320.91 262,-326.91 256,-332.91 250,-332.91 250,-332.91 132,-332.91 132,-332.91 126,-332.91 120,-326.91 120,-320.91 120,-320.91 120,-230.95 120,-230.95 120,-224.95 126,-218.95 132,-218.95\"/>\n",
       "<text text-anchor=\"middle\" x=\"227\" y=\"-226.75\" font-family=\"Times,serif\" font-size=\"14.00\">69 x 25</text>\n",
       "</g>\n",
       "<g id=\"clust4\" class=\"cluster\">\n",
       "<title>cluster25 x 25</title>\n",
       "<path fill=\"none\" stroke=\"black\" d=\"M282,-218.95C282,-218.95 400,-218.95 400,-218.95 406,-218.95 412,-224.95 412,-230.95 412,-230.95 412,-320.91 412,-320.91 412,-326.91 406,-332.91 400,-332.91 400,-332.91 282,-332.91 282,-332.91 276,-332.91 270,-326.91 270,-320.91 270,-320.91 270,-230.95 270,-230.95 270,-224.95 276,-218.95 282,-218.95\"/>\n",
       "<text text-anchor=\"middle\" x=\"377\" y=\"-226.75\" font-family=\"Times,serif\" font-size=\"14.00\">25 x 25</text>\n",
       "</g>\n",
       "<g id=\"clust5\" class=\"cluster\">\n",
       "<title>cluster25 x 11</title>\n",
       "<path fill=\"none\" stroke=\"black\" d=\"M432,-218.95C432,-218.95 550,-218.95 550,-218.95 556,-218.95 562,-224.95 562,-230.95 562,-230.95 562,-320.91 562,-320.91 562,-326.91 556,-332.91 550,-332.91 550,-332.91 432,-332.91 432,-332.91 426,-332.91 420,-326.91 420,-320.91 420,-320.91 420,-230.95 420,-230.95 420,-224.95 426,-218.95 432,-218.95\"/>\n",
       "<text text-anchor=\"middle\" x=\"527\" y=\"-226.75\" font-family=\"Times,serif\" font-size=\"14.00\">25 x 11</text>\n",
       "</g>\n",
       "<!-- ann_input -->\n",
       "<g id=\"node1\" class=\"node\">\n",
       "<title>ann_input</title>\n",
       "<path fill=\"lightgrey\" stroke=\"black\" d=\"M91.5,-313.93C91.5,-313.93 28.5,-313.93 28.5,-313.93 22.5,-313.93 16.5,-307.93 16.5,-301.93 16.5,-301.93 16.5,-272.93 16.5,-272.93 16.5,-266.93 22.5,-260.93 28.5,-260.93 28.5,-260.93 91.5,-260.93 91.5,-260.93 97.5,-260.93 103.5,-266.93 103.5,-272.93 103.5,-272.93 103.5,-301.93 103.5,-301.93 103.5,-307.93 97.5,-313.93 91.5,-313.93\"/>\n",
       "<text text-anchor=\"middle\" x=\"60\" y=\"-298.73\" font-family=\"Times,serif\" font-size=\"14.00\">ann_input</text>\n",
       "<text text-anchor=\"middle\" x=\"60\" y=\"-283.73\" font-family=\"Times,serif\" font-size=\"14.00\">~</text>\n",
       "<text text-anchor=\"middle\" x=\"60\" y=\"-268.73\" font-family=\"Times,serif\" font-size=\"14.00\">Data</text>\n",
       "</g>\n",
       "<!-- out -->\n",
       "<g id=\"node2\" class=\"node\">\n",
       "<title>out</title>\n",
       "<ellipse fill=\"lightgrey\" stroke=\"black\" cx=\"266\" cy=\"-165.48\" rx=\"69.09\" ry=\"37.45\"/>\n",
       "<text text-anchor=\"middle\" x=\"266\" y=\"-176.78\" font-family=\"Times,serif\" font-size=\"14.00\">out</text>\n",
       "<text text-anchor=\"middle\" x=\"266\" y=\"-161.78\" font-family=\"Times,serif\" font-size=\"14.00\">~</text>\n",
       "<text text-anchor=\"middle\" x=\"266\" y=\"-146.78\" font-family=\"Times,serif\" font-size=\"14.00\">Categorical</text>\n",
       "</g>\n",
       "<!-- ann_input&#45;&gt;out -->\n",
       "<g id=\"edge3\" class=\"edge\">\n",
       "<title>ann_input&#45;&gt;out</title>\n",
       "<path fill=\"none\" stroke=\"black\" d=\"M76.23,-260.7C86.22,-246.68 100.12,-229.99 116,-218.95 138.8,-203.11 166.86,-191.61 192.51,-183.49\"/>\n",
       "<polygon fill=\"black\" stroke=\"black\" points=\"193.66,-186.8 202.21,-180.54 191.63,-180.1 193.66,-186.8\"/>\n",
       "</g>\n",
       "<!-- ann_output -->\n",
       "<g id=\"node3\" class=\"node\">\n",
       "<title>ann_output</title>\n",
       "<path fill=\"lightgrey\" stroke=\"black\" d=\"M302.5,-92C302.5,-92 229.5,-92 229.5,-92 223.5,-92 217.5,-86 217.5,-80 217.5,-80 217.5,-51 217.5,-51 217.5,-45 223.5,-39 229.5,-39 229.5,-39 302.5,-39 302.5,-39 308.5,-39 314.5,-45 314.5,-51 314.5,-51 314.5,-80 314.5,-80 314.5,-86 308.5,-92 302.5,-92\"/>\n",
       "<text text-anchor=\"middle\" x=\"266\" y=\"-76.8\" font-family=\"Times,serif\" font-size=\"14.00\">ann_output</text>\n",
       "<text text-anchor=\"middle\" x=\"266\" y=\"-61.8\" font-family=\"Times,serif\" font-size=\"14.00\">~</text>\n",
       "<text text-anchor=\"middle\" x=\"266\" y=\"-46.8\" font-family=\"Times,serif\" font-size=\"14.00\">Data</text>\n",
       "</g>\n",
       "<!-- out&#45;&gt;ann_output -->\n",
       "<g id=\"edge1\" class=\"edge\">\n",
       "<title>out&#45;&gt;ann_output</title>\n",
       "<path fill=\"none\" stroke=\"black\" d=\"M266,-127.99C266,-119.58 266,-110.63 266,-102.25\"/>\n",
       "<polygon fill=\"black\" stroke=\"black\" points=\"269.5,-102.01 266,-92.01 262.5,-102.01 269.5,-102.01\"/>\n",
       "</g>\n",
       "<!-- weights_1 -->\n",
       "<g id=\"node4\" class=\"node\">\n",
       "<title>weights_1</title>\n",
       "<ellipse fill=\"none\" stroke=\"black\" cx=\"191\" cy=\"-287.43\" rx=\"62.87\" ry=\"37.45\"/>\n",
       "<text text-anchor=\"middle\" x=\"191\" y=\"-298.73\" font-family=\"Times,serif\" font-size=\"14.00\">weights_1</text>\n",
       "<text text-anchor=\"middle\" x=\"191\" y=\"-283.73\" font-family=\"Times,serif\" font-size=\"14.00\">~</text>\n",
       "<text text-anchor=\"middle\" x=\"191\" y=\"-268.73\" font-family=\"Times,serif\" font-size=\"14.00\">Normal</text>\n",
       "</g>\n",
       "<!-- weights_1&#45;&gt;out -->\n",
       "<g id=\"edge2\" class=\"edge\">\n",
       "<title>weights_1&#45;&gt;out</title>\n",
       "<path fill=\"none\" stroke=\"black\" d=\"M212.49,-252.06C220.66,-238.99 230.07,-223.94 238.71,-210.13\"/>\n",
       "<polygon fill=\"black\" stroke=\"black\" points=\"241.91,-211.61 244.24,-201.27 235.98,-207.9 241.91,-211.61\"/>\n",
       "</g>\n",
       "<!-- weights_2 -->\n",
       "<g id=\"node5\" class=\"node\">\n",
       "<title>weights_2</title>\n",
       "<ellipse fill=\"none\" stroke=\"black\" cx=\"341\" cy=\"-287.43\" rx=\"62.87\" ry=\"37.45\"/>\n",
       "<text text-anchor=\"middle\" x=\"341\" y=\"-298.73\" font-family=\"Times,serif\" font-size=\"14.00\">weights_2</text>\n",
       "<text text-anchor=\"middle\" x=\"341\" y=\"-283.73\" font-family=\"Times,serif\" font-size=\"14.00\">~</text>\n",
       "<text text-anchor=\"middle\" x=\"341\" y=\"-268.73\" font-family=\"Times,serif\" font-size=\"14.00\">Normal</text>\n",
       "</g>\n",
       "<!-- weights_2&#45;&gt;out -->\n",
       "<g id=\"edge4\" class=\"edge\">\n",
       "<title>weights_2&#45;&gt;out</title>\n",
       "<path fill=\"none\" stroke=\"black\" d=\"M319.51,-252.06C311.34,-238.99 301.93,-223.94 293.29,-210.13\"/>\n",
       "<polygon fill=\"black\" stroke=\"black\" points=\"296.02,-207.9 287.76,-201.27 290.09,-211.61 296.02,-207.9\"/>\n",
       "</g>\n",
       "<!-- weights_3 -->\n",
       "<g id=\"node6\" class=\"node\">\n",
       "<title>weights_3</title>\n",
       "<ellipse fill=\"none\" stroke=\"black\" cx=\"491\" cy=\"-287.43\" rx=\"62.87\" ry=\"37.45\"/>\n",
       "<text text-anchor=\"middle\" x=\"491\" y=\"-298.73\" font-family=\"Times,serif\" font-size=\"14.00\">weights_3</text>\n",
       "<text text-anchor=\"middle\" x=\"491\" y=\"-283.73\" font-family=\"Times,serif\" font-size=\"14.00\">~</text>\n",
       "<text text-anchor=\"middle\" x=\"491\" y=\"-268.73\" font-family=\"Times,serif\" font-size=\"14.00\">Normal</text>\n",
       "</g>\n",
       "<!-- weights_3&#45;&gt;out -->\n",
       "<g id=\"edge5\" class=\"edge\">\n",
       "<title>weights_3&#45;&gt;out</title>\n",
       "<path fill=\"none\" stroke=\"black\" d=\"M460.74,-254.17C447.87,-241.86 432.13,-228.5 416,-218.95 392,-204.74 363.57,-193.57 337.94,-185.26\"/>\n",
       "<polygon fill=\"black\" stroke=\"black\" points=\"338.86,-181.88 328.27,-182.21 336.76,-188.56 338.86,-181.88\"/>\n",
       "</g>\n",
       "</g>\n",
       "</svg>\n"
      ],
      "text/plain": [
       "<graphviz.graphs.Digraph at 0x7fd2f25c9190>"
      ]
     },
     "execution_count": 57,
     "metadata": {},
     "output_type": "execute_result"
    }
   ],
   "source": [
    "pm.model_to_graphviz(neural_network)"
   ]
  },
  {
   "cell_type": "code",
   "execution_count": 58,
   "id": "e5cc4315",
   "metadata": {},
   "outputs": [],
   "source": [
    "def print_acc_from_trace(meanfield, n, draws=20):\n",
    "    neural_network_test = deepcopy(neural_network)\n",
    "    with neural_network_test:\n",
    "        trace = meanfield.sample(draws=draws)\n",
    "    \n",
    "        pm.set_data(new_data={\"ann_input\": X_test})\n",
    "        ppc = pm.sample_posterior_predictive(trace, progressbar=False)\n",
    "    \n",
    "    pred = ppc_to_pred(ppc)\n",
    "    acc = (pred == Y_test).mean() * 100\n",
    "    print(f\"n: {n}, Accuracy = {round(acc,2)}%\")\n",
    "    return acc"
   ]
  },
  {
   "cell_type": "code",
   "execution_count": 59,
   "id": "0917f7a4",
   "metadata": {},
   "outputs": [
    {
     "data": {
      "text/html": [
       "\n",
       "    <div>\n",
       "        <style>\n",
       "            /* Turns off some styling */\n",
       "            progress {\n",
       "                /* gets rid of default border in Firefox and Opera. */\n",
       "                border: none;\n",
       "                /* Needs to be in here for Safari polyfill so background images work as expected. */\n",
       "                background-size: auto;\n",
       "            }\n",
       "            .progress-bar-interrupted, .progress-bar-interrupted::-webkit-progress-bar {\n",
       "                background: #F44336;\n",
       "            }\n",
       "        </style>\n",
       "      <progress value='20977' class='' max='40000' style='width:300px; height:20px; vertical-align: middle;'></progress>\n",
       "      52.44% [20977/40000 13:56<12:38 Average Loss = 6,326.6]\n",
       "    </div>\n",
       "    "
      ],
      "text/plain": [
       "<IPython.core.display.HTML object>"
      ]
     },
     "metadata": {},
     "output_type": "display_data"
    },
    {
     "name": "stdout",
     "output_type": "stream",
     "text": [
      "n: 5000, Accuracy = 13.76%\n",
      "n: 12000, Accuracy = 15.66%\n",
      "n: 14000, Accuracy = 16.13%\n",
      "n: 16000, Accuracy = 17.89%\n",
      "n: 18000, Accuracy = 17.13%\n",
      "n: 20000, Accuracy = 18.47%\n"
     ]
    },
    {
     "name": "stderr",
     "output_type": "stream",
     "text": [
      "Interrupted at 20,978 [52%]: Average Loss = 7,103.4\n"
     ]
    }
   ],
   "source": [
    "ns = []\n",
    "accs = []\n",
    "#method = pm.ADVI()\n",
    "neural_network = construct_nn(X_train, Y_train)\n",
    "with neural_network:\n",
    "    approx = pm.fit(n=40_000, callbacks=[my_callback])#, method=method)"
   ]
  },
  {
   "cell_type": "markdown",
   "id": "b2207345",
   "metadata": {},
   "source": [
    "# Compare models as a graph of accuracies"
   ]
  },
  {
   "cell_type": "code",
   "execution_count": 167,
   "id": "366fc5a8",
   "metadata": {},
   "outputs": [],
   "source": [
    "              #D0  ,D1  ,D2  ,D3  , D1_2G, D2_2G, D3_2G\n",
    "model1_accs = [98.5,67.5,67.2,67.3, 93.8 , 92.5 ]\n",
    "model2_accs = [95  ,73.2,73.2,0   , 94.1 , 95.1 ]\n",
    "model3_accs = [99.4,67.5,67.2,0   , 0     , 0   ]"
   ]
  },
  {
   "cell_type": "code",
   "execution_count": 170,
   "id": "f57fdee0",
   "metadata": {},
   "outputs": [
    {
     "name": "stderr",
     "output_type": "stream",
     "text": [
      "/tmp/ipykernel_22037/4138117142.py:22: UserWarning: This figure was using constrained_layout, but that is incompatible with subplots_adjust and/or tight_layout; disabling constrained_layout.\n",
      "  fig.tight_layout()\n"
     ]
    },
    {
     "data": {
      "image/png": "[encoded data removed]",
      "text/plain": [
       "<Figure size 720x480 with 1 Axes>"
      ]
     },
     "metadata": {
      "image/png": {
       "height": 467,
       "width": 710
      }
     },
     "output_type": "display_data"
    }
   ],
   "source": [
    "labels = ['$D0$', '$D1$', '$D2$', '$D3$', '$D1_{2g}$',\n",
    "          '$D2_{2g}$']#, '$D3_{2g}$']\n",
    "\n",
    "x = np.arange(len(labels))  # the label locations\n",
    "width = 0.20  # the width of the bars\n",
    "\n",
    "fig, ax = plt.subplots()\n",
    "rects1 = ax.bar(x - width, model1_accs, width, label='Model $M1$')\n",
    "rects2 = ax.bar(x        , model2_accs, width, label='Model $M2$')\n",
    "rects3 = ax.bar(x + width, model3_accs, width, label='Model $M3$')\n",
    "\n",
    "# Add some text for labels, title and custom x-axis tick labels, etc.\n",
    "ax.set_ylabel('Accuracies [%]')\n",
    "ax.set_xticks(x, labels)\n",
    "ax.set_title(\"Model 2 & Model3 accs will be added\")\n",
    "ax.legend()\n",
    "\n",
    "ax.bar_label(rects1, padding=3)\n",
    "ax.bar_label(rects2, padding=3)\n",
    "ax.bar_label(rects3, padding=3)\n",
    "\n",
    "fig.tight_layout()\n",
    "plt.savefig(\"/home/petr/Pictures/cbgo_model_comparison_accuracies.svg\")\n",
    "plt.show()"
   ]
  },
  {
   "cell_type": "code",
   "execution_count": null,
   "id": "d0aec9c3",
   "metadata": {},
   "outputs": [],
   "source": []
  },
  {
   "cell_type": "code",
   "execution_count": null,
   "id": "c4519129",
   "metadata": {},
   "outputs": [],
   "source": []
  },
  {
   "cell_type": "code",
   "execution_count": 78,
   "id": "94105e37",
   "metadata": {},
   "outputs": [],
   "source": [
    "import aesara\n",
    "import aesara.tensor as at\n",
    "import arviz as az\n",
    "import matplotlib.pyplot as plt\n",
    "import numpy as np\n",
    "import pymc3 as pm\n",
    "import seaborn as sns\n",
    "import os\n",
    "from copy import deepcopy\n",
    "from deepdiff import DeepDiff\n",
    "\n",
    "from sklearn.model_selection import train_test_split\n",
    "\n",
    "from submodules.Scenes import Scene\n",
    "from submodules.features import Features\n",
    "from submodules.Users import Users\n",
    "\n",
    "%config InlineBackend.figure_format = 'retina'\n",
    "floatX = aesara.config.floatX\n",
    "rng = np.random.default_rng(5165)\n",
    "az.style.use(\"arviz-darkgrid\")"
   ]
  },
  {
   "cell_type": "code",
   "execution_count": 79,
   "id": "c5be4913",
   "metadata": {},
   "outputs": [],
   "source": [
    "dataset_name = 'D4_1'\n",
    "n_scene_features = 60\n",
    "train_samples = 6000 \n",
    "scene_def_id = 10\n",
    "M=3"
   ]
  },
  {
   "cell_type": "code",
   "execution_count": 80,
   "id": "1fa5a4cd",
   "metadata": {},
   "outputs": [],
   "source": [
    "# dataset \n",
    "data = np.load(f\"{os.path.expanduser('~')}/Documents/{dataset_name}.npy\", allow_pickle=True)\n",
    "config = data.item()['config']\n",
    "A = config['A']\n",
    "G = config['G']\n",
    "lenG = config['lenG']\n",
    "lenA = config['lenA']\n",
    "Otypes = config['Otypes']\n",
    "lenOtypes = config['lenOtypes']\n",
    "CM = config['CM']\n",
    "dataset = data.item()['dataset']"
   ]
  },
  {
   "cell_type": "code",
   "execution_count": 81,
   "id": "5b39cc12",
   "metadata": {},
   "outputs": [],
   "source": [
    "def get_X_Y(dataset, M=2):\n",
    "    X = np.zeros([len(dataset),len(dataset[0][2])+n_scene_features])\n",
    "    Y = np.zeros((len(dataset)), dtype=tuple)\n",
    "    for n,sample in enumerate(dataset):\n",
    "        s = Scene(init='from_dict', import_data=sample[0])\n",
    "        obs = s.scene_to_observation(type=scene_def_id, focus_point=sample[3])\n",
    "        \n",
    "        if M==2:\n",
    "            ll = len(sample[2]) + len(obs)\n",
    "            X[n,0:ll] = [*sample[2], *obs]\n",
    "        elif M==3:\n",
    "            ll = len(sample[2]) + 1 + len(obs)\n",
    "            X[n,0:ll] = [*sample[2], Users.U.index(sample[0]['user']), *obs]\n",
    "        #X[n] = sample[2]\n",
    "        Y[n] = A.index(sample[1][0])\n",
    "    return X, Y\n",
    "\n",
    "X,Y = get_X_Y(dataset, M=M)"
   ]
  },
  {
   "cell_type": "code",
   "execution_count": 82,
   "id": "83f67a10",
   "metadata": {},
   "outputs": [],
   "source": [
    "X = X.astype(floatX)\n",
    "Y = Y.astype(floatX)\n",
    "X_train, X_test, Y_train, Y_test = train_test_split(X, Y, test_size=1-(train_samples/10000))"
   ]
  },
  {
   "cell_type": "code",
   "execution_count": 83,
   "id": "f3f4351d",
   "metadata": {},
   "outputs": [],
   "source": [
    "# TODO:\n",
    "n_obs_in = lenG + n_scene_features"
   ]
  },
  {
   "cell_type": "code",
   "execution_count": 84,
   "id": "41e17804",
   "metadata": {},
   "outputs": [],
   "source": [
    "def construct_nn(ann_input, ann_output):\n",
    "    n_hidden = 25\n",
    "\n",
    "    # Initialize random weights between each layer\n",
    "    init_weights_1 = rng.standard_normal(size=(n_obs_in, n_hidden)).astype(floatX)\n",
    "    init_weights_2 = rng.standard_normal(size=(n_hidden, n_hidden)).astype(floatX)\n",
    "    init_weights_3 = rng.standard_normal(size=(n_hidden, lenA)).astype(floatX)\n",
    "    coords = {\n",
    "        \"hidden_layer_1\": np.arange(n_hidden),\n",
    "        \"hidden_layer_2\": np.arange(n_hidden),\n",
    "        \"hidden_layer_3\": np.arange(n_hidden),\n",
    "        \"train_cols\": np.arange(n_obs_in),\n",
    "        \"out_dim\": np.arange(lenA),\n",
    "        # \"obs_id\": np.arange(X_train.shape[0]),\n",
    "    }\n",
    "    with pm.Model(coords=coords) as neural_network:\n",
    "        ann_input = pm.Data(\"ann_input\", ann_input)\n",
    "        ann_output = pm.Data(\"ann_output\", Y_train)\n",
    "\n",
    "        # Weights from input to hidden layer\n",
    "        weights_1 = pm.Normal(\n",
    "            \"weights_1\", 0, sigma=1, initval=init_weights_1, dims=(\"train_cols\", \"hidden_layer_1\")\n",
    "        )\n",
    "        weights_2 = pm.Normal(\n",
    "            \"weights_2\", 0, sigma=1, initval=init_weights_2, dims=(\"hidden_layer_1\", \"hidden_layer_2\")\n",
    "        )\n",
    "        weights_3 = pm.Normal(\n",
    "            \"weights_3\", 0, sigma=1, initval=init_weights_3, dims=(\"hidden_layer_2\", \"out_dim\")\n",
    "        )\n",
    "        \n",
    "        act_1   = pm.math.tanh(pm.math.dot(ann_input, weights_1))\n",
    "        act_2   = pm.math.tanh(pm.math.dot(weights_1, weights_2))\n",
    "        act_out = pm.math.sigmoid(pm.math.dot(act_1, weights_3))\n",
    "        \n",
    "        # Binary classification -> Bernoulli likelihood\n",
    "        out = pm.Categorical(\n",
    "            \"out\",\n",
    "            act_out,\n",
    "            observed=ann_output,\n",
    "            total_size=Y_train.shape[0],  # IMPORTANT for minibatches\n",
    "        )\n",
    "    return neural_network\n",
    "\n",
    "\n",
    "neural_network = construct_nn(X_train, Y_train)"
   ]
  },
  {
   "cell_type": "code",
   "execution_count": 85,
   "id": "b23e7352",
   "metadata": {},
   "outputs": [
    {
     "data": {
      "image/svg+xml": [
       "<?xml version=\"1.0\" encoding=\"UTF-8\" standalone=\"no\"?>\n",
       "<!DOCTYPE svg PUBLIC \"-//W3C//DTD SVG 1.1//EN\"\n",
       " \"http://www.w3.org/Graphics/SVG/1.1/DTD/svg11.dtd\">\n",
       "<!-- Generated by graphviz version 2.49.1 (20211004.0028)\n",
       " -->\n",
       "<!-- Pages: 1 -->\n",
       "<svg width=\"578pt\" height=\"349pt\"\n",
       " viewBox=\"0.00 0.00 578.00 348.91\" xmlns=\"http://www.w3.org/2000/svg\" xmlns:xlink=\"http://www.w3.org/1999/xlink\">\n",
       "<g id=\"graph0\" class=\"graph\" transform=\"scale(1 1) rotate(0) translate(4 344.91)\">\n",
       "<polygon fill=\"white\" stroke=\"transparent\" points=\"-4,4 -4,-344.91 574,-344.91 574,4 -4,4\"/>\n",
       "<g id=\"clust1\" class=\"cluster\">\n",
       "<title>cluster6,000 x 69</title>\n",
       "<path fill=\"none\" stroke=\"black\" d=\"M20,-229.93C20,-229.93 100,-229.93 100,-229.93 106,-229.93 112,-235.93 112,-241.93 112,-241.93 112,-309.93 112,-309.93 112,-315.93 106,-321.93 100,-321.93 100,-321.93 20,-321.93 20,-321.93 14,-321.93 8,-315.93 8,-309.93 8,-309.93 8,-241.93 8,-241.93 8,-235.93 14,-229.93 20,-229.93\"/>\n",
       "<text text-anchor=\"middle\" x=\"66\" y=\"-237.73\" font-family=\"Times,serif\" font-size=\"14.00\">6,000 x 69</text>\n",
       "</g>\n",
       "<g id=\"clust2\" class=\"cluster\">\n",
       "<title>cluster6,000</title>\n",
       "<path fill=\"none\" stroke=\"black\" d=\"M126,-8C126,-8 256,-8 256,-8 262,-8 268,-14 268,-20 268,-20 268,-198.95 268,-198.95 268,-204.95 262,-210.95 256,-210.95 256,-210.95 126,-210.95 126,-210.95 120,-210.95 114,-204.95 114,-198.95 114,-198.95 114,-20 114,-20 114,-14 120,-8 126,-8\"/>\n",
       "<text text-anchor=\"middle\" x=\"239.5\" y=\"-15.8\" font-family=\"Times,serif\" font-size=\"14.00\">6,000</text>\n",
       "</g>\n",
       "<g id=\"clust3\" class=\"cluster\">\n",
       "<title>cluster69 x 25</title>\n",
       "<path fill=\"none\" stroke=\"black\" d=\"M132,-218.95C132,-218.95 250,-218.95 250,-218.95 256,-218.95 262,-224.95 262,-230.95 262,-230.95 262,-320.91 262,-320.91 262,-326.91 256,-332.91 250,-332.91 250,-332.91 132,-332.91 132,-332.91 126,-332.91 120,-326.91 120,-320.91 120,-320.91 120,-230.95 120,-230.95 120,-224.95 126,-218.95 132,-218.95\"/>\n",
       "<text text-anchor=\"middle\" x=\"227\" y=\"-226.75\" font-family=\"Times,serif\" font-size=\"14.00\">69 x 25</text>\n",
       "</g>\n",
       "<g id=\"clust4\" class=\"cluster\">\n",
       "<title>cluster25 x 25</title>\n",
       "<path fill=\"none\" stroke=\"black\" d=\"M432,-218.95C432,-218.95 550,-218.95 550,-218.95 556,-218.95 562,-224.95 562,-230.95 562,-230.95 562,-320.91 562,-320.91 562,-326.91 556,-332.91 550,-332.91 550,-332.91 432,-332.91 432,-332.91 426,-332.91 420,-326.91 420,-320.91 420,-320.91 420,-230.95 420,-230.95 420,-224.95 426,-218.95 432,-218.95\"/>\n",
       "<text text-anchor=\"middle\" x=\"527\" y=\"-226.75\" font-family=\"Times,serif\" font-size=\"14.00\">25 x 25</text>\n",
       "</g>\n",
       "<g id=\"clust5\" class=\"cluster\">\n",
       "<title>cluster25 x 11</title>\n",
       "<path fill=\"none\" stroke=\"black\" d=\"M282,-218.95C282,-218.95 400,-218.95 400,-218.95 406,-218.95 412,-224.95 412,-230.95 412,-230.95 412,-320.91 412,-320.91 412,-326.91 406,-332.91 400,-332.91 400,-332.91 282,-332.91 282,-332.91 276,-332.91 270,-326.91 270,-320.91 270,-320.91 270,-230.95 270,-230.95 270,-224.95 276,-218.95 282,-218.95\"/>\n",
       "<text text-anchor=\"middle\" x=\"377\" y=\"-226.75\" font-family=\"Times,serif\" font-size=\"14.00\">25 x 11</text>\n",
       "</g>\n",
       "<!-- ann_input -->\n",
       "<g id=\"node1\" class=\"node\">\n",
       "<title>ann_input</title>\n",
       "<path fill=\"lightgrey\" stroke=\"black\" d=\"M91.5,-313.93C91.5,-313.93 28.5,-313.93 28.5,-313.93 22.5,-313.93 16.5,-307.93 16.5,-301.93 16.5,-301.93 16.5,-272.93 16.5,-272.93 16.5,-266.93 22.5,-260.93 28.5,-260.93 28.5,-260.93 91.5,-260.93 91.5,-260.93 97.5,-260.93 103.5,-266.93 103.5,-272.93 103.5,-272.93 103.5,-301.93 103.5,-301.93 103.5,-307.93 97.5,-313.93 91.5,-313.93\"/>\n",
       "<text text-anchor=\"middle\" x=\"60\" y=\"-298.73\" font-family=\"Times,serif\" font-size=\"14.00\">ann_input</text>\n",
       "<text text-anchor=\"middle\" x=\"60\" y=\"-283.73\" font-family=\"Times,serif\" font-size=\"14.00\">~</text>\n",
       "<text text-anchor=\"middle\" x=\"60\" y=\"-268.73\" font-family=\"Times,serif\" font-size=\"14.00\">Data</text>\n",
       "</g>\n",
       "<!-- out -->\n",
       "<g id=\"node2\" class=\"node\">\n",
       "<title>out</title>\n",
       "<ellipse fill=\"lightgrey\" stroke=\"black\" cx=\"191\" cy=\"-165.48\" rx=\"69.09\" ry=\"37.45\"/>\n",
       "<text text-anchor=\"middle\" x=\"191\" y=\"-176.78\" font-family=\"Times,serif\" font-size=\"14.00\">out</text>\n",
       "<text text-anchor=\"middle\" x=\"191\" y=\"-161.78\" font-family=\"Times,serif\" font-size=\"14.00\">~</text>\n",
       "<text text-anchor=\"middle\" x=\"191\" y=\"-146.78\" font-family=\"Times,serif\" font-size=\"14.00\">Categorical</text>\n",
       "</g>\n",
       "<!-- ann_input&#45;&gt;out -->\n",
       "<g id=\"edge2\" class=\"edge\">\n",
       "<title>ann_input&#45;&gt;out</title>\n",
       "<path fill=\"none\" stroke=\"black\" d=\"M78.74,-260.66C88.98,-247.45 102.34,-231.54 116,-218.95 122.87,-212.63 130.53,-206.44 138.27,-200.67\"/>\n",
       "<polygon fill=\"black\" stroke=\"black\" points=\"140.62,-203.28 146.66,-194.57 136.51,-197.62 140.62,-203.28\"/>\n",
       "</g>\n",
       "<!-- ann_output -->\n",
       "<g id=\"node3\" class=\"node\">\n",
       "<title>ann_output</title>\n",
       "<path fill=\"lightgrey\" stroke=\"black\" d=\"M227.5,-92C227.5,-92 154.5,-92 154.5,-92 148.5,-92 142.5,-86 142.5,-80 142.5,-80 142.5,-51 142.5,-51 142.5,-45 148.5,-39 154.5,-39 154.5,-39 227.5,-39 227.5,-39 233.5,-39 239.5,-45 239.5,-51 239.5,-51 239.5,-80 239.5,-80 239.5,-86 233.5,-92 227.5,-92\"/>\n",
       "<text text-anchor=\"middle\" x=\"191\" y=\"-76.8\" font-family=\"Times,serif\" font-size=\"14.00\">ann_output</text>\n",
       "<text text-anchor=\"middle\" x=\"191\" y=\"-61.8\" font-family=\"Times,serif\" font-size=\"14.00\">~</text>\n",
       "<text text-anchor=\"middle\" x=\"191\" y=\"-46.8\" font-family=\"Times,serif\" font-size=\"14.00\">Data</text>\n",
       "</g>\n",
       "<!-- out&#45;&gt;ann_output -->\n",
       "<g id=\"edge1\" class=\"edge\">\n",
       "<title>out&#45;&gt;ann_output</title>\n",
       "<path fill=\"none\" stroke=\"black\" d=\"M191,-127.99C191,-119.58 191,-110.63 191,-102.25\"/>\n",
       "<polygon fill=\"black\" stroke=\"black\" points=\"194.5,-102.01 191,-92.01 187.5,-102.01 194.5,-102.01\"/>\n",
       "</g>\n",
       "<!-- weights_1 -->\n",
       "<g id=\"node4\" class=\"node\">\n",
       "<title>weights_1</title>\n",
       "<ellipse fill=\"none\" stroke=\"black\" cx=\"191\" cy=\"-287.43\" rx=\"62.87\" ry=\"37.45\"/>\n",
       "<text text-anchor=\"middle\" x=\"191\" y=\"-298.73\" font-family=\"Times,serif\" font-size=\"14.00\">weights_1</text>\n",
       "<text text-anchor=\"middle\" x=\"191\" y=\"-283.73\" font-family=\"Times,serif\" font-size=\"14.00\">~</text>\n",
       "<text text-anchor=\"middle\" x=\"191\" y=\"-268.73\" font-family=\"Times,serif\" font-size=\"14.00\">Normal</text>\n",
       "</g>\n",
       "<!-- weights_1&#45;&gt;out -->\n",
       "<g id=\"edge4\" class=\"edge\">\n",
       "<title>weights_1&#45;&gt;out</title>\n",
       "<path fill=\"none\" stroke=\"black\" d=\"M191,-249.79C191,-238.38 191,-225.65 191,-213.63\"/>\n",
       "<polygon fill=\"black\" stroke=\"black\" points=\"194.5,-213.31 191,-203.31 187.5,-213.31 194.5,-213.31\"/>\n",
       "</g>\n",
       "<!-- weights_2 -->\n",
       "<g id=\"node5\" class=\"node\">\n",
       "<title>weights_2</title>\n",
       "<ellipse fill=\"none\" stroke=\"black\" cx=\"491\" cy=\"-287.43\" rx=\"62.87\" ry=\"37.45\"/>\n",
       "<text text-anchor=\"middle\" x=\"491\" y=\"-298.73\" font-family=\"Times,serif\" font-size=\"14.00\">weights_2</text>\n",
       "<text text-anchor=\"middle\" x=\"491\" y=\"-283.73\" font-family=\"Times,serif\" font-size=\"14.00\">~</text>\n",
       "<text text-anchor=\"middle\" x=\"491\" y=\"-268.73\" font-family=\"Times,serif\" font-size=\"14.00\">Normal</text>\n",
       "</g>\n",
       "<!-- weights_3 -->\n",
       "<g id=\"node6\" class=\"node\">\n",
       "<title>weights_3</title>\n",
       "<ellipse fill=\"none\" stroke=\"black\" cx=\"341\" cy=\"-287.43\" rx=\"62.87\" ry=\"37.45\"/>\n",
       "<text text-anchor=\"middle\" x=\"341\" y=\"-298.73\" font-family=\"Times,serif\" font-size=\"14.00\">weights_3</text>\n",
       "<text text-anchor=\"middle\" x=\"341\" y=\"-283.73\" font-family=\"Times,serif\" font-size=\"14.00\">~</text>\n",
       "<text text-anchor=\"middle\" x=\"341\" y=\"-268.73\" font-family=\"Times,serif\" font-size=\"14.00\">Normal</text>\n",
       "</g>\n",
       "<!-- weights_3&#45;&gt;out -->\n",
       "<g id=\"edge3\" class=\"edge\">\n",
       "<title>weights_3&#45;&gt;out</title>\n",
       "<path fill=\"none\" stroke=\"black\" d=\"M308.16,-255.3C295.31,-243.55 280.26,-230.29 266,-218.95 258.43,-212.94 250.22,-206.81 242.1,-200.98\"/>\n",
       "<polygon fill=\"black\" stroke=\"black\" points=\"243.89,-197.95 233.71,-195.01 239.83,-203.66 243.89,-197.95\"/>\n",
       "</g>\n",
       "</g>\n",
       "</svg>\n"
      ],
      "text/plain": [
       "<graphviz.graphs.Digraph at 0x7f26a6281f40>"
      ]
     },
     "execution_count": 85,
     "metadata": {},
     "output_type": "execute_result"
    }
   ],
   "source": [
    "pm.model_to_graphviz(neural_network)"
   ]
  },
  {
   "cell_type": "code",
   "execution_count": 86,
   "id": "8d02b537",
   "metadata": {},
   "outputs": [],
   "source": [
    "def print_acc_from_trace(meanfield, n, draws=20):\n",
    "    neural_network_test = deepcopy(neural_network)\n",
    "    with neural_network_test:\n",
    "        trace = meanfield.sample(draws=draws)\n",
    "    \n",
    "        pm.set_data(new_data={\"ann_input\": X_test})\n",
    "        ppc = pm.sample_posterior_predictive(trace, progressbar=False)\n",
    "    \n",
    "    pred = ppc_to_pred(ppc)\n",
    "    acc = (pred == Y_test).mean() * 100\n",
    "    print(f\"n: {n}, Accuracy = {round(acc,2)}%\")\n",
    "    return acc"
   ]
  },
  {
   "cell_type": "code",
   "execution_count": 87,
   "id": "28566a21",
   "metadata": {
    "scrolled": true
   },
   "outputs": [
    {
     "data": {
      "text/html": [
       "\n",
       "    <div>\n",
       "        <style>\n",
       "            /* Turns off some styling */\n",
       "            progress {\n",
       "                /* gets rid of default border in Firefox and Opera. */\n",
       "                border: none;\n",
       "                /* Needs to be in here for Safari polyfill so background images work as expected. */\n",
       "                background-size: auto;\n",
       "            }\n",
       "            .progress-bar-interrupted, .progress-bar-interrupted::-webkit-progress-bar {\n",
       "                background: #F44336;\n",
       "            }\n",
       "        </style>\n",
       "      <progress value='50000' class='' max='50000' style='width:300px; height:20px; vertical-align: middle;'></progress>\n",
       "      100.00% [50000/50000 32:40<00:00 Average Loss = 3,464.3]\n",
       "    </div>\n",
       "    "
      ],
      "text/plain": [
       "<IPython.core.display.HTML object>"
      ]
     },
     "metadata": {},
     "output_type": "display_data"
    },
    {
     "name": "stdout",
     "output_type": "stream",
     "text": [
      "n: 5000, Accuracy = 17.52%\n",
      "n: 12000, Accuracy = 28.22%\n",
      "n: 14000, Accuracy = 33.9%\n",
      "n: 16000, Accuracy = 43.55%\n",
      "n: 18000, Accuracy = 55.82%\n",
      "n: 20000, Accuracy = 61.72%\n",
      "n: 22000, Accuracy = 67.6%\n",
      "n: 24000, Accuracy = 71.23%\n",
      "n: 26000, Accuracy = 72.15%\n",
      "n: 28000, Accuracy = 74.3%\n",
      "n: 30000, Accuracy = 75.18%\n",
      "n: 32000, Accuracy = 76.35%\n",
      "n: 34000, Accuracy = 78.72%\n",
      "n: 36000, Accuracy = 78.62%\n",
      "n: 38000, Accuracy = 78.82%\n",
      "n: 40000, Accuracy = 80.1%\n",
      "n: 42000, Accuracy = 79.88%\n",
      "n: 44000, Accuracy = 80.05%\n",
      "n: 46000, Accuracy = 79.05%\n",
      "n: 48000, Accuracy = 80.08%\n",
      "n: 50000, Accuracy = 79.6%\n"
     ]
    },
    {
     "name": "stderr",
     "output_type": "stream",
     "text": [
      "Finished [100%]: Average Loss = 3,464\n"
     ]
    }
   ],
   "source": [
    "ns = []\n",
    "accs = []\n",
    "#method = pm.ADVI()\n",
    "neural_network = construct_nn(X_train, Y_train)\n",
    "with neural_network:\n",
    "    approx = pm.fit(n=50_000, callbacks=[my_callback])#, method=method)"
   ]
  },
  {
   "cell_type": "code",
   "execution_count": null,
   "id": "d6b845ab",
   "metadata": {},
   "outputs": [],
   "source": []
  },
  {
   "cell_type": "code",
   "execution_count": null,
   "id": "3d75626d",
   "metadata": {},
   "outputs": [],
   "source": []
  },
  {
   "cell_type": "code",
   "execution_count": 50,
   "id": "4e7f8cd9",
   "metadata": {},
   "outputs": [],
   "source": [
    "import aesara\n",
    "import aesara.tensor as at\n",
    "import arviz as az\n",
    "import matplotlib.pyplot as plt\n",
    "import numpy as np\n",
    "import pymc3 as pm\n",
    "import seaborn as sns\n",
    "import os\n",
    "from copy import deepcopy\n",
    "from deepdiff import DeepDiff\n",
    "\n",
    "from sklearn.model_selection import train_test_split\n",
    "\n",
    "from submodules.Scenes import Scene\n",
    "from submodules.features import Features\n",
    "from submodules.Users import Users\n",
    "\n",
    "%config InlineBackend.figure_format = 'retina'\n",
    "floatX = aesara.config.floatX\n",
    "rng = np.random.default_rng(5165)\n",
    "az.style.use(\"arviz-darkgrid\")"
   ]
  },
  {
   "cell_type": "code",
   "execution_count": 88,
   "id": "2390654c",
   "metadata": {},
   "outputs": [],
   "source": [
    "dataset_name = 'D4_1'\n",
    "n_scene_features = 60\n",
    "train_samples = 3000 \n",
    "scene_def_id = 10\n",
    "M=3"
   ]
  },
  {
   "cell_type": "code",
   "execution_count": 89,
   "id": "bd4a5be8",
   "metadata": {},
   "outputs": [],
   "source": [
    "# dataset \n",
    "data = np.load(f\"{os.path.expanduser('~')}/Documents/{dataset_name}.npy\", allow_pickle=True)\n",
    "config = data.item()['config']\n",
    "A = config['A']\n",
    "G = config['G']\n",
    "lenG = config['lenG']\n",
    "lenA = config['lenA']\n",
    "Otypes = config['Otypes']\n",
    "lenOtypes = config['lenOtypes']\n",
    "CM = config['CM']\n",
    "dataset = data.item()['dataset']"
   ]
  },
  {
   "cell_type": "code",
   "execution_count": 90,
   "id": "b163f9c8",
   "metadata": {},
   "outputs": [],
   "source": [
    "def get_X_Y(dataset, M=2):\n",
    "    X = np.zeros([len(dataset),len(dataset[0][2])+n_scene_features])\n",
    "    Y = np.zeros((len(dataset)), dtype=tuple)\n",
    "    for n,sample in enumerate(dataset):\n",
    "        s = Scene(init='from_dict', import_data=sample[0])\n",
    "        obs = s.scene_to_observation(type=scene_def_id, focus_point=sample[3])\n",
    "        \n",
    "        if M==2:\n",
    "            ll = len(sample[2]) + len(obs)\n",
    "            X[n,0:ll] = [*sample[2], *obs]\n",
    "        elif M==3:\n",
    "            ll = len(sample[2]) + 1 + len(obs)\n",
    "            X[n,0:ll] = [*sample[2], Users.U.index(sample[0]['user']), *obs]\n",
    "        #X[n] = sample[2]\n",
    "        Y[n] = A.index(sample[1][0])\n",
    "    return X, Y\n",
    "\n",
    "X,Y = get_X_Y(dataset, M=M)"
   ]
  },
  {
   "cell_type": "code",
   "execution_count": 91,
   "id": "b08d0f63",
   "metadata": {},
   "outputs": [],
   "source": [
    "X = X.astype(floatX)\n",
    "Y = Y.astype(floatX)\n",
    "X_train, X_test, Y_train, Y_test = train_test_split(X, Y, test_size=1-(train_samples/10000))"
   ]
  },
  {
   "cell_type": "code",
   "execution_count": 92,
   "id": "ccb154fe",
   "metadata": {},
   "outputs": [],
   "source": [
    "# TODO:\n",
    "n_obs_in = lenG + n_scene_features"
   ]
  },
  {
   "cell_type": "code",
   "execution_count": 93,
   "id": "c4c7da0c",
   "metadata": {},
   "outputs": [],
   "source": [
    "def construct_nn(ann_input, ann_output):\n",
    "    n_hidden = 25\n",
    "\n",
    "    # Initialize random weights between each layer\n",
    "    init_weights_1 = rng.standard_normal(size=(n_obs_in, n_hidden)).astype(floatX)\n",
    "    init_weights_2 = rng.standard_normal(size=(n_hidden, n_hidden)).astype(floatX)\n",
    "    init_weights_3 = rng.standard_normal(size=(n_hidden, lenA)).astype(floatX)\n",
    "    coords = {\n",
    "        \"hidden_layer_1\": np.arange(n_hidden),\n",
    "        \"hidden_layer_2\": np.arange(n_hidden),\n",
    "        \"hidden_layer_3\": np.arange(n_hidden),\n",
    "        \"train_cols\": np.arange(n_obs_in),\n",
    "        \"out_dim\": np.arange(lenA),\n",
    "        # \"obs_id\": np.arange(X_train.shape[0]),\n",
    "    }\n",
    "    with pm.Model(coords=coords) as neural_network:\n",
    "        ann_input = pm.Data(\"ann_input\", ann_input)\n",
    "        ann_output = pm.Data(\"ann_output\", Y_train)\n",
    "\n",
    "        # Weights from input to hidden layer\n",
    "        weights_1 = pm.Normal(\n",
    "            \"weights_1\", 0, sigma=1, initval=init_weights_1, dims=(\"train_cols\", \"hidden_layer_1\")\n",
    "        )\n",
    "        weights_2 = pm.Normal(\n",
    "            \"weights_2\", 0, sigma=1, initval=init_weights_2, dims=(\"hidden_layer_1\", \"hidden_layer_2\")\n",
    "        )\n",
    "        weights_3 = pm.Normal(\n",
    "            \"weights_3\", 0, sigma=1, initval=init_weights_3, dims=(\"hidden_layer_2\", \"out_dim\")\n",
    "        )\n",
    "        \n",
    "        act_1   = pm.math.tanh(pm.math.dot(ann_input, weights_1))\n",
    "        act_2   = pm.math.tanh(pm.math.dot(weights_1, weights_2))\n",
    "        act_out = pm.math.sigmoid(pm.math.dot(act_1, weights_3))\n",
    "        \n",
    "        # Binary classification -> Bernoulli likelihood\n",
    "        out = pm.Categorical(\n",
    "            \"out\",\n",
    "            act_out,\n",
    "            observed=ann_output,\n",
    "            total_size=Y_train.shape[0],  # IMPORTANT for minibatches\n",
    "        )\n",
    "    return neural_network\n",
    "\n",
    "\n",
    "neural_network = construct_nn(X_train, Y_train)"
   ]
  },
  {
   "cell_type": "code",
   "execution_count": 94,
   "id": "35d2e789",
   "metadata": {},
   "outputs": [
    {
     "data": {
      "image/svg+xml": [
       "<?xml version=\"1.0\" encoding=\"UTF-8\" standalone=\"no\"?>\n",
       "<!DOCTYPE svg PUBLIC \"-//W3C//DTD SVG 1.1//EN\"\n",
       " \"http://www.w3.org/Graphics/SVG/1.1/DTD/svg11.dtd\">\n",
       "<!-- Generated by graphviz version 2.49.1 (20211004.0028)\n",
       " -->\n",
       "<!-- Pages: 1 -->\n",
       "<svg width=\"578pt\" height=\"349pt\"\n",
       " viewBox=\"0.00 0.00 578.00 348.91\" xmlns=\"http://www.w3.org/2000/svg\" xmlns:xlink=\"http://www.w3.org/1999/xlink\">\n",
       "<g id=\"graph0\" class=\"graph\" transform=\"scale(1 1) rotate(0) translate(4 344.91)\">\n",
       "<polygon fill=\"white\" stroke=\"transparent\" points=\"-4,4 -4,-344.91 574,-344.91 574,4 -4,4\"/>\n",
       "<g id=\"clust1\" class=\"cluster\">\n",
       "<title>cluster3,000 x 69</title>\n",
       "<path fill=\"none\" stroke=\"black\" d=\"M20,-229.93C20,-229.93 100,-229.93 100,-229.93 106,-229.93 112,-235.93 112,-241.93 112,-241.93 112,-309.93 112,-309.93 112,-315.93 106,-321.93 100,-321.93 100,-321.93 20,-321.93 20,-321.93 14,-321.93 8,-315.93 8,-309.93 8,-309.93 8,-241.93 8,-241.93 8,-235.93 14,-229.93 20,-229.93\"/>\n",
       "<text text-anchor=\"middle\" x=\"66\" y=\"-237.73\" font-family=\"Times,serif\" font-size=\"14.00\">3,000 x 69</text>\n",
       "</g>\n",
       "<g id=\"clust2\" class=\"cluster\">\n",
       "<title>cluster3,000</title>\n",
       "<path fill=\"none\" stroke=\"black\" d=\"M126,-8C126,-8 256,-8 256,-8 262,-8 268,-14 268,-20 268,-20 268,-198.95 268,-198.95 268,-204.95 262,-210.95 256,-210.95 256,-210.95 126,-210.95 126,-210.95 120,-210.95 114,-204.95 114,-198.95 114,-198.95 114,-20 114,-20 114,-14 120,-8 126,-8\"/>\n",
       "<text text-anchor=\"middle\" x=\"239.5\" y=\"-15.8\" font-family=\"Times,serif\" font-size=\"14.00\">3,000</text>\n",
       "</g>\n",
       "<g id=\"clust3\" class=\"cluster\">\n",
       "<title>cluster69 x 25</title>\n",
       "<path fill=\"none\" stroke=\"black\" d=\"M132,-218.95C132,-218.95 250,-218.95 250,-218.95 256,-218.95 262,-224.95 262,-230.95 262,-230.95 262,-320.91 262,-320.91 262,-326.91 256,-332.91 250,-332.91 250,-332.91 132,-332.91 132,-332.91 126,-332.91 120,-326.91 120,-320.91 120,-320.91 120,-230.95 120,-230.95 120,-224.95 126,-218.95 132,-218.95\"/>\n",
       "<text text-anchor=\"middle\" x=\"227\" y=\"-226.75\" font-family=\"Times,serif\" font-size=\"14.00\">69 x 25</text>\n",
       "</g>\n",
       "<g id=\"clust4\" class=\"cluster\">\n",
       "<title>cluster25 x 25</title>\n",
       "<path fill=\"none\" stroke=\"black\" d=\"M432,-218.95C432,-218.95 550,-218.95 550,-218.95 556,-218.95 562,-224.95 562,-230.95 562,-230.95 562,-320.91 562,-320.91 562,-326.91 556,-332.91 550,-332.91 550,-332.91 432,-332.91 432,-332.91 426,-332.91 420,-326.91 420,-320.91 420,-320.91 420,-230.95 420,-230.95 420,-224.95 426,-218.95 432,-218.95\"/>\n",
       "<text text-anchor=\"middle\" x=\"527\" y=\"-226.75\" font-family=\"Times,serif\" font-size=\"14.00\">25 x 25</text>\n",
       "</g>\n",
       "<g id=\"clust5\" class=\"cluster\">\n",
       "<title>cluster25 x 11</title>\n",
       "<path fill=\"none\" stroke=\"black\" d=\"M282,-218.95C282,-218.95 400,-218.95 400,-218.95 406,-218.95 412,-224.95 412,-230.95 412,-230.95 412,-320.91 412,-320.91 412,-326.91 406,-332.91 400,-332.91 400,-332.91 282,-332.91 282,-332.91 276,-332.91 270,-326.91 270,-320.91 270,-320.91 270,-230.95 270,-230.95 270,-224.95 276,-218.95 282,-218.95\"/>\n",
       "<text text-anchor=\"middle\" x=\"377\" y=\"-226.75\" font-family=\"Times,serif\" font-size=\"14.00\">25 x 11</text>\n",
       "</g>\n",
       "<!-- ann_input -->\n",
       "<g id=\"node1\" class=\"node\">\n",
       "<title>ann_input</title>\n",
       "<path fill=\"lightgrey\" stroke=\"black\" d=\"M91.5,-313.93C91.5,-313.93 28.5,-313.93 28.5,-313.93 22.5,-313.93 16.5,-307.93 16.5,-301.93 16.5,-301.93 16.5,-272.93 16.5,-272.93 16.5,-266.93 22.5,-260.93 28.5,-260.93 28.5,-260.93 91.5,-260.93 91.5,-260.93 97.5,-260.93 103.5,-266.93 103.5,-272.93 103.5,-272.93 103.5,-301.93 103.5,-301.93 103.5,-307.93 97.5,-313.93 91.5,-313.93\"/>\n",
       "<text text-anchor=\"middle\" x=\"60\" y=\"-298.73\" font-family=\"Times,serif\" font-size=\"14.00\">ann_input</text>\n",
       "<text text-anchor=\"middle\" x=\"60\" y=\"-283.73\" font-family=\"Times,serif\" font-size=\"14.00\">~</text>\n",
       "<text text-anchor=\"middle\" x=\"60\" y=\"-268.73\" font-family=\"Times,serif\" font-size=\"14.00\">Data</text>\n",
       "</g>\n",
       "<!-- out -->\n",
       "<g id=\"node2\" class=\"node\">\n",
       "<title>out</title>\n",
       "<ellipse fill=\"lightgrey\" stroke=\"black\" cx=\"191\" cy=\"-165.48\" rx=\"69.09\" ry=\"37.45\"/>\n",
       "<text text-anchor=\"middle\" x=\"191\" y=\"-176.78\" font-family=\"Times,serif\" font-size=\"14.00\">out</text>\n",
       "<text text-anchor=\"middle\" x=\"191\" y=\"-161.78\" font-family=\"Times,serif\" font-size=\"14.00\">~</text>\n",
       "<text text-anchor=\"middle\" x=\"191\" y=\"-146.78\" font-family=\"Times,serif\" font-size=\"14.00\">Categorical</text>\n",
       "</g>\n",
       "<!-- ann_input&#45;&gt;out -->\n",
       "<g id=\"edge2\" class=\"edge\">\n",
       "<title>ann_input&#45;&gt;out</title>\n",
       "<path fill=\"none\" stroke=\"black\" d=\"M78.74,-260.66C88.98,-247.45 102.34,-231.54 116,-218.95 122.87,-212.63 130.53,-206.44 138.27,-200.67\"/>\n",
       "<polygon fill=\"black\" stroke=\"black\" points=\"140.62,-203.28 146.66,-194.57 136.51,-197.62 140.62,-203.28\"/>\n",
       "</g>\n",
       "<!-- ann_output -->\n",
       "<g id=\"node3\" class=\"node\">\n",
       "<title>ann_output</title>\n",
       "<path fill=\"lightgrey\" stroke=\"black\" d=\"M227.5,-92C227.5,-92 154.5,-92 154.5,-92 148.5,-92 142.5,-86 142.5,-80 142.5,-80 142.5,-51 142.5,-51 142.5,-45 148.5,-39 154.5,-39 154.5,-39 227.5,-39 227.5,-39 233.5,-39 239.5,-45 239.5,-51 239.5,-51 239.5,-80 239.5,-80 239.5,-86 233.5,-92 227.5,-92\"/>\n",
       "<text text-anchor=\"middle\" x=\"191\" y=\"-76.8\" font-family=\"Times,serif\" font-size=\"14.00\">ann_output</text>\n",
       "<text text-anchor=\"middle\" x=\"191\" y=\"-61.8\" font-family=\"Times,serif\" font-size=\"14.00\">~</text>\n",
       "<text text-anchor=\"middle\" x=\"191\" y=\"-46.8\" font-family=\"Times,serif\" font-size=\"14.00\">Data</text>\n",
       "</g>\n",
       "<!-- out&#45;&gt;ann_output -->\n",
       "<g id=\"edge1\" class=\"edge\">\n",
       "<title>out&#45;&gt;ann_output</title>\n",
       "<path fill=\"none\" stroke=\"black\" d=\"M191,-127.99C191,-119.58 191,-110.63 191,-102.25\"/>\n",
       "<polygon fill=\"black\" stroke=\"black\" points=\"194.5,-102.01 191,-92.01 187.5,-102.01 194.5,-102.01\"/>\n",
       "</g>\n",
       "<!-- weights_1 -->\n",
       "<g id=\"node4\" class=\"node\">\n",
       "<title>weights_1</title>\n",
       "<ellipse fill=\"none\" stroke=\"black\" cx=\"191\" cy=\"-287.43\" rx=\"62.87\" ry=\"37.45\"/>\n",
       "<text text-anchor=\"middle\" x=\"191\" y=\"-298.73\" font-family=\"Times,serif\" font-size=\"14.00\">weights_1</text>\n",
       "<text text-anchor=\"middle\" x=\"191\" y=\"-283.73\" font-family=\"Times,serif\" font-size=\"14.00\">~</text>\n",
       "<text text-anchor=\"middle\" x=\"191\" y=\"-268.73\" font-family=\"Times,serif\" font-size=\"14.00\">Normal</text>\n",
       "</g>\n",
       "<!-- weights_1&#45;&gt;out -->\n",
       "<g id=\"edge4\" class=\"edge\">\n",
       "<title>weights_1&#45;&gt;out</title>\n",
       "<path fill=\"none\" stroke=\"black\" d=\"M191,-249.79C191,-238.38 191,-225.65 191,-213.63\"/>\n",
       "<polygon fill=\"black\" stroke=\"black\" points=\"194.5,-213.31 191,-203.31 187.5,-213.31 194.5,-213.31\"/>\n",
       "</g>\n",
       "<!-- weights_2 -->\n",
       "<g id=\"node5\" class=\"node\">\n",
       "<title>weights_2</title>\n",
       "<ellipse fill=\"none\" stroke=\"black\" cx=\"491\" cy=\"-287.43\" rx=\"62.87\" ry=\"37.45\"/>\n",
       "<text text-anchor=\"middle\" x=\"491\" y=\"-298.73\" font-family=\"Times,serif\" font-size=\"14.00\">weights_2</text>\n",
       "<text text-anchor=\"middle\" x=\"491\" y=\"-283.73\" font-family=\"Times,serif\" font-size=\"14.00\">~</text>\n",
       "<text text-anchor=\"middle\" x=\"491\" y=\"-268.73\" font-family=\"Times,serif\" font-size=\"14.00\">Normal</text>\n",
       "</g>\n",
       "<!-- weights_3 -->\n",
       "<g id=\"node6\" class=\"node\">\n",
       "<title>weights_3</title>\n",
       "<ellipse fill=\"none\" stroke=\"black\" cx=\"341\" cy=\"-287.43\" rx=\"62.87\" ry=\"37.45\"/>\n",
       "<text text-anchor=\"middle\" x=\"341\" y=\"-298.73\" font-family=\"Times,serif\" font-size=\"14.00\">weights_3</text>\n",
       "<text text-anchor=\"middle\" x=\"341\" y=\"-283.73\" font-family=\"Times,serif\" font-size=\"14.00\">~</text>\n",
       "<text text-anchor=\"middle\" x=\"341\" y=\"-268.73\" font-family=\"Times,serif\" font-size=\"14.00\">Normal</text>\n",
       "</g>\n",
       "<!-- weights_3&#45;&gt;out -->\n",
       "<g id=\"edge3\" class=\"edge\">\n",
       "<title>weights_3&#45;&gt;out</title>\n",
       "<path fill=\"none\" stroke=\"black\" d=\"M308.16,-255.3C295.31,-243.55 280.26,-230.29 266,-218.95 258.43,-212.94 250.22,-206.81 242.1,-200.98\"/>\n",
       "<polygon fill=\"black\" stroke=\"black\" points=\"243.89,-197.95 233.71,-195.01 239.83,-203.66 243.89,-197.95\"/>\n",
       "</g>\n",
       "</g>\n",
       "</svg>\n"
      ],
      "text/plain": [
       "<graphviz.graphs.Digraph at 0x7f26b9dd75e0>"
      ]
     },
     "execution_count": 94,
     "metadata": {},
     "output_type": "execute_result"
    }
   ],
   "source": [
    "pm.model_to_graphviz(neural_network)"
   ]
  },
  {
   "cell_type": "code",
   "execution_count": 95,
   "id": "179a0f62",
   "metadata": {},
   "outputs": [],
   "source": [
    "def print_acc_from_trace(meanfield, n, draws=20):\n",
    "    neural_network_test = deepcopy(neural_network)\n",
    "    with neural_network_test:\n",
    "        trace = meanfield.sample(draws=draws)\n",
    "    \n",
    "        pm.set_data(new_data={\"ann_input\": X_test})\n",
    "        ppc = pm.sample_posterior_predictive(trace, progressbar=False)\n",
    "    \n",
    "    pred = ppc_to_pred(ppc)\n",
    "    acc = (pred == Y_test).mean() * 100\n",
    "    print(f\"n: {n}, Accuracy = {round(acc,2)}%\")\n",
    "    return acc"
   ]
  },
  {
   "cell_type": "code",
   "execution_count": 96,
   "id": "920acb15",
   "metadata": {
    "scrolled": true
   },
   "outputs": [
    {
     "data": {
      "text/html": [
       "\n",
       "    <div>\n",
       "        <style>\n",
       "            /* Turns off some styling */\n",
       "            progress {\n",
       "                /* gets rid of default border in Firefox and Opera. */\n",
       "                border: none;\n",
       "                /* Needs to be in here for Safari polyfill so background images work as expected. */\n",
       "                background-size: auto;\n",
       "            }\n",
       "            .progress-bar-interrupted, .progress-bar-interrupted::-webkit-progress-bar {\n",
       "                background: #F44336;\n",
       "            }\n",
       "        </style>\n",
       "      <progress value='50000' class='' max='50000' style='width:300px; height:20px; vertical-align: middle;'></progress>\n",
       "      100.00% [50000/50000 25:22<00:00 Average Loss = 2,320.9]\n",
       "    </div>\n",
       "    "
      ],
      "text/plain": [
       "<IPython.core.display.HTML object>"
      ]
     },
     "metadata": {},
     "output_type": "display_data"
    },
    {
     "name": "stdout",
     "output_type": "stream",
     "text": [
      "n: 5000, Accuracy = 17.5%\n",
      "n: 12000, Accuracy = 24.93%\n",
      "n: 14000, Accuracy = 31.37%\n",
      "n: 16000, Accuracy = 37.57%\n",
      "n: 18000, Accuracy = 49.23%\n",
      "n: 20000, Accuracy = 59.89%\n",
      "n: 22000, Accuracy = 67.43%\n",
      "n: 24000, Accuracy = 70.9%\n",
      "n: 26000, Accuracy = 71.36%\n",
      "n: 28000, Accuracy = 74.29%\n",
      "n: 30000, Accuracy = 73.94%\n",
      "n: 32000, Accuracy = 75.24%\n",
      "n: 34000, Accuracy = 77.04%\n",
      "n: 36000, Accuracy = 77.2%\n",
      "n: 38000, Accuracy = 78.84%\n",
      "n: 40000, Accuracy = 78.33%\n",
      "n: 42000, Accuracy = 79.01%\n",
      "n: 44000, Accuracy = 79.47%\n",
      "n: 46000, Accuracy = 79.13%\n",
      "n: 48000, Accuracy = 79.83%\n",
      "n: 50000, Accuracy = 78.74%\n"
     ]
    },
    {
     "name": "stderr",
     "output_type": "stream",
     "text": [
      "Finished [100%]: Average Loss = 2,320.8\n"
     ]
    }
   ],
   "source": [
    "ns = []\n",
    "accs = []\n",
    "#method = pm.ADVI()\n",
    "neural_network = construct_nn(X_train, Y_train)\n",
    "with neural_network:\n",
    "    approx = pm.fit(n=50_000, callbacks=[my_callback])#, method=method)"
   ]
  },
  {
   "cell_type": "code",
   "execution_count": null,
   "id": "1156f0ad",
   "metadata": {},
   "outputs": [],
   "source": []
  }
 ],
 "metadata": {
  "kernelspec": {
   "display_name": "robostackenv",
   "language": "python",
   "name": "myenv"
  },
  "language_info": {
   "codemirror_mode": {
    "name": "ipython",
    "version": 3
   },
   "file_extension": ".py",
   "mimetype": "text/x-python",
   "name": "python",
   "nbconvert_exporter": "python",
   "pygments_lexer": "ipython3",
   "version": "3.8.10"
  }
 },
 "nbformat": 4,
 "nbformat_minor": 5
}
