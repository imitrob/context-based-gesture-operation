{
 "cells": [
  {
   "cell_type": "markdown",
   "id": "49e3b78a",
   "metadata": {},
   "source": [
    "Intent estimation import"
   ]
  },
  {
   "cell_type": "code",
   "execution_count": 1,
   "id": "af86ef8c",
   "metadata": {},
   "outputs": [],
   "source": [
    "import sys\n",
    "sys.path.append(\"/home/petr/intent_estimation_via_gestures/submodules\")\n",
    "sys.path.append(\"/home/petr/intent_estimation_via_gestures\")\n",
    "from Scenes import Scene, SceneCoppeliaInterface\n",
    "from Actions import Actions\n",
    "from copy import deepcopy\n",
    "import numpy as np"
   ]
  },
  {
   "cell_type": "markdown",
   "id": "accc8750",
   "metadata": {},
   "source": [
    "Teleop gesture toolbox import (gestures and simulator)"
   ]
  },
  {
   "cell_type": "code",
   "execution_count": 2,
   "id": "c66a1aac",
   "metadata": {},
   "outputs": [],
   "source": [
    "sys.path.append(\"/home/petr/my_ws/src/mirracle_sim/src\")\n",
    "from coppelia_sim_ros_client import CoppeliaROSInterface"
   ]
  },
  {
   "cell_type": "code",
   "execution_count": 3,
   "id": "8396189c",
   "metadata": {},
   "outputs": [],
   "source": [
    "import rospy\n",
    "rospy.init_node(\"main\", anonymous=True)"
   ]
  },
  {
   "cell_type": "code",
   "execution_count": 4,
   "id": "8f38fe47",
   "metadata": {},
   "outputs": [],
   "source": [
    "cop = CoppeliaROSInterface()\n",
    "from geometry_msgs.msg import Point, Pose, Quaternion"
   ]
  },
  {
   "cell_type": "code",
   "execution_count": 5,
   "id": "fd555c02",
   "metadata": {},
   "outputs": [],
   "source": [
    "sci = SceneCoppeliaInterface(cop)"
   ]
  },
  {
   "cell_type": "code",
   "execution_count": 7,
   "id": "ef6fd669",
   "metadata": {},
   "outputs": [
    {
     "ename": "KeyboardInterrupt",
     "evalue": "",
     "output_type": "error",
     "traceback": [
      "\u001b[0;31m---------------------------------------------------------------------------\u001b[0m",
      "\u001b[0;31mKeyboardInterrupt\u001b[0m                         Traceback (most recent call last)",
      "Input \u001b[0;32mIn [7]\u001b[0m, in \u001b[0;36m<module>\u001b[0;34m\u001b[0m\n\u001b[1;32m      9\u001b[0m s\u001b[38;5;241m.\u001b[39mobject\u001b[38;5;241m.\u001b[39msize \u001b[38;5;241m=\u001b[39m \u001b[38;5;241m0.03\u001b[39m\n\u001b[1;32m     10\u001b[0m s\u001b[38;5;241m.\u001b[39mobject\u001b[38;5;241m.\u001b[39mcolor \u001b[38;5;241m=\u001b[39m \u001b[38;5;124m'\u001b[39m\u001b[38;5;124mr\u001b[39m\u001b[38;5;124m'\u001b[39m\n\u001b[0;32m---> 13\u001b[0m \u001b[43msci\u001b[49m\u001b[38;5;241;43m.\u001b[39;49m\u001b[43mnew_scene\u001b[49m\u001b[43m(\u001b[49m\u001b[43ms\u001b[49m\u001b[43m)\u001b[49m\n\u001b[1;32m     14\u001b[0m s\u001b[38;5;241m.\u001b[39minfo\n",
      "File \u001b[0;32m~/intent_estimation_via_gestures/submodules/Scenes.py:519\u001b[0m, in \u001b[0;36mSceneCoppeliaInterface.new_scene\u001b[0;34m(self, s)\u001b[0m\n\u001b[1;32m    517\u001b[0m     time\u001b[38;5;241m.\u001b[39msleep(\u001b[38;5;241m10\u001b[39m)\n\u001b[1;32m    518\u001b[0m     \u001b[38;5;28mself\u001b[39m\u001b[38;5;241m.\u001b[39minterface_handle\u001b[38;5;241m.\u001b[39madd_or_edit_object(name\u001b[38;5;241m=\u001b[39ms\u001b[38;5;241m.\u001b[39mr\u001b[38;5;241m.\u001b[39mattached\u001b[38;5;241m.\u001b[39mname, pose\u001b[38;5;241m=\u001b[39mposition_real)\n\u001b[0;32m--> 519\u001b[0m     \u001b[38;5;28;43mself\u001b[39;49m\u001b[38;5;241;43m.\u001b[39;49m\u001b[43minterface_handle\u001b[49m\u001b[38;5;241;43m.\u001b[39;49m\u001b[43mpick_object\u001b[49m\u001b[43m(\u001b[49m\u001b[38;5;28;43mobject\u001b[39;49m\u001b[38;5;241;43m=\u001b[39;49m\u001b[43ms\u001b[49m\u001b[38;5;241;43m.\u001b[39;49m\u001b[43mr\u001b[49m\u001b[38;5;241;43m.\u001b[39;49m\u001b[43mattached\u001b[49m\u001b[38;5;241;43m.\u001b[39;49m\u001b[43mname\u001b[49m\u001b[43m)\u001b[49m\n\u001b[1;32m    521\u001b[0m \u001b[38;5;28;01mif\u001b[39;00m \u001b[38;5;28mself\u001b[39m\u001b[38;5;241m.\u001b[39mprint_info: \u001b[38;5;28mprint\u001b[39m(\u001b[38;5;124m\"\u001b[39m\u001b[38;5;124mScene initialization done!\u001b[39m\u001b[38;5;124m\"\u001b[39m)\n",
      "File \u001b[0;32m~/my_ws/src/mirracle_sim/src/coppelia_sim_ros_client.py:137\u001b[0m, in \u001b[0;36mCoppeliaROSInterface.pick_object\u001b[0;34m(object)\u001b[0m\n\u001b[1;32m    135\u001b[0m \u001b[38;5;129m@staticmethod\u001b[39m\n\u001b[1;32m    136\u001b[0m \u001b[38;5;28;01mdef\u001b[39;00m \u001b[38;5;21mpick_object\u001b[39m(\u001b[38;5;28mobject\u001b[39m):\n\u001b[0;32m--> 137\u001b[0m     \u001b[43mCoppeliaROSInterface\u001b[49m\u001b[38;5;241;43m.\u001b[39;49m\u001b[43mset_gripper\u001b[49m\u001b[43m(\u001b[49m\u001b[43mposition\u001b[49m\u001b[38;5;241;43m=\u001b[39;49m\u001b[38;5;241;43m0.0\u001b[39;49m\u001b[43m,\u001b[49m\u001b[43m \u001b[49m\u001b[43maction\u001b[49m\u001b[38;5;241;43m=\u001b[39;49m\u001b[38;5;124;43m'\u001b[39;49m\u001b[38;5;124;43mgrasp\u001b[39;49m\u001b[38;5;124;43m'\u001b[39;49m\u001b[43m,\u001b[49m\u001b[43m \u001b[49m\u001b[38;5;28;43mobject\u001b[39;49m\u001b[38;5;241;43m=\u001b[39;49m\u001b[38;5;28;43mobject\u001b[39;49m\u001b[43m)\u001b[49m\n",
      "File \u001b[0;32m~/my_ws/src/mirracle_sim/src/coppelia_sim_ros_client.py:165\u001b[0m, in \u001b[0;36mCoppeliaROSInterface.set_gripper\u001b[0;34m(position, effort, eef_rot, action, object)\u001b[0m\n\u001b[1;32m    163\u001b[0m \u001b[38;5;28;01mtry\u001b[39;00m:\n\u001b[1;32m    164\u001b[0m     gripper_control \u001b[38;5;241m=\u001b[39m rospy\u001b[38;5;241m.\u001b[39mServiceProxy(\u001b[38;5;124m'\u001b[39m\u001b[38;5;124mgripper_control\u001b[39m\u001b[38;5;124m'\u001b[39m, GripperControl)\n\u001b[0;32m--> 165\u001b[0m     response \u001b[38;5;241m=\u001b[39m \u001b[43mgripper_control\u001b[49m\u001b[43m(\u001b[49m\u001b[43mposition\u001b[49m\u001b[43m,\u001b[49m\u001b[43m \u001b[49m\u001b[43meffort\u001b[49m\u001b[43m,\u001b[49m\u001b[43m \u001b[49m\u001b[43maction\u001b[49m\u001b[43m,\u001b[49m\u001b[43m \u001b[49m\u001b[38;5;28;43mobject\u001b[39;49m\u001b[43m,\u001b[49m\u001b[43m \u001b[49m\u001b[43meef_rot\u001b[49m\u001b[43m)\u001b[49m\n\u001b[1;32m    166\u001b[0m     response \u001b[38;5;241m=\u001b[39m gripper_control(position, effort, action, \u001b[38;5;28mobject\u001b[39m, eef_rot)\n\u001b[1;32m    167\u001b[0m     \u001b[38;5;28;01mreturn\u001b[39;00m response\n",
      "File \u001b[0;32m~/anaconda3/envs/robostackenv/lib/python3.8/site-packages/rospy/impl/tcpros_service.py:442\u001b[0m, in \u001b[0;36mServiceProxy.__call__\u001b[0;34m(self, *args, **kwds)\u001b[0m\n\u001b[1;32m    428\u001b[0m \u001b[38;5;28;01mdef\u001b[39;00m \u001b[38;5;21m__call__\u001b[39m(\u001b[38;5;28mself\u001b[39m, \u001b[38;5;241m*\u001b[39margs, \u001b[38;5;241m*\u001b[39m\u001b[38;5;241m*\u001b[39mkwds):\n\u001b[1;32m    429\u001b[0m     \u001b[38;5;124;03m\"\"\"\u001b[39;00m\n\u001b[1;32m    430\u001b[0m \u001b[38;5;124;03m    Callable-style version of the service API. This accepts either a request message instance,\u001b[39;00m\n\u001b[1;32m    431\u001b[0m \u001b[38;5;124;03m    or you can call directly with arguments to create a new request instance. e.g.::\u001b[39;00m\n\u001b[0;32m   (...)\u001b[0m\n\u001b[1;32m    440\u001b[0m \u001b[38;5;124;03m    message. This is usually a type error with one of the fields.\u001b[39;00m\n\u001b[1;32m    441\u001b[0m \u001b[38;5;124;03m    \"\"\"\u001b[39;00m\n\u001b[0;32m--> 442\u001b[0m     \u001b[38;5;28;01mreturn\u001b[39;00m \u001b[38;5;28;43mself\u001b[39;49m\u001b[38;5;241;43m.\u001b[39;49m\u001b[43mcall\u001b[49m\u001b[43m(\u001b[49m\u001b[38;5;241;43m*\u001b[39;49m\u001b[43margs\u001b[49m\u001b[43m,\u001b[49m\u001b[43m \u001b[49m\u001b[38;5;241;43m*\u001b[39;49m\u001b[38;5;241;43m*\u001b[39;49m\u001b[43mkwds\u001b[49m\u001b[43m)\u001b[49m\n",
      "File \u001b[0;32m~/anaconda3/envs/robostackenv/lib/python3.8/site-packages/rospy/impl/tcpros_service.py:522\u001b[0m, in \u001b[0;36mServiceProxy.call\u001b[0;34m(self, *args, **kwds)\u001b[0m\n\u001b[1;32m    519\u001b[0m transport\u001b[38;5;241m.\u001b[39msend_message(request, \u001b[38;5;28mself\u001b[39m\u001b[38;5;241m.\u001b[39mseq)\n\u001b[1;32m    521\u001b[0m \u001b[38;5;28;01mtry\u001b[39;00m:\n\u001b[0;32m--> 522\u001b[0m     responses \u001b[38;5;241m=\u001b[39m \u001b[43mtransport\u001b[49m\u001b[38;5;241;43m.\u001b[39;49m\u001b[43mreceive_once\u001b[49m\u001b[43m(\u001b[49m\u001b[43m)\u001b[49m\n\u001b[1;32m    523\u001b[0m     \u001b[38;5;28;01mif\u001b[39;00m \u001b[38;5;28mlen\u001b[39m(responses) \u001b[38;5;241m==\u001b[39m \u001b[38;5;241m0\u001b[39m:\n\u001b[1;32m    524\u001b[0m         \u001b[38;5;28;01mraise\u001b[39;00m ServiceException(\u001b[38;5;124m\"\u001b[39m\u001b[38;5;124mservice [\u001b[39m\u001b[38;5;132;01m%s\u001b[39;00m\u001b[38;5;124m] returned no response\u001b[39m\u001b[38;5;124m\"\u001b[39m\u001b[38;5;241m%\u001b[39m\u001b[38;5;28mself\u001b[39m\u001b[38;5;241m.\u001b[39mresolved_name)\n",
      "File \u001b[0;32m~/anaconda3/envs/robostackenv/lib/python3.8/site-packages/rospy/impl/tcpros_base.py:737\u001b[0m, in \u001b[0;36mTCPROSTransport.receive_once\u001b[0;34m(self)\u001b[0m\n\u001b[1;32m    735\u001b[0m         p\u001b[38;5;241m.\u001b[39mread_messages(b, msg_queue, sock) \n\u001b[1;32m    736\u001b[0m     \u001b[38;5;28;01mif\u001b[39;00m \u001b[38;5;129;01mnot\u001b[39;00m msg_queue:\n\u001b[0;32m--> 737\u001b[0m         \u001b[38;5;28mself\u001b[39m\u001b[38;5;241m.\u001b[39mstat_bytes \u001b[38;5;241m+\u001b[39m\u001b[38;5;241m=\u001b[39m \u001b[43mrecv_buff\u001b[49m\u001b[43m(\u001b[49m\u001b[43msock\u001b[49m\u001b[43m,\u001b[49m\u001b[43m \u001b[49m\u001b[43mb\u001b[49m\u001b[43m,\u001b[49m\u001b[43m \u001b[49m\u001b[43mp\u001b[49m\u001b[38;5;241;43m.\u001b[39;49m\u001b[43mbuff_size\u001b[49m\u001b[43m)\u001b[49m\n\u001b[1;32m    738\u001b[0m \u001b[38;5;28mself\u001b[39m\u001b[38;5;241m.\u001b[39mstat_num_msg \u001b[38;5;241m+\u001b[39m\u001b[38;5;241m=\u001b[39m \u001b[38;5;28mlen\u001b[39m(msg_queue) \u001b[38;5;66;03m#STATS\u001b[39;00m\n\u001b[1;32m    739\u001b[0m \u001b[38;5;66;03m# set the _connection_header field\u001b[39;00m\n",
      "File \u001b[0;32m~/anaconda3/envs/robostackenv/lib/python3.8/site-packages/rospy/impl/tcpros_base.py:104\u001b[0m, in \u001b[0;36mrecv_buff\u001b[0;34m(sock, b, buff_size)\u001b[0m\n\u001b[1;32m     92\u001b[0m \u001b[38;5;28;01mdef\u001b[39;00m \u001b[38;5;21mrecv_buff\u001b[39m(sock, b, buff_size):\n\u001b[1;32m     93\u001b[0m     \u001b[38;5;124;03m\"\"\"\u001b[39;00m\n\u001b[1;32m     94\u001b[0m \u001b[38;5;124;03m    Read data from socket into buffer.\u001b[39;00m\n\u001b[1;32m     95\u001b[0m \u001b[38;5;124;03m    @param sock: socket to read from\u001b[39;00m\n\u001b[0;32m   (...)\u001b[0m\n\u001b[1;32m    102\u001b[0m \u001b[38;5;124;03m    @rtype: int\u001b[39;00m\n\u001b[1;32m    103\u001b[0m \u001b[38;5;124;03m    \"\"\"\u001b[39;00m\n\u001b[0;32m--> 104\u001b[0m     d \u001b[38;5;241m=\u001b[39m \u001b[43msock\u001b[49m\u001b[38;5;241;43m.\u001b[39;49m\u001b[43mrecv\u001b[49m\u001b[43m(\u001b[49m\u001b[43mbuff_size\u001b[49m\u001b[43m)\u001b[49m\n\u001b[1;32m    105\u001b[0m     \u001b[38;5;28;01mif\u001b[39;00m d:\n\u001b[1;32m    106\u001b[0m         b\u001b[38;5;241m.\u001b[39mwrite(d)\n",
      "\u001b[0;31mKeyboardInterrupt\u001b[0m: "
     ]
    }
   ],
   "source": [
    "s = Scene(init='drawer,cup,object')\n",
    "s.drawer.position = np.array([2,0,0])\n",
    "s.drawer.opened = True\n",
    "s.cup.position = np.array([1,1,0])\n",
    "s.cup.size = 0.05\n",
    "s.cup.color = 'b'\n",
    "\n",
    "s.object.position = np.array([2,3,0])\n",
    "s.object.size = 0.03\n",
    "s.object.color = 'r'\n",
    "\n",
    "\n",
    "sci.new_scene(s)\n",
    "s.info"
   ]
  },
  {
   "cell_type": "code",
   "execution_count": 13,
   "id": "7a11ce4b",
   "metadata": {},
   "outputs": [
    {
     "name": "stdout",
     "output_type": "stream",
     "text": [
      "Scene info. shape: [4, 4, 4]\n",
      "drawer,\tdrawer,\t[2 1 0], closed, cont: [],\t|| [drawer] >>\n",
      "cup,\tcup,\t[1 0 0], empty,\t|| [cup] >>\n",
      "object,\tobject,\t[1.  0.  0.5],\t|| [object] >>\n",
      "Robot: [2 1 2], opened, rotation: 0, attached: -\n"
     ]
    }
   ],
   "source": [
    "s = Scene(init='drawer,cup,object', random=False)\n",
    "s.drawer.position = np.array([2,1,0])\n",
    "s.drawer.opened = False\n",
    "s.cup.position = np.array([1,0,0])\n",
    "s.cup.size = 0.08\n",
    "s.cup.color = 'g'\n",
    "\n",
    "s.object.position = np.array([1,0,0.5])\n",
    "s.object.size = 0.03\n",
    "s.object.color = 'r'\n",
    "\n",
    "s.r.eef_position = np.array([2,1,2])\n",
    "\n",
    "sci.new_scene(s)\n",
    "s.info"
   ]
  },
  {
   "cell_type": "code",
   "execution_count": 8,
   "id": "0a4ff36a",
   "metadata": {},
   "outputs": [],
   "source": [
    "cop.open_gripper()"
   ]
  },
  {
   "cell_type": "code",
   "execution_count": 11,
   "id": "eeb623db",
   "metadata": {},
   "outputs": [
    {
     "name": "stdout",
     "output_type": "stream",
     "text": [
      "1/4, enter to continue, anystr else to abort!\n",
      "2/4, enter to continue, anystr else to abort!\n",
      "3/4, enter to continue, anystr else to abort!\n"
     ]
    },
    {
     "ename": "KeyboardInterrupt",
     "evalue": "",
     "output_type": "error",
     "traceback": [
      "\u001b[0;31m---------------------------------------------------------------------------\u001b[0m",
      "\u001b[0;31mKeyboardInterrupt\u001b[0m                         Traceback (most recent call last)",
      "Input \u001b[0;32mIn [11]\u001b[0m, in \u001b[0;36m<module>\u001b[0;34m\u001b[0m\n\u001b[0;32m----> 1\u001b[0m \u001b[38;5;28;01mif\u001b[39;00m \u001b[38;5;129;01mnot\u001b[39;00m pick_object(s, \u001b[38;5;124m'\u001b[39m\u001b[38;5;124mcup\u001b[39m\u001b[38;5;124m'\u001b[39m): \u001b[38;5;28;01mraise\u001b[39;00m \u001b[38;5;167;01mException\u001b[39;00m(\u001b[38;5;124m\"\u001b[39m\u001b[38;5;124mNot successfull\u001b[39m\u001b[38;5;124m\"\u001b[39m)\n",
      "Input \u001b[0;32mIn [8]\u001b[0m, in \u001b[0;36mpick_object\u001b[0;34m(s, object_name)\u001b[0m\n\u001b[1;32m     10\u001b[0m cop\u001b[38;5;241m.\u001b[39mgo_to_pose(Pose(Point(\u001b[38;5;241m*\u001b[39mpos), Quaternion(\u001b[38;5;241m0\u001b[39m,\u001b[38;5;241m1\u001b[39m,\u001b[38;5;241m0\u001b[39m,\u001b[38;5;241m0\u001b[39m)))\n\u001b[1;32m     11\u001b[0m \u001b[38;5;28;01mif\u001b[39;00m \u001b[38;5;28mbool\u001b[39m(\u001b[38;5;28minput\u001b[39m(\u001b[38;5;124m\"\u001b[39m\u001b[38;5;124m3/4, enter to continue, anystr else to abort!\u001b[39m\u001b[38;5;124m\"\u001b[39m)): \u001b[38;5;28;01mreturn\u001b[39;00m \u001b[38;5;28;01mFalse\u001b[39;00m\n\u001b[0;32m---> 12\u001b[0m \u001b[43mcop\u001b[49m\u001b[38;5;241;43m.\u001b[39;49m\u001b[43mpick_object\u001b[49m\u001b[43m(\u001b[49m\u001b[43mobject_name\u001b[49m\u001b[43m)\u001b[49m\n\u001b[1;32m     13\u001b[0m \u001b[38;5;28;01mif\u001b[39;00m \u001b[38;5;28mbool\u001b[39m(\u001b[38;5;28minput\u001b[39m(\u001b[38;5;124m\"\u001b[39m\u001b[38;5;124m4/4, enter to continue, anystr else to abort!\u001b[39m\u001b[38;5;124m\"\u001b[39m)): \u001b[38;5;28;01mreturn\u001b[39;00m \u001b[38;5;28;01mFalse\u001b[39;00m\n\u001b[1;32m     15\u001b[0m \u001b[38;5;28;01mreturn\u001b[39;00m \u001b[38;5;28;01mTrue\u001b[39;00m\n",
      "File \u001b[0;32m~/my_ws/src/mirracle_sim/src/coppelia_sim_ros_client.py:137\u001b[0m, in \u001b[0;36mCoppeliaROSInterface.pick_object\u001b[0;34m(object)\u001b[0m\n\u001b[1;32m    135\u001b[0m \u001b[38;5;129m@staticmethod\u001b[39m\n\u001b[1;32m    136\u001b[0m \u001b[38;5;28;01mdef\u001b[39;00m \u001b[38;5;21mpick_object\u001b[39m(\u001b[38;5;28mobject\u001b[39m):\n\u001b[0;32m--> 137\u001b[0m     \u001b[43mCoppeliaROSInterface\u001b[49m\u001b[38;5;241;43m.\u001b[39;49m\u001b[43mset_gripper\u001b[49m\u001b[43m(\u001b[49m\u001b[43mposition\u001b[49m\u001b[38;5;241;43m=\u001b[39;49m\u001b[38;5;241;43m0.0\u001b[39;49m\u001b[43m,\u001b[49m\u001b[43m \u001b[49m\u001b[43maction\u001b[49m\u001b[38;5;241;43m=\u001b[39;49m\u001b[38;5;124;43m'\u001b[39;49m\u001b[38;5;124;43mgrasp\u001b[39;49m\u001b[38;5;124;43m'\u001b[39;49m\u001b[43m,\u001b[49m\u001b[43m \u001b[49m\u001b[38;5;28;43mobject\u001b[39;49m\u001b[38;5;241;43m=\u001b[39;49m\u001b[38;5;28;43mobject\u001b[39;49m\u001b[43m)\u001b[49m\n",
      "File \u001b[0;32m~/my_ws/src/mirracle_sim/src/coppelia_sim_ros_client.py:165\u001b[0m, in \u001b[0;36mCoppeliaROSInterface.set_gripper\u001b[0;34m(position, effort, eef_rot, action, object)\u001b[0m\n\u001b[1;32m    163\u001b[0m \u001b[38;5;28;01mtry\u001b[39;00m:\n\u001b[1;32m    164\u001b[0m     gripper_control \u001b[38;5;241m=\u001b[39m rospy\u001b[38;5;241m.\u001b[39mServiceProxy(\u001b[38;5;124m'\u001b[39m\u001b[38;5;124mgripper_control\u001b[39m\u001b[38;5;124m'\u001b[39m, GripperControl)\n\u001b[0;32m--> 165\u001b[0m     response \u001b[38;5;241m=\u001b[39m \u001b[43mgripper_control\u001b[49m\u001b[43m(\u001b[49m\u001b[43mposition\u001b[49m\u001b[43m,\u001b[49m\u001b[43m \u001b[49m\u001b[43meffort\u001b[49m\u001b[43m,\u001b[49m\u001b[43m \u001b[49m\u001b[43maction\u001b[49m\u001b[43m,\u001b[49m\u001b[43m \u001b[49m\u001b[38;5;28;43mobject\u001b[39;49m\u001b[43m,\u001b[49m\u001b[43m \u001b[49m\u001b[43meef_rot\u001b[49m\u001b[43m)\u001b[49m\n\u001b[1;32m    166\u001b[0m     response \u001b[38;5;241m=\u001b[39m gripper_control(position, effort, action, \u001b[38;5;28mobject\u001b[39m, eef_rot)\n\u001b[1;32m    167\u001b[0m     \u001b[38;5;28;01mreturn\u001b[39;00m response\n",
      "File \u001b[0;32m~/anaconda3/envs/robostackenv/lib/python3.8/site-packages/rospy/impl/tcpros_service.py:442\u001b[0m, in \u001b[0;36mServiceProxy.__call__\u001b[0;34m(self, *args, **kwds)\u001b[0m\n\u001b[1;32m    428\u001b[0m \u001b[38;5;28;01mdef\u001b[39;00m \u001b[38;5;21m__call__\u001b[39m(\u001b[38;5;28mself\u001b[39m, \u001b[38;5;241m*\u001b[39margs, \u001b[38;5;241m*\u001b[39m\u001b[38;5;241m*\u001b[39mkwds):\n\u001b[1;32m    429\u001b[0m     \u001b[38;5;124;03m\"\"\"\u001b[39;00m\n\u001b[1;32m    430\u001b[0m \u001b[38;5;124;03m    Callable-style version of the service API. This accepts either a request message instance,\u001b[39;00m\n\u001b[1;32m    431\u001b[0m \u001b[38;5;124;03m    or you can call directly with arguments to create a new request instance. e.g.::\u001b[39;00m\n\u001b[0;32m   (...)\u001b[0m\n\u001b[1;32m    440\u001b[0m \u001b[38;5;124;03m    message. This is usually a type error with one of the fields.\u001b[39;00m\n\u001b[1;32m    441\u001b[0m \u001b[38;5;124;03m    \"\"\"\u001b[39;00m\n\u001b[0;32m--> 442\u001b[0m     \u001b[38;5;28;01mreturn\u001b[39;00m \u001b[38;5;28;43mself\u001b[39;49m\u001b[38;5;241;43m.\u001b[39;49m\u001b[43mcall\u001b[49m\u001b[43m(\u001b[49m\u001b[38;5;241;43m*\u001b[39;49m\u001b[43margs\u001b[49m\u001b[43m,\u001b[49m\u001b[43m \u001b[49m\u001b[38;5;241;43m*\u001b[39;49m\u001b[38;5;241;43m*\u001b[39;49m\u001b[43mkwds\u001b[49m\u001b[43m)\u001b[49m\n",
      "File \u001b[0;32m~/anaconda3/envs/robostackenv/lib/python3.8/site-packages/rospy/impl/tcpros_service.py:522\u001b[0m, in \u001b[0;36mServiceProxy.call\u001b[0;34m(self, *args, **kwds)\u001b[0m\n\u001b[1;32m    519\u001b[0m transport\u001b[38;5;241m.\u001b[39msend_message(request, \u001b[38;5;28mself\u001b[39m\u001b[38;5;241m.\u001b[39mseq)\n\u001b[1;32m    521\u001b[0m \u001b[38;5;28;01mtry\u001b[39;00m:\n\u001b[0;32m--> 522\u001b[0m     responses \u001b[38;5;241m=\u001b[39m \u001b[43mtransport\u001b[49m\u001b[38;5;241;43m.\u001b[39;49m\u001b[43mreceive_once\u001b[49m\u001b[43m(\u001b[49m\u001b[43m)\u001b[49m\n\u001b[1;32m    523\u001b[0m     \u001b[38;5;28;01mif\u001b[39;00m \u001b[38;5;28mlen\u001b[39m(responses) \u001b[38;5;241m==\u001b[39m \u001b[38;5;241m0\u001b[39m:\n\u001b[1;32m    524\u001b[0m         \u001b[38;5;28;01mraise\u001b[39;00m ServiceException(\u001b[38;5;124m\"\u001b[39m\u001b[38;5;124mservice [\u001b[39m\u001b[38;5;132;01m%s\u001b[39;00m\u001b[38;5;124m] returned no response\u001b[39m\u001b[38;5;124m\"\u001b[39m\u001b[38;5;241m%\u001b[39m\u001b[38;5;28mself\u001b[39m\u001b[38;5;241m.\u001b[39mresolved_name)\n",
      "File \u001b[0;32m~/anaconda3/envs/robostackenv/lib/python3.8/site-packages/rospy/impl/tcpros_base.py:737\u001b[0m, in \u001b[0;36mTCPROSTransport.receive_once\u001b[0;34m(self)\u001b[0m\n\u001b[1;32m    735\u001b[0m         p\u001b[38;5;241m.\u001b[39mread_messages(b, msg_queue, sock) \n\u001b[1;32m    736\u001b[0m     \u001b[38;5;28;01mif\u001b[39;00m \u001b[38;5;129;01mnot\u001b[39;00m msg_queue:\n\u001b[0;32m--> 737\u001b[0m         \u001b[38;5;28mself\u001b[39m\u001b[38;5;241m.\u001b[39mstat_bytes \u001b[38;5;241m+\u001b[39m\u001b[38;5;241m=\u001b[39m \u001b[43mrecv_buff\u001b[49m\u001b[43m(\u001b[49m\u001b[43msock\u001b[49m\u001b[43m,\u001b[49m\u001b[43m \u001b[49m\u001b[43mb\u001b[49m\u001b[43m,\u001b[49m\u001b[43m \u001b[49m\u001b[43mp\u001b[49m\u001b[38;5;241;43m.\u001b[39;49m\u001b[43mbuff_size\u001b[49m\u001b[43m)\u001b[49m\n\u001b[1;32m    738\u001b[0m \u001b[38;5;28mself\u001b[39m\u001b[38;5;241m.\u001b[39mstat_num_msg \u001b[38;5;241m+\u001b[39m\u001b[38;5;241m=\u001b[39m \u001b[38;5;28mlen\u001b[39m(msg_queue) \u001b[38;5;66;03m#STATS\u001b[39;00m\n\u001b[1;32m    739\u001b[0m \u001b[38;5;66;03m# set the _connection_header field\u001b[39;00m\n",
      "File \u001b[0;32m~/anaconda3/envs/robostackenv/lib/python3.8/site-packages/rospy/impl/tcpros_base.py:104\u001b[0m, in \u001b[0;36mrecv_buff\u001b[0;34m(sock, b, buff_size)\u001b[0m\n\u001b[1;32m     92\u001b[0m \u001b[38;5;28;01mdef\u001b[39;00m \u001b[38;5;21mrecv_buff\u001b[39m(sock, b, buff_size):\n\u001b[1;32m     93\u001b[0m     \u001b[38;5;124;03m\"\"\"\u001b[39;00m\n\u001b[1;32m     94\u001b[0m \u001b[38;5;124;03m    Read data from socket into buffer.\u001b[39;00m\n\u001b[1;32m     95\u001b[0m \u001b[38;5;124;03m    @param sock: socket to read from\u001b[39;00m\n\u001b[0;32m   (...)\u001b[0m\n\u001b[1;32m    102\u001b[0m \u001b[38;5;124;03m    @rtype: int\u001b[39;00m\n\u001b[1;32m    103\u001b[0m \u001b[38;5;124;03m    \"\"\"\u001b[39;00m\n\u001b[0;32m--> 104\u001b[0m     d \u001b[38;5;241m=\u001b[39m \u001b[43msock\u001b[49m\u001b[38;5;241;43m.\u001b[39;49m\u001b[43mrecv\u001b[49m\u001b[43m(\u001b[49m\u001b[43mbuff_size\u001b[49m\u001b[43m)\u001b[49m\n\u001b[1;32m    105\u001b[0m     \u001b[38;5;28;01mif\u001b[39;00m d:\n\u001b[1;32m    106\u001b[0m         b\u001b[38;5;241m.\u001b[39mwrite(d)\n",
      "\u001b[0;31mKeyboardInterrupt\u001b[0m: "
     ]
    }
   ],
   "source": [
    "if not pick_object(s, 'cup'): raise Exception(\"Not successfull\")"
   ]
  },
  {
   "cell_type": "code",
   "execution_count": 8,
   "id": "eab1ccbf",
   "metadata": {},
   "outputs": [
    {
     "ename": "NameError",
     "evalue": "name 'cup' is not defined",
     "output_type": "error",
     "traceback": [
      "\u001b[0;31m---------------------------------------------------------------------------\u001b[0m",
      "\u001b[0;31mNameError\u001b[0m                                 Traceback (most recent call last)",
      "Input \u001b[0;32mIn [8]\u001b[0m, in \u001b[0;36m<module>\u001b[0;34m\u001b[0m\n\u001b[0;32m----> 1\u001b[0m pick_object(s, \u001b[43mcup\u001b[49m)\n",
      "\u001b[0;31mNameError\u001b[0m: name 'cup' is not defined"
     ]
    }
   ],
   "source": [
    "if not Actions.do(s, ('pick_up', 'cup'), ignore_location=True): raise Exception(\"Not successfull\")"
   ]
  },
  {
   "cell_type": "code",
   "execution_count": 25,
   "id": "834d02b7",
   "metadata": {},
   "outputs": [],
   "source": [
    "reset__not_general()"
   ]
  },
  {
   "cell_type": "markdown",
   "id": "317ceba7",
   "metadata": {},
   "source": [
    "Functions of each intent\n",
    "- Might be moved to separate file"
   ]
  },
  {
   "cell_type": "code",
   "execution_count": 8,
   "id": "05ea2184",
   "metadata": {},
   "outputs": [],
   "source": [
    "def pick_object(s, object_name):\n",
    "    pos = getattr(s, object_name).position_real()\n",
    "    pos_upper = deepcopy(pos)\n",
    "    pos_upper[2] += 0.1\n",
    "\n",
    "    cop.open_gripper()\n",
    "    if bool(input(\"1/4, enter to continue, anystr else to abort!\")): return False\n",
    "    cop.go_to_pose(Pose(Point(*pos_upper), Quaternion(0,1,0,0)))\n",
    "    if bool(input(\"2/4, enter to continue, anystr else to abort!\")): return False \n",
    "    cop.go_to_pose(Pose(Point(*pos), Quaternion(0,1,0,0)))\n",
    "    if bool(input(\"3/4, enter to continue, anystr else to abort!\")): return False\n",
    "    cop.pick_object(object_name)\n",
    "    if bool(input(\"4/4, enter to continue, anystr else to abort!\")): return False\n",
    "    \n",
    "    return True\n",
    "\n",
    "def put(s, object_name):\n",
    "    pos = getattr(s, object_name).position_real()\n",
    "\n",
    "    def get_pose_of_action_put(pos):\n",
    "        o = getattr(s, object_name)\n",
    "        if o.type == 'drawer':\n",
    "            raise Exception(\"TODO\")\n",
    "        elif o.type == 'object':\n",
    "            ret = o.position_real()\n",
    "            ret[2] += o.size\n",
    "            return ret\n",
    "        else: raise Exception(\"put to wrong type of object\")\n",
    "\n",
    "    pos_release = get_pose_of_action_put(pos)\n",
    "    pos_release_upper = deepcopy(pos_release)\n",
    "    pos_release_upper[2] += 0.3\n",
    "\n",
    "    cop.go_to_pose(Pose(Point(*pos_release_upper), Quaternion(0,1,0,0)))\n",
    "    if bool(input(\"1/4, enter to continue, anystr else to abort!\")): return False\n",
    "    cop.go_to_pose(Pose(Point(*pos_release), Quaternion(0,1,0,0)))\n",
    "    if bool(input(\"2/4, enter to continue, anystr else to abort!\")): return False\n",
    "    cop.release_object()\n",
    "    if bool(input(\"3/4, enter to continue, anystr else to abort!\")): return False\n",
    "    cop.go_to_pose(Pose(Point(*pos_release_upper), Quaternion(0,1,0,0)))\n",
    "    if bool(input(\"4/4, enter to continue, anystr else to abort!\")): return False\n",
    "\n",
    "    return True\n",
    "\n",
    "def open(s, object_name):\n",
    "    pos = getattr(s, object_name).position_real()   \n",
    "\n",
    "    \n",
    "def reset__not_general():\n",
    "    sci.remove_objects_from_scene()\n",
    "    cop.open_gripper()\n",
    "    cop.go_to_pose(Pose(Point(0.5,0.,0.5), Quaternion(0,1,0,0)))\n"
   ]
  },
  {
   "cell_type": "markdown",
   "id": "b89b90e1",
   "metadata": {},
   "source": [
    "# Ex.1: Robot pickup cube and put it to the drawer"
   ]
  },
  {
   "cell_type": "code",
   "execution_count": 14,
   "id": "cc38be88",
   "metadata": {},
   "outputs": [
    {
     "data": {
      "text/plain": [
       "array([ 0.471 , -0.1   ,  0.1168])"
      ]
     },
     "execution_count": 14,
     "metadata": {},
     "output_type": "execute_result"
    }
   ],
   "source": [
    "def drawer_base_to_handle_position(position):\n",
    "    position[2] -= (0.15 - 0.1068)\n",
    "    position[0] -= 0.129\n",
    "    return position\n",
    "position_of_handle = drawer_base_to_handle_position(position)\n",
    "\n",
    "cop.open_gripper()\n",
    "if bool(input(\"1/4, enter to continue, anystr else to abort!\")): return False\n",
    "cop.go_to_pose(Pose(Point(*position_of_handle), Quaternion(0,1,0,0)))\n",
    "if bool(input(\"2/4, enter to continue, anystr else to abort!\")): return False \n",
    "cop.go_to_pose(Pose(Point(*pos), Quaternion(0,1,0,0)))\n",
    "if bool(input(\"3/4, enter to continue, anystr else to abort!\")): return False\n",
    "cop.pick_object(object_name)\n",
    "if bool(input(\"4/4, enter to continue, anystr else to abort!\")): return False\n",
    "\n"
   ]
  },
  {
   "cell_type": "code",
   "execution_count": null,
   "id": "46560164",
   "metadata": {},
   "outputs": [],
   "source": []
  },
  {
   "cell_type": "code",
   "execution_count": 59,
   "id": "c406eb9a",
   "metadata": {},
   "outputs": [],
   "source": [
    "pose = Pose(Point(0.6,0.0,0.4), Quaternion(-0.5,-0.5,0.5,0.5))"
   ]
  },
  {
   "cell_type": "code",
   "execution_count": 60,
   "id": "0d89f938",
   "metadata": {},
   "outputs": [],
   "source": [
    "cop.go_to_pose(pose)"
   ]
  },
  {
   "cell_type": "code",
   "execution_count": 12,
   "id": "fb6b5a00",
   "metadata": {},
   "outputs": [],
   "source": [
    "pose = Pose(Point(0.5,0.0,0.5), Quaternion(0.0,1.0,0.0,0.0))"
   ]
  },
  {
   "cell_type": "code",
   "execution_count": 8,
   "id": "7b0900e8",
   "metadata": {},
   "outputs": [
    {
     "name": "stdout",
     "output_type": "stream",
     "text": [
      "Service call failed: transport error completing service call: unable to receive data from sender, check sender's logs for details\n"
     ]
    },
    {
     "name": "stderr",
     "output_type": "stream",
     "text": [
      "[WARN] [1663162964.595768]: wait_for_service(/remove_object): failed to contact, will keep trying\n",
      "[WARN] [1663162974.616545]: wait_for_service(/remove_object): failed to contact, will keep trying\n",
      "[WARN] [1663162984.626531]: wait_for_service(/remove_object): failed to contact, will keep trying\n"
     ]
    },
    {
     "ename": "KeyboardInterrupt",
     "evalue": "",
     "output_type": "error",
     "traceback": [
      "\u001b[0;31m---------------------------------------------------------------------------\u001b[0m",
      "\u001b[0;31mKeyboardInterrupt\u001b[0m                         Traceback (most recent call last)",
      "Input \u001b[0;32mIn [8]\u001b[0m, in \u001b[0;36m<module>\u001b[0;34m\u001b[0m\n\u001b[0;32m----> 1\u001b[0m \u001b[43mreset__not_general\u001b[49m\u001b[43m(\u001b[49m\u001b[43m)\u001b[49m\n",
      "Input \u001b[0;32mIn [7]\u001b[0m, in \u001b[0;36mreset__not_general\u001b[0;34m()\u001b[0m\n\u001b[1;32m     49\u001b[0m \u001b[38;5;28;01mdef\u001b[39;00m \u001b[38;5;21mreset__not_general\u001b[39m():\n\u001b[0;32m---> 50\u001b[0m     \u001b[43msci\u001b[49m\u001b[38;5;241;43m.\u001b[39;49m\u001b[43mremove_objects_from_scene\u001b[49m\u001b[43m(\u001b[49m\u001b[43m)\u001b[49m\n\u001b[1;32m     51\u001b[0m     cop\u001b[38;5;241m.\u001b[39mopen_gripper()\n\u001b[1;32m     52\u001b[0m     cop\u001b[38;5;241m.\u001b[39mgo_to_pose(Pose(Point(\u001b[38;5;241m0.5\u001b[39m,\u001b[38;5;241m0.\u001b[39m,\u001b[38;5;241m0.5\u001b[39m), Quaternion(\u001b[38;5;241m0\u001b[39m,\u001b[38;5;241m1\u001b[39m,\u001b[38;5;241m0\u001b[39m,\u001b[38;5;241m0\u001b[39m)))\n",
      "File \u001b[0;32m~/intent_estimation_via_gestures/submodules/Scenes.py:509\u001b[0m, in \u001b[0;36mremove_objects_from_scene\u001b[0;34m(self)\u001b[0m\n\u001b[1;32m    507\u001b[0m     \u001b[38;5;28mself\u001b[39m\u001b[38;5;241m.\u001b[39minterface_handle\u001b[38;5;241m.\u001b[39madd_or_edit_object(name\u001b[38;5;241m=\u001b[39mo\u001b[38;5;241m.\u001b[39mname, frame_id\u001b[38;5;241m=\u001b[39m\u001b[38;5;124m'\u001b[39m\u001b[38;5;124mpanda_link0\u001b[39m\u001b[38;5;124m'\u001b[39m, size\u001b[38;5;241m=\u001b[39mo\u001b[38;5;241m.\u001b[39msize, color\u001b[38;5;241m=\u001b[39mo\u001b[38;5;241m.\u001b[39mcolor, pose\u001b[38;5;241m=\u001b[39m[\u001b[38;5;241m1.0\u001b[39m,\u001b[38;5;241m1.0\u001b[39m,\u001b[38;5;241m-\u001b[39m\u001b[38;5;241m0.5\u001b[39m], object_state\u001b[38;5;241m=\u001b[39mo\u001b[38;5;241m.\u001b[39mopened_str)\n\u001b[1;32m    508\u001b[0m \u001b[38;5;28;01melif\u001b[39;00m o\u001b[38;5;241m.\u001b[39mtype \u001b[38;5;241m==\u001b[39m \u001b[38;5;124m'\u001b[39m\u001b[38;5;124mdrawer\u001b[39m\u001b[38;5;124m'\u001b[39m \u001b[38;5;129;01mand\u001b[39;00m o\u001b[38;5;241m.\u001b[39mname \u001b[38;5;241m==\u001b[39m \u001b[38;5;124m'\u001b[39m\u001b[38;5;124mdrawer1\u001b[39m\u001b[38;5;124m'\u001b[39m:\n\u001b[0;32m--> 509\u001b[0m     \u001b[38;5;28mself\u001b[39m\u001b[38;5;241m.\u001b[39minterface_handle\u001b[38;5;241m.\u001b[39madd_or_edit_object(name\u001b[38;5;241m=\u001b[39mo\u001b[38;5;241m.\u001b[39mname, frame_id\u001b[38;5;241m=\u001b[39m\u001b[38;5;124m'\u001b[39m\u001b[38;5;124mpanda_link0\u001b[39m\u001b[38;5;124m'\u001b[39m, size\u001b[38;5;241m=\u001b[39mo\u001b[38;5;241m.\u001b[39msize, color\u001b[38;5;241m=\u001b[39mo\u001b[38;5;241m.\u001b[39mcolor, pose\u001b[38;5;241m=\u001b[39m[\u001b[38;5;241m1.0\u001b[39m,\u001b[38;5;241m-\u001b[39m\u001b[38;5;241m0.0\u001b[39m,\u001b[38;5;241m0.5\u001b[39m])\n\u001b[1;32m    510\u001b[0m \u001b[38;5;28;01melse\u001b[39;00m:\n\u001b[1;32m    511\u001b[0m     \u001b[38;5;28mself\u001b[39m\u001b[38;5;241m.\u001b[39minterface_handle\u001b[38;5;241m.\u001b[39mremove_object(name\u001b[38;5;241m=\u001b[39mo\u001b[38;5;241m.\u001b[39mname)\n",
      "File \u001b[0;32m~/my_ws/src/mirracle_sim/src/coppelia_sim_ros_client.py:243\u001b[0m, in \u001b[0;36mCoppeliaROSInterface.remove_object\u001b[0;34m(name)\u001b[0m\n\u001b[1;32m    235\u001b[0m \u001b[38;5;129m@staticmethod\u001b[39m\n\u001b[1;32m    236\u001b[0m \u001b[38;5;28;01mdef\u001b[39;00m \u001b[38;5;21mremove_object\u001b[39m(name\u001b[38;5;241m=\u001b[39m\u001b[38;5;28;01mNone\u001b[39;00m):\n\u001b[1;32m    237\u001b[0m     \u001b[38;5;124;03m''' Removing Objects from the Scene\u001b[39;00m\n\u001b[1;32m    238\u001b[0m \u001b[38;5;124;03m    Parameters:\u001b[39;00m\n\u001b[1;32m    239\u001b[0m \u001b[38;5;124;03m        name (Str): Name of object to remove\u001b[39;00m\n\u001b[1;32m    240\u001b[0m \u001b[38;5;124;03m    Returns:\u001b[39;00m\n\u001b[1;32m    241\u001b[0m \u001b[38;5;124;03m        success (Bool)\u001b[39;00m\n\u001b[1;32m    242\u001b[0m \u001b[38;5;124;03m    '''\u001b[39;00m\n\u001b[0;32m--> 243\u001b[0m     \u001b[43mrospy\u001b[49m\u001b[38;5;241;43m.\u001b[39;49m\u001b[43mwait_for_service\u001b[49m\u001b[43m(\u001b[49m\u001b[38;5;124;43m'\u001b[39;49m\u001b[38;5;124;43mremove_object\u001b[39;49m\u001b[38;5;124;43m'\u001b[39;49m\u001b[43m)\u001b[49m\n\u001b[1;32m    244\u001b[0m     \u001b[38;5;28;01mtry\u001b[39;00m:\n\u001b[1;32m    245\u001b[0m         remove_object \u001b[38;5;241m=\u001b[39m rospy\u001b[38;5;241m.\u001b[39mServiceProxy(\u001b[38;5;124m'\u001b[39m\u001b[38;5;124mremove_object\u001b[39m\u001b[38;5;124m'\u001b[39m, RemoveObject)\n",
      "File \u001b[0;32m~/anaconda3/envs/robostackenv/lib/python3.8/site-packages/rospy/impl/tcpros_service.py:164\u001b[0m, in \u001b[0;36mwait_for_service\u001b[0;34m(service, timeout)\u001b[0m\n\u001b[1;32m    162\u001b[0m         contact_failed \u001b[38;5;241m=\u001b[39m \u001b[38;5;28;01mTrue\u001b[39;00m\n\u001b[1;32m    163\u001b[0m         rospy\u001b[38;5;241m.\u001b[39mcore\u001b[38;5;241m.\u001b[39mlogwarn_throttle(\u001b[38;5;241m10\u001b[39m, \u001b[38;5;124m\"\u001b[39m\u001b[38;5;124mwait_for_service(\u001b[39m\u001b[38;5;132;01m%s\u001b[39;00m\u001b[38;5;124m): failed to contact, will keep trying\u001b[39m\u001b[38;5;124m\"\u001b[39m\u001b[38;5;241m%\u001b[39mresolved_name)\n\u001b[0;32m--> 164\u001b[0m     \u001b[43mtime\u001b[49m\u001b[38;5;241;43m.\u001b[39;49m\u001b[43msleep\u001b[49m\u001b[43m(\u001b[49m\u001b[38;5;241;43m0.3\u001b[39;49m\u001b[43m)\u001b[49m\n\u001b[1;32m    165\u001b[0m \u001b[38;5;28;01mif\u001b[39;00m rospy\u001b[38;5;241m.\u001b[39mcore\u001b[38;5;241m.\u001b[39mis_shutdown():\n\u001b[1;32m    166\u001b[0m     \u001b[38;5;28;01mraise\u001b[39;00m ROSInterruptException(\u001b[38;5;124m\"\u001b[39m\u001b[38;5;124mrospy shutdown\u001b[39m\u001b[38;5;124m\"\u001b[39m)\n",
      "\u001b[0;31mKeyboardInterrupt\u001b[0m: "
     ]
    }
   ],
   "source": [
    "reset__not_general()"
   ]
  },
  {
   "cell_type": "code",
   "execution_count": 6,
   "id": "823ecc52",
   "metadata": {},
   "outputs": [
    {
     "name": "stderr",
     "output_type": "stream",
     "text": [
      "[WARN] [1662907645.916926]: Inbound TCP/IP connection failed: connection from sender terminated before handshake header received. 0 bytes were received. Please check sender for additional details.\n"
     ]
    }
   ],
   "source": [
    "s = Scene(init='cup,object')\n",
    "sci.new_scene(s)"
   ]
  },
  {
   "cell_type": "code",
   "execution_count": null,
   "id": "6409b0a1",
   "metadata": {},
   "outputs": [
    {
     "name": "stdout",
     "output_type": "stream",
     "text": [
      "1/4, enter to continue, anystr else to abort!\n"
     ]
    }
   ],
   "source": [
    "if not pick_object(s, 'cup'): raise Exception(\"Not successfull\")\n",
    "if not Actions.do(s, ('pick_up', 'cup'), ignore_location=True): raise Exception(\"Not successfull\")\n",
    "if not put(s, 'object'): raise Exception(\"Not successfull\")\n",
    "if not Actions.do(s, ('put', 'object'), ignore_location=True): raise Exception(\"Not successfull\")"
   ]
  },
  {
   "cell_type": "code",
   "execution_count": 58,
   "id": "27695e4d",
   "metadata": {},
   "outputs": [],
   "source": [
    "r = Actions.do(s, ('pick_up', 'cup'), ignore_location=True)"
   ]
  },
  {
   "cell_type": "code",
   "execution_count": 19,
   "id": "c84e3439",
   "metadata": {},
   "outputs": [
    {
     "data": {
      "text/plain": [
       "Scene info. shape: [4, 4, 4]\n",
       "cup,\tcup,\t[2 1 0], empty,\t|| object [cup] >>\n",
       "object,\tobject,\t[3 3 0],\t|| [object] cup >>\n",
       "Robot: [0 3 3], opened, rotation: 1, attached: -"
      ]
     },
     "execution_count": 19,
     "metadata": {},
     "output_type": "execute_result"
    }
   ],
   "source": [
    "s"
   ]
  },
  {
   "cell_type": "code",
   "execution_count": 60,
   "id": "6915e6b5",
   "metadata": {},
   "outputs": [
    {
     "data": {
      "text/plain": [
       "[('put', 'object')]"
      ]
     },
     "execution_count": 60,
     "metadata": {},
     "output_type": "execute_result"
    }
   ],
   "source": [
    "Actions.get_possible_actions(s, ignore_location=True)"
   ]
  },
  {
   "cell_type": "code",
   "execution_count": 15,
   "id": "c209970b",
   "metadata": {},
   "outputs": [
    {
     "name": "stdout",
     "output_type": "stream",
     "text": [
      "Scene info. shape: [4, 4, 4]\n",
      "cup,\tcup,\t[3 1 0], full,\t|| object [cup] >>\n",
      "object,\tobject,\t[3 0 0],\t|| [object] cup >>\n",
      "Robot: [0 2 3], closed, rotation: 0, attached: -\n"
     ]
    }
   ],
   "source": [
    "s.info"
   ]
  },
  {
   "cell_type": "code",
   "execution_count": 22,
   "id": "88fdae8c",
   "metadata": {},
   "outputs": [
    {
     "name": "stdout",
     "output_type": "stream",
     "text": [
      "asd\n"
     ]
    },
    {
     "data": {
      "text/plain": [
       "False"
      ]
     },
     "execution_count": 22,
     "metadata": {},
     "output_type": "execute_result"
    }
   ],
   "source": [
    "bool(input(\"asd\"))"
   ]
  }
 ],
 "metadata": {
  "kernelspec": {
   "display_name": "robostackenv",
   "language": "python",
   "name": "myenv"
  },
  "language_info": {
   "codemirror_mode": {
    "name": "ipython",
    "version": 3
   },
   "file_extension": ".py",
   "mimetype": "text/x-python",
   "name": "python",
   "nbconvert_exporter": "python",
   "pygments_lexer": "ipython3",
   "version": "3.8.10"
  }
 },
 "nbformat": 4,
 "nbformat_minor": 5
}
