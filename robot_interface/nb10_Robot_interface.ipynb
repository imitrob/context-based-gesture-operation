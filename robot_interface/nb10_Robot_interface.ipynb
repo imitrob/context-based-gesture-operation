{
 "cells": [
  {
   "cell_type": "markdown",
   "id": "49e3b78a",
   "metadata": {},
   "source": [
    "Intent estimation import"
   ]
  },
  {
   "cell_type": "code",
   "execution_count": 1,
   "id": "af86ef8c",
   "metadata": {},
   "outputs": [],
   "source": [
    "import sys\n",
    "sys.path.append(\"/home/petr/intent_estimation_via_gestures/submodules\")\n",
    "sys.path.append(\"/home/petr/intent_estimation_via_gestures\")\n",
    "from Scenes import Scene, SceneCoppeliaInterface\n",
    "from Actions import Actions\n",
    "from copy import deepcopy"
   ]
  },
  {
   "cell_type": "markdown",
   "id": "accc8750",
   "metadata": {},
   "source": [
    "Teleop gesture toolbox import (gestures and simulator)"
   ]
  },
  {
   "cell_type": "code",
   "execution_count": 2,
   "id": "8f38fe47",
   "metadata": {},
   "outputs": [],
   "source": [
    "sys.path.append(\"/home/petr/my_ws/src/mirracle_sim/src\")\n",
    "from coppelia_sim_ros_client import CoppeliaROSInterface\n",
    "\n",
    "import rospy\n",
    "rospy.init_node(\"main\", anonymous=True)\n",
    "\n",
    "cop = CoppeliaROSInterface()\n",
    "from geometry_msgs.msg import Point, Pose, Quaternion"
   ]
  },
  {
   "cell_type": "code",
   "execution_count": 3,
   "id": "fd555c02",
   "metadata": {},
   "outputs": [],
   "source": [
    "sci = SceneCoppeliaInterface(cop)"
   ]
  },
  {
   "cell_type": "markdown",
   "id": "317ceba7",
   "metadata": {},
   "source": [
    "Functions of each intent\n",
    "- Might be moved to separate file"
   ]
  },
  {
   "cell_type": "code",
   "execution_count": 4,
   "id": "05ea2184",
   "metadata": {},
   "outputs": [],
   "source": [
    "def pick_object(s, object_name):\n",
    "    pos = getattr(s, object_name).position_real()\n",
    "    pos_upper = deepcopy(pos)\n",
    "    pos_upper[2] += 0.1\n",
    "\n",
    "    cop.open_gripper()\n",
    "    if bool(input(\"1/4, enter to continue, anystr else to abort!\")): return False\n",
    "    cop.go_to_pose(Pose(Point(*pos_upper), Quaternion(0,1,0,0)))\n",
    "    if bool(input(\"2/4, enter to continue, anystr else to abort!\")): return False \n",
    "    cop.go_to_pose(Pose(Point(*pos), Quaternion(0,1,0,0)))\n",
    "    if bool(input(\"3/4, enter to continue, anystr else to abort!\")): return False\n",
    "    cop.pick_object(object_name)\n",
    "    if bool(input(\"4/4, enter to continue, anystr else to abort!\")): return False\n",
    "    \n",
    "    return True\n",
    "\n",
    "def put(s, object_name):\n",
    "    pos = getattr(s, object_name).position_real()\n",
    "\n",
    "    def get_pose_of_action_put(pos):\n",
    "        o = getattr(s, object_name)\n",
    "        if o.type == 'drawer':\n",
    "            raise Exception(\"TODO\")\n",
    "        elif o.type == 'object':\n",
    "            ret = o.position_real()\n",
    "            ret[2] += o.size\n",
    "            return ret\n",
    "        else: raise Exception(\"put to wrong type of object\")\n",
    "\n",
    "    pos_release = get_pose_of_action_put(pos)\n",
    "    pos_release_upper = deepcopy(pos_release)\n",
    "    pos_release_upper[2] += 0.3\n",
    "\n",
    "    cop.go_to_pose(Pose(Point(*pos_release_upper), Quaternion(0,1,0,0)))\n",
    "    if bool(input(\"1/4, enter to continue, anystr else to abort!\")): return False\n",
    "    cop.go_to_pose(Pose(Point(*pos_release), Quaternion(0,1,0,0)))\n",
    "    if bool(input(\"2/4, enter to continue, anystr else to abort!\")): return False\n",
    "    cop.release_object()\n",
    "    if bool(input(\"3/4, enter to continue, anystr else to abort!\")): return False\n",
    "    cop.go_to_pose(Pose(Point(*pos_release_upper), Quaternion(0,1,0,0)))\n",
    "    if bool(input(\"4/4, enter to continue, anystr else to abort!\")): return False\n",
    "\n",
    "    return True\n",
    "\n",
    "def open(s, object_name):\n",
    "    pos = getattr(s, object_name).position_real()   \n",
    "\n",
    "    \n",
    "def reset__not_general():\n",
    "    sci.remove_objects_from_scene()\n",
    "    cop.open_gripper()\n",
    "    cop.go_to_pose(Pose(Point(0.5,0.,0.5), Quaternion(0,1,0,0)))\n"
   ]
  },
  {
   "cell_type": "markdown",
   "id": "b89b90e1",
   "metadata": {},
   "source": [
    "# Ex.1: Robot pickup cube and put it to the drawer"
   ]
  },
  {
   "cell_type": "code",
   "execution_count": 5,
   "id": "dd178e99",
   "metadata": {},
   "outputs": [
    {
     "ename": "NameError",
     "evalue": "name 's' is not defined",
     "output_type": "error",
     "traceback": [
      "\u001b[0;31m---------------------------------------------------------------------------\u001b[0m",
      "\u001b[0;31mNameError\u001b[0m                                 Traceback (most recent call last)",
      "Input \u001b[0;32mIn [5]\u001b[0m, in \u001b[0;36m<module>\u001b[0;34m\u001b[0m\n\u001b[0;32m----> 1\u001b[0m position \u001b[38;5;241m=\u001b[39m \u001b[43ms\u001b[49m\u001b[38;5;241m.\u001b[39mdrawer\u001b[38;5;241m.\u001b[39mposition_real()\n",
      "\u001b[0;31mNameError\u001b[0m: name 's' is not defined"
     ]
    }
   ],
   "source": [
    "position = s.drawer.position_real()"
   ]
  },
  {
   "cell_type": "code",
   "execution_count": 13,
   "id": "1157b747",
   "metadata": {},
   "outputs": [
    {
     "data": {
      "text/plain": [
       "array([ 0.6 , -0.1 ,  0.16])"
      ]
     },
     "execution_count": 13,
     "metadata": {},
     "output_type": "execute_result"
    }
   ],
   "source": [
    "position"
   ]
  },
  {
   "cell_type": "code",
   "execution_count": 14,
   "id": "cc38be88",
   "metadata": {},
   "outputs": [
    {
     "data": {
      "text/plain": [
       "array([ 0.471 , -0.1   ,  0.1168])"
      ]
     },
     "execution_count": 14,
     "metadata": {},
     "output_type": "execute_result"
    }
   ],
   "source": [
    "def drawer_base_to_handle_position(position):\n",
    "    position[2] -= (0.15 - 0.1068)\n",
    "    position[0] -= 0.129\n",
    "    return position\n",
    "position_of_handle = drawer_base_to_handle_position(position)\n",
    "\n",
    "cop.open_gripper()\n",
    "if bool(input(\"1/4, enter to continue, anystr else to abort!\")): return False\n",
    "cop.go_to_pose(Pose(Point(*position_of_handle), Quaternion(0,1,0,0)))\n",
    "if bool(input(\"2/4, enter to continue, anystr else to abort!\")): return False \n",
    "cop.go_to_pose(Pose(Point(*pos), Quaternion(0,1,0,0)))\n",
    "if bool(input(\"3/4, enter to continue, anystr else to abort!\")): return False\n",
    "cop.pick_object(object_name)\n",
    "if bool(input(\"4/4, enter to continue, anystr else to abort!\")): return False\n",
    "\n"
   ]
  },
  {
   "cell_type": "code",
   "execution_count": null,
   "id": "46560164",
   "metadata": {},
   "outputs": [],
   "source": []
  },
  {
   "cell_type": "code",
   "execution_count": 59,
   "id": "c406eb9a",
   "metadata": {},
   "outputs": [],
   "source": [
    "pose = Pose(Point(0.6,0.0,0.4), Quaternion(-0.5,-0.5,0.5,0.5))"
   ]
  },
  {
   "cell_type": "code",
   "execution_count": 60,
   "id": "0d89f938",
   "metadata": {},
   "outputs": [],
   "source": [
    "cop.go_to_pose(pose)"
   ]
  },
  {
   "cell_type": "code",
   "execution_count": 12,
   "id": "fb6b5a00",
   "metadata": {},
   "outputs": [],
   "source": [
    "pose = Pose(Point(0.5,0.0,0.5), Quaternion(0.0,1.0,0.0,0.0))"
   ]
  },
  {
   "cell_type": "code",
   "execution_count": 5,
   "id": "7b0900e8",
   "metadata": {},
   "outputs": [],
   "source": [
    "reset__not_general()"
   ]
  },
  {
   "cell_type": "code",
   "execution_count": 6,
   "id": "52329cef",
   "metadata": {},
   "outputs": [],
   "source": [
    "s = Scene(init='drawer,cup,object')\n",
    "sci.new_scene(s)"
   ]
  },
  {
   "cell_type": "code",
   "execution_count": 6,
   "id": "823ecc52",
   "metadata": {},
   "outputs": [
    {
     "name": "stderr",
     "output_type": "stream",
     "text": [
      "[WARN] [1662907645.916926]: Inbound TCP/IP connection failed: connection from sender terminated before handshake header received. 0 bytes were received. Please check sender for additional details.\n"
     ]
    }
   ],
   "source": [
    "s = Scene(init='cup,object')\n",
    "sci.new_scene(s)"
   ]
  },
  {
   "cell_type": "code",
   "execution_count": null,
   "id": "6409b0a1",
   "metadata": {},
   "outputs": [
    {
     "name": "stdout",
     "output_type": "stream",
     "text": [
      "1/4, enter to continue, anystr else to abort!\n"
     ]
    }
   ],
   "source": [
    "if not pick_object(s, 'cup'): raise Exception(\"Not successfull\")\n",
    "if not Actions.do(s, ('pick_up', 'cup'), ignore_location=True): raise Exception(\"Not successfull\")\n",
    "if not put(s, 'object'): raise Exception(\"Not successfull\")\n",
    "if not Actions.do(s, ('put', 'object'), ignore_location=True): raise Exception(\"Not successfull\")"
   ]
  },
  {
   "cell_type": "code",
   "execution_count": 58,
   "id": "27695e4d",
   "metadata": {},
   "outputs": [],
   "source": [
    "r = Actions.do(s, ('pick_up', 'cup'), ignore_location=True)"
   ]
  },
  {
   "cell_type": "code",
   "execution_count": 19,
   "id": "c84e3439",
   "metadata": {},
   "outputs": [
    {
     "data": {
      "text/plain": [
       "Scene info. shape: [4, 4, 4]\n",
       "cup,\tcup,\t[2 1 0], empty,\t|| object [cup] >>\n",
       "object,\tobject,\t[3 3 0],\t|| [object] cup >>\n",
       "Robot: [0 3 3], opened, rotation: 1, attached: -"
      ]
     },
     "execution_count": 19,
     "metadata": {},
     "output_type": "execute_result"
    }
   ],
   "source": [
    "s"
   ]
  },
  {
   "cell_type": "code",
   "execution_count": 60,
   "id": "6915e6b5",
   "metadata": {},
   "outputs": [
    {
     "data": {
      "text/plain": [
       "[('put', 'object')]"
      ]
     },
     "execution_count": 60,
     "metadata": {},
     "output_type": "execute_result"
    }
   ],
   "source": [
    "Actions.get_possible_actions(s, ignore_location=True)"
   ]
  },
  {
   "cell_type": "code",
   "execution_count": 15,
   "id": "c209970b",
   "metadata": {},
   "outputs": [
    {
     "name": "stdout",
     "output_type": "stream",
     "text": [
      "Scene info. shape: [4, 4, 4]\n",
      "cup,\tcup,\t[3 1 0], full,\t|| object [cup] >>\n",
      "object,\tobject,\t[3 0 0],\t|| [object] cup >>\n",
      "Robot: [0 2 3], closed, rotation: 0, attached: -\n"
     ]
    }
   ],
   "source": [
    "s.info"
   ]
  },
  {
   "cell_type": "code",
   "execution_count": 22,
   "id": "88fdae8c",
   "metadata": {},
   "outputs": [
    {
     "name": "stdout",
     "output_type": "stream",
     "text": [
      "asd\n"
     ]
    },
    {
     "data": {
      "text/plain": [
       "False"
      ]
     },
     "execution_count": 22,
     "metadata": {},
     "output_type": "execute_result"
    }
   ],
   "source": [
    "bool(input(\"asd\"))"
   ]
  }
 ],
 "metadata": {
  "kernelspec": {
   "display_name": "robostackenv",
   "language": "python",
   "name": "myenv"
  },
  "language_info": {
   "codemirror_mode": {
    "name": "ipython",
    "version": 3
   },
   "file_extension": ".py",
   "mimetype": "text/x-python",
   "name": "python",
   "nbconvert_exporter": "python",
   "pygments_lexer": "ipython3",
   "version": "3.8.10"
  }
 },
 "nbformat": 4,
 "nbformat_minor": 5
}
