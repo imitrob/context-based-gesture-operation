{
 "cells": [
  {
   "cell_type": "code",
   "execution_count": 1,
   "id": "5c8a7173",
   "metadata": {},
   "outputs": [],
   "source": [
    "from submodules import Objects, Robots, Tasks, Users\n",
    "from submodules.Scenes import Scene\n",
    "from submodules.Actions import Actions\n",
    "from submodules.Gestures import Gestures\n",
    "from submodules.Users import Users\n",
    "from model_noK import *\n",
    "import numpy as np\n",
    "from numpy import array as a\n",
    "import os"
   ]
  },
  {
   "cell_type": "code",
   "execution_count": 2,
   "id": "c01a6749",
   "metadata": {},
   "outputs": [],
   "source": [
    "def create_observation_compact(s,TaTo):\n",
    "    target_object_id = s.O.index(TaTo[1])\n",
    "    target_action_id = Actions.A.index(TaTo[0])\n",
    "    target_object_type_id = Object.all_types.index(getattr(s, TaTo[1]).type)\n",
    "    \n",
    "    gesture_probs_intent = CM[target_action_id,:]\n",
    "    performed_gesture = np.random.choice(np.arange(lenG),p = gesture_probs_intent,size=1)\n",
    "    gesture_vec = np.zeros(lenG)\n",
    "    gesture_vec[performed_gesture] = 1\n",
    "    gesture_vec = abs(gesture_vec + np.random.normal(loc = 0, scale = 0.2,size =(1,lenG)))[0]\n",
    "    gesture_vec = gesture_vec/np.sum(gesture_vec)\n",
    "    return gesture_vec "
   ]
  },
  {
   "cell_type": "code",
   "execution_count": 3,
   "id": "16e60f4c",
   "metadata": {},
   "outputs": [],
   "source": [
    "def show_each_action_occurance(dataset):\n",
    "    sums = np.zeros(lenA)\n",
    "    for sample in dataset:\n",
    "        a = A.index(sample[1][0])\n",
    "        sums[a]+=1\n",
    "    print(f\"Action occurances: {sums}\")"
   ]
  },
  {
   "cell_type": "code",
   "execution_count": 4,
   "id": "963eea7f",
   "metadata": {},
   "outputs": [],
   "source": [
    "def save_with_config(dataset, name='saves'):\n",
    "    config = {\n",
    "        'A': A,\n",
    "        'G': G,\n",
    "        'Otypes': Otypes,\n",
    "        'lenA': lenA,\n",
    "        'lenG': lenG,\n",
    "        'lenOtypes': lenOtypes,\n",
    "        'CM': CM,\n",
    "    }\n",
    "    np.save(f\"{os.path.expanduser('~')}/Documents/{name}\", np.asanyarray({'dataset': dataset, 'config': config}, dtype=object))"
   ]
  },
  {
   "cell_type": "markdown",
   "id": "bd1012e3",
   "metadata": {},
   "source": [
    "# Generating data\n",
    "\n",
    "Ex1: Generate random action draws with execution. Draws are from one scene session."
   ]
  },
  {
   "cell_type": "code",
   "execution_count": 5,
   "id": "9ff5db87",
   "metadata": {},
   "outputs": [],
   "source": [
    "Actions.A = ['move_up', 'open', 'put', 'pour', 'close', 'pick_up', 'put_on_target']"
   ]
  },
  {
   "cell_type": "markdown",
   "id": "af1d94ff",
   "metadata": {},
   "source": [
    "Function `regulize_repeating_pattern` checks if the current action draw is not the same as the last two draws. "
   ]
  },
  {
   "cell_type": "code",
   "execution_count": 6,
   "id": "b45a4536",
   "metadata": {},
   "outputs": [],
   "source": [
    "def regulize_repeating_pattern(TaTos, TaTo):\n",
    "    if len(TaTos) < 2: return True\n",
    "    \n",
    "    if TaTo == TaTos[-1] or TaTo == TaTos[-2]:\n",
    "        return False\n",
    "    return True"
   ]
  },
  {
   "cell_type": "markdown",
   "id": "2b2a0004",
   "metadata": {},
   "source": [
    "## Ex.1: Generate random draws from all actions\n",
    "\n",
    "Generate random valid action draws from the input created scene.\n",
    "\n",
    "Each action has `common_sense_probability` threshold `p>0.9` which rejects the action that has probability under this value.\n",
    "If any action is not found over `common_sense_probability` threshold. The next draws are chosen based on if the action is feasible/doable `p>0.01`."
   ]
  },
  {
   "cell_type": "code",
   "execution_count": 7,
   "id": "88fbcb85",
   "metadata": {},
   "outputs": [],
   "source": [
    "draws = 20\n",
    "common_sense_probability_threshold = 0.9\n",
    "feasibility_probability_threshold = 0.01"
   ]
  },
  {
   "cell_type": "code",
   "execution_count": 8,
   "id": "6b0d8bb6",
   "metadata": {},
   "outputs": [],
   "source": [
    "# Generate random scene\n",
    "s = Scene(init='drawer,cup,cup,object')\n",
    "\n",
    "TaTos = []\n",
    "# Generate random action\n",
    "for i in range(draws):\n",
    "    n=0\n",
    "    while True:\n",
    "        # random draw from all actions\n",
    "        TaTo = (Actions.get_random_action(), s.get_random_object())\n",
    "        # regulizer\n",
    "        m=0\n",
    "        while not regulize_repeating_pattern(TaTos, TaTo):\n",
    "            TaTo = (Actions.get_random_action(), s.get_random_object())\n",
    "            m+=1\n",
    "            if m>100: raise Exception(\"Cannot find solution\")\n",
    "        \n",
    "        success = Actions.do(s, TaTo, ignore_location=True, p=common_sense_probability_threshold)\n",
    "        if n>100:\n",
    "            success = Actions.do(s, TaTo, ignore_location=True, p=feasibility_probability_threshold)\n",
    "        if n>1000: raise Exception(\"Cannot find solution 2\")\n",
    "        if success:\n",
    "            TaTos.append(TaTo)\n",
    "            break\n",
    "        n+=1"
   ]
  },
  {
   "cell_type": "code",
   "execution_count": 9,
   "id": "9cf7aa4f",
   "metadata": {},
   "outputs": [
    {
     "data": {
      "text/plain": [
       "[('put', 'object'),\n",
       " ('close', 'drawer'),\n",
       " ('pick_up', 'cup1'),\n",
       " ('put_on_target', 'object'),\n",
       " ('open', 'drawer'),\n",
       " ('close', 'drawer'),\n",
       " ('pick_up', 'cup1'),\n",
       " ('put_on_target', 'object'),\n",
       " ('open', 'drawer'),\n",
       " ('pick_up', 'cup1'),\n",
       " ('put_on_target', 'drawer'),\n",
       " ('close', 'drawer'),\n",
       " ('pick_up', 'object'),\n",
       " ('put_on_target', 'drawer'),\n",
       " ('open', 'drawer'),\n",
       " ('pick_up', 'cup1'),\n",
       " ('put', 'drawer'),\n",
       " ('close', 'drawer'),\n",
       " ('pick_up', 'object'),\n",
       " ('put_on_target', 'object')]"
      ]
     },
     "execution_count": 9,
     "metadata": {},
     "output_type": "execute_result"
    }
   ],
   "source": [
    "TaTos"
   ]
  },
  {
   "cell_type": "code",
   "execution_count": 10,
   "id": "e1aecc3a",
   "metadata": {},
   "outputs": [
    {
     "name": "stdout",
     "output_type": "stream",
     "text": [
      "Scene info. shape: [4, 4, 4]\n",
      "drawer,\tdrawer,\t[1 3 0], closed, cont: ['cup', 'cup1'],\t|| [drawer] >>\n",
      "cup,\tcup,\t[1 0 0], empty,\t|| [cup] >>\n",
      "cup1,\tcup,\t[2 0 0], empty,\t|| [cup1] >>\n",
      "object,\tobject,\t[3 1 0],\t|| [object] >>\n",
      "Robot: [1 0 3], opened, rotation: 0, attached: -\n"
     ]
    }
   ],
   "source": [
    "s.info"
   ]
  },
  {
   "cell_type": "markdown",
   "id": "dfed4a39",
   "metadata": {},
   "source": [
    "TaTos variable contains possible actions which can be executed from newly created scene.\n",
    "Note that objects might need to be on the same position as the previous scene."
   ]
  },
  {
   "cell_type": "code",
   "execution_count": 13,
   "id": "28e7a977",
   "metadata": {},
   "outputs": [],
   "source": [
    "s = Scene(init='drawer,cup,cup,object')\n",
    "for TaTo in TaTos:\n",
    "    Actions.do(s, TaTo)"
   ]
  },
  {
   "cell_type": "code",
   "execution_count": 14,
   "id": "5782ba1c",
   "metadata": {},
   "outputs": [
    {
     "name": "stdout",
     "output_type": "stream",
     "text": [
      "Scene info. shape: [4, 4, 4]\n",
      "drawer,\tdrawer,\t[2 0 0], opened, cont: ['cup'],\t|| [drawer] >>\n",
      "cup,\tcup,\t[3 2 0], full,\t|| [cup] >>\n",
      "cup1,\tcup,\t[1 1 0], empty,\t|| [cup1] >>\n",
      "object,\tobject,\t[1 3 0],\t|| [object] >>\n",
      "Robot: [3 3 3], opened, rotation: 1, attached: -\n"
     ]
    }
   ],
   "source": [
    "s.info"
   ]
  },
  {
   "cell_type": "markdown",
   "id": "21238199",
   "metadata": {},
   "source": [
    "## Ex. 2: Generate random draws from possible actions\n",
    "- Same as Ex.1, except draws are made only from possible action -> better distribution output"
   ]
  },
  {
   "cell_type": "code",
   "execution_count": 15,
   "id": "379a3d7a",
   "metadata": {},
   "outputs": [],
   "source": [
    "# Generate random scene\n",
    "s = Scene(init='drawer,cup,cup')\n",
    "\n",
    "TaTos = []\n",
    "# Generate random action\n",
    "for i in range(draws):\n",
    "    n=0\n",
    "    while True:\n",
    "        # Random draw from possible actions\n",
    "        TaTo = Actions.get_random_possible_action(s, ignore_location=True, p=common_sense_probability_threshold)\n",
    "        flag_feasible_option = False\n",
    "        while not regulize_repeating_pattern(TaTos, TaTo):\n",
    "            flag_feasible_option = False\n",
    "            TaTo = Actions.get_random_possible_action(s, ignore_location=True, p=common_sense_probability_threshold)\n",
    "            if TaTo is False:\n",
    "                flag_feasible_option = True\n",
    "                TaTo = Actions.get_random_possible_action(s, ignore_location=True, p=feasibility_probability_threshold)\n",
    "                \n",
    "        # Action execution\n",
    "        if flag_feasible_option:\n",
    "            success = Actions.do(s, TaTo, ignore_location=True, p=feasibility_probability_threshold)\n",
    "        else:\n",
    "            success = Actions.do(s, TaTo, ignore_location=True, p=common_sense_probability_threshold)\n",
    "        if success:\n",
    "            TaTos.append(TaTo)\n",
    "            break\n"
   ]
  },
  {
   "cell_type": "code",
   "execution_count": 16,
   "id": "604235a8",
   "metadata": {},
   "outputs": [
    {
     "data": {
      "text/plain": [
       "[('close', 'drawer'),\n",
       " ('put_on_target', 'cup'),\n",
       " ('open', 'drawer'),\n",
       " ('pick_up', 'cup1'),\n",
       " ('close', 'drawer'),\n",
       " ('put_on_target', 'cup1'),\n",
       " ('pick_up', 'cup'),\n",
       " ('put_on_target', 'drawer'),\n",
       " ('pick_up', 'cup1'),\n",
       " ('put_on_target', 'cup'),\n",
       " ('open', 'drawer'),\n",
       " ('close', 'drawer'),\n",
       " ('pick_up', 'cup1'),\n",
       " ('put_on_target', 'drawer'),\n",
       " ('open', 'drawer'),\n",
       " ('close', 'drawer'),\n",
       " ('pick_up', 'cup1'),\n",
       " ('put_on_target', 'cup1'),\n",
       " ('pick_up', 'cup'),\n",
       " ('open', 'drawer')]"
      ]
     },
     "execution_count": 16,
     "metadata": {},
     "output_type": "execute_result"
    }
   ],
   "source": [
    "TaTos"
   ]
  },
  {
   "cell_type": "markdown",
   "id": "2774d157",
   "metadata": {},
   "source": [
    "# Dataset generation for classification task"
   ]
  },
  {
   "cell_type": "markdown",
   "id": "dfe8d5b4",
   "metadata": {},
   "source": [
    "### Ex. 4: dataset_01 generator\n",
    "\n",
    "- 6 Actions + 6 Gestures\n",
    "- move_up is not feasible currently (0 samples) and pour has small probability to be used (\\~50 samples), close and pick_up are most probable (\\~300 samples) \n",
    "- 1000 draws\n",
    "- CM is diagonal 2D\n",
    "- types, scene and other features are not used\n",
    "- scene: 2 drawers, 3 cups, initialized randomly"
   ]
  },
  {
   "cell_type": "code",
   "execution_count": 17,
   "id": "e1a323f2",
   "metadata": {},
   "outputs": [],
   "source": [
    "from submodules import Robots, Tasks, Users\n",
    "from submodules.Objects import Object\n",
    "from submodules.Scenes import Scene\n",
    "from submodules.Actions import Actions\n",
    "from submodules.Gestures import Gestures\n",
    "from submodules.Users import Users\n",
    "from model_noK import *\n",
    "import numpy as np\n",
    "from numpy import array as a"
   ]
  },
  {
   "cell_type": "code",
   "execution_count": 22,
   "id": "66adade3",
   "metadata": {},
   "outputs": [],
   "source": [
    "A = Actions.A = ['move_up', 'open', 'put', 'pour', 'close', 'pick_up']\n",
    "G = Actions.G = ['swipe_up', 'open', 'swipe_back', 'hold', 'rotate', 'swipe_forward']\n",
    "Otypes = Object.all_types\n",
    "lenA = len(A)\n",
    "lenG = len(G)\n",
    "lenOtypes = len(Otypes)"
   ]
  },
  {
   "cell_type": "code",
   "execution_count": 23,
   "id": "342dcd77",
   "metadata": {},
   "outputs": [],
   "source": [
    "CM = np.diag(np.ones(lenA))"
   ]
  },
  {
   "cell_type": "code",
   "execution_count": 24,
   "id": "f09429e9",
   "metadata": {},
   "outputs": [],
   "source": [
    "draws = 1000\n",
    "common_sense_probability_threshold = 0.9\n",
    "feasibility_probability_threshold = 0.01"
   ]
  },
  {
   "cell_type": "code",
   "execution_count": 25,
   "id": "93eac4e9",
   "metadata": {},
   "outputs": [],
   "source": [
    "dataset = []\n",
    "# Generate random action\n",
    "for i in range(draws):\n",
    "    s = Scene(init='drawer,drawer,cup,cup,cup', random=True)\n",
    "    # Random draw from possible actions\n",
    "    TaTo = Actions.get_random_possible_action(s, ignore_location=True, p=common_sense_probability_threshold)\n",
    "    \n",
    "    gobs = create_observation_compact(s,TaTo)\n",
    "    \n",
    "    dataset.append((s.to_dict(), TaTo, gobs))"
   ]
  },
  {
   "cell_type": "code",
   "execution_count": 26,
   "id": "165ccf9e",
   "metadata": {},
   "outputs": [],
   "source": [
    "save_with_config(dataset, name='dataset01')"
   ]
  },
  {
   "cell_type": "markdown",
   "id": "63216346",
   "metadata": {},
   "source": [
    "View how different actions were drafted"
   ]
  },
  {
   "cell_type": "code",
   "execution_count": 27,
   "id": "81fb0a38",
   "metadata": {},
   "outputs": [
    {
     "name": "stdout",
     "output_type": "stream",
     "text": [
      "Action occurances: [  0. 137. 167.  47. 355. 294.]\n"
     ]
    }
   ],
   "source": [
    "show_each_action_occurance(dataset)"
   ]
  },
  {
   "cell_type": "markdown",
   "id": "f9bac7be",
   "metadata": {},
   "source": [
    "### Ex. 5: dataset02 generator\n",
    "\n",
    "- 6 Actions + 6 Gestures\n",
    "- 1000 draws\n",
    "- CM is 2D, with picked values:\n",
    "```\n",
    "          | gestures:\n",
    "actions:| swipe_up, open, swipe_back, hold, rotate, swipe_forward\n",
    "move_up | [[0.7,    0.3,  0.0,        0,    0,       0  ],         \n",
    "open    | [0.2,     0.4,  0.4,        0,    0,       0  ],        \n",
    "put     | [0.0,     0.4,  0.6,        0,    0,       0  ],        \n",
    "pour    | [0.0,     0.0,  0.0,        0.2,  0.8,     0.0],        \n",
    "close   | [0.0,     0.0,  0.0,        0.2,  0.0,     0.8],        \n",
    "pick_up | [0.7,     0.0,  0.0,        0.3,  0.0,     0.0]]        \n",
    "```\n",
    "- types, scene and other features are not used\n",
    "- scene: 2 drawers, 3 cups, initialized randomly"
   ]
  },
  {
   "cell_type": "code",
   "execution_count": 28,
   "id": "5c2737b0",
   "metadata": {},
   "outputs": [],
   "source": [
    "from submodules import Robots, Tasks, Users\n",
    "from submodules.Objects import Object\n",
    "from submodules.Scenes import Scene\n",
    "from submodules.Actions import Actions\n",
    "from submodules.Gestures import Gestures\n",
    "from submodules.Users import Users\n",
    "from model_noK import *\n",
    "import numpy as np\n",
    "from numpy import array as a\n",
    "import os"
   ]
  },
  {
   "cell_type": "code",
   "execution_count": 29,
   "id": "ec4f42fe",
   "metadata": {},
   "outputs": [],
   "source": [
    "A = Actions.A\n",
    "G = Gestures.G\n",
    "Otypes = Object.all_types\n",
    "lenA = len(A)\n",
    "lenG = len(G)\n",
    "lenOtypes = len(Otypes)"
   ]
  },
  {
   "cell_type": "code",
   "execution_count": 30,
   "id": "c9d601e3",
   "metadata": {},
   "outputs": [],
   "source": [
    "CM = np.zeros((lenA,lenG))\n",
    "CM[:,:] = np.array([[0.7, 0.3, 0.0, 0, 0, 0],\n",
    "                    [0.2, 0.4, 0.4, 0, 0, 0],\n",
    "                    [0.0, 0.4, 0.6, 0, 0, 0],\n",
    "                    [0.0, 0.0, 0.0, 0.2, 0.8, 0.0],\n",
    "                    [0.0, 0.0, 0.0, 0.2, 0.0, 0.8],\n",
    "                    [0.7, 0.0, 0.0, 0.3, 0.0, 0.0]])"
   ]
  },
  {
   "cell_type": "code",
   "execution_count": 31,
   "id": "0d824714",
   "metadata": {},
   "outputs": [],
   "source": [
    "draws = 1000\n",
    "common_sense_probability_threshold = 0.9\n",
    "feasibility_probability_threshold = 0.01"
   ]
  },
  {
   "cell_type": "code",
   "execution_count": 32,
   "id": "5048f249",
   "metadata": {},
   "outputs": [],
   "source": [
    "dataset = []\n",
    "# Generate random action\n",
    "for i in range(draws):\n",
    "    s = Scene(init='drawer,drawer,cup,cup,cup', random=True)\n",
    "    # Random draw from possible actions\n",
    "    TaTo = Actions.get_random_possible_action(s, ignore_location=True, p=common_sense_probability_threshold)\n",
    "    \n",
    "    gobs = create_observation_compact(s,TaTo)\n",
    "    \n",
    "    dataset.append((s.to_dict(), TaTo, gobs))"
   ]
  },
  {
   "cell_type": "code",
   "execution_count": 33,
   "id": "d8ec080f",
   "metadata": {},
   "outputs": [],
   "source": [
    "save_with_config(dataset, name='dataset02')"
   ]
  },
  {
   "cell_type": "code",
   "execution_count": 34,
   "id": "f4b5ca93",
   "metadata": {},
   "outputs": [
    {
     "name": "stdout",
     "output_type": "stream",
     "text": [
      "Action occurances: [  0. 136. 185.  44. 337. 298.]\n"
     ]
    }
   ],
   "source": [
    "show_each_action_occurance(dataset)"
   ]
  },
  {
   "cell_type": "markdown",
   "id": "5bf35ceb",
   "metadata": {},
   "source": [
    "### Ex. 6: dataset03 generator\n",
    "\n",
    "- Put all-in\n",
    "- 7 Actions + 7 Gestures\n",
    "- 1000 draws (10000 draws as `dataset03_10000d`)\n",
    "- CM is 4D `[2,2,7,7]`\n",
    "- types, scene and other features are not used\n",
    "- scene: 2 drawers, 3 cups, initialized randomly"
   ]
  },
  {
   "cell_type": "code",
   "execution_count": 35,
   "id": "8b214706",
   "metadata": {},
   "outputs": [],
   "source": [
    "from submodules import Robots, Tasks, Users\n",
    "from submodules.Objects import Object\n",
    "from submodules.Scenes import Scene\n",
    "from submodules.Actions import Actions\n",
    "from submodules.Gestures import Gestures\n",
    "from submodules.Users import Users\n",
    "from model_noK import *\n",
    "import numpy as np\n",
    "from numpy import array as a"
   ]
  },
  {
   "cell_type": "code",
   "execution_count": 36,
   "id": "9dfafb65",
   "metadata": {},
   "outputs": [],
   "source": [
    "A = Actions.A = ['move_up', 'open', 'put', 'pour', 'close', 'pick_up', 'put_on_target']\n",
    "G = Gestures.G = ['swipe_up', 'open', 'swipe_back', 'hold', 'rotate', 'swipe_forward', 'swipe_left']\n",
    "Otypes = Object.all_types\n",
    "lenA = len(A)\n",
    "lenG = len(G)\n",
    "lenOtypes = len(Otypes)"
   ]
  },
  {
   "cell_type": "code",
   "execution_count": 37,
   "id": "28b9e090",
   "metadata": {},
   "outputs": [],
   "source": [
    "CM = np.zeros((2,2, lenA,lenG)) # users x object types x actions x gestures\n",
    "# user 0, objtyp 0\n",
    "CM[0,0,:,:] = [[0.6, 0, 0.4, 0, 0, 0, 0], #two gestures for moving up the cup\n",
    "               [0  , 0, 0  , 0, 0, 0, 0], #target action for cup cannot be open or close (zero probs.)\n",
    "               [0  , 1, 0  , 0, 0, 0, 0], #same gesture for move front as for open\n",
    "               [0  , 0, 0  , 1, 0, 0, 0],\n",
    "               [0  , 0, 0  , 0, 0, 0, 0],\n",
    "               [0  , 0, 0  , 0, 0, 1, 0],\n",
    "               [0  , 0, 0  , 0, 0, 0, 1]]\n",
    "CM[1,0,:,:] = [[0.4, 0, 0.6, 0, 0,  0  , 0],\n",
    "               [0  , 0, 0  , 0, 0,  0  , 0],\n",
    "               [0  , 1, 0  , 0, 0,  0  , 0],\n",
    "               [0  , 0, 0  , 1, 0,  0  , 0],\n",
    "               [0  , 0, 0  , 0, 0,  0  , 0], #target action for cup cannot be open or close\n",
    "               [0  , 0, 0  , 0, 0.2,0.8, 0],\n",
    "               [0  , 0, 0  , 0, 0.2,0.8, 0]]\n",
    "CM[0, 1, :, :] = [[0, 0, 0, 0, 0, 0, 0],\n",
    "                  [0, 1, 0, 0, 0, 0, 0],\n",
    "                  [0, 0, 1, 0, 0, 0, 0],\n",
    "                  [0, 0, 0, 1, 0, 0, 0],\n",
    "                  [0, 0, 0, 0, 1, 0, 0],\n",
    "                  [0, 0, 0, 0, 0, 1, 0],\n",
    "                  [0, 0, 0, 0, 0, 0, 1]]\n",
    "CM[1, 1, :, :] = [[0.4, 0, 0.6, 0, 0  , 0  , 0],\n",
    "                  [0  , 1, 0  , 0, 0  , 0  , 0],\n",
    "                  [0  , 1, 0  , 0, 0  , 0  , 0],\n",
    "                  [0  , 0, 0  , 1, 0  , 0  , 0],\n",
    "                  [0  , 0, 0  , 0, 0.8, 0.2, 0], #two gestures for closing drawer\n",
    "                  [0  , 0, 0  , 0, 0  , 0  , 0],\n",
    "                  [0  , 0, 0  , 0, 0  , 0  , 1]]"
   ]
  },
  {
   "cell_type": "code",
   "execution_count": 38,
   "id": "18ffd62a",
   "metadata": {},
   "outputs": [],
   "source": [
    "draws = 1000\n",
    "common_sense_probability_threshold = 0.9\n",
    "feasibility_probability_threshold = 0.01"
   ]
  },
  {
   "cell_type": "code",
   "execution_count": 39,
   "id": "eebd9660",
   "metadata": {},
   "outputs": [],
   "source": [
    "def create_observation_compact(s,TaTo):\n",
    "    target_object_id = s.O.index(TaTo[1])\n",
    "    target_action_id = Actions.A.index(TaTo[0])\n",
    "    target_object_type_id = Object.all_types.index(getattr(s, TaTo[1]).type)\n",
    "    \n",
    "    gesture_probs_intent = CM[0,target_object_type_id,target_action_id,:]\n",
    "    performed_gesture = np.random.choice(np.arange(lenG),p = gesture_probs_intent,size=1)\n",
    "    gesture_vec = np.zeros(lenG)\n",
    "    gesture_vec[performed_gesture] = 1\n",
    "    gesture_vec = abs(gesture_vec + np.random.normal(loc = 0, scale = 0.2,size =(1,lenG)))[0]\n",
    "    gesture_vec = gesture_vec/np.sum(gesture_vec)\n",
    "    return gesture_vec "
   ]
  },
  {
   "cell_type": "code",
   "execution_count": 40,
   "id": "ec9f8d5d",
   "metadata": {},
   "outputs": [],
   "source": [
    "dataset = []\n",
    "# Generate random action\n",
    "for i in range(draws):\n",
    "    s = Scene(init='drawer,drawer,cup,cup,cup', random=True)\n",
    "    # Random draw from possible actions\n",
    "    TaTo = Actions.get_random_possible_action(s, ignore_location=True, p=common_sense_probability_threshold)\n",
    "    \n",
    "    gobs = create_observation_compact(s,TaTo)\n",
    "    \n",
    "    dataset.append((s.to_dict(), TaTo, gobs))"
   ]
  },
  {
   "cell_type": "code",
   "execution_count": 41,
   "id": "554d8d4f",
   "metadata": {},
   "outputs": [],
   "source": [
    "save_with_config(dataset, name='dataset03')"
   ]
  },
  {
   "cell_type": "code",
   "execution_count": 42,
   "id": "5ac358c9",
   "metadata": {},
   "outputs": [
    {
     "name": "stdout",
     "output_type": "stream",
     "text": [
      "Action occurances: [   0.  794.  846.  268. 2367. 2936. 2789.]\n"
     ]
    }
   ],
   "source": [
    "show_each_action_occurance(dataset)"
   ]
  },
  {
   "cell_type": "code",
   "execution_count": null,
   "id": "0195a100",
   "metadata": {},
   "outputs": [],
   "source": []
  }
 ],
 "metadata": {
  "kernelspec": {
   "display_name": "Python 3 (ipykernel)",
   "language": "python",
   "name": "python3"
  },
  "language_info": {
   "codemirror_mode": {
    "name": "ipython",
    "version": 3
   },
   "file_extension": ".py",
   "mimetype": "text/x-python",
   "name": "python",
   "nbconvert_exporter": "python",
   "pygments_lexer": "ipython3",
   "version": "3.8.10"
  }
 },
 "nbformat": 4,
 "nbformat_minor": 5
}
