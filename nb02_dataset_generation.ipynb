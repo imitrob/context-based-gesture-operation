{
 "cells": [
  {
   "cell_type": "code",
   "execution_count": 1,
   "id": "5c8a7173",
   "metadata": {},
   "outputs": [],
   "source": [
    "from submodules import Objects, Robots, Tasks, Users\n",
    "from submodules.Scenes import Scene\n",
    "from submodules.Actions import Actions\n",
    "from submodules.Gestures import Gestures\n",
    "from submodules.Users import Users\n",
    "from model_noK import *\n",
    "import numpy as np\n",
    "from numpy import array as a"
   ]
  },
  {
   "cell_type": "markdown",
   "id": "bd1012e3",
   "metadata": {},
   "source": [
    "# Generating data"
   ]
  },
  {
   "cell_type": "markdown",
   "id": "527bd8ee",
   "metadata": {},
   "source": [
    "It is possible to add the seventh Action: `put_on_target` which puts the holding/attached object on random place in the scene."
   ]
  },
  {
   "cell_type": "code",
   "execution_count": 2,
   "id": "9ff5db87",
   "metadata": {},
   "outputs": [
    {
     "data": {
      "text/plain": [
       "['move_up', 'open', 'put', 'pour', 'close', 'pick_up']"
      ]
     },
     "execution_count": 2,
     "metadata": {},
     "output_type": "execute_result"
    }
   ],
   "source": [
    "Actions.A"
   ]
  },
  {
   "cell_type": "code",
   "execution_count": 3,
   "id": "946edd61",
   "metadata": {},
   "outputs": [],
   "source": [
    "Actions.A.append('put_on_target')"
   ]
  },
  {
   "cell_type": "code",
   "execution_count": 4,
   "id": "e6dc1c0f",
   "metadata": {},
   "outputs": [
    {
     "data": {
      "text/plain": [
       "['move_up', 'open', 'put', 'pour', 'close', 'pick_up', 'put_on_target']"
      ]
     },
     "execution_count": 4,
     "metadata": {},
     "output_type": "execute_result"
    }
   ],
   "source": [
    "Actions.A"
   ]
  },
  {
   "cell_type": "markdown",
   "id": "af1d94ff",
   "metadata": {},
   "source": [
    "Function `regulize_repeating_pattern` checks if the current action draw is not the same as the last two draws. "
   ]
  },
  {
   "cell_type": "code",
   "execution_count": 5,
   "id": "b45a4536",
   "metadata": {},
   "outputs": [],
   "source": [
    "def regulize_repeating_pattern(TaTos, TaTo):\n",
    "    if len(TaTos) < 2: return True\n",
    "    \n",
    "    if TaTo == TaTos[-1] or TaTo == TaTos[-2]:\n",
    "        return False\n",
    "    return True"
   ]
  },
  {
   "cell_type": "markdown",
   "id": "2b2a0004",
   "metadata": {},
   "source": [
    "## Ex.1: Generate random draws from all actions\n",
    "\n",
    "Generate random valid action draws from the input created scene.\n",
    "\n",
    "Each action has `common_sense_probability` threshold `p>0.9` which rejects the action that has probability under this value.\n",
    "If any action is not found over `common_sense_probability` threshold. The next draws are chosen based on if the action is feasible/doable `p>0.01`."
   ]
  },
  {
   "cell_type": "code",
   "execution_count": 6,
   "id": "88fbcb85",
   "metadata": {},
   "outputs": [],
   "source": [
    "draws = 20\n",
    "common_sense_probability_threshold = 0.9\n",
    "feasibility_probability_threshold = 0.01"
   ]
  },
  {
   "cell_type": "code",
   "execution_count": 7,
   "id": "6b0d8bb6",
   "metadata": {},
   "outputs": [],
   "source": [
    "# Generate random scene\n",
    "s = Scene(init='drawer,cup,cup')\n",
    "\n",
    "TaTos = []\n",
    "# Generate random action\n",
    "for i in range(draws):\n",
    "    n=0\n",
    "    while True:\n",
    "        # random draw from all actions\n",
    "        TaTo = (Actions.get_random_action(), s.get_random_object())\n",
    "        # regulizer\n",
    "        while not regulize_repeating_pattern(TaTos, TaTo):\n",
    "            TaTo = (Actions.get_random_action(), s.get_random_object())\n",
    "        \n",
    "        success = Actions.do(s, TaTo, ignore_location=True, p=common_sense_probability_threshold)\n",
    "        if n>100:\n",
    "            success = Actions.do(s, TaTo, ignore_location=True, p=feasibility_probability_threshold)\n",
    "        if success:\n",
    "            TaTos.append(TaTo)\n",
    "            break\n",
    "        n+=1"
   ]
  },
  {
   "cell_type": "code",
   "execution_count": 8,
   "id": "9cf7aa4f",
   "metadata": {},
   "outputs": [
    {
     "data": {
      "text/plain": [
       "[('pick_up', 'cup1'),\n",
       " ('put_on_target', 'drawer'),\n",
       " ('open', 'drawer'),\n",
       " ('pick_up', 'cup'),\n",
       " ('put_on_target', 'cup1'),\n",
       " ('close', 'drawer'),\n",
       " ('pick_up', 'cup1'),\n",
       " ('put_on_target', 'drawer'),\n",
       " ('pick_up', 'cup'),\n",
       " ('put_on_target', 'cup1'),\n",
       " ('pick_up', 'cup1'),\n",
       " ('put_on_target', 'drawer'),\n",
       " ('open', 'drawer'),\n",
       " ('close', 'drawer'),\n",
       " ('pick_up', 'cup'),\n",
       " ('open', 'drawer'),\n",
       " ('put_on_target', 'drawer'),\n",
       " ('pick_up', 'cup1'),\n",
       " ('close', 'drawer'),\n",
       " ('put_on_target', 'cup1')]"
      ]
     },
     "execution_count": 8,
     "metadata": {},
     "output_type": "execute_result"
    }
   ],
   "source": [
    "TaTos"
   ]
  },
  {
   "cell_type": "code",
   "execution_count": 9,
   "id": "e1aecc3a",
   "metadata": {},
   "outputs": [
    {
     "name": "stdout",
     "output_type": "stream",
     "text": [
      "Scene info. shape: [4, 4, 4]\n",
      "drawer, drawer, [1 3 0], closed, []\n",
      "cup, cup, [0 2 0], empty\n",
      "cup1, cup, [3 3 0], empty\n",
      "Robot: [3 1 3], opened, rotation: 0, attached: -\n"
     ]
    }
   ],
   "source": [
    "s.info"
   ]
  },
  {
   "cell_type": "markdown",
   "id": "dfed4a39",
   "metadata": {},
   "source": [
    "TaTos variable contains possible actions which can be executed from newly created scene"
   ]
  },
  {
   "cell_type": "code",
   "execution_count": 10,
   "id": "28e7a977",
   "metadata": {},
   "outputs": [],
   "source": [
    "s = Scene(init='drawer,cup,cup')\n",
    "for TaTo in TaTos:\n",
    "    Actions.do(s, TaTo)"
   ]
  },
  {
   "cell_type": "code",
   "execution_count": 11,
   "id": "5782ba1c",
   "metadata": {},
   "outputs": [
    {
     "name": "stdout",
     "output_type": "stream",
     "text": [
      "Scene info. shape: [4, 4, 4]\n",
      "drawer, drawer, [1 0 0], closed, []\n",
      "cup, cup, [3 1 0], empty\n",
      "cup1, cup, [1 1 0], empty\n",
      "Robot: [1 0 3], opened, rotation: 0, attached: -\n"
     ]
    }
   ],
   "source": [
    "s.info"
   ]
  },
  {
   "cell_type": "markdown",
   "id": "21238199",
   "metadata": {},
   "source": [
    "## Ex. 2: Generate random draws from possible actions\n",
    "- TODO: Maybe to "
   ]
  },
  {
   "cell_type": "code",
   "execution_count": 15,
   "id": "379a3d7a",
   "metadata": {},
   "outputs": [],
   "source": [
    "# Generate random scene\n",
    "s = Scene(init='drawer,cup,cup')\n",
    "\n",
    "TaTos = []\n",
    "# Generate random action\n",
    "for i in range(draws):\n",
    "    n=0\n",
    "    while True:\n",
    "        # Random draw from possible actions\n",
    "        TaTo = Actions.get_random_possible_action(s, ignore_location=True, p=common_sense_probability_threshold)\n",
    "        flag_feasible_option = False\n",
    "        while not regulize_repeating_pattern(TaTos, TaTo):\n",
    "            flag_feasible_option = False\n",
    "            TaTo = Actions.get_random_possible_action(s, ignore_location=True, p=common_sense_probability_threshold)\n",
    "            if TaTo is False:\n",
    "                flag_feasible_option = True\n",
    "                TaTo = Actions.get_random_possible_action(s, ignore_location=True, p=feasibility_probability_threshold)\n",
    "                \n",
    "        # Action execution\n",
    "        if flag_feasible_option:\n",
    "            success = Actions.do(s, TaTo, ignore_location=True, p=feasibility_probability_threshold)\n",
    "        else:\n",
    "            success = Actions.do(s, TaTo, ignore_location=True, p=common_sense_probability_threshold)\n",
    "        if success:\n",
    "            TaTos.append(TaTo)\n",
    "            break\n"
   ]
  },
  {
   "cell_type": "code",
   "execution_count": 32,
   "id": "604235a8",
   "metadata": {},
   "outputs": [
    {
     "data": {
      "text/plain": [
       "[('close', 'drawer'),\n",
       " ('open', 'drawer'),\n",
       " ('close', 'drawer'),\n",
       " ('open', 'drawer'),\n",
       " ('close', 'drawer'),\n",
       " ('open', 'drawer'),\n",
       " ('close', 'drawer'),\n",
       " ('open', 'drawer'),\n",
       " ('close', 'drawer'),\n",
       " ('open', 'drawer')]"
      ]
     },
     "execution_count": 32,
     "metadata": {},
     "output_type": "execute_result"
    }
   ],
   "source": [
    "TaTos"
   ]
  },
  {
   "cell_type": "code",
   "execution_count": null,
   "id": "2d6caf7e",
   "metadata": {},
   "outputs": [],
   "source": []
  },
  {
   "cell_type": "code",
   "execution_count": null,
   "id": "f344c258",
   "metadata": {},
   "outputs": [],
   "source": []
  },
  {
   "cell_type": "code",
   "execution_count": null,
   "id": "c0d3364e",
   "metadata": {},
   "outputs": [],
   "source": []
  }
 ],
 "metadata": {
  "kernelspec": {
   "display_name": "Python 3 (ipykernel)",
   "language": "python",
   "name": "python3"
  },
  "language_info": {
   "codemirror_mode": {
    "name": "ipython",
    "version": 3
   },
   "file_extension": ".py",
   "mimetype": "text/x-python",
   "name": "python",
   "nbconvert_exporter": "python",
   "pygments_lexer": "ipython3",
   "version": "3.8.10"
  }
 },
 "nbformat": 4,
 "nbformat_minor": 5
}
