{
 "cells": [
  {
   "cell_type": "code",
   "execution_count": 1,
   "id": "5c8a7173",
   "metadata": {},
   "outputs": [],
   "source": [
    "from submodules import Objects, Robots, Tasks, Users\n",
    "from submodules.Scenes import Scene\n",
    "from submodules.Actions import Actions\n",
    "from submodules.Gestures import Gestures\n",
    "from submodules.Users import Users\n",
    "from model_noK import *\n",
    "import numpy as np\n",
    "from numpy import array as a\n",
    "import os"
   ]
  },
  {
   "cell_type": "code",
   "execution_count": 2,
   "id": "c01a6749",
   "metadata": {},
   "outputs": [],
   "source": [
    "def create_observation_compact(s,TaTo):\n",
    "    target_object_id = s.O.index(TaTo[1])\n",
    "    target_action_id = Actions.A.index(TaTo[0])\n",
    "    target_object_type_id = Object.all_types.index(getattr(s, TaTo[1]).type)\n",
    "    \n",
    "    gesture_probs_intent = CM[target_action_id,:]\n",
    "    performed_gesture = np.random.choice(np.arange(lenG),p = gesture_probs_intent,size=1)\n",
    "    gesture_vec = np.zeros(lenG)\n",
    "    gesture_vec[performed_gesture] = 1\n",
    "    gesture_vec = abs(gesture_vec + np.random.normal(loc = 0, scale = 0.2,size =(1,lenG)))[0]\n",
    "    gesture_vec = gesture_vec/np.sum(gesture_vec)\n",
    "    return gesture_vec "
   ]
  },
  {
   "cell_type": "code",
   "execution_count": 20,
   "id": "16e60f4c",
   "metadata": {},
   "outputs": [],
   "source": [
    "def show_each_action_occurance(dataset):\n",
    "    sums = np.zeros(lenA)\n",
    "    for sample in dataset:\n",
    "        a = A.index(sample[1][0])\n",
    "        sums[a]+=1\n",
    "    print(f\"Action occurances: {sums}\")"
   ]
  },
  {
   "cell_type": "code",
   "execution_count": 16,
   "id": "963eea7f",
   "metadata": {},
   "outputs": [],
   "source": [
    "def save_with_config(dataset, name='saves'):\n",
    "    config = {\n",
    "        'A': A,\n",
    "        'G': G,\n",
    "        'Otypes': Otypes,\n",
    "        'lenA': lenA,\n",
    "        'lenG': lenG,\n",
    "        'lenOtypes': lenOtypes,\n",
    "        'CM': CM,\n",
    "    }\n",
    "    np.save(f\"{os.path.expanduser('~')}/Documents/{name}\", np.asanyarray({'dataset': dataset, 'config': config}, dtype=object))"
   ]
  },
  {
   "cell_type": "markdown",
   "id": "bd1012e3",
   "metadata": {},
   "source": [
    "# Generating data\n",
    "\n",
    "Ex1: Generate random action draws with execution. Draws are from one scene session."
   ]
  },
  {
   "cell_type": "code",
   "execution_count": 5,
   "id": "9ff5db87",
   "metadata": {},
   "outputs": [],
   "source": [
    "Actions.A = ['move_up', 'open', 'put', 'pour', 'close', 'pick_up', 'put_on_target']"
   ]
  },
  {
   "cell_type": "markdown",
   "id": "af1d94ff",
   "metadata": {},
   "source": [
    "Function `regulize_repeating_pattern` checks if the current action draw is not the same as the last two draws. "
   ]
  },
  {
   "cell_type": "code",
   "execution_count": 6,
   "id": "b45a4536",
   "metadata": {},
   "outputs": [],
   "source": [
    "def regulize_repeating_pattern(TaTos, TaTo):\n",
    "    if len(TaTos) < 2: return True\n",
    "    \n",
    "    if TaTo == TaTos[-1] or TaTo == TaTos[-2]:\n",
    "        return False\n",
    "    return True"
   ]
  },
  {
   "cell_type": "markdown",
   "id": "2b2a0004",
   "metadata": {},
   "source": [
    "## Ex.1: Generate random draws from all actions\n",
    "\n",
    "Generate random valid action draws from the input created scene.\n",
    "\n",
    "Each action has `common_sense_probability` threshold `p>0.9` which rejects the action that has probability under this value.\n",
    "If any action is not found over `common_sense_probability` threshold. The next draws are chosen based on if the action is feasible/doable `p>0.01`."
   ]
  },
  {
   "cell_type": "code",
   "execution_count": 7,
   "id": "88fbcb85",
   "metadata": {},
   "outputs": [],
   "source": [
    "draws = 20\n",
    "common_sense_probability_threshold = 0.9\n",
    "feasibility_probability_threshold = 0.01"
   ]
  },
  {
   "cell_type": "code",
   "execution_count": 8,
   "id": "6b0d8bb6",
   "metadata": {},
   "outputs": [],
   "source": [
    "# Generate random scene\n",
    "s = Scene(init='drawer,cup,cup,object')\n",
    "\n",
    "TaTos = []\n",
    "# Generate random action\n",
    "for i in range(draws):\n",
    "    n=0\n",
    "    while True:\n",
    "        # random draw from all actions\n",
    "        TaTo = (Actions.get_random_action(), s.get_random_object())\n",
    "        # regulizer\n",
    "        m=0\n",
    "        while not regulize_repeating_pattern(TaTos, TaTo):\n",
    "            TaTo = (Actions.get_random_action(), s.get_random_object())\n",
    "            m+=1\n",
    "            if m>100: raise Exception(\"Cannot find solution\")\n",
    "        \n",
    "        success = Actions.do(s, TaTo, ignore_location=True, p=common_sense_probability_threshold)\n",
    "        if n>100:\n",
    "            success = Actions.do(s, TaTo, ignore_location=True, p=feasibility_probability_threshold)\n",
    "        if n>1000: raise Exception(\"Cannot find solution 2\")\n",
    "        if success:\n",
    "            TaTos.append(TaTo)\n",
    "            break\n",
    "        n+=1"
   ]
  },
  {
   "cell_type": "code",
   "execution_count": 9,
   "id": "9cf7aa4f",
   "metadata": {},
   "outputs": [
    {
     "data": {
      "text/plain": [
       "[('put', 'object'),\n",
       " ('close', 'drawer'),\n",
       " ('pick_up', 'cup1'),\n",
       " ('put_on_target', 'object'),\n",
       " ('open', 'drawer'),\n",
       " ('close', 'drawer'),\n",
       " ('pick_up', 'cup1'),\n",
       " ('put_on_target', 'object'),\n",
       " ('open', 'drawer'),\n",
       " ('pick_up', 'cup1'),\n",
       " ('put_on_target', 'drawer'),\n",
       " ('close', 'drawer'),\n",
       " ('pick_up', 'object'),\n",
       " ('put_on_target', 'drawer'),\n",
       " ('open', 'drawer'),\n",
       " ('pick_up', 'cup1'),\n",
       " ('put', 'drawer'),\n",
       " ('close', 'drawer'),\n",
       " ('pick_up', 'object'),\n",
       " ('put_on_target', 'object')]"
      ]
     },
     "execution_count": 9,
     "metadata": {},
     "output_type": "execute_result"
    }
   ],
   "source": [
    "TaTos"
   ]
  },
  {
   "cell_type": "code",
   "execution_count": 10,
   "id": "e1aecc3a",
   "metadata": {},
   "outputs": [
    {
     "name": "stdout",
     "output_type": "stream",
     "text": [
      "Scene info. shape: [4, 4, 4]\n",
      "drawer,\tdrawer,\t[1 3 0], closed, cont: ['cup', 'cup1'],\t|| [drawer] >>\n",
      "cup,\tcup,\t[1 0 0], empty,\t|| [cup] >>\n",
      "cup1,\tcup,\t[2 0 0], empty,\t|| [cup1] >>\n",
      "object,\tobject,\t[3 1 0],\t|| [object] >>\n",
      "Robot: [1 0 3], opened, rotation: 0, attached: -\n"
     ]
    }
   ],
   "source": [
    "s.info"
   ]
  },
  {
   "cell_type": "markdown",
   "id": "dfed4a39",
   "metadata": {},
   "source": [
    "TaTos variable contains possible actions which can be executed from newly created scene.\n",
    "Note that objects might need to be on the same position as the previous scene."
   ]
  },
  {
   "cell_type": "code",
   "execution_count": 13,
   "id": "28e7a977",
   "metadata": {},
   "outputs": [],
   "source": [
    "s = Scene(init='drawer,cup,cup,object')\n",
    "for TaTo in TaTos:\n",
    "    Actions.do(s, TaTo)"
   ]
  },
  {
   "cell_type": "code",
   "execution_count": 14,
   "id": "5782ba1c",
   "metadata": {},
   "outputs": [
    {
     "name": "stdout",
     "output_type": "stream",
     "text": [
      "Scene info. shape: [4, 4, 4]\n",
      "drawer,\tdrawer,\t[2 0 0], opened, cont: ['cup'],\t|| [drawer] >>\n",
      "cup,\tcup,\t[3 2 0], full,\t|| [cup] >>\n",
      "cup1,\tcup,\t[1 1 0], empty,\t|| [cup1] >>\n",
      "object,\tobject,\t[1 3 0],\t|| [object] >>\n",
      "Robot: [3 3 3], opened, rotation: 1, attached: -\n"
     ]
    }
   ],
   "source": [
    "s.info"
   ]
  },
  {
   "cell_type": "markdown",
   "id": "21238199",
   "metadata": {},
   "source": [
    "## Ex. 2: Generate random draws from possible actions\n",
    "- Same as Ex.1, except draws are made only from possible action -> better distribution output"
   ]
  },
  {
   "cell_type": "code",
   "execution_count": 15,
   "id": "379a3d7a",
   "metadata": {},
   "outputs": [],
   "source": [
    "# Generate random scene\n",
    "s = Scene(init='drawer,cup,cup')\n",
    "\n",
    "TaTos = []\n",
    "# Generate random action\n",
    "for i in range(draws):\n",
    "    n=0\n",
    "    while True:\n",
    "        # Random draw from possible actions\n",
    "        TaTo = Actions.get_random_possible_action(s, ignore_location=True, p=common_sense_probability_threshold)\n",
    "        flag_feasible_option = False\n",
    "        while not regulize_repeating_pattern(TaTos, TaTo):\n",
    "            flag_feasible_option = False\n",
    "            TaTo = Actions.get_random_possible_action(s, ignore_location=True, p=common_sense_probability_threshold)\n",
    "            if TaTo is False:\n",
    "                flag_feasible_option = True\n",
    "                TaTo = Actions.get_random_possible_action(s, ignore_location=True, p=feasibility_probability_threshold)\n",
    "                \n",
    "        # Action execution\n",
    "        if flag_feasible_option:\n",
    "            success = Actions.do(s, TaTo, ignore_location=True, p=feasibility_probability_threshold)\n",
    "        else:\n",
    "            success = Actions.do(s, TaTo, ignore_location=True, p=common_sense_probability_threshold)\n",
    "        if success:\n",
    "            TaTos.append(TaTo)\n",
    "            break\n"
   ]
  },
  {
   "cell_type": "code",
   "execution_count": 16,
   "id": "604235a8",
   "metadata": {},
   "outputs": [
    {
     "data": {
      "text/plain": [
       "[('close', 'drawer'),\n",
       " ('put_on_target', 'cup'),\n",
       " ('open', 'drawer'),\n",
       " ('pick_up', 'cup1'),\n",
       " ('close', 'drawer'),\n",
       " ('put_on_target', 'cup1'),\n",
       " ('pick_up', 'cup'),\n",
       " ('put_on_target', 'drawer'),\n",
       " ('pick_up', 'cup1'),\n",
       " ('put_on_target', 'cup'),\n",
       " ('open', 'drawer'),\n",
       " ('close', 'drawer'),\n",
       " ('pick_up', 'cup1'),\n",
       " ('put_on_target', 'drawer'),\n",
       " ('open', 'drawer'),\n",
       " ('close', 'drawer'),\n",
       " ('pick_up', 'cup1'),\n",
       " ('put_on_target', 'cup1'),\n",
       " ('pick_up', 'cup'),\n",
       " ('open', 'drawer')]"
      ]
     },
     "execution_count": 16,
     "metadata": {},
     "output_type": "execute_result"
    }
   ],
   "source": [
    "TaTos"
   ]
  },
  {
   "cell_type": "markdown",
   "id": "2774d157",
   "metadata": {},
   "source": [
    "# Dataset generation for classification task"
   ]
  },
  {
   "cell_type": "markdown",
   "id": "dfe8d5b4",
   "metadata": {},
   "source": [
    "### Ex. 4: dataset_01 generator\n",
    "\n",
    "- 6 Actions + 6 Gestures\n",
    "- move_up is not feasible currently (0 samples) and pour has small probability to be used (\\~50 samples), close and pick_up are most probable (\\~300 samples) \n",
    "- 1000 draws\n",
    "- CM is diagonal 2D\n",
    "- types, scene and other features are not used\n",
    "- scene: 2 drawers, 3 cups, initialized randomly"
   ]
  },
  {
   "cell_type": "code",
   "execution_count": 17,
   "id": "e1a323f2",
   "metadata": {},
   "outputs": [],
   "source": [
    "from submodules import Robots, Tasks, Users\n",
    "from submodules.Objects import Object\n",
    "from submodules.Scenes import Scene\n",
    "from submodules.Actions import Actions\n",
    "from submodules.Gestures import Gestures\n",
    "from submodules.Users import Users\n",
    "from model_noK import *\n",
    "import numpy as np\n",
    "from numpy import array as a"
   ]
  },
  {
   "cell_type": "code",
   "execution_count": 22,
   "id": "66adade3",
   "metadata": {},
   "outputs": [],
   "source": [
    "A = Actions.A = ['move_up', 'open', 'put', 'pour', 'close', 'pick_up']\n",
    "G = Actions.G = ['swipe_up', 'open', 'swipe_back', 'hold', 'rotate', 'swipe_forward']\n",
    "Otypes = Object.all_types\n",
    "lenA = len(A)\n",
    "lenG = len(G)\n",
    "lenOtypes = len(Otypes)"
   ]
  },
  {
   "cell_type": "code",
   "execution_count": 23,
   "id": "342dcd77",
   "metadata": {},
   "outputs": [],
   "source": [
    "CM = np.diag(np.ones(lenA))"
   ]
  },
  {
   "cell_type": "code",
   "execution_count": 24,
   "id": "f09429e9",
   "metadata": {},
   "outputs": [],
   "source": [
    "draws = 1000\n",
    "common_sense_probability_threshold = 0.9\n",
    "feasibility_probability_threshold = 0.01"
   ]
  },
  {
   "cell_type": "code",
   "execution_count": 25,
   "id": "93eac4e9",
   "metadata": {},
   "outputs": [],
   "source": [
    "dataset = []\n",
    "# Generate random action\n",
    "for i in range(draws):\n",
    "    s = Scene(init='drawer,drawer,cup,cup,cup', random=True)\n",
    "    # Random draw from possible actions\n",
    "    TaTo = Actions.get_random_possible_action(s, ignore_location=True, p=common_sense_probability_threshold)\n",
    "    \n",
    "    gobs = create_observation_compact(s,TaTo)\n",
    "    \n",
    "    dataset.append((s.to_dict(), TaTo, gobs))"
   ]
  },
  {
   "cell_type": "code",
   "execution_count": 26,
   "id": "165ccf9e",
   "metadata": {},
   "outputs": [],
   "source": [
    "save_with_config(dataset, name='dataset01')"
   ]
  },
  {
   "cell_type": "markdown",
   "id": "63216346",
   "metadata": {},
   "source": [
    "View how different actions were drafted"
   ]
  },
  {
   "cell_type": "code",
   "execution_count": 27,
   "id": "81fb0a38",
   "metadata": {},
   "outputs": [
    {
     "name": "stdout",
     "output_type": "stream",
     "text": [
      "Action occurances: [  0. 137. 167.  47. 355. 294.]\n"
     ]
    }
   ],
   "source": [
    "show_each_action_occurance(dataset)"
   ]
  },
  {
   "cell_type": "markdown",
   "id": "f9bac7be",
   "metadata": {},
   "source": [
    "### Ex. 5: dataset02 generator\n",
    "\n",
    "- 6 Actions + 6 Gestures\n",
    "- 1000 draws\n",
    "- CM is 2D, with picked values:\n",
    "```\n",
    "          | gestures:\n",
    "actions:| swipe_up, open, swipe_back, hold, rotate, swipe_forward\n",
    "move_up | [[0.7,    0.3,  0.0,        0,    0,       0  ],         \n",
    "open    | [0.2,     0.4,  0.4,        0,    0,       0  ],        \n",
    "put     | [0.0,     0.4,  0.6,        0,    0,       0  ],        \n",
    "pour    | [0.0,     0.0,  0.0,        0.2,  0.8,     0.0],        \n",
    "close   | [0.0,     0.0,  0.0,        0.2,  0.0,     0.8],        \n",
    "pick_up | [0.7,     0.0,  0.0,        0.3,  0.0,     0.0]]        \n",
    "```\n",
    "- types, scene and other features are not used\n",
    "- scene: 2 drawers, 3 cups, initialized randomly"
   ]
  },
  {
   "cell_type": "code",
   "execution_count": 28,
   "id": "5c2737b0",
   "metadata": {},
   "outputs": [],
   "source": [
    "from submodules import Robots, Tasks, Users\n",
    "from submodules.Objects import Object\n",
    "from submodules.Scenes import Scene\n",
    "from submodules.Actions import Actions\n",
    "from submodules.Gestures import Gestures\n",
    "from submodules.Users import Users\n",
    "from model_noK import *\n",
    "import numpy as np\n",
    "from numpy import array as a\n",
    "import os"
   ]
  },
  {
   "cell_type": "code",
   "execution_count": 29,
   "id": "ec4f42fe",
   "metadata": {},
   "outputs": [],
   "source": [
    "A = Actions.A\n",
    "G = Gestures.G\n",
    "Otypes = Object.all_types\n",
    "lenA = len(A)\n",
    "lenG = len(G)\n",
    "lenOtypes = len(Otypes)"
   ]
  },
  {
   "cell_type": "code",
   "execution_count": 30,
   "id": "c9d601e3",
   "metadata": {},
   "outputs": [],
   "source": [
    "CM = np.zeros((lenA,lenG))\n",
    "CM[:,:] = np.array([[0.7, 0.3, 0.0, 0, 0, 0],\n",
    "                    [0.2, 0.4, 0.4, 0, 0, 0],\n",
    "                    [0.0, 0.4, 0.6, 0, 0, 0],\n",
    "                    [0.0, 0.0, 0.0, 0.2, 0.8, 0.0],\n",
    "                    [0.0, 0.0, 0.0, 0.2, 0.0, 0.8],\n",
    "                    [0.7, 0.0, 0.0, 0.3, 0.0, 0.0]])"
   ]
  },
  {
   "cell_type": "code",
   "execution_count": 31,
   "id": "0d824714",
   "metadata": {},
   "outputs": [],
   "source": [
    "draws = 1000\n",
    "common_sense_probability_threshold = 0.9\n",
    "feasibility_probability_threshold = 0.01"
   ]
  },
  {
   "cell_type": "code",
   "execution_count": 32,
   "id": "5048f249",
   "metadata": {},
   "outputs": [],
   "source": [
    "dataset = []\n",
    "# Generate random action\n",
    "for i in range(draws):\n",
    "    s = Scene(init='drawer,drawer,cup,cup,cup', random=True)\n",
    "    # Random draw from possible actions\n",
    "    TaTo = Actions.get_random_possible_action(s, ignore_location=True, p=common_sense_probability_threshold)\n",
    "    \n",
    "    gobs = create_observation_compact(s,TaTo)\n",
    "    \n",
    "    dataset.append((s.to_dict(), TaTo, gobs))"
   ]
  },
  {
   "cell_type": "code",
   "execution_count": 33,
   "id": "d8ec080f",
   "metadata": {},
   "outputs": [],
   "source": [
    "save_with_config(dataset, name='dataset02')"
   ]
  },
  {
   "cell_type": "code",
   "execution_count": 34,
   "id": "f4b5ca93",
   "metadata": {},
   "outputs": [
    {
     "name": "stdout",
     "output_type": "stream",
     "text": [
      "Action occurances: [  0. 136. 185.  44. 337. 298.]\n"
     ]
    }
   ],
   "source": [
    "show_each_action_occurance(dataset)"
   ]
  },
  {
   "cell_type": "markdown",
   "id": "5bf35ceb",
   "metadata": {},
   "source": [
    "### Ex. 6: dataset03 generator\n",
    "\n",
    "- Put all-in\n",
    "- 7 Actions + 7 Gestures\n",
    "- 1000 draws (10000 draws as `dataset03_10000d`)\n",
    "- CM is 4D `[2,2,7,7]`\n",
    "- types, scene and other features are not used\n",
    "- scene: 2 drawers, 3 cups, initialized randomly"
   ]
  },
  {
   "cell_type": "code",
   "execution_count": 35,
   "id": "8b214706",
   "metadata": {},
   "outputs": [],
   "source": [
    "from submodules import Robots, Tasks, Users\n",
    "from submodules.Objects import Object\n",
    "from submodules.Scenes import Scene\n",
    "from submodules.Actions import Actions\n",
    "from submodules.Gestures import Gestures\n",
    "from submodules.Users import Users\n",
    "from model_noK import *\n",
    "import numpy as np\n",
    "from numpy import array as a"
   ]
  },
  {
   "cell_type": "code",
   "execution_count": 36,
   "id": "9dfafb65",
   "metadata": {},
   "outputs": [],
   "source": [
    "A = Actions.A = ['move_up', 'open', 'put', 'pour', 'close', 'pick_up', 'put_on_target']\n",
    "G = Gestures.G = ['swipe_up', 'open', 'swipe_back', 'hold', 'rotate', 'swipe_forward', 'swipe_left']\n",
    "Otypes = Object.all_types\n",
    "lenA = len(A)\n",
    "lenG = len(G)\n",
    "lenOtypes = len(Otypes)"
   ]
  },
  {
   "cell_type": "code",
   "execution_count": 37,
   "id": "28b9e090",
   "metadata": {},
   "outputs": [],
   "source": [
    "CM = np.zeros((2,2, lenA,lenG)) # users x object types x actions x gestures\n",
    "# user 0, objtyp 0\n",
    "CM[0,0,:,:] = [[0.6, 0, 0.4, 0, 0, 0, 0], #two gestures for moving up the cup\n",
    "               [0  , 0, 0  , 0, 0, 0, 0], #target action for cup cannot be open or close (zero probs.)\n",
    "               [0  , 1, 0  , 0, 0, 0, 0], #same gesture for move front as for open\n",
    "               [0  , 0, 0  , 1, 0, 0, 0],\n",
    "               [0  , 0, 0  , 0, 0, 0, 0],\n",
    "               [0  , 0, 0  , 0, 0, 1, 0],\n",
    "               [0  , 0, 0  , 0, 0, 0, 1]]\n",
    "CM[1,0,:,:] = [[0.4, 0, 0.6, 0, 0,  0  , 0],\n",
    "               [0  , 0, 0  , 0, 0,  0  , 0],\n",
    "               [0  , 1, 0  , 0, 0,  0  , 0],\n",
    "               [0  , 0, 0  , 1, 0,  0  , 0],\n",
    "               [0  , 0, 0  , 0, 0,  0  , 0], #target action for cup cannot be open or close\n",
    "               [0  , 0, 0  , 0, 0.2,0.8, 0],\n",
    "               [0  , 0, 0  , 0, 0.2,0.8, 0]]\n",
    "CM[0, 1, :, :] = [[0, 0, 0, 0, 0, 0, 0],\n",
    "                  [0, 1, 0, 0, 0, 0, 0],\n",
    "                  [0, 0, 1, 0, 0, 0, 0],\n",
    "                  [0, 0, 0, 1, 0, 0, 0],\n",
    "                  [0, 0, 0, 0, 1, 0, 0],\n",
    "                  [0, 0, 0, 0, 0, 1, 0],\n",
    "                  [0, 0, 0, 0, 0, 0, 1]]\n",
    "CM[1, 1, :, :] = [[0.4, 0, 0.6, 0, 0  , 0  , 0],\n",
    "                  [0  , 1, 0  , 0, 0  , 0  , 0],\n",
    "                  [0  , 1, 0  , 0, 0  , 0  , 0],\n",
    "                  [0  , 0, 0  , 1, 0  , 0  , 0],\n",
    "                  [0  , 0, 0  , 0, 0.8, 0.2, 0], #two gestures for closing drawer\n",
    "                  [0  , 0, 0  , 0, 0  , 0  , 0],\n",
    "                  [0  , 0, 0  , 0, 0  , 0  , 1]]"
   ]
  },
  {
   "cell_type": "code",
   "execution_count": 38,
   "id": "18ffd62a",
   "metadata": {},
   "outputs": [],
   "source": [
    "draws = 1000\n",
    "common_sense_probability_threshold = 0.9\n",
    "feasibility_probability_threshold = 0.01"
   ]
  },
  {
   "cell_type": "code",
   "execution_count": 39,
   "id": "eebd9660",
   "metadata": {},
   "outputs": [],
   "source": [
    "def create_observation_compact(s,TaTo):\n",
    "    target_object_id = s.O.index(TaTo[1])\n",
    "    target_action_id = Actions.A.index(TaTo[0])\n",
    "    target_object_type_id = Object.all_types.index(getattr(s, TaTo[1]).type)\n",
    "    \n",
    "    gesture_probs_intent = CM[0,target_object_type_id,target_action_id,:]\n",
    "    performed_gesture = np.random.choice(np.arange(lenG),p = gesture_probs_intent,size=1)\n",
    "    gesture_vec = np.zeros(lenG)\n",
    "    gesture_vec[performed_gesture] = 1\n",
    "    gesture_vec = abs(gesture_vec + np.random.normal(loc = 0, scale = 0.2,size =(1,lenG)))[0]\n",
    "    gesture_vec = gesture_vec/np.sum(gesture_vec)\n",
    "    return gesture_vec "
   ]
  },
  {
   "cell_type": "code",
   "execution_count": 40,
   "id": "ec9f8d5d",
   "metadata": {},
   "outputs": [],
   "source": [
    "dataset = []\n",
    "# Generate random action\n",
    "for i in range(draws):\n",
    "    s = Scene(init='drawer,drawer,cup,cup,cup', random=True)\n",
    "    # Random draw from possible actions\n",
    "    TaTo = Actions.get_random_possible_action(s, ignore_location=True, p=common_sense_probability_threshold)\n",
    "    \n",
    "    gobs = create_observation_compact(s,TaTo)\n",
    "    \n",
    "    dataset.append((s.to_dict(), TaTo, gobs))"
   ]
  },
  {
   "cell_type": "code",
   "execution_count": 41,
   "id": "554d8d4f",
   "metadata": {},
   "outputs": [],
   "source": [
    "save_with_config(dataset, name='dataset03')"
   ]
  },
  {
   "cell_type": "code",
   "execution_count": 42,
   "id": "5ac358c9",
   "metadata": {},
   "outputs": [
    {
     "name": "stdout",
     "output_type": "stream",
     "text": [
      "Action occurances: [   0.  794.  846.  268. 2367. 2936. 2789.]\n"
     ]
    }
   ],
   "source": [
    "show_each_action_occurance(dataset)"
   ]
  },
  {
   "cell_type": "code",
   "execution_count": null,
   "id": "0195a100",
   "metadata": {},
   "outputs": [],
   "source": []
  },
  {
   "cell_type": "code",
   "execution_count": null,
   "id": "0d2440ba",
   "metadata": {},
   "outputs": [],
   "source": []
  },
  {
   "cell_type": "markdown",
   "id": "07a6ac13",
   "metadata": {},
   "source": [
    "### Scene all absolute informations in: dataset04_all_scene_info"
   ]
  },
  {
   "cell_type": "code",
   "execution_count": 1,
   "id": "b50ad8e1",
   "metadata": {},
   "outputs": [],
   "source": [
    "from submodules import Robots, Tasks, Users\n",
    "from submodules.Objects import Object\n",
    "from submodules.Scenes import Scene\n",
    "from submodules.Actions import Actions\n",
    "from submodules.Gestures import Gestures\n",
    "from submodules.Users import Users\n",
    "from model_noK import *\n",
    "import numpy as np\n",
    "from numpy import array as a"
   ]
  },
  {
   "cell_type": "code",
   "execution_count": 2,
   "id": "e5b7eb40",
   "metadata": {},
   "outputs": [],
   "source": [
    "A = Actions.A = ['move_up', 'open', 'put', 'pour', 'close', 'pick_up', 'put_on_target']\n",
    "G = Gestures.G = ['swipe_up', 'open', 'swipe_back', 'hold', 'rotate', 'swipe_forward', 'swipe_left']\n",
    "Otypes = Object.all_types\n",
    "lenA = len(A)\n",
    "lenG = len(G)\n",
    "lenOtypes = len(Otypes)"
   ]
  },
  {
   "cell_type": "code",
   "execution_count": 3,
   "id": "bb92873e",
   "metadata": {},
   "outputs": [],
   "source": [
    "CM = np.zeros((2,2, lenA,lenG)) # users x object types x actions x gestures\n",
    "# user 0, objtyp 0\n",
    "CM[0,0,:,:] = [[0.6, 0, 0.4, 0, 0, 0, 0], #two gestures for moving up the cup\n",
    "               [0  , 0, 0  , 0, 0, 0, 0], #target action for cup cannot be open or close (zero probs.)\n",
    "               [0  , 1, 0  , 0, 0, 0, 0], #same gesture for move front as for open\n",
    "               [0  , 0, 0  , 1, 0, 0, 0],\n",
    "               [0  , 0, 0  , 0, 0, 0, 0],\n",
    "               [0  , 0, 0  , 0, 0, 1, 0],\n",
    "               [0  , 0, 0  , 0, 0, 0, 1]]\n",
    "CM[1,0,:,:] = [[0.4, 0, 0.6, 0, 0,  0  , 0],\n",
    "               [0  , 0, 0  , 0, 0,  0  , 0],\n",
    "               [0  , 1, 0  , 0, 0,  0  , 0],\n",
    "               [0  , 0, 0  , 1, 0,  0  , 0],\n",
    "               [0  , 0, 0  , 0, 0,  0  , 0], #target action for cup cannot be open or close\n",
    "               [0  , 0, 0  , 0, 0.2,0.8, 0],\n",
    "               [0  , 0, 0  , 0, 0.2,0.8, 0]]\n",
    "CM[0, 1, :, :] = [[0, 0, 0, 0, 0, 0, 0],\n",
    "                  [0, 1, 0, 0, 0, 0, 0],\n",
    "                  [0, 0, 1, 0, 0, 0, 0],\n",
    "                  [0, 0, 0, 1, 0, 0, 0],\n",
    "                  [0, 0, 0, 0, 1, 0, 0],\n",
    "                  [0, 0, 0, 0, 0, 1, 0],\n",
    "                  [0, 0, 0, 0, 0, 0, 1]]\n",
    "CM[1, 1, :, :] = [[0.4, 0, 0.6, 0, 0  , 0  , 0],\n",
    "                  [0  , 1, 0  , 0, 0  , 0  , 0],\n",
    "                  [0  , 1, 0  , 0, 0  , 0  , 0],\n",
    "                  [0  , 0, 0  , 1, 0  , 0  , 0],\n",
    "                  [0  , 0, 0  , 0, 0.8, 0.2, 0], #two gestures for closing drawer\n",
    "                  [0  , 0, 0  , 0, 0  , 0  , 0],\n",
    "                  [0  , 0, 0  , 0, 0  , 0  , 1]]"
   ]
  },
  {
   "cell_type": "code",
   "execution_count": 4,
   "id": "5d396a12",
   "metadata": {},
   "outputs": [],
   "source": [
    "draws = 1000\n",
    "common_sense_probability_threshold = 0.9\n",
    "feasibility_probability_threshold = 0.01"
   ]
  },
  {
   "cell_type": "code",
   "execution_count": null,
   "id": "f22433b5",
   "metadata": {},
   "outputs": [],
   "source": [
    "def create_observation_compact(s,TaTo):\n",
    "    target_object_id = s.O.index(TaTo[1])\n",
    "    target_action_id = Actions.A.index(TaTo[0])\n",
    "    target_object_type_id = Object.all_types.index(getattr(s, TaTo[1]).type)\n",
    "    \n",
    "    gesture_probs_intent = CM[0,target_object_type_id,target_action_id,:]\n",
    "    performed_gesture = np.random.choice(np.arange(lenG),p = gesture_probs_intent,size=1)\n",
    "    gesture_vec = np.zeros(lenG)\n",
    "    gesture_vec[performed_gesture] = 1\n",
    "    gesture_vec = abs(gesture_vec + np.random.normal(loc = 0, scale = 0.2,size =(1,lenG)))[0]\n",
    "    gesture_vec = gesture_vec/np.sum(gesture_vec)\n",
    "    return gesture_vec "
   ]
  },
  {
   "cell_type": "code",
   "execution_count": null,
   "id": "a9413a29",
   "metadata": {},
   "outputs": [],
   "source": [
    "dataset = []\n",
    "# Generate random action\n",
    "for i in range(draws):\n",
    "    s = Scene(init='cup,drawer,object', random=True)\n",
    "    # Random draw from possible actions\n",
    "    TaTo = Actions.get_random_possible_action(s, ignore_location=True, p=common_sense_probability_threshold)\n",
    "    \n",
    "    gobs = create_observation_compact(s,TaTo)\n",
    "    \n",
    "    dataset.append((s.to_dict(), TaTo, gobs))"
   ]
  },
  {
   "cell_type": "code",
   "execution_count": null,
   "id": "93e7121b",
   "metadata": {},
   "outputs": [],
   "source": [
    "save_with_config(dataset, name='dataset04_all_scene_info')"
   ]
  },
  {
   "cell_type": "code",
   "execution_count": null,
   "id": "727c3e92",
   "metadata": {},
   "outputs": [],
   "source": [
    "show_each_action_occurance(dataset)"
   ]
  },
  {
   "cell_type": "code",
   "execution_count": null,
   "id": "e15a0188",
   "metadata": {},
   "outputs": [],
   "source": []
  },
  {
   "cell_type": "markdown",
   "id": "52658672",
   "metadata": {},
   "source": [
    "# Task 10.9. Generate three datasets\n",
    "### Ds. 1: dataset2_1 generator\n",
    "\n",
    "- Direct mapping + scene + target object\n",
    "- 11 Actions + 9 Gestures\n",
    "- 10000 draws\n",
    "- CM is:\n",
    "    - `dataset2_1` 2D `[11,9]`\n",
    "    - `dataset2_2` 3D `[3,11,9]`\n",
    "    - `dataset2_3` 4D `[2,3,11,9]`\n",
    "- types, scene and other features are not used\n",
    "- scene: n objects - initialized randomly\n",
    "- target object generation type: **random**"
   ]
  },
  {
   "cell_type": "code",
   "execution_count": 1,
   "id": "caf0beae",
   "metadata": {},
   "outputs": [],
   "source": [
    "from submodules import Robots, Tasks, Users\n",
    "from submodules.Objects import Object\n",
    "from submodules.Scenes import Scene\n",
    "from submodules.Actions import Actions\n",
    "from submodules.Gestures import Gestures\n",
    "from submodules.Users import Users\n",
    "from model_noK import *\n",
    "import numpy as np\n",
    "from numpy import array as a\n",
    "import os"
   ]
  },
  {
   "cell_type": "code",
   "execution_count": 2,
   "id": "80e54fad",
   "metadata": {},
   "outputs": [],
   "source": [
    "A = Actions.A = ['move_up', 'move_left', 'move_down', 'move_right', \n",
    "                 'put', 'put_on', 'pour', 'pick_up', 'place', 'open', 'close']\n",
    "\n",
    "G = Gestures.G = ['swipe_up', 'swipe_left', 'swipe_down', 'swipe_right', \n",
    "                  'five', 'grab', 'thumbsup', 'rotate', 'point']\n",
    "Otypes = Object.all_types\n",
    "lenA = len(A)\n",
    "lenG = len(G)\n",
    "lenOtypes = len(Otypes)\n",
    "object_types_order_list = ['cup', 'drawer', 'object', 'cup', 'drawer', 'object', 'cup']"
   ]
  },
  {
   "cell_type": "code",
   "execution_count": 22,
   "id": "34ac5353",
   "metadata": {},
   "outputs": [],
   "source": [
    "CM1 = np.zeros((lenA,lenG)) # actions x gestures\n",
    "                    # up,left,dwn,rght,fiv,grab,thum,rota,poin\n",
    "CM1[:,:] = np.array([[.7,  .0, .0,  .0, .3, .0,   .0,  .0,  .0], # move_up\n",
    "                     [.0,  .7, .0,  .0, .1, .0,   .1,  .1,  .0], # move_left\n",
    "                     [.0,  .0, .7,  .0, .2, .0,   .0,  .1,  .0], # move_down\n",
    "                     [.0,  .0, .0,  .7, .3, .0,   .0,  .0,  .0], # move_right\n",
    "                     [.0,  .0, .4,  .0, .2, .0,   .0,  .0,  .4], # put\n",
    "                     [.0,  .0,  1,  .0, .0, .0,   .0,  .0,  .0], # put_on\n",
    "                     [.0,  .0, .0,  .0, .0, .0,   .1,  .9,  .0], # pour\n",
    "                     [.2,  .0, .0,  .0, .0, .7,   .1,  .0,  .0], # pick_up\n",
    "                     [.0,  .0, .0,  .0, .0, .0,   .3,  .0,  .7], # place\n",
    "                     [.5,  .0, .0,  .0, .0, .5,   .0,  .0,  .0], # open\n",
    "                     [.0,  .0, .5,  .0, .0, .5,   .0,  .0,  .0]])# close"
   ]
  },
  {
   "cell_type": "code",
   "execution_count": 23,
   "id": "8fbfd7b9",
   "metadata": {},
   "outputs": [],
   "source": [
    "CM2 = np.zeros((3, lenA,lenG)) # object types x actions x gestures\n",
    "# objtyp 0: cup\n",
    "                        # up,left,dwn,rght,fiv,grab,thum,rota,poin\n",
    "CM2[0,:,:] = np.array([[.7,  .0, .0,  .0, .3, .0,   .0,  .0,  .0], # move_up\n",
    "                       [.0,  .8, .0,  .0, .0, .0,   .1,  .1,  .0], # move_left\n",
    "                       [.0,  .0, .7,  .0, .2, .0,   .0,  .1,  .0], # move_down\n",
    "                       [.0,  .0, .0,  .7, .3, .0,   .0,  .0,  .0], # move_right\n",
    "                       [.0,  .0, .0,  .0, .0, .0,   .0,  .0,  .0], # put\n",
    "                       [.0,  .0, .0,  .0, .0, .0,   .0,  .0,  .0], # put_on\n",
    "                       [.0,  .0, .0,  .0, .0, .0,   .1,  .9,  .0], # pour\n",
    "                       [.2,  .0, .0,  .0, .0, .7,   .1,  .0,  .0], # pick_up\n",
    "                       [.0,  .0, .0,  .0, .0, .0,    1,  .0,  .0], # place\n",
    "                       [.0,  .0, .0,  .0, .0, .0,   .0,  .0,  .0], # open\n",
    "                       [.0,  .0, .0,  .0, .0, .0,   .0,  .0,  .0]])# close\n",
    "# user 0, objtyp 1: drawer\n",
    "                      # up,left,dwn,rght,fiv,grab,thum,rota,poin\n",
    "CM2[1,:,:] = np.array([[.7,  .0, .0,  .0, .3, .0,   .0,  .0,  .0], # move_up\n",
    "                       [.0,  .7, .0,  .0, .1, .0,   .1,  .1,  .0], # move_left\n",
    "                       [.0,  .0, .7,  .0, .2, .0,   .0,  .1,  .0], # move_down\n",
    "                       [.0,  .0, .0,  .7, .3, .0,   .0,  .0,  .0], # move_right\n",
    "                       [.0,  .0, .4,  .0, .2, .0,   .0,  .0,  .4], # put\n",
    "                       [.0,  .0, .5,  .0, .0, .0,   .0,  .0,  .5], # put_on\n",
    "                       [.0,  .0, .0,  .0, .0, .0,   .0,  .0,  .0], # pour\n",
    "                       [.0,  .0, .0,  .0, .0, .0,   .0,  .0,  .0], # pick_up\n",
    "                       [.0,  .0, .0,  .0, .0, .0,   .3,  .0,  .7], # place\n",
    "                       [.4,  .0, .0,  .0, .0, .4,   .2,  .0,  .0], # open\n",
    "                       [.0,  .0, .5,  .0, .0, .5,   .0,  .0,  .0]])# close\n",
    "# objtyp 2: object = box\n",
    "                      # up,left,dwn,rght,fiv,grab,thum,rota,poin\n",
    "CM2[2,:,:] = np.array([[.7,  .0, .0,  .0, .3, .0,   .0,  .0,  .0], # move_up\n",
    "                       [.0,  .7, .0,  .0, .1, .0,   .1,  .1,  .0], # move_left\n",
    "                       [.0,  .0, .7,  .0, .2, .0,   .0,  .1,  .0], # move_down\n",
    "                       [.0,  .0, .0,  .7, .3, .0,   .0,  .0,  .0], # move_right\n",
    "                       [.0,  .0, .4,  .0, .2, .0,   .0,  .0,  .4], # put\n",
    "                       [.0,  .0, .5,  .0, .0, .0,   .0,  .0,  .5], # put_on\n",
    "                       [.0,  .0, .0,  .0, .0, .0,   .0,  .0,  .0], # pour\n",
    "                       [.2,  .0, .0,  .0, .0, .7,   .1,  .0,  .0], # pick_up\n",
    "                       [.0,  .0, .0,  .0, .0, .0,   .3,  .0,  .7], # place\n",
    "                       [.0,  .0, .0,  .0, .0, .0,   .0,  .0,  .0], # open\n",
    "                       [.0,  .0, .0,  .0, .0, .0,   .0,  .0,  .0]])# close"
   ]
  },
  {
   "cell_type": "code",
   "execution_count": 35,
   "id": "608f458a",
   "metadata": {},
   "outputs": [],
   "source": [
    "CM3 = np.zeros((2,3, lenA,lenG)) # users x object types x actions x gestures\n",
    "CM3[0,0,:,:] = np.array([[ 1,  .0, .0,  .0,  0, .0,   .0,  .0,  .0], # move_up\n",
    "                         [.0,   1, .0,  .0, .0, .0,    0,   0,  .0], # move_left\n",
    "                         [.0,  .0,  1,  .0,  0, .0,   .0,   0,  .0], # move_down\n",
    "                         [.0,  .0, .0,   1,  0, .0,   .0,  .0,  .0], # move_right\n",
    "                         [.0,  .0, .0,  .0, .0, .0,   .0,  .0,  .0], # put\n",
    "                         [.0,  .0, .0,  .0, .0, .0,   .0,  .0,  .0], # put_on\n",
    "                         [.0,  .0, .0,  .0, .0, .0,    0,   1,  .0], # pour\n",
    "                         [.0,  .0, .0,  .0, .0,  1,    0,  .0,  .0], # pick_up\n",
    "                         [.0,  .0, .0,  .0, .0, .0,    0,  .0,   1], # place\n",
    "                         [.0,  .0, .0,  .0, .0, .0,   .0,  .0,  .0], # open\n",
    "                         [.0,  .0, .0,  .0, .0, .0,   .0,  .0,  .0]])# close\n",
    "# objtyp 1: drawer\n",
    "                      # up,left,dwn,rght,fiv,grab,thum,rota,poin\n",
    "CM3[0,1,:,:] = np.array([[ 1,  .0, .0,  .0,  0, .0,   .0,  .0,  .0], # move_up\n",
    "                         [.0,   1, .0,  .0,  0, .0,    0,   0,  .0], # move_left\n",
    "                         [.0,  .0,  1,  .0,  0, .0,   .0,   0,  .0], # move_down\n",
    "                         [.0,  .0, .0,   1,  0, .0,   .0,  .0,  .0], # move_right\n",
    "                         [.0,  .0,  0,  .0,  0, .0,   .0,  .0,   1], # put\n",
    "                         [.0,  .0,  0,  .0, .0, .0,    1,  .0,   0], # put_on\n",
    "                         [.0,  .0, .0,  .0, .0, .0,   .0,  .0,  .0], # pour\n",
    "                         [.0,  .0, .0,  .0, .0, .0,   .0,  .0,  .0], # pick_up\n",
    "                         [.0,  .0, .0,  .0, .0,  1,    0,  .0,   0], # place\n",
    "                         [ 0,  .0, .0,  .0, .0,  0,    0,   1,  .0], # open\n",
    "                         [.0,  .0,  0,  .0,  1,  0,   .0,  .0,  .0]])# close\n",
    "# user 0, objtyp 2: object = box\n",
    "                        # up,left,dwn,rght,fiv,grab,thum,rota,poin\n",
    "CM3[0,2,:,:] = np.array([[ 1,  .0, .0,  .0,  0, .0,   .0,  .0,  .0], # move_up\n",
    "                         [.0,   1, .0,  .0,  0, .0,    0,   0,  .0], # move_left\n",
    "                         [.0,  .0,  1,  .0,  0, .0,   .0,   0,  .0], # move_down\n",
    "                         [.0,  .0, .0,   1,  0, .0,   .0,  .0,  .0], # move_right\n",
    "                         [.0,  .0,  0,  .0,  1, .0,   .0,  .0,   0], # put\n",
    "                         [.0,  .0,  0,  .0, .0, .0,   .0,  .0,   1], # put_on\n",
    "                         [.0,  .0, .0,  .0, .0, .0,   .0,  .0,  .0], # pour\n",
    "                         [ 0,  .0, .0,  .0, .0,  1,    0,  .0,  .0], # pick_up\n",
    "                         [.0,  .0, .0,  .0, .0, .0,    1,  .0,   0], # place\n",
    "                         [.0,  .0, .0,  .0, .0, .0,   .0,  .0,  .0], # open\n",
    "                         [.0,  .0, .0,  .0, .0, .0,   .0,  .0,  .0]])# close\n",
    "# user 1, objtyp 0: cup\n",
    "                        # up,left,dwn,rght,fiv,grab,thum,rota,poin\n",
    "CM3[0,0,:,:] = np.array([[.7,  .0, .0,  .0, .3, .0,   .0,  .0,  .0], # move_up\n",
    "                         [.0,  .8, .0,  .0, .0, .0,   .1,  .1,  .0], # move_left\n",
    "                         [.0,  .0, .7,  .0, .2, .0,   .0,  .1,  .0], # move_down\n",
    "                         [.0,  .0, .0,  .7, .3, .0,   .0,  .0,  .0], # move_right\n",
    "                         [.0,  .0, .0,  .0, .0, .0,   .0,  .0,  .0], # put\n",
    "                         [.0,  .0, .0,  .0, .0, .0,   .0,  .0,  .0], # put_on\n",
    "                         [.0,  .0, .0,  .0, .0, .0,   .1,  .9,  .0], # pour\n",
    "                         [.2,  .0, .0,  .0, .0, .7,   .1,  .0,  .0], # pick_up\n",
    "                         [.0,  .0, .0,  .0, .0, .0,    1,  .0,  .0], # place\n",
    "                         [.0,  .0, .0,  .0, .0, .0,   .0,  .0,  .0], # open\n",
    "                         [.0,  .0, .0,  .0, .0, .0,   .0,  .0,  .0]])# close\n",
    "# user 1, objtyp 1: drawer\n",
    "                      # up,left,dwn,rght,fiv,grab,thum,rota,poin\n",
    "CM3[0,1,:,:] = np.array([[.7,  .0, .0,  .0, .3, .0,   .0,  .0,  .0], # move_up\n",
    "                         [.0,  .7, .0,  .0, .1, .0,   .1,  .1,  .0], # move_left\n",
    "                         [.0,  .0, .7,  .0, .2, .0,   .0,  .1,  .0], # move_down\n",
    "                         [.0,  .0, .0,  .7, .3, .0,   .0,  .0,  .0], # move_right\n",
    "                         [.0,  .0, .4,  .0, .2, .0,   .0,  .0,  .4], # put\n",
    "                         [.0,  .0, .5,  .0, .0, .0,   .0,  .0,  .5], # put_on\n",
    "                         [.0,  .0, .0,  .0, .0, .0,   .0,  .0,  .0], # pour\n",
    "                         [.0,  .0, .0,  .0, .0, .0,   .0,  .0,  .0], # pick_up\n",
    "                         [.0,  .0, .0,  .0, .0, .0,   .3,  .0,  .7], # place\n",
    "                         [.4,  .0, .0,  .0, .0, .4,   .2,  .0,  .0], # open\n",
    "                         [.0,  .0, .5,  .0, .0, .5,   .0,  .0,  .0]])# close\n",
    "# user 1, objtyp 2: object = box\n",
    "                      # up,left,dwn,rght,fiv,grab,thum,rota,poin\n",
    "CM3[0,2,:,:] = np.array([[.7,  .0, .0,  .0, .3, .0,   .0,  .0,  .0], # move_up\n",
    "                         [.0,  .7, .0,  .0, .1, .0,   .1,  .1,  .0], # move_left\n",
    "                         [.0,  .0, .7,  .0, .2, .0,   .0,  .1,  .0], # move_down\n",
    "                         [.0,  .0, .0,  .7, .3, .0,   .0,  .0,  .0], # move_right\n",
    "                         [.0,  .0, .4,  .0, .2, .0,   .0,  .0,  .4], # put\n",
    "                         [.0,  .0, .5,  .0, .0, .0,   .0,  .0,  .5], # put_on\n",
    "                         [.0,  .0, .0,  .0, .0, .0,   .0,  .0,  .0], # pour\n",
    "                         [.2,  .0, .0,  .0, .0, .7,   .1,  .0,  .0], # pick_up\n",
    "                         [.0,  .0, .0,  .0, .0, .0,   .3,  .0,  .7], # place\n",
    "                         [.0,  .0, .0,  .0, .0, .0,   .0,  .0,  .0], # open\n",
    "                         [.0,  .0, .0,  .0, .0, .0,   .0,  .0,  .0]])# close"
   ]
  },
  {
   "cell_type": "code",
   "execution_count": 36,
   "id": "1473db39",
   "metadata": {},
   "outputs": [],
   "source": [
    "draws = 10000\n",
    "common_sense_probability_threshold = 0.9\n",
    "feasibility_probability_threshold = 0.01"
   ]
  },
  {
   "cell_type": "code",
   "execution_count": 43,
   "id": "ae202899",
   "metadata": {},
   "outputs": [],
   "source": [
    "def create_observation(s,TaTo, CM_dim=3):\n",
    "    target_object_id = s.O.index(TaTo[1])\n",
    "    target_action_id = Actions.A.index(TaTo[0])\n",
    "    target_object_type_id = Object.all_types.index(getattr(s, TaTo[1]).type)\n",
    "    user_id = np.random.randint(2)\n",
    "    \n",
    "    if CM_dim == 2:\n",
    "        gesture_probs_intent = CM1[target_action_id,:]\n",
    "    elif CM_dim == 3:\n",
    "        gesture_probs_intent = CM2[target_object_type_id,target_action_id,:]\n",
    "    elif CM_dim == 4:\n",
    "        gesture_probs_intent = CM3[user_id,target_object_type_id,target_action_id,:]\n",
    "    if sum(gesture_probs_intent) == 0:\n",
    "        return False, False\n",
    "    performed_gesture = np.random.choice(np.arange(lenG),p = gesture_probs_intent,size=1)\n",
    "\n",
    "    gesture_vec = np.zeros(lenG)\n",
    "    gesture_vec[performed_gesture] = 1\n",
    "    gesture_vec = abs(gesture_vec + np.random.normal(loc = 0, scale = 0.2,size =(1,lenG)))[0]\n",
    "    gesture_vec = gesture_vec/np.sum(gesture_vec)\n",
    "    \n",
    "    focus_point = abs(np.random.normal(loc = s.objects[target_object_id].position, scale = 0.1,size =(1,3)))\n",
    "    \n",
    "    return gesture_vec, focus_point"
   ]
  },
  {
   "cell_type": "code",
   "execution_count": 49,
   "id": "a21a75e2",
   "metadata": {},
   "outputs": [],
   "source": [
    "dataset = []\n",
    "# Generate random action\n",
    "# for i in range(draws):\n",
    "while len(dataset) < draws:\n",
    "\n",
    "    n_objects = round(np.random.normal(3.5,1))\n",
    "    init = \",\".join(object_types_order_list[0:n_objects])\n",
    "    \n",
    "    s = Scene(init=init, random=True)\n",
    "    # Random draw from possible actions\n",
    "    TaTo = Actions.get_random_possible_action(s, ignore_location=True, p=common_sense_probability_threshold)\n",
    "    if TaTo is False: continue\n",
    "    \n",
    "    gobs, oobs = create_observation(s,TaTo,CM_dim=4)\n",
    "    if gobs is False:\n",
    "        continue\n",
    "    \n",
    "    dataset.append((s.to_dict(), TaTo, gobs, oobs))\n",
    "    if i % 1000 == 0: print(i)"
   ]
  },
  {
   "cell_type": "code",
   "execution_count": 50,
   "id": "6190a278",
   "metadata": {},
   "outputs": [
    {
     "data": {
      "text/plain": [
       "10000"
      ]
     },
     "execution_count": 50,
     "metadata": {},
     "output_type": "execute_result"
    }
   ],
   "source": [
    "len(dataset)"
   ]
  },
  {
   "cell_type": "code",
   "execution_count": 51,
   "id": "05debf62",
   "metadata": {},
   "outputs": [],
   "source": [
    "CM = CM3\n",
    "save_with_config(dataset, name='dataset2_3_10000d')"
   ]
  },
  {
   "cell_type": "code",
   "execution_count": 52,
   "id": "8b25d6b1",
   "metadata": {},
   "outputs": [
    {
     "name": "stdout",
     "output_type": "stream",
     "text": [
      "Action occurances: [   0. 1850. 2566. 1854.  489.  257.   31. 1029. 1010.  248.  666.]\n"
     ]
    }
   ],
   "source": [
    "show_each_action_occurance(dataset)"
   ]
  },
  {
   "cell_type": "code",
   "execution_count": 30,
   "id": "bdb7eb5f",
   "metadata": {},
   "outputs": [
    {
     "data": {
      "text/plain": [
       "1"
      ]
     },
     "execution_count": 30,
     "metadata": {},
     "output_type": "execute_result"
    }
   ],
   "source": [
    "1"
   ]
  },
  {
   "cell_type": "code",
   "execution_count": 180,
   "id": "e790566e",
   "metadata": {},
   "outputs": [
    {
     "data": {
      "text/plain": [
       "False"
      ]
     },
     "execution_count": 180,
     "metadata": {},
     "output_type": "execute_result"
    }
   ],
   "source": [
    "TaTo"
   ]
  },
  {
   "cell_type": "code",
   "execution_count": null,
   "id": "4f2ff854",
   "metadata": {},
   "outputs": [],
   "source": []
  },
  {
   "cell_type": "markdown",
   "id": "06fb3daa",
   "metadata": {},
   "source": [
    "D1 action occurances: [   0. 1838. 2564. 1848.  473.  276.   32. 1061. 1040.  214.  644.]\n",
    "\n",
    "D2 action occurances: [   0. 1854. 2504. 1913.  507.  253.   23. 1047. 1009.  221.  653.]\n",
    "\n",
    "D3 action occurances: [   0. 1850. 2566. 1854.  489.  257.   31. 1029. 1010.  248.  666.]"
   ]
  },
  {
   "cell_type": "code",
   "execution_count": null,
   "id": "61d4f45d",
   "metadata": {},
   "outputs": [],
   "source": []
  },
  {
   "cell_type": "code",
   "execution_count": null,
   "id": "714ed296",
   "metadata": {},
   "outputs": [],
   "source": []
  },
  {
   "cell_type": "code",
   "execution_count": null,
   "id": "96d40f7f",
   "metadata": {},
   "outputs": [],
   "source": []
  },
  {
   "cell_type": "code",
   "execution_count": null,
   "id": "a9a8c707",
   "metadata": {},
   "outputs": [],
   "source": []
  }
 ],
 "metadata": {
  "kernelspec": {
   "display_name": "Python 3 (ipykernel)",
   "language": "python",
   "name": "python3"
  },
  "language_info": {
   "codemirror_mode": {
    "name": "ipython",
    "version": 3
   },
   "file_extension": ".py",
   "mimetype": "text/x-python",
   "name": "python",
   "nbconvert_exporter": "python",
   "pygments_lexer": "ipython3",
   "version": "3.8.10"
  }
 },
 "nbformat": 4,
 "nbformat_minor": 5
}
