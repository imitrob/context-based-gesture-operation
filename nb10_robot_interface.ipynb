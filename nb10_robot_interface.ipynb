{
 "cells": [
  {
   "cell_type": "markdown",
   "id": "49e3b78a",
   "metadata": {},
   "source": [
    "Intent estimation import"
   ]
  },
  {
   "cell_type": "code",
   "execution_count": 1,
   "id": "af86ef8c",
   "metadata": {},
   "outputs": [],
   "source": [
    "import sys\n",
    "from srcmodules.Scenes import Scene, SceneCoppeliaInterface\n",
    "from srcmodules.Actions import Actions\n",
    "from srcmodules.RobotActions import RobotActions,act\n",
    "from copy import deepcopy\n",
    "import numpy as np\n",
    "import os"
   ]
  },
  {
   "cell_type": "markdown",
   "id": "accc8750",
   "metadata": {},
   "source": [
    "Teleop gesture toolbox import (gestures and simulator)"
   ]
  },
  {
   "cell_type": "code",
   "execution_count": 2,
   "id": "c66a1aac",
   "metadata": {},
   "outputs": [],
   "source": [
    "sys.path.append(os.path.abspath(\"./../mirracle_sim/src\"))\n",
    "from coppelia_sim_ros_client import CoppeliaROSInterface"
   ]
  },
  {
   "cell_type": "code",
   "execution_count": 3,
   "id": "8396189c",
   "metadata": {},
   "outputs": [],
   "source": [
    "import rospy\n",
    "rospy.init_node(\"main\", anonymous=True)"
   ]
  },
  {
   "cell_type": "code",
   "execution_count": 4,
   "id": "8f38fe47",
   "metadata": {},
   "outputs": [],
   "source": [
    "cop = CoppeliaROSInterface()\n",
    "from geometry_msgs.msg import Point, Pose, Quaternion"
   ]
  },
  {
   "cell_type": "code",
   "execution_count": 5,
   "id": "fd555c02",
   "metadata": {},
   "outputs": [],
   "source": [
    "sci = SceneCoppeliaInterface(cop)"
   ]
  },
  {
   "cell_type": "code",
   "execution_count": 6,
   "id": "1c4db584",
   "metadata": {},
   "outputs": [
    {
     "data": {
      "text/plain": [
       "True"
      ]
     },
     "execution_count": 6,
     "metadata": {},
     "output_type": "execute_result"
    }
   ],
   "source": [
    "RobotActions.reset__not_general(sci, cop)"
   ]
  },
  {
   "cell_type": "markdown",
   "id": "b89b90e1",
   "metadata": {},
   "source": [
    "# Tests:"
   ]
  },
  {
   "cell_type": "markdown",
   "id": "6285a8b0",
   "metadata": {},
   "source": [
    "### Open drawer:"
   ]
  },
  {
   "cell_type": "code",
   "execution_count": 17,
   "id": "de3db64d",
   "metadata": {},
   "outputs": [
    {
     "name": "stdout",
     "output_type": "stream",
     "text": [
      "Object removed on the scene? Press enter\n"
     ]
    }
   ],
   "source": [
    "s = Scene(init='drawer')\n",
    "s.drawer.opened = False\n",
    "sci.new_scene(s)"
   ]
  },
  {
   "cell_type": "code",
   "execution_count": 22,
   "id": "54610a7c",
   "metadata": {},
   "outputs": [],
   "source": [
    "sci.new_observation(s,'drawer')"
   ]
  },
  {
   "cell_type": "code",
   "execution_count": 23,
   "id": "ac93c9be",
   "metadata": {},
   "outputs": [
    {
     "data": {
      "text/plain": [
       "True"
      ]
     },
     "execution_count": 23,
     "metadata": {},
     "output_type": "execute_result"
    }
   ],
   "source": [
    "Actions.do(s, ('open', 'drawer'), ignore_location=True)"
   ]
  },
  {
   "cell_type": "code",
   "execution_count": 24,
   "id": "412cbae6",
   "metadata": {
    "scrolled": true
   },
   "outputs": [
    {
     "name": "stdout",
     "output_type": "stream",
     "text": [
      "6/6, enter to continue, anystr else to abort!\n",
      "6/6, enter to continue, anystr else to abort!\n",
      "6/6, enter to continue, anystr else to abort!\n",
      "6/6, enter to continue, anystr else to abort!\n",
      "6/6, enter to continue, anystr else to abort!\n"
     ]
    }
   ],
   "source": [
    "RobotActions.open(s, cop, 'drawer')"
   ]
  },
  {
   "cell_type": "code",
   "execution_count": 34,
   "id": "c1dffb20",
   "metadata": {},
   "outputs": [],
   "source": [
    "cop.go_to_pose(s.position_real([2,3,1]))"
   ]
  },
  {
   "cell_type": "markdown",
   "id": "387cb8e5",
   "metadata": {},
   "source": [
    "### Close drawer"
   ]
  },
  {
   "cell_type": "code",
   "execution_count": 36,
   "id": "72c851e1",
   "metadata": {},
   "outputs": [
    {
     "name": "stdout",
     "output_type": "stream",
     "text": [
      "Object removed on the scene? Press enter\n"
     ]
    }
   ],
   "source": [
    "s = Scene(init='drawer')\n",
    "s.drawer.opened = True\n",
    "sci.new_scene(s)"
   ]
  },
  {
   "cell_type": "code",
   "execution_count": 37,
   "id": "c47b675f",
   "metadata": {},
   "outputs": [],
   "source": [
    "sci.new_observation(s,'drawer')"
   ]
  },
  {
   "cell_type": "code",
   "execution_count": 38,
   "id": "cdc167e1",
   "metadata": {},
   "outputs": [
    {
     "data": {
      "text/plain": [
       "True"
      ]
     },
     "execution_count": 38,
     "metadata": {},
     "output_type": "execute_result"
    }
   ],
   "source": [
    "Actions.do(s, ('close', 'drawer'), ignore_location=True)"
   ]
  },
  {
   "cell_type": "code",
   "execution_count": 39,
   "id": "d141b56f",
   "metadata": {},
   "outputs": [
    {
     "name": "stdout",
     "output_type": "stream",
     "text": [
      "1/6, enter to continue, anystr else to abort!\n",
      "2/6, enter to continue, anystr else to abort!\n",
      "3/6, enter to continue, anystr else to abort!\n",
      "4/6, enter to continue, anystr else to abort!\n",
      "5/6, enter to continue, anystr else to CLOSE MANUALLY!\n",
      "6/6, enter to continue, anystr else to abort!\n",
      "7/6, enter to continue, anystr else to abort!\n"
     ]
    },
    {
     "data": {
      "text/plain": [
       "True"
      ]
     },
     "execution_count": 39,
     "metadata": {},
     "output_type": "execute_result"
    }
   ],
   "source": [
    "RobotActions.close(s, cop, 'drawer')"
   ]
  },
  {
   "cell_type": "markdown",
   "id": "5bf101b2",
   "metadata": {},
   "source": [
    "### Pour"
   ]
  },
  {
   "cell_type": "code",
   "execution_count": 7,
   "id": "a80ccc45",
   "metadata": {},
   "outputs": [],
   "source": [
    "s = Scene(init='cup,cup')\n",
    "sci.new_scene(s)"
   ]
  },
  {
   "cell_type": "code",
   "execution_count": 10,
   "id": "e996e560",
   "metadata": {},
   "outputs": [],
   "source": [
    "sci.new_observation(s,'cup')"
   ]
  },
  {
   "cell_type": "code",
   "execution_count": 9,
   "id": "69ff3bc7",
   "metadata": {},
   "outputs": [
    {
     "data": {
      "text/plain": [
       "True"
      ]
     },
     "execution_count": 9,
     "metadata": {},
     "output_type": "execute_result"
    }
   ],
   "source": [
    "Actions.do(s, ('pick_up', 'cup'), ignore_location=True)"
   ]
  },
  {
   "cell_type": "code",
   "execution_count": 11,
   "id": "ac9503ab",
   "metadata": {},
   "outputs": [
    {
     "name": "stdout",
     "output_type": "stream",
     "text": [
      "1/4, enter to continue, anystr else to abort!\n",
      "2/4, enter to continue, anystr else to abort!\n",
      "3/4, enter to continue, anystr else to abort!\n",
      "4/4, enter to continue, anystr else to abort!\n"
     ]
    },
    {
     "data": {
      "text/plain": [
       "True"
      ]
     },
     "execution_count": 11,
     "metadata": {},
     "output_type": "execute_result"
    }
   ],
   "source": [
    "RobotActions.pick_up(s,cop,'cup')"
   ]
  },
  {
   "cell_type": "code",
   "execution_count": 12,
   "id": "319d1549",
   "metadata": {},
   "outputs": [],
   "source": [
    "sci.new_observation(s,'cup1')"
   ]
  },
  {
   "cell_type": "code",
   "execution_count": 13,
   "id": "2dc18c22",
   "metadata": {},
   "outputs": [
    {
     "data": {
      "text/plain": [
       "False"
      ]
     },
     "execution_count": 13,
     "metadata": {},
     "output_type": "execute_result"
    }
   ],
   "source": [
    "Actions.do(s, ('pour', 'cup1'), ignore_location=True)"
   ]
  },
  {
   "cell_type": "code",
   "execution_count": 14,
   "id": "d8c4f126",
   "metadata": {},
   "outputs": [
    {
     "name": "stdout",
     "output_type": "stream",
     "text": [
      "1/3, enter to continue, anystr else to abort!\n",
      "2/3, enter to continue, anystr else to abort!\n",
      "3/3, enter to continue, anystr else to abort!\n"
     ]
    },
    {
     "data": {
      "text/plain": [
       "True"
      ]
     },
     "execution_count": 14,
     "metadata": {},
     "output_type": "execute_result"
    }
   ],
   "source": [
    "RobotActions.pour(s,cop,'cup1')"
   ]
  },
  {
   "cell_type": "markdown",
   "id": "36618dcc",
   "metadata": {},
   "source": [
    "### Move tests"
   ]
  },
  {
   "cell_type": "code",
   "execution_count": 7,
   "id": "97e72ca1",
   "metadata": {},
   "outputs": [
    {
     "name": "stdout",
     "output_type": "stream",
     "text": [
      "Service call failed: service [/add_or_edit_object] responded with an error: b'error processing request: Filename does not exist: /home/petr/include/objects/cup.ply'\n"
     ]
    }
   ],
   "source": [
    "s = Scene(init='drawer,object,cup')\n",
    "sci.new_scene(s)"
   ]
  },
  {
   "cell_type": "code",
   "execution_count": 18,
   "id": "4278905d",
   "metadata": {},
   "outputs": [
    {
     "name": "stdout",
     "output_type": "stream",
     "text": [
      "1/1, enter to continue, anystr else to abort!\n"
     ]
    },
    {
     "data": {
      "text/plain": [
       "True"
      ]
     },
     "execution_count": 18,
     "metadata": {},
     "output_type": "execute_result"
    }
   ],
   "source": [
    "act(s,cop,('move_down','cup'))"
   ]
  },
  {
   "cell_type": "code",
   "execution_count": 13,
   "id": "4a596f33",
   "metadata": {},
   "outputs": [
    {
     "name": "stdout",
     "output_type": "stream",
     "text": [
      "1/1, enter to continue, anystr else to abort!\n"
     ]
    },
    {
     "data": {
      "text/plain": [
       "True"
      ]
     },
     "execution_count": 13,
     "metadata": {},
     "output_type": "execute_result"
    }
   ],
   "source": [
    "RobotActions.move_front(s,cop,'')"
   ]
  },
  {
   "cell_type": "code",
   "execution_count": 14,
   "id": "0d89f938",
   "metadata": {},
   "outputs": [],
   "source": [
    "sci.new_observation([0.4,0.0,0.4])"
   ]
  },
  {
   "cell_type": "code",
   "execution_count": 6,
   "id": "823ecc52",
   "metadata": {
    "scrolled": false
   },
   "outputs": [
    {
     "name": "stderr",
     "output_type": "stream",
     "text": [
      "[WARN] [1662907645.916926]: Inbound TCP/IP connection failed: connection from sender terminated before handshake header received. 0 bytes were received. Please check sender for additional details.\n"
     ]
    }
   ],
   "source": [
    "s = Scene(init='cup,object')\n",
    "sci.new_scene(s)"
   ]
  },
  {
   "cell_type": "markdown",
   "id": "1a6dc7ac",
   "metadata": {},
   "source": [
    "Possibility to list all possible actions:"
   ]
  },
  {
   "cell_type": "code",
   "execution_count": 60,
   "id": "6915e6b5",
   "metadata": {},
   "outputs": [
    {
     "data": {
      "text/plain": [
       "[('put', 'object')]"
      ]
     },
     "execution_count": 60,
     "metadata": {},
     "output_type": "execute_result"
    }
   ],
   "source": [
    "Actions.get_possible_actions(s, ignore_location=True)"
   ]
  },
  {
   "cell_type": "markdown",
   "id": "4e7c5fc7",
   "metadata": {},
   "source": [
    "Few of the examples:"
   ]
  },
  {
   "cell_type": "code",
   "execution_count": null,
   "id": "e725c2e4",
   "metadata": {},
   "outputs": [],
   "source": [
    "if not RobotActions.pick_object(s, 'cup'): raise Exception(\"Not successfull\")\n",
    "if not Actions.do(s, ('pick_up', 'cup'), ignore_location=True): raise Exception(\"Not successfull\")\n",
    "\n",
    "if not RobotActions.put(s, 'object'): raise Exception(\"Not successfull\")\n",
    "if not Actions.do(s, ('put', 'object'), ignore_location=True): raise Exception(\"Not successfull\")\n",
    "    \n",
    "if not RobotActions.pick_object(s, 'object'): raise Exception(\"Not successfull\")\n",
    "if not Actions.do(s, ('pick_up', 'cup'), ignore_location=True): raise Exception(\"Not successfull\")"
   ]
  },
  {
   "cell_type": "code",
   "execution_count": null,
   "id": "86787dc9",
   "metadata": {},
   "outputs": [],
   "source": []
  },
  {
   "cell_type": "markdown",
   "id": "cadd6727",
   "metadata": {},
   "source": [
    "### Pick up"
   ]
  },
  {
   "cell_type": "code",
   "execution_count": 7,
   "id": "cf2cfa0c",
   "metadata": {},
   "outputs": [],
   "source": [
    "# Create scene with opened drawer\n",
    "s = Scene(init='cup', random=False)\n",
    "s.cup.position = np.array([2,1,0])\n",
    "s.cup.size = 0.05\n",
    "s.r.eef_position = np.array([2,1,2])\n",
    "\n",
    "sci.new_scene(s)"
   ]
  },
  {
   "cell_type": "code",
   "execution_count": 8,
   "id": "799a9a52",
   "metadata": {},
   "outputs": [
    {
     "name": "stdout",
     "output_type": "stream",
     "text": [
      "1/4, enter to continue, anystr else to abort!\n",
      "2/4, enter to continue, anystr else to abort!\n",
      "3/4, enter to continue, anystr else to abort!\n",
      "4/4, enter to continue, anystr else to abort!\n"
     ]
    },
    {
     "data": {
      "text/plain": [
       "True"
      ]
     },
     "execution_count": 8,
     "metadata": {},
     "output_type": "execute_result"
    }
   ],
   "source": [
    "act(s, cop, ('pick_up', 'cup'))"
   ]
  },
  {
   "cell_type": "code",
   "execution_count": 9,
   "id": "453cee19",
   "metadata": {},
   "outputs": [
    {
     "name": "stdout",
     "output_type": "stream",
     "text": [
      "1/1, enter to continue, anystr else to abort!\n"
     ]
    },
    {
     "data": {
      "text/plain": [
       "True"
      ]
     },
     "execution_count": 9,
     "metadata": {},
     "output_type": "execute_result"
    }
   ],
   "source": [
    "act(s, cop, ('move_up', 'cup'))"
   ]
  },
  {
   "cell_type": "code",
   "execution_count": 12,
   "id": "8509ef6b",
   "metadata": {},
   "outputs": [
    {
     "name": "stdout",
     "output_type": "stream",
     "text": [
      "1/1, enter to continue, anystr else to abort!\n"
     ]
    },
    {
     "data": {
      "text/plain": [
       "True"
      ]
     },
     "execution_count": 12,
     "metadata": {},
     "output_type": "execute_result"
    }
   ],
   "source": [
    "act(s, cop, ('move_down', 'cup'))"
   ]
  },
  {
   "cell_type": "markdown",
   "id": "c00c0647",
   "metadata": {},
   "source": [
    "### Placing"
   ]
  },
  {
   "cell_type": "code",
   "execution_count": null,
   "id": "198ed355",
   "metadata": {},
   "outputs": [],
   "source": []
  },
  {
   "cell_type": "code",
   "execution_count": 17,
   "id": "96cdb17f",
   "metadata": {},
   "outputs": [
    {
     "name": "stdout",
     "output_type": "stream",
     "text": [
      "Object removed on the scene? Press enter\n"
     ]
    },
    {
     "data": {
      "text/plain": [
       "True"
      ]
     },
     "execution_count": 17,
     "metadata": {},
     "output_type": "execute_result"
    }
   ],
   "source": [
    "RobotActions.reset__not_general(sci, cop)"
   ]
  },
  {
   "cell_type": "code",
   "execution_count": null,
   "id": "ef0976db",
   "metadata": {},
   "outputs": [],
   "source": []
  }
 ],
 "metadata": {
  "kernelspec": {
   "display_name": "robostackenv",
   "language": "python",
   "name": "myenv"
  },
  "language_info": {
   "codemirror_mode": {
    "name": "ipython",
    "version": 3
   },
   "file_extension": ".py",
   "mimetype": "text/x-python",
   "name": "python",
   "nbconvert_exporter": "python",
   "pygments_lexer": "ipython3",
   "version": "3.8.10"
  }
 },
 "nbformat": 4,
 "nbformat_minor": 5
}
